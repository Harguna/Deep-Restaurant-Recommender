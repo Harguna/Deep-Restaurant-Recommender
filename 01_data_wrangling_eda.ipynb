{
 "cells": [
  {
   "cell_type": "markdown",
   "metadata": {},
   "source": [
    "# Data Sampling and Feature Building"
   ]
  },
  {
   "cell_type": "markdown",
   "metadata": {},
   "source": [
    "### First, we will sample the data for training and testing our model. This step is required as the whole dataset is quite large and we don't possess the computational power to deal with it."
   ]
  },
  {
   "cell_type": "markdown",
   "metadata": {},
   "source": [
    "### Loading the 'review.json' file:"
   ]
  },
  {
   "cell_type": "code",
   "execution_count": 1,
   "metadata": {},
   "outputs": [
    {
     "name": "stderr",
     "output_type": "stream",
     "text": [
      "100%|██████████| 6685900/6685900 [00:48<00:00, 138696.59it/s]\n"
     ]
    }
   ],
   "source": [
    "import pandas as pd\n",
    "import json\n",
    "from tqdm import tqdm\n",
    "\n",
    "line_count = len(open(\"dataset/review.json\").readlines())\n",
    "user_ids, business_ids, stars, dates, texts, usefuls = [], [], [], [], [], []\n",
    "with open(\"dataset/review.json\") as f:\n",
    "    for line in tqdm(f, total=line_count):\n",
    "        blob = json.loads(line)\n",
    "        user_ids += [blob[\"user_id\"]] \n",
    "        business_ids += [blob[\"business_id\"]] \n",
    "        stars += [blob[\"stars\"]]\n",
    "        dates += [blob[\"date\"]]\n",
    "        texts += [blob[\"text\"]]\n",
    "        usefuls += [blob[\"useful\"]]\n",
    "ratings = pd.DataFrame({\"user_id\": user_ids, \"business_id\": business_ids, \"rating\": stars, \"date\": dates, \"text\":texts, \"useful\": usefuls})\n",
    "user_counts = ratings[\"user_id\"].value_counts()\n",
    "active_users = user_counts.loc[user_counts >= 5].index.tolist()"
   ]
  },
  {
   "cell_type": "code",
   "execution_count": 2,
   "metadata": {},
   "outputs": [
    {
     "data": {
      "text/plain": [
       "(6685900, 6)"
      ]
     },
     "execution_count": 2,
     "metadata": {},
     "output_type": "execute_result"
    }
   ],
   "source": [
    "ratings.shape"
   ]
  },
  {
   "cell_type": "markdown",
   "metadata": {},
   "source": [
    "### Loading the 'business.json' file:"
   ]
  },
  {
   "cell_type": "code",
   "execution_count": 3,
   "metadata": {
    "scrolled": true
   },
   "outputs": [
    {
     "name": "stderr",
     "output_type": "stream",
     "text": [
      "100%|██████████| 192609/192609 [00:02<00:00, 89470.84it/s]\n"
     ]
    }
   ],
   "source": [
    "line_count = len(open(\"dataset/business.json\").readlines())\n",
    "business_ids, biz_stars, biz_rev_ct, cats, states, cities, is_open = [], [], [], [], [], [], []\n",
    "with open(\"dataset/business.json\") as f:\n",
    "    for line in tqdm(f, total=line_count):\n",
    "        blob = json.loads(line)\n",
    "        business_ids += [blob[\"business_id\"]] \n",
    "        biz_stars += [blob[\"stars\"]]\n",
    "        biz_rev_ct += [blob[\"review_count\"]]\n",
    "        cats += [blob[\"categories\"]]\n",
    "        states += [blob[\"state\"]]\n",
    "        cities += [blob[\"city\"]]\n",
    "        is_open += [blob[\"is_open\"]]\n",
    "        \n",
    "biz = pd.DataFrame({\"business_id\": business_ids, \"cat\": cats, \"biz_stars\":biz_stars, \"biz_rev_ct\":biz_rev_ct, \n",
    "                    \"state\":states, \"city\":cities, \"is_open\":is_open})\n"
   ]
  },
  {
   "cell_type": "markdown",
   "metadata": {},
   "source": [
    "### Loading the 'user.json' file:"
   ]
  },
  {
   "cell_type": "code",
   "execution_count": 4,
   "metadata": {
    "scrolled": true
   },
   "outputs": [
    {
     "name": "stderr",
     "output_type": "stream",
     "text": [
      "100%|██████████| 1637138/1637138 [00:17<00:00, 93440.72it/s] \n"
     ]
    }
   ],
   "source": [
    "line_count = len(open(\"dataset/user.json\").readlines())\n",
    "user_id, avg_stars, fans = [], [], []\n",
    "with open(\"dataset/user.json\") as f:\n",
    "    for line in tqdm(f, total=line_count):\n",
    "        blob = json.loads(line)\n",
    "        user_id += [blob[\"user_id\"]] \n",
    "        avg_stars += [blob[\"average_stars\"]]\n",
    "        fans += [blob[\"fans\"]]\n",
    "        \n",
    "users = pd.DataFrame({\"user_id\": user_id, \"avg_stars\": avg_stars, \"fans\": fans})\n",
    "\n"
   ]
  },
  {
   "cell_type": "markdown",
   "metadata": {},
   "source": [
    "### Filtering the businesses which have 'Food' and 'Restaurant' in their categories to get more relevant businesses:"
   ]
  },
  {
   "cell_type": "code",
   "execution_count": 5,
   "metadata": {},
   "outputs": [],
   "source": [
    "rest_food_biz = biz[(biz[\"cat\"].str.contains(\"Food\") == True) & (biz[\"cat\"].str.contains(\"Restaurant\") == True)].reset_index()"
   ]
  },
  {
   "cell_type": "code",
   "execution_count": 6,
   "metadata": {},
   "outputs": [
    {
     "data": {
      "text/html": [
       "<div>\n",
       "<style scoped>\n",
       "    .dataframe tbody tr th:only-of-type {\n",
       "        vertical-align: middle;\n",
       "    }\n",
       "\n",
       "    .dataframe tbody tr th {\n",
       "        vertical-align: top;\n",
       "    }\n",
       "\n",
       "    .dataframe thead th {\n",
       "        text-align: right;\n",
       "    }\n",
       "</style>\n",
       "<table border=\"1\" class=\"dataframe\">\n",
       "  <thead>\n",
       "    <tr style=\"text-align: right;\">\n",
       "      <th></th>\n",
       "      <th>index</th>\n",
       "      <th>business_id</th>\n",
       "      <th>cat</th>\n",
       "      <th>biz_stars</th>\n",
       "      <th>biz_rev_ct</th>\n",
       "      <th>state</th>\n",
       "      <th>city</th>\n",
       "      <th>is_open</th>\n",
       "    </tr>\n",
       "  </thead>\n",
       "  <tbody>\n",
       "    <tr>\n",
       "      <td>0</td>\n",
       "      <td>1</td>\n",
       "      <td>QXAEGFB4oINsVuTFxEYKFQ</td>\n",
       "      <td>Specialty Food, Restaurants, Dim Sum, Imported...</td>\n",
       "      <td>2.5</td>\n",
       "      <td>128</td>\n",
       "      <td>ON</td>\n",
       "      <td>Mississauga</td>\n",
       "      <td>1</td>\n",
       "    </tr>\n",
       "    <tr>\n",
       "      <td>1</td>\n",
       "      <td>11</td>\n",
       "      <td>1Dfx3zM-rW4n-31KeC8sJg</td>\n",
       "      <td>Restaurants, Breakfast &amp; Brunch, Mexican, Taco...</td>\n",
       "      <td>3.0</td>\n",
       "      <td>18</td>\n",
       "      <td>AZ</td>\n",
       "      <td>Phoenix</td>\n",
       "      <td>1</td>\n",
       "    </tr>\n",
       "    <tr>\n",
       "      <td>2</td>\n",
       "      <td>23</td>\n",
       "      <td>1RHY4K3BD22FK7Cfftn8Mg</td>\n",
       "      <td>Sandwiches, Salad, Restaurants, Burgers, Comfo...</td>\n",
       "      <td>4.0</td>\n",
       "      <td>35</td>\n",
       "      <td>PA</td>\n",
       "      <td>Pittsburgh</td>\n",
       "      <td>1</td>\n",
       "    </tr>\n",
       "    <tr>\n",
       "      <td>3</td>\n",
       "      <td>25</td>\n",
       "      <td>tstimHoMcYbkSC4eBA1wEg</td>\n",
       "      <td>Mexican, Restaurants, Patisserie/Cake Shop, Fo...</td>\n",
       "      <td>4.5</td>\n",
       "      <td>184</td>\n",
       "      <td>NV</td>\n",
       "      <td>Las Vegas</td>\n",
       "      <td>1</td>\n",
       "    </tr>\n",
       "    <tr>\n",
       "      <td>4</td>\n",
       "      <td>29</td>\n",
       "      <td>NDuUMJfrWk52RA-H-OtrpA</td>\n",
       "      <td>Juice Bars &amp; Smoothies, Food, Restaurants, Fas...</td>\n",
       "      <td>3.0</td>\n",
       "      <td>57</td>\n",
       "      <td>ON</td>\n",
       "      <td>Toronto</td>\n",
       "      <td>1</td>\n",
       "    </tr>\n",
       "  </tbody>\n",
       "</table>\n",
       "</div>"
      ],
      "text/plain": [
       "   index             business_id  \\\n",
       "0      1  QXAEGFB4oINsVuTFxEYKFQ   \n",
       "1     11  1Dfx3zM-rW4n-31KeC8sJg   \n",
       "2     23  1RHY4K3BD22FK7Cfftn8Mg   \n",
       "3     25  tstimHoMcYbkSC4eBA1wEg   \n",
       "4     29  NDuUMJfrWk52RA-H-OtrpA   \n",
       "\n",
       "                                                 cat  biz_stars  biz_rev_ct  \\\n",
       "0  Specialty Food, Restaurants, Dim Sum, Imported...        2.5         128   \n",
       "1  Restaurants, Breakfast & Brunch, Mexican, Taco...        3.0          18   \n",
       "2  Sandwiches, Salad, Restaurants, Burgers, Comfo...        4.0          35   \n",
       "3  Mexican, Restaurants, Patisserie/Cake Shop, Fo...        4.5         184   \n",
       "4  Juice Bars & Smoothies, Food, Restaurants, Fas...        3.0          57   \n",
       "\n",
       "  state         city  is_open  \n",
       "0    ON  Mississauga        1  \n",
       "1    AZ      Phoenix        1  \n",
       "2    PA   Pittsburgh        1  \n",
       "3    NV    Las Vegas        1  \n",
       "4    ON      Toronto        1  "
      ]
     },
     "execution_count": 6,
     "metadata": {},
     "output_type": "execute_result"
    }
   ],
   "source": [
    "rest_food_biz.head()"
   ]
  },
  {
   "cell_type": "markdown",
   "metadata": {},
   "source": [
    "### Splitting the categories:"
   ]
  },
  {
   "cell_type": "code",
   "execution_count": 7,
   "metadata": {
    "scrolled": true
   },
   "outputs": [
    {
     "data": {
      "text/plain": [
       "0    [Specialty Food, Restaurants, Dim Sum, Importe...\n",
       "1    [Restaurants, Breakfast & Brunch, Mexican, Tac...\n",
       "2    [Sandwiches, Salad, Restaurants, Burgers, Comf...\n",
       "3    [Mexican, Restaurants, Patisserie/Cake Shop, F...\n",
       "4    [Juice Bars & Smoothies, Food, Restaurants, Fa...\n",
       "Name: cat_list, dtype: object"
      ]
     },
     "execution_count": 7,
     "metadata": {},
     "output_type": "execute_result"
    }
   ],
   "source": [
    "food_rest_cat_list = []\n",
    "for i in range(rest_food_biz.shape[0]):\n",
    "    try:\n",
    "        var_list = rest_food_biz.loc[i, \"cat\"].split(',')\n",
    "        var_list = [j.strip() for j in var_list]\n",
    "        food_rest_cat_list.append(var_list)\n",
    "    except:\n",
    "        food_rest_cat_list.append([])\n",
    "\n",
    "rest_food_biz['cat_list'] = food_rest_cat_list\n",
    "rest_food_biz['cat_list'].head()\n"
   ]
  },
  {
   "cell_type": "markdown",
   "metadata": {},
   "source": [
    "Checking the total number of categories:"
   ]
  },
  {
   "cell_type": "code",
   "execution_count": 8,
   "metadata": {
    "scrolled": true
   },
   "outputs": [
    {
     "data": {
      "text/plain": [
       "547"
      ]
     },
     "execution_count": 8,
     "metadata": {},
     "output_type": "execute_result"
    }
   ],
   "source": [
    "rest_food_list = []\n",
    "\n",
    "for i in rest_food_biz['cat_list']:\n",
    "    rest_food_list.extend(i)\n",
    "\n",
    "len(set(rest_food_list))"
   ]
  },
  {
   "cell_type": "markdown",
   "metadata": {},
   "source": [
    "### Transforming business categoires list to multi-labeled binary columns:"
   ]
  },
  {
   "cell_type": "code",
   "execution_count": 9,
   "metadata": {},
   "outputs": [],
   "source": [
    "from sklearn.preprocessing import MultiLabelBinarizer\n",
    "\n",
    "s = rest_food_biz['cat_list']\n",
    "mlb = MultiLabelBinarizer()\n",
    "biz_cats = pd.DataFrame(mlb.fit_transform(s), columns=mlb.classes_, index=rest_food_biz.index)"
   ]
  },
  {
   "cell_type": "code",
   "execution_count": 10,
   "metadata": {},
   "outputs": [
    {
     "data": {
      "text/html": [
       "<div>\n",
       "<style scoped>\n",
       "    .dataframe tbody tr th:only-of-type {\n",
       "        vertical-align: middle;\n",
       "    }\n",
       "\n",
       "    .dataframe tbody tr th {\n",
       "        vertical-align: top;\n",
       "    }\n",
       "\n",
       "    .dataframe thead th {\n",
       "        text-align: right;\n",
       "    }\n",
       "</style>\n",
       "<table border=\"1\" class=\"dataframe\">\n",
       "  <thead>\n",
       "    <tr style=\"text-align: right;\">\n",
       "      <th></th>\n",
       "      <th>&amp; Probates</th>\n",
       "      <th>Acai Bowls</th>\n",
       "      <th>Accessories</th>\n",
       "      <th>Active Life</th>\n",
       "      <th>Adult Entertainment</th>\n",
       "      <th>Afghan</th>\n",
       "      <th>African</th>\n",
       "      <th>Air Duct Cleaning</th>\n",
       "      <th>Aircraft Repairs</th>\n",
       "      <th>Airport Lounges</th>\n",
       "      <th>...</th>\n",
       "      <th>Wine &amp; Spirits</th>\n",
       "      <th>Wine Bars</th>\n",
       "      <th>Wine Tasting Classes</th>\n",
       "      <th>Wine Tasting Room</th>\n",
       "      <th>Wine Tours</th>\n",
       "      <th>Wineries</th>\n",
       "      <th>Women's Clothing</th>\n",
       "      <th>Wraps</th>\n",
       "      <th>Yelp Events</th>\n",
       "      <th>Yoga</th>\n",
       "    </tr>\n",
       "  </thead>\n",
       "  <tbody>\n",
       "    <tr>\n",
       "      <td>0</td>\n",
       "      <td>0</td>\n",
       "      <td>0</td>\n",
       "      <td>0</td>\n",
       "      <td>0</td>\n",
       "      <td>0</td>\n",
       "      <td>0</td>\n",
       "      <td>0</td>\n",
       "      <td>0</td>\n",
       "      <td>0</td>\n",
       "      <td>0</td>\n",
       "      <td>...</td>\n",
       "      <td>0</td>\n",
       "      <td>0</td>\n",
       "      <td>0</td>\n",
       "      <td>0</td>\n",
       "      <td>0</td>\n",
       "      <td>0</td>\n",
       "      <td>0</td>\n",
       "      <td>0</td>\n",
       "      <td>0</td>\n",
       "      <td>0</td>\n",
       "    </tr>\n",
       "    <tr>\n",
       "      <td>1</td>\n",
       "      <td>0</td>\n",
       "      <td>0</td>\n",
       "      <td>0</td>\n",
       "      <td>0</td>\n",
       "      <td>0</td>\n",
       "      <td>0</td>\n",
       "      <td>0</td>\n",
       "      <td>0</td>\n",
       "      <td>0</td>\n",
       "      <td>0</td>\n",
       "      <td>...</td>\n",
       "      <td>0</td>\n",
       "      <td>0</td>\n",
       "      <td>0</td>\n",
       "      <td>0</td>\n",
       "      <td>0</td>\n",
       "      <td>0</td>\n",
       "      <td>0</td>\n",
       "      <td>0</td>\n",
       "      <td>0</td>\n",
       "      <td>0</td>\n",
       "    </tr>\n",
       "    <tr>\n",
       "      <td>2</td>\n",
       "      <td>0</td>\n",
       "      <td>0</td>\n",
       "      <td>0</td>\n",
       "      <td>0</td>\n",
       "      <td>0</td>\n",
       "      <td>0</td>\n",
       "      <td>0</td>\n",
       "      <td>0</td>\n",
       "      <td>0</td>\n",
       "      <td>0</td>\n",
       "      <td>...</td>\n",
       "      <td>0</td>\n",
       "      <td>0</td>\n",
       "      <td>0</td>\n",
       "      <td>0</td>\n",
       "      <td>0</td>\n",
       "      <td>0</td>\n",
       "      <td>0</td>\n",
       "      <td>0</td>\n",
       "      <td>0</td>\n",
       "      <td>0</td>\n",
       "    </tr>\n",
       "    <tr>\n",
       "      <td>3</td>\n",
       "      <td>0</td>\n",
       "      <td>0</td>\n",
       "      <td>0</td>\n",
       "      <td>0</td>\n",
       "      <td>0</td>\n",
       "      <td>0</td>\n",
       "      <td>0</td>\n",
       "      <td>0</td>\n",
       "      <td>0</td>\n",
       "      <td>0</td>\n",
       "      <td>...</td>\n",
       "      <td>0</td>\n",
       "      <td>0</td>\n",
       "      <td>0</td>\n",
       "      <td>0</td>\n",
       "      <td>0</td>\n",
       "      <td>0</td>\n",
       "      <td>0</td>\n",
       "      <td>0</td>\n",
       "      <td>0</td>\n",
       "      <td>0</td>\n",
       "    </tr>\n",
       "    <tr>\n",
       "      <td>4</td>\n",
       "      <td>0</td>\n",
       "      <td>0</td>\n",
       "      <td>0</td>\n",
       "      <td>0</td>\n",
       "      <td>0</td>\n",
       "      <td>0</td>\n",
       "      <td>0</td>\n",
       "      <td>0</td>\n",
       "      <td>0</td>\n",
       "      <td>0</td>\n",
       "      <td>...</td>\n",
       "      <td>0</td>\n",
       "      <td>0</td>\n",
       "      <td>0</td>\n",
       "      <td>0</td>\n",
       "      <td>0</td>\n",
       "      <td>0</td>\n",
       "      <td>0</td>\n",
       "      <td>0</td>\n",
       "      <td>0</td>\n",
       "      <td>0</td>\n",
       "    </tr>\n",
       "  </tbody>\n",
       "</table>\n",
       "<p>5 rows × 547 columns</p>\n",
       "</div>"
      ],
      "text/plain": [
       "   & Probates  Acai Bowls  Accessories  Active Life  Adult Entertainment  \\\n",
       "0           0           0            0            0                    0   \n",
       "1           0           0            0            0                    0   \n",
       "2           0           0            0            0                    0   \n",
       "3           0           0            0            0                    0   \n",
       "4           0           0            0            0                    0   \n",
       "\n",
       "   Afghan  African  Air Duct Cleaning  Aircraft Repairs  Airport Lounges  ...  \\\n",
       "0       0        0                  0                 0                0  ...   \n",
       "1       0        0                  0                 0                0  ...   \n",
       "2       0        0                  0                 0                0  ...   \n",
       "3       0        0                  0                 0                0  ...   \n",
       "4       0        0                  0                 0                0  ...   \n",
       "\n",
       "   Wine & Spirits  Wine Bars  Wine Tasting Classes  Wine Tasting Room  \\\n",
       "0               0          0                     0                  0   \n",
       "1               0          0                     0                  0   \n",
       "2               0          0                     0                  0   \n",
       "3               0          0                     0                  0   \n",
       "4               0          0                     0                  0   \n",
       "\n",
       "   Wine Tours  Wineries  Women's Clothing  Wraps  Yelp Events  Yoga  \n",
       "0           0         0                 0      0            0     0  \n",
       "1           0         0                 0      0            0     0  \n",
       "2           0         0                 0      0            0     0  \n",
       "3           0         0                 0      0            0     0  \n",
       "4           0         0                 0      0            0     0  \n",
       "\n",
       "[5 rows x 547 columns]"
      ]
     },
     "execution_count": 10,
     "metadata": {},
     "output_type": "execute_result"
    }
   ],
   "source": [
    "biz_cats.head()"
   ]
  },
  {
   "cell_type": "markdown",
   "metadata": {},
   "source": [
    "### Taking the categories which appear in more than 500 businesses:"
   ]
  },
  {
   "cell_type": "code",
   "execution_count": 11,
   "metadata": {
    "scrolled": true
   },
   "outputs": [
    {
     "data": {
      "text/plain": [
       "['American (New)',\n",
       " 'American (Traditional)',\n",
       " 'Asian Fusion',\n",
       " 'Bakeries',\n",
       " 'Barbeque',\n",
       " 'Bars',\n",
       " 'Beer',\n",
       " 'Breakfast & Brunch',\n",
       " 'Burgers',\n",
       " 'Cafes',\n",
       " 'Canadian (New)',\n",
       " 'Caterers',\n",
       " 'Chicken Wings',\n",
       " 'Chinese',\n",
       " 'Coffee & Tea',\n",
       " 'Comfort Food',\n",
       " 'Delis',\n",
       " 'Desserts',\n",
       " 'Ethnic Food',\n",
       " 'Event Planning & Services',\n",
       " 'Fast Food',\n",
       " 'Food',\n",
       " 'Food Delivery Services',\n",
       " 'Food Trucks',\n",
       " 'Grocery',\n",
       " 'Ice Cream & Frozen Yogurt',\n",
       " 'Italian',\n",
       " 'Juice Bars & Smoothies',\n",
       " 'Mexican',\n",
       " 'Nightlife',\n",
       " 'Pizza',\n",
       " 'Restaurants',\n",
       " 'Salad',\n",
       " 'Sandwiches',\n",
       " 'Seafood',\n",
       " 'Specialty Food',\n",
       " 'Wine & Spirits']"
      ]
     },
     "execution_count": 11,
     "metadata": {},
     "output_type": "execute_result"
    }
   ],
   "source": [
    "sums = biz_cats.sum(axis =0)\n",
    "sums = pd.DataFrame(sums)\n",
    "sums[\"cats\"] = sums.index\n",
    "sums = sums.reset_index(drop=True)\n",
    "sums.columns = [\"value\", \"key\"]\n",
    "sums = sums[sums[\"value\"]>=500]\n",
    "cols = list(sums[\"key\"])\n",
    "cols"
   ]
  },
  {
   "cell_type": "code",
   "execution_count": 12,
   "metadata": {},
   "outputs": [
    {
     "data": {
      "text/plain": [
       "(21315, 37)"
      ]
     },
     "execution_count": 12,
     "metadata": {},
     "output_type": "execute_result"
    }
   ],
   "source": [
    "biz_cats = biz_cats[cols]\n",
    "biz_cats.shape"
   ]
  },
  {
   "cell_type": "markdown",
   "metadata": {},
   "source": [
    "### Joining the new multi-label binary columns to the main dataset:"
   ]
  },
  {
   "cell_type": "code",
   "execution_count": 13,
   "metadata": {},
   "outputs": [
    {
     "data": {
      "text/plain": [
       "(21315, 46)"
      ]
     },
     "execution_count": 13,
     "metadata": {},
     "output_type": "execute_result"
    }
   ],
   "source": [
    "rest_food_biz = pd.concat([rest_food_biz, biz_cats], axis = 1)\n",
    "rest_food_biz.shape"
   ]
  },
  {
   "cell_type": "code",
   "execution_count": 14,
   "metadata": {},
   "outputs": [],
   "source": [
    "rest_food_sub = rest_food_biz"
   ]
  },
  {
   "cell_type": "markdown",
   "metadata": {},
   "source": [
    "### Merging 'ratings' and the new modified business dataset:"
   ]
  },
  {
   "cell_type": "code",
   "execution_count": 15,
   "metadata": {},
   "outputs": [
    {
     "data": {
      "text/plain": [
       "(1374850, 51)"
      ]
     },
     "execution_count": 15,
     "metadata": {},
     "output_type": "execute_result"
    }
   ],
   "source": [
    "review_sub = ratings.merge(rest_food_sub)\n",
    "review_sub.shape"
   ]
  },
  {
   "cell_type": "markdown",
   "metadata": {},
   "source": [
    "### Filtering the active users (have given more than 5 reviews):"
   ]
  },
  {
   "cell_type": "code",
   "execution_count": 16,
   "metadata": {},
   "outputs": [],
   "source": [
    "user_counts = review_sub[\"user_id\"].value_counts()\n",
    "active_users = user_counts.loc[user_counts >= 5].index.tolist()"
   ]
  },
  {
   "cell_type": "code",
   "execution_count": 17,
   "metadata": {
    "scrolled": true
   },
   "outputs": [
    {
     "data": {
      "text/plain": [
       "52550"
      ]
     },
     "execution_count": 17,
     "metadata": {},
     "output_type": "execute_result"
    }
   ],
   "source": [
    "review_sub_1 = review_sub[review_sub[\"user_id\"].isin(active_users)]\n",
    "len(set(review_sub_1[\"user_id\"]))"
   ]
  },
  {
   "cell_type": "markdown",
   "metadata": {},
   "source": [
    "### Here, we can see that we have above 50,000 users. Thus, this sample is ready to be worked with."
   ]
  },
  {
   "cell_type": "code",
   "execution_count": 18,
   "metadata": {},
   "outputs": [],
   "source": [
    "review_sub_final = review_sub_1.merge(users)"
   ]
  },
  {
   "cell_type": "code",
   "execution_count": 19,
   "metadata": {},
   "outputs": [
    {
     "data": {
      "text/plain": [
       "(629155, 53)"
      ]
     },
     "execution_count": 19,
     "metadata": {},
     "output_type": "execute_result"
    }
   ],
   "source": [
    "review_sub_final.shape"
   ]
  },
  {
   "cell_type": "markdown",
   "metadata": {},
   "source": [
    "### Randomizing the rows in the sample data:"
   ]
  },
  {
   "cell_type": "code",
   "execution_count": 20,
   "metadata": {
    "scrolled": true
   },
   "outputs": [
    {
     "data": {
      "text/plain": [
       "Index(['user_id', 'business_id', 'rating', 'date', 'text', 'useful', 'index',\n",
       "       'cat', 'biz_stars', 'biz_rev_ct', 'state', 'city', 'is_open',\n",
       "       'cat_list', 'American (New)', 'American (Traditional)', 'Asian Fusion',\n",
       "       'Bakeries', 'Barbeque', 'Bars', 'Beer', 'Breakfast & Brunch', 'Burgers',\n",
       "       'Cafes', 'Canadian (New)', 'Caterers', 'Chicken Wings', 'Chinese',\n",
       "       'Coffee & Tea', 'Comfort Food', 'Delis', 'Desserts', 'Ethnic Food',\n",
       "       'Event Planning & Services', 'Fast Food', 'Food',\n",
       "       'Food Delivery Services', 'Food Trucks', 'Grocery',\n",
       "       'Ice Cream & Frozen Yogurt', 'Italian', 'Juice Bars & Smoothies',\n",
       "       'Mexican', 'Nightlife', 'Pizza', 'Restaurants', 'Salad', 'Sandwiches',\n",
       "       'Seafood', 'Specialty Food', 'Wine & Spirits', 'avg_stars', 'fans'],\n",
       "      dtype='object')"
      ]
     },
     "execution_count": 20,
     "metadata": {},
     "output_type": "execute_result"
    }
   ],
   "source": [
    "review_sub_final = review_sub_final.sample(frac = 1, random_state = 69)\n",
    "review_sub_final.columns"
   ]
  },
  {
   "cell_type": "markdown",
   "metadata": {},
   "source": [
    "### Changing the type of 'date' column to date:"
   ]
  },
  {
   "cell_type": "code",
   "execution_count": 21,
   "metadata": {},
   "outputs": [],
   "source": [
    "review_sub_final['date'] = review_sub_final['date'].astype(str)"
   ]
  },
  {
   "cell_type": "markdown",
   "metadata": {},
   "source": [
    "### Removing the category list column as we have already made multi-label binary columns:"
   ]
  },
  {
   "cell_type": "code",
   "execution_count": 22,
   "metadata": {},
   "outputs": [],
   "source": [
    "review_sub_final = review_sub_final.drop('cat_list',axis=1)"
   ]
  },
  {
   "cell_type": "code",
   "execution_count": 23,
   "metadata": {},
   "outputs": [],
   "source": [
    "#review_sub_final.to_csv(\"yelp_sampledata_rest_food.csv\")"
   ]
  },
  {
   "cell_type": "markdown",
   "metadata": {},
   "source": [
    "### Start of making new features for users and for the businesses:  \n",
    "\n",
    "## Derived User Features:\n",
    "We are making new features the represents the taste of users. In this, we will try to see how many times the user has rated a restaurant with a particular category.e.g if the user has rated Italian food the most, this will give us some sense that user likes Italian food. We will make columns for all the categories we have and in each cell will be the number of times the corresponding user has rated it.\n",
    "\n",
    "## Derived Business features:\n",
    "We are also making new, derived features to represent businesses. The idea here is we give more weightage to the ratings where more people found it useful and then get weighted average for the business based on that.e.g. there is a business A which has two reviews: 4.5 and 1, and 100, 10 people found them useful respectively. Here the weighted average for that business will be: (4.5x100 + 1x10)/110 = 4.18. This is an idea to capture the more relavant reviews to get the average rating for the business."
   ]
  },
  {
   "cell_type": "code",
   "execution_count": 24,
   "metadata": {},
   "outputs": [],
   "source": [
    "data = review_sub_final"
   ]
  },
  {
   "cell_type": "code",
   "execution_count": 25,
   "metadata": {},
   "outputs": [
    {
     "data": {
      "text/plain": [
       "Index(['user_id', 'business_id', 'rating', 'date', 'text', 'useful', 'index',\n",
       "       'cat', 'biz_stars', 'biz_rev_ct', 'state', 'city', 'is_open',\n",
       "       'American (New)', 'American (Traditional)', 'Asian Fusion', 'Bakeries',\n",
       "       'Barbeque', 'Bars', 'Beer', 'Breakfast & Brunch', 'Burgers', 'Cafes',\n",
       "       'Canadian (New)', 'Caterers', 'Chicken Wings', 'Chinese',\n",
       "       'Coffee & Tea', 'Comfort Food', 'Delis', 'Desserts', 'Ethnic Food',\n",
       "       'Event Planning & Services', 'Fast Food', 'Food',\n",
       "       'Food Delivery Services', 'Food Trucks', 'Grocery',\n",
       "       'Ice Cream & Frozen Yogurt', 'Italian', 'Juice Bars & Smoothies',\n",
       "       'Mexican', 'Nightlife', 'Pizza', 'Restaurants', 'Salad', 'Sandwiches',\n",
       "       'Seafood', 'Specialty Food', 'Wine & Spirits', 'avg_stars', 'fans'],\n",
       "      dtype='object')"
      ]
     },
     "execution_count": 25,
     "metadata": {},
     "output_type": "execute_result"
    }
   ],
   "source": [
    "data.columns"
   ]
  },
  {
   "cell_type": "code",
   "execution_count": 26,
   "metadata": {},
   "outputs": [],
   "source": [
    "data = data.drop([\"Restaurants\", \"Food\", \"cat\"], axis = 1)"
   ]
  },
  {
   "cell_type": "code",
   "execution_count": 27,
   "metadata": {
    "scrolled": true
   },
   "outputs": [
    {
     "data": {
      "text/html": [
       "<div>\n",
       "<style scoped>\n",
       "    .dataframe tbody tr th:only-of-type {\n",
       "        vertical-align: middle;\n",
       "    }\n",
       "\n",
       "    .dataframe tbody tr th {\n",
       "        vertical-align: top;\n",
       "    }\n",
       "\n",
       "    .dataframe thead th {\n",
       "        text-align: right;\n",
       "    }\n",
       "</style>\n",
       "<table border=\"1\" class=\"dataframe\">\n",
       "  <thead>\n",
       "    <tr style=\"text-align: right;\">\n",
       "      <th></th>\n",
       "      <th>user_id</th>\n",
       "      <th>business_id</th>\n",
       "      <th>rating</th>\n",
       "      <th>date</th>\n",
       "      <th>text</th>\n",
       "      <th>useful</th>\n",
       "      <th>index</th>\n",
       "      <th>biz_stars</th>\n",
       "      <th>biz_rev_ct</th>\n",
       "      <th>state</th>\n",
       "      <th>...</th>\n",
       "      <th>Mexican</th>\n",
       "      <th>Nightlife</th>\n",
       "      <th>Pizza</th>\n",
       "      <th>Salad</th>\n",
       "      <th>Sandwiches</th>\n",
       "      <th>Seafood</th>\n",
       "      <th>Specialty Food</th>\n",
       "      <th>Wine &amp; Spirits</th>\n",
       "      <th>avg_stars</th>\n",
       "      <th>fans</th>\n",
       "    </tr>\n",
       "  </thead>\n",
       "  <tbody>\n",
       "    <tr>\n",
       "      <td>529719</td>\n",
       "      <td>rMnTpVfJyH_fWgf9TICCYg</td>\n",
       "      <td>RESDUcs7fIiihp38-d6_6g</td>\n",
       "      <td>5.0</td>\n",
       "      <td>2016-01-05 03:07:40</td>\n",
       "      <td>I can't remember if I dreamt this or not, beca...</td>\n",
       "      <td>0</td>\n",
       "      <td>89206</td>\n",
       "      <td>4.0</td>\n",
       "      <td>8339</td>\n",
       "      <td>NV</td>\n",
       "      <td>...</td>\n",
       "      <td>0</td>\n",
       "      <td>0</td>\n",
       "      <td>0</td>\n",
       "      <td>0</td>\n",
       "      <td>1</td>\n",
       "      <td>0</td>\n",
       "      <td>0</td>\n",
       "      <td>0</td>\n",
       "      <td>4.72</td>\n",
       "      <td>16</td>\n",
       "    </tr>\n",
       "    <tr>\n",
       "      <td>436195</td>\n",
       "      <td>s_Dg0gNZmh-Vc6yLQ34_lw</td>\n",
       "      <td>mzq_UgBRWsxTjb7oBNajWA</td>\n",
       "      <td>3.0</td>\n",
       "      <td>2015-12-06 22:17:18</td>\n",
       "      <td>I've been to this Great Dane location a few ti...</td>\n",
       "      <td>1</td>\n",
       "      <td>140502</td>\n",
       "      <td>3.5</td>\n",
       "      <td>218</td>\n",
       "      <td>WI</td>\n",
       "      <td>...</td>\n",
       "      <td>0</td>\n",
       "      <td>1</td>\n",
       "      <td>0</td>\n",
       "      <td>0</td>\n",
       "      <td>0</td>\n",
       "      <td>0</td>\n",
       "      <td>0</td>\n",
       "      <td>0</td>\n",
       "      <td>3.72</td>\n",
       "      <td>13</td>\n",
       "    </tr>\n",
       "    <tr>\n",
       "      <td>427897</td>\n",
       "      <td>MTB3KvE5NCiQSO5QOvAilw</td>\n",
       "      <td>ae95XSsD37OQfOWF92GjNQ</td>\n",
       "      <td>3.0</td>\n",
       "      <td>2015-08-23 10:06:06</td>\n",
       "      <td>Was here for a birthday celebration and we sat...</td>\n",
       "      <td>0</td>\n",
       "      <td>160767</td>\n",
       "      <td>3.5</td>\n",
       "      <td>309</td>\n",
       "      <td>ON</td>\n",
       "      <td>...</td>\n",
       "      <td>0</td>\n",
       "      <td>0</td>\n",
       "      <td>0</td>\n",
       "      <td>0</td>\n",
       "      <td>0</td>\n",
       "      <td>0</td>\n",
       "      <td>1</td>\n",
       "      <td>0</td>\n",
       "      <td>2.98</td>\n",
       "      <td>2</td>\n",
       "    </tr>\n",
       "    <tr>\n",
       "      <td>165802</td>\n",
       "      <td>pMefTWo6gMdx8WhYSA2u3w</td>\n",
       "      <td>aXnWWp6Reaep4-0iKWlYHQ</td>\n",
       "      <td>4.0</td>\n",
       "      <td>2013-10-09 23:22:52</td>\n",
       "      <td>I was told by a fellow Yelp member a few night...</td>\n",
       "      <td>3</td>\n",
       "      <td>43947</td>\n",
       "      <td>3.5</td>\n",
       "      <td>113</td>\n",
       "      <td>ON</td>\n",
       "      <td>...</td>\n",
       "      <td>0</td>\n",
       "      <td>0</td>\n",
       "      <td>0</td>\n",
       "      <td>0</td>\n",
       "      <td>0</td>\n",
       "      <td>0</td>\n",
       "      <td>0</td>\n",
       "      <td>0</td>\n",
       "      <td>3.40</td>\n",
       "      <td>57</td>\n",
       "    </tr>\n",
       "    <tr>\n",
       "      <td>167874</td>\n",
       "      <td>_jvpuLE8claM2mi6jMKXOA</td>\n",
       "      <td>UJewG9UgVXQ7fyP4UHwnxw</td>\n",
       "      <td>1.0</td>\n",
       "      <td>2015-08-30 05:39:00</td>\n",
       "      <td>I am done with this location. \\n\\nMy carne asa...</td>\n",
       "      <td>7</td>\n",
       "      <td>160039</td>\n",
       "      <td>2.5</td>\n",
       "      <td>131</td>\n",
       "      <td>AZ</td>\n",
       "      <td>...</td>\n",
       "      <td>1</td>\n",
       "      <td>0</td>\n",
       "      <td>0</td>\n",
       "      <td>0</td>\n",
       "      <td>0</td>\n",
       "      <td>0</td>\n",
       "      <td>0</td>\n",
       "      <td>0</td>\n",
       "      <td>3.67</td>\n",
       "      <td>8</td>\n",
       "    </tr>\n",
       "  </tbody>\n",
       "</table>\n",
       "<p>5 rows × 49 columns</p>\n",
       "</div>"
      ],
      "text/plain": [
       "                       user_id             business_id  rating  \\\n",
       "529719  rMnTpVfJyH_fWgf9TICCYg  RESDUcs7fIiihp38-d6_6g     5.0   \n",
       "436195  s_Dg0gNZmh-Vc6yLQ34_lw  mzq_UgBRWsxTjb7oBNajWA     3.0   \n",
       "427897  MTB3KvE5NCiQSO5QOvAilw  ae95XSsD37OQfOWF92GjNQ     3.0   \n",
       "165802  pMefTWo6gMdx8WhYSA2u3w  aXnWWp6Reaep4-0iKWlYHQ     4.0   \n",
       "167874  _jvpuLE8claM2mi6jMKXOA  UJewG9UgVXQ7fyP4UHwnxw     1.0   \n",
       "\n",
       "                       date  \\\n",
       "529719  2016-01-05 03:07:40   \n",
       "436195  2015-12-06 22:17:18   \n",
       "427897  2015-08-23 10:06:06   \n",
       "165802  2013-10-09 23:22:52   \n",
       "167874  2015-08-30 05:39:00   \n",
       "\n",
       "                                                     text  useful   index  \\\n",
       "529719  I can't remember if I dreamt this or not, beca...       0   89206   \n",
       "436195  I've been to this Great Dane location a few ti...       1  140502   \n",
       "427897  Was here for a birthday celebration and we sat...       0  160767   \n",
       "165802  I was told by a fellow Yelp member a few night...       3   43947   \n",
       "167874  I am done with this location. \\n\\nMy carne asa...       7  160039   \n",
       "\n",
       "        biz_stars  biz_rev_ct state  ... Mexican  Nightlife  Pizza  Salad  \\\n",
       "529719        4.0        8339    NV  ...       0          0      0      0   \n",
       "436195        3.5         218    WI  ...       0          1      0      0   \n",
       "427897        3.5         309    ON  ...       0          0      0      0   \n",
       "165802        3.5         113    ON  ...       0          0      0      0   \n",
       "167874        2.5         131    AZ  ...       1          0      0      0   \n",
       "\n",
       "        Sandwiches  Seafood  Specialty Food  Wine & Spirits  avg_stars  fans  \n",
       "529719           1        0               0               0       4.72    16  \n",
       "436195           0        0               0               0       3.72    13  \n",
       "427897           0        0               1               0       2.98     2  \n",
       "165802           0        0               0               0       3.40    57  \n",
       "167874           0        0               0               0       3.67     8  \n",
       "\n",
       "[5 rows x 49 columns]"
      ]
     },
     "execution_count": 27,
     "metadata": {},
     "output_type": "execute_result"
    }
   ],
   "source": [
    "data.head()"
   ]
  },
  {
   "cell_type": "markdown",
   "metadata": {},
   "source": [
    "## Making user features:\n",
    "\n",
    "### Retaining names of columns which are related to the categories:"
   ]
  },
  {
   "cell_type": "code",
   "execution_count": 28,
   "metadata": {},
   "outputs": [],
   "source": [
    "cols2 = []\n",
    "for x in data.columns:\n",
    "    if x in cols:\n",
    "        cols2.append(x)"
   ]
  },
  {
   "cell_type": "markdown",
   "metadata": {},
   "source": [
    "### Summing up the number of ratings for all the categories for each user:"
   ]
  },
  {
   "cell_type": "code",
   "execution_count": 29,
   "metadata": {},
   "outputs": [],
   "source": [
    "user_feat_data = data.groupby([\"user_id\"], as_index=False).sum()"
   ]
  },
  {
   "cell_type": "code",
   "execution_count": 30,
   "metadata": {},
   "outputs": [
    {
     "data": {
      "text/html": [
       "<div>\n",
       "<style scoped>\n",
       "    .dataframe tbody tr th:only-of-type {\n",
       "        vertical-align: middle;\n",
       "    }\n",
       "\n",
       "    .dataframe tbody tr th {\n",
       "        vertical-align: top;\n",
       "    }\n",
       "\n",
       "    .dataframe thead th {\n",
       "        text-align: right;\n",
       "    }\n",
       "</style>\n",
       "<table border=\"1\" class=\"dataframe\">\n",
       "  <thead>\n",
       "    <tr style=\"text-align: right;\">\n",
       "      <th></th>\n",
       "      <th>user_id</th>\n",
       "      <th>rating</th>\n",
       "      <th>useful</th>\n",
       "      <th>index</th>\n",
       "      <th>biz_stars</th>\n",
       "      <th>biz_rev_ct</th>\n",
       "      <th>is_open</th>\n",
       "      <th>American (New)</th>\n",
       "      <th>American (Traditional)</th>\n",
       "      <th>Asian Fusion</th>\n",
       "      <th>...</th>\n",
       "      <th>Mexican</th>\n",
       "      <th>Nightlife</th>\n",
       "      <th>Pizza</th>\n",
       "      <th>Salad</th>\n",
       "      <th>Sandwiches</th>\n",
       "      <th>Seafood</th>\n",
       "      <th>Specialty Food</th>\n",
       "      <th>Wine &amp; Spirits</th>\n",
       "      <th>avg_stars</th>\n",
       "      <th>fans</th>\n",
       "    </tr>\n",
       "  </thead>\n",
       "  <tbody>\n",
       "    <tr>\n",
       "      <td>0</td>\n",
       "      <td>---1lKK3aKOuomHnwAkAow</td>\n",
       "      <td>70.0</td>\n",
       "      <td>31</td>\n",
       "      <td>2130846</td>\n",
       "      <td>63.5</td>\n",
       "      <td>8321</td>\n",
       "      <td>11</td>\n",
       "      <td>8</td>\n",
       "      <td>3</td>\n",
       "      <td>1</td>\n",
       "      <td>...</td>\n",
       "      <td>0</td>\n",
       "      <td>5</td>\n",
       "      <td>2</td>\n",
       "      <td>0</td>\n",
       "      <td>5</td>\n",
       "      <td>3</td>\n",
       "      <td>2</td>\n",
       "      <td>1</td>\n",
       "      <td>66.64</td>\n",
       "      <td>272</td>\n",
       "    </tr>\n",
       "    <tr>\n",
       "      <td>1</td>\n",
       "      <td>--2HUmLkcNHZp0xw6AMBPg</td>\n",
       "      <td>104.0</td>\n",
       "      <td>6</td>\n",
       "      <td>2068382</td>\n",
       "      <td>86.0</td>\n",
       "      <td>6437</td>\n",
       "      <td>19</td>\n",
       "      <td>4</td>\n",
       "      <td>3</td>\n",
       "      <td>0</td>\n",
       "      <td>...</td>\n",
       "      <td>5</td>\n",
       "      <td>1</td>\n",
       "      <td>1</td>\n",
       "      <td>0</td>\n",
       "      <td>7</td>\n",
       "      <td>1</td>\n",
       "      <td>1</td>\n",
       "      <td>1</td>\n",
       "      <td>101.20</td>\n",
       "      <td>0</td>\n",
       "    </tr>\n",
       "    <tr>\n",
       "      <td>2</td>\n",
       "      <td>--3WaS23LcIXtxyFULJHTA</td>\n",
       "      <td>25.0</td>\n",
       "      <td>6</td>\n",
       "      <td>547508</td>\n",
       "      <td>25.5</td>\n",
       "      <td>6851</td>\n",
       "      <td>5</td>\n",
       "      <td>2</td>\n",
       "      <td>0</td>\n",
       "      <td>0</td>\n",
       "      <td>...</td>\n",
       "      <td>0</td>\n",
       "      <td>2</td>\n",
       "      <td>0</td>\n",
       "      <td>2</td>\n",
       "      <td>3</td>\n",
       "      <td>0</td>\n",
       "      <td>0</td>\n",
       "      <td>0</td>\n",
       "      <td>23.52</td>\n",
       "      <td>66</td>\n",
       "    </tr>\n",
       "    <tr>\n",
       "      <td>3</td>\n",
       "      <td>--4rAAfZnEIAKJE80aIiYg</td>\n",
       "      <td>24.0</td>\n",
       "      <td>5</td>\n",
       "      <td>550808</td>\n",
       "      <td>26.5</td>\n",
       "      <td>2152</td>\n",
       "      <td>6</td>\n",
       "      <td>1</td>\n",
       "      <td>0</td>\n",
       "      <td>2</td>\n",
       "      <td>...</td>\n",
       "      <td>0</td>\n",
       "      <td>0</td>\n",
       "      <td>1</td>\n",
       "      <td>1</td>\n",
       "      <td>3</td>\n",
       "      <td>0</td>\n",
       "      <td>0</td>\n",
       "      <td>0</td>\n",
       "      <td>16.52</td>\n",
       "      <td>0</td>\n",
       "    </tr>\n",
       "    <tr>\n",
       "      <td>4</td>\n",
       "      <td>--BumyUHiO_7YsHurb9Hkw</td>\n",
       "      <td>99.0</td>\n",
       "      <td>10</td>\n",
       "      <td>2195072</td>\n",
       "      <td>96.5</td>\n",
       "      <td>6664</td>\n",
       "      <td>22</td>\n",
       "      <td>1</td>\n",
       "      <td>0</td>\n",
       "      <td>1</td>\n",
       "      <td>...</td>\n",
       "      <td>3</td>\n",
       "      <td>4</td>\n",
       "      <td>1</td>\n",
       "      <td>2</td>\n",
       "      <td>6</td>\n",
       "      <td>0</td>\n",
       "      <td>5</td>\n",
       "      <td>2</td>\n",
       "      <td>94.56</td>\n",
       "      <td>24</td>\n",
       "    </tr>\n",
       "  </tbody>\n",
       "</table>\n",
       "<p>5 rows × 44 columns</p>\n",
       "</div>"
      ],
      "text/plain": [
       "                  user_id  rating  useful    index  biz_stars  biz_rev_ct  \\\n",
       "0  ---1lKK3aKOuomHnwAkAow    70.0      31  2130846       63.5        8321   \n",
       "1  --2HUmLkcNHZp0xw6AMBPg   104.0       6  2068382       86.0        6437   \n",
       "2  --3WaS23LcIXtxyFULJHTA    25.0       6   547508       25.5        6851   \n",
       "3  --4rAAfZnEIAKJE80aIiYg    24.0       5   550808       26.5        2152   \n",
       "4  --BumyUHiO_7YsHurb9Hkw    99.0      10  2195072       96.5        6664   \n",
       "\n",
       "   is_open  American (New)  American (Traditional)  Asian Fusion  ...  \\\n",
       "0       11               8                       3             1  ...   \n",
       "1       19               4                       3             0  ...   \n",
       "2        5               2                       0             0  ...   \n",
       "3        6               1                       0             2  ...   \n",
       "4       22               1                       0             1  ...   \n",
       "\n",
       "   Mexican  Nightlife  Pizza  Salad  Sandwiches  Seafood  Specialty Food  \\\n",
       "0        0          5      2      0           5        3               2   \n",
       "1        5          1      1      0           7        1               1   \n",
       "2        0          2      0      2           3        0               0   \n",
       "3        0          0      1      1           3        0               0   \n",
       "4        3          4      1      2           6        0               5   \n",
       "\n",
       "   Wine & Spirits  avg_stars  fans  \n",
       "0               1      66.64   272  \n",
       "1               1     101.20     0  \n",
       "2               0      23.52    66  \n",
       "3               0      16.52     0  \n",
       "4               2      94.56    24  \n",
       "\n",
       "[5 rows x 44 columns]"
      ]
     },
     "execution_count": 30,
     "metadata": {},
     "output_type": "execute_result"
    }
   ],
   "source": [
    "user_feat_data.head()"
   ]
  },
  {
   "cell_type": "code",
   "execution_count": 31,
   "metadata": {},
   "outputs": [],
   "source": [
    "cols2.append('user_id')\n",
    "user_feat_data = user_feat_data[cols2]"
   ]
  },
  {
   "cell_type": "code",
   "execution_count": 32,
   "metadata": {
    "scrolled": false
   },
   "outputs": [
    {
     "data": {
      "text/html": [
       "<div>\n",
       "<style scoped>\n",
       "    .dataframe tbody tr th:only-of-type {\n",
       "        vertical-align: middle;\n",
       "    }\n",
       "\n",
       "    .dataframe tbody tr th {\n",
       "        vertical-align: top;\n",
       "    }\n",
       "\n",
       "    .dataframe thead th {\n",
       "        text-align: right;\n",
       "    }\n",
       "</style>\n",
       "<table border=\"1\" class=\"dataframe\">\n",
       "  <thead>\n",
       "    <tr style=\"text-align: right;\">\n",
       "      <th></th>\n",
       "      <th>American (New)</th>\n",
       "      <th>American (Traditional)</th>\n",
       "      <th>Asian Fusion</th>\n",
       "      <th>Bakeries</th>\n",
       "      <th>Barbeque</th>\n",
       "      <th>Bars</th>\n",
       "      <th>Beer</th>\n",
       "      <th>Breakfast &amp; Brunch</th>\n",
       "      <th>Burgers</th>\n",
       "      <th>Cafes</th>\n",
       "      <th>...</th>\n",
       "      <th>Juice Bars &amp; Smoothies</th>\n",
       "      <th>Mexican</th>\n",
       "      <th>Nightlife</th>\n",
       "      <th>Pizza</th>\n",
       "      <th>Salad</th>\n",
       "      <th>Sandwiches</th>\n",
       "      <th>Seafood</th>\n",
       "      <th>Specialty Food</th>\n",
       "      <th>Wine &amp; Spirits</th>\n",
       "      <th>user_id</th>\n",
       "    </tr>\n",
       "  </thead>\n",
       "  <tbody>\n",
       "    <tr>\n",
       "      <td>0</td>\n",
       "      <td>8</td>\n",
       "      <td>3</td>\n",
       "      <td>1</td>\n",
       "      <td>2</td>\n",
       "      <td>0</td>\n",
       "      <td>5</td>\n",
       "      <td>1</td>\n",
       "      <td>6</td>\n",
       "      <td>2</td>\n",
       "      <td>4</td>\n",
       "      <td>...</td>\n",
       "      <td>4</td>\n",
       "      <td>0</td>\n",
       "      <td>5</td>\n",
       "      <td>2</td>\n",
       "      <td>0</td>\n",
       "      <td>5</td>\n",
       "      <td>3</td>\n",
       "      <td>2</td>\n",
       "      <td>1</td>\n",
       "      <td>---1lKK3aKOuomHnwAkAow</td>\n",
       "    </tr>\n",
       "    <tr>\n",
       "      <td>1</td>\n",
       "      <td>4</td>\n",
       "      <td>3</td>\n",
       "      <td>0</td>\n",
       "      <td>3</td>\n",
       "      <td>0</td>\n",
       "      <td>1</td>\n",
       "      <td>1</td>\n",
       "      <td>7</td>\n",
       "      <td>3</td>\n",
       "      <td>1</td>\n",
       "      <td>...</td>\n",
       "      <td>2</td>\n",
       "      <td>5</td>\n",
       "      <td>1</td>\n",
       "      <td>1</td>\n",
       "      <td>0</td>\n",
       "      <td>7</td>\n",
       "      <td>1</td>\n",
       "      <td>1</td>\n",
       "      <td>1</td>\n",
       "      <td>--2HUmLkcNHZp0xw6AMBPg</td>\n",
       "    </tr>\n",
       "    <tr>\n",
       "      <td>2</td>\n",
       "      <td>2</td>\n",
       "      <td>0</td>\n",
       "      <td>0</td>\n",
       "      <td>2</td>\n",
       "      <td>0</td>\n",
       "      <td>2</td>\n",
       "      <td>0</td>\n",
       "      <td>3</td>\n",
       "      <td>0</td>\n",
       "      <td>4</td>\n",
       "      <td>...</td>\n",
       "      <td>0</td>\n",
       "      <td>0</td>\n",
       "      <td>2</td>\n",
       "      <td>0</td>\n",
       "      <td>2</td>\n",
       "      <td>3</td>\n",
       "      <td>0</td>\n",
       "      <td>0</td>\n",
       "      <td>0</td>\n",
       "      <td>--3WaS23LcIXtxyFULJHTA</td>\n",
       "    </tr>\n",
       "    <tr>\n",
       "      <td>3</td>\n",
       "      <td>1</td>\n",
       "      <td>0</td>\n",
       "      <td>2</td>\n",
       "      <td>0</td>\n",
       "      <td>1</td>\n",
       "      <td>0</td>\n",
       "      <td>0</td>\n",
       "      <td>3</td>\n",
       "      <td>1</td>\n",
       "      <td>0</td>\n",
       "      <td>...</td>\n",
       "      <td>0</td>\n",
       "      <td>0</td>\n",
       "      <td>0</td>\n",
       "      <td>1</td>\n",
       "      <td>1</td>\n",
       "      <td>3</td>\n",
       "      <td>0</td>\n",
       "      <td>0</td>\n",
       "      <td>0</td>\n",
       "      <td>--4rAAfZnEIAKJE80aIiYg</td>\n",
       "    </tr>\n",
       "    <tr>\n",
       "      <td>4</td>\n",
       "      <td>1</td>\n",
       "      <td>0</td>\n",
       "      <td>1</td>\n",
       "      <td>3</td>\n",
       "      <td>0</td>\n",
       "      <td>4</td>\n",
       "      <td>2</td>\n",
       "      <td>5</td>\n",
       "      <td>0</td>\n",
       "      <td>6</td>\n",
       "      <td>...</td>\n",
       "      <td>0</td>\n",
       "      <td>3</td>\n",
       "      <td>4</td>\n",
       "      <td>1</td>\n",
       "      <td>2</td>\n",
       "      <td>6</td>\n",
       "      <td>0</td>\n",
       "      <td>5</td>\n",
       "      <td>2</td>\n",
       "      <td>--BumyUHiO_7YsHurb9Hkw</td>\n",
       "    </tr>\n",
       "  </tbody>\n",
       "</table>\n",
       "<p>5 rows × 36 columns</p>\n",
       "</div>"
      ],
      "text/plain": [
       "   American (New)  American (Traditional)  Asian Fusion  Bakeries  Barbeque  \\\n",
       "0               8                       3             1         2         0   \n",
       "1               4                       3             0         3         0   \n",
       "2               2                       0             0         2         0   \n",
       "3               1                       0             2         0         1   \n",
       "4               1                       0             1         3         0   \n",
       "\n",
       "   Bars  Beer  Breakfast & Brunch  Burgers  Cafes  ...  \\\n",
       "0     5     1                   6        2      4  ...   \n",
       "1     1     1                   7        3      1  ...   \n",
       "2     2     0                   3        0      4  ...   \n",
       "3     0     0                   3        1      0  ...   \n",
       "4     4     2                   5        0      6  ...   \n",
       "\n",
       "   Juice Bars & Smoothies  Mexican  Nightlife  Pizza  Salad  Sandwiches  \\\n",
       "0                       4        0          5      2      0           5   \n",
       "1                       2        5          1      1      0           7   \n",
       "2                       0        0          2      0      2           3   \n",
       "3                       0        0          0      1      1           3   \n",
       "4                       0        3          4      1      2           6   \n",
       "\n",
       "   Seafood  Specialty Food  Wine & Spirits                 user_id  \n",
       "0        3               2               1  ---1lKK3aKOuomHnwAkAow  \n",
       "1        1               1               1  --2HUmLkcNHZp0xw6AMBPg  \n",
       "2        0               0               0  --3WaS23LcIXtxyFULJHTA  \n",
       "3        0               0               0  --4rAAfZnEIAKJE80aIiYg  \n",
       "4        0               5               2  --BumyUHiO_7YsHurb9Hkw  \n",
       "\n",
       "[5 rows x 36 columns]"
      ]
     },
     "execution_count": 32,
     "metadata": {},
     "output_type": "execute_result"
    }
   ],
   "source": [
    "user_feat_data.head()"
   ]
  },
  {
   "cell_type": "markdown",
   "metadata": {},
   "source": [
    "### Giving new names to the new built feature-set so that it does not confuses the original category columns. The new columns are named as: [category]_urating"
   ]
  },
  {
   "cell_type": "code",
   "execution_count": 33,
   "metadata": {},
   "outputs": [],
   "source": [
    "l = []\n",
    "\n",
    "for i in range(len(user_feat_data.columns)):\n",
    "    if user_feat_data.columns[i] != \"user_id\":\n",
    "        l.append(str(user_feat_data.columns[i])+\"_urating\")\n",
    "    else:\n",
    "        l.append('user_id')\n",
    "\n",
    "user_feat_data.columns = l"
   ]
  },
  {
   "cell_type": "code",
   "execution_count": 34,
   "metadata": {},
   "outputs": [
    {
     "data": {
      "text/html": [
       "<div>\n",
       "<style scoped>\n",
       "    .dataframe tbody tr th:only-of-type {\n",
       "        vertical-align: middle;\n",
       "    }\n",
       "\n",
       "    .dataframe tbody tr th {\n",
       "        vertical-align: top;\n",
       "    }\n",
       "\n",
       "    .dataframe thead th {\n",
       "        text-align: right;\n",
       "    }\n",
       "</style>\n",
       "<table border=\"1\" class=\"dataframe\">\n",
       "  <thead>\n",
       "    <tr style=\"text-align: right;\">\n",
       "      <th></th>\n",
       "      <th>American (New)_urating</th>\n",
       "      <th>American (Traditional)_urating</th>\n",
       "      <th>Asian Fusion_urating</th>\n",
       "      <th>Bakeries_urating</th>\n",
       "      <th>Barbeque_urating</th>\n",
       "      <th>Bars_urating</th>\n",
       "      <th>Beer_urating</th>\n",
       "      <th>Breakfast &amp; Brunch_urating</th>\n",
       "      <th>Burgers_urating</th>\n",
       "      <th>Cafes_urating</th>\n",
       "      <th>...</th>\n",
       "      <th>Juice Bars &amp; Smoothies_urating</th>\n",
       "      <th>Mexican_urating</th>\n",
       "      <th>Nightlife_urating</th>\n",
       "      <th>Pizza_urating</th>\n",
       "      <th>Salad_urating</th>\n",
       "      <th>Sandwiches_urating</th>\n",
       "      <th>Seafood_urating</th>\n",
       "      <th>Specialty Food_urating</th>\n",
       "      <th>Wine &amp; Spirits_urating</th>\n",
       "      <th>user_id</th>\n",
       "    </tr>\n",
       "  </thead>\n",
       "  <tbody>\n",
       "    <tr>\n",
       "      <td>0</td>\n",
       "      <td>8</td>\n",
       "      <td>3</td>\n",
       "      <td>1</td>\n",
       "      <td>2</td>\n",
       "      <td>0</td>\n",
       "      <td>5</td>\n",
       "      <td>1</td>\n",
       "      <td>6</td>\n",
       "      <td>2</td>\n",
       "      <td>4</td>\n",
       "      <td>...</td>\n",
       "      <td>4</td>\n",
       "      <td>0</td>\n",
       "      <td>5</td>\n",
       "      <td>2</td>\n",
       "      <td>0</td>\n",
       "      <td>5</td>\n",
       "      <td>3</td>\n",
       "      <td>2</td>\n",
       "      <td>1</td>\n",
       "      <td>---1lKK3aKOuomHnwAkAow</td>\n",
       "    </tr>\n",
       "    <tr>\n",
       "      <td>1</td>\n",
       "      <td>4</td>\n",
       "      <td>3</td>\n",
       "      <td>0</td>\n",
       "      <td>3</td>\n",
       "      <td>0</td>\n",
       "      <td>1</td>\n",
       "      <td>1</td>\n",
       "      <td>7</td>\n",
       "      <td>3</td>\n",
       "      <td>1</td>\n",
       "      <td>...</td>\n",
       "      <td>2</td>\n",
       "      <td>5</td>\n",
       "      <td>1</td>\n",
       "      <td>1</td>\n",
       "      <td>0</td>\n",
       "      <td>7</td>\n",
       "      <td>1</td>\n",
       "      <td>1</td>\n",
       "      <td>1</td>\n",
       "      <td>--2HUmLkcNHZp0xw6AMBPg</td>\n",
       "    </tr>\n",
       "    <tr>\n",
       "      <td>2</td>\n",
       "      <td>2</td>\n",
       "      <td>0</td>\n",
       "      <td>0</td>\n",
       "      <td>2</td>\n",
       "      <td>0</td>\n",
       "      <td>2</td>\n",
       "      <td>0</td>\n",
       "      <td>3</td>\n",
       "      <td>0</td>\n",
       "      <td>4</td>\n",
       "      <td>...</td>\n",
       "      <td>0</td>\n",
       "      <td>0</td>\n",
       "      <td>2</td>\n",
       "      <td>0</td>\n",
       "      <td>2</td>\n",
       "      <td>3</td>\n",
       "      <td>0</td>\n",
       "      <td>0</td>\n",
       "      <td>0</td>\n",
       "      <td>--3WaS23LcIXtxyFULJHTA</td>\n",
       "    </tr>\n",
       "    <tr>\n",
       "      <td>3</td>\n",
       "      <td>1</td>\n",
       "      <td>0</td>\n",
       "      <td>2</td>\n",
       "      <td>0</td>\n",
       "      <td>1</td>\n",
       "      <td>0</td>\n",
       "      <td>0</td>\n",
       "      <td>3</td>\n",
       "      <td>1</td>\n",
       "      <td>0</td>\n",
       "      <td>...</td>\n",
       "      <td>0</td>\n",
       "      <td>0</td>\n",
       "      <td>0</td>\n",
       "      <td>1</td>\n",
       "      <td>1</td>\n",
       "      <td>3</td>\n",
       "      <td>0</td>\n",
       "      <td>0</td>\n",
       "      <td>0</td>\n",
       "      <td>--4rAAfZnEIAKJE80aIiYg</td>\n",
       "    </tr>\n",
       "    <tr>\n",
       "      <td>4</td>\n",
       "      <td>1</td>\n",
       "      <td>0</td>\n",
       "      <td>1</td>\n",
       "      <td>3</td>\n",
       "      <td>0</td>\n",
       "      <td>4</td>\n",
       "      <td>2</td>\n",
       "      <td>5</td>\n",
       "      <td>0</td>\n",
       "      <td>6</td>\n",
       "      <td>...</td>\n",
       "      <td>0</td>\n",
       "      <td>3</td>\n",
       "      <td>4</td>\n",
       "      <td>1</td>\n",
       "      <td>2</td>\n",
       "      <td>6</td>\n",
       "      <td>0</td>\n",
       "      <td>5</td>\n",
       "      <td>2</td>\n",
       "      <td>--BumyUHiO_7YsHurb9Hkw</td>\n",
       "    </tr>\n",
       "  </tbody>\n",
       "</table>\n",
       "<p>5 rows × 36 columns</p>\n",
       "</div>"
      ],
      "text/plain": [
       "   American (New)_urating  American (Traditional)_urating  \\\n",
       "0                       8                               3   \n",
       "1                       4                               3   \n",
       "2                       2                               0   \n",
       "3                       1                               0   \n",
       "4                       1                               0   \n",
       "\n",
       "   Asian Fusion_urating  Bakeries_urating  Barbeque_urating  Bars_urating  \\\n",
       "0                     1                 2                 0             5   \n",
       "1                     0                 3                 0             1   \n",
       "2                     0                 2                 0             2   \n",
       "3                     2                 0                 1             0   \n",
       "4                     1                 3                 0             4   \n",
       "\n",
       "   Beer_urating  Breakfast & Brunch_urating  Burgers_urating  Cafes_urating  \\\n",
       "0             1                           6                2              4   \n",
       "1             1                           7                3              1   \n",
       "2             0                           3                0              4   \n",
       "3             0                           3                1              0   \n",
       "4             2                           5                0              6   \n",
       "\n",
       "   ...  Juice Bars & Smoothies_urating  Mexican_urating  Nightlife_urating  \\\n",
       "0  ...                               4                0                  5   \n",
       "1  ...                               2                5                  1   \n",
       "2  ...                               0                0                  2   \n",
       "3  ...                               0                0                  0   \n",
       "4  ...                               0                3                  4   \n",
       "\n",
       "   Pizza_urating  Salad_urating  Sandwiches_urating  Seafood_urating  \\\n",
       "0              2              0                   5                3   \n",
       "1              1              0                   7                1   \n",
       "2              0              2                   3                0   \n",
       "3              1              1                   3                0   \n",
       "4              1              2                   6                0   \n",
       "\n",
       "   Specialty Food_urating  Wine & Spirits_urating                 user_id  \n",
       "0                       2                       1  ---1lKK3aKOuomHnwAkAow  \n",
       "1                       1                       1  --2HUmLkcNHZp0xw6AMBPg  \n",
       "2                       0                       0  --3WaS23LcIXtxyFULJHTA  \n",
       "3                       0                       0  --4rAAfZnEIAKJE80aIiYg  \n",
       "4                       5                       2  --BumyUHiO_7YsHurb9Hkw  \n",
       "\n",
       "[5 rows x 36 columns]"
      ]
     },
     "execution_count": 34,
     "metadata": {},
     "output_type": "execute_result"
    }
   ],
   "source": [
    "user_feat_data.head()"
   ]
  },
  {
   "cell_type": "markdown",
   "metadata": {},
   "source": [
    "### Merging the user feature-set with the previous sample data, on 'user_id'"
   ]
  },
  {
   "cell_type": "code",
   "execution_count": 35,
   "metadata": {},
   "outputs": [],
   "source": [
    "merged_data = data.merge(user_feat_data)"
   ]
  },
  {
   "cell_type": "code",
   "execution_count": 36,
   "metadata": {},
   "outputs": [
    {
     "data": {
      "text/plain": [
       "629155"
      ]
     },
     "execution_count": 36,
     "metadata": {},
     "output_type": "execute_result"
    }
   ],
   "source": [
    "len(data[\"user_id\"])"
   ]
  },
  {
   "cell_type": "code",
   "execution_count": 37,
   "metadata": {},
   "outputs": [
    {
     "data": {
      "text/plain": [
       "52550"
      ]
     },
     "execution_count": 37,
     "metadata": {},
     "output_type": "execute_result"
    }
   ],
   "source": [
    "len(set(list(data[\"user_id\"])))"
   ]
  },
  {
   "cell_type": "code",
   "execution_count": 38,
   "metadata": {},
   "outputs": [
    {
     "data": {
      "text/plain": [
       "52550"
      ]
     },
     "execution_count": 38,
     "metadata": {},
     "output_type": "execute_result"
    }
   ],
   "source": [
    "len(user_feat_data[\"user_id\"])"
   ]
  },
  {
   "cell_type": "code",
   "execution_count": 39,
   "metadata": {},
   "outputs": [
    {
     "data": {
      "text/plain": [
       "629155"
      ]
     },
     "execution_count": 39,
     "metadata": {},
     "output_type": "execute_result"
    }
   ],
   "source": [
    "len(merged_data[\"user_id\"])"
   ]
  },
  {
   "cell_type": "code",
   "execution_count": 40,
   "metadata": {},
   "outputs": [
    {
     "data": {
      "text/html": [
       "<div>\n",
       "<style scoped>\n",
       "    .dataframe tbody tr th:only-of-type {\n",
       "        vertical-align: middle;\n",
       "    }\n",
       "\n",
       "    .dataframe tbody tr th {\n",
       "        vertical-align: top;\n",
       "    }\n",
       "\n",
       "    .dataframe thead th {\n",
       "        text-align: right;\n",
       "    }\n",
       "</style>\n",
       "<table border=\"1\" class=\"dataframe\">\n",
       "  <thead>\n",
       "    <tr style=\"text-align: right;\">\n",
       "      <th></th>\n",
       "      <th>user_id</th>\n",
       "      <th>business_id</th>\n",
       "      <th>rating</th>\n",
       "      <th>date</th>\n",
       "      <th>text</th>\n",
       "      <th>useful</th>\n",
       "      <th>index</th>\n",
       "      <th>biz_stars</th>\n",
       "      <th>biz_rev_ct</th>\n",
       "      <th>state</th>\n",
       "      <th>...</th>\n",
       "      <th>Italian_urating</th>\n",
       "      <th>Juice Bars &amp; Smoothies_urating</th>\n",
       "      <th>Mexican_urating</th>\n",
       "      <th>Nightlife_urating</th>\n",
       "      <th>Pizza_urating</th>\n",
       "      <th>Salad_urating</th>\n",
       "      <th>Sandwiches_urating</th>\n",
       "      <th>Seafood_urating</th>\n",
       "      <th>Specialty Food_urating</th>\n",
       "      <th>Wine &amp; Spirits_urating</th>\n",
       "    </tr>\n",
       "  </thead>\n",
       "  <tbody>\n",
       "    <tr>\n",
       "      <td>0</td>\n",
       "      <td>rMnTpVfJyH_fWgf9TICCYg</td>\n",
       "      <td>RESDUcs7fIiihp38-d6_6g</td>\n",
       "      <td>5.0</td>\n",
       "      <td>2016-01-05 03:07:40</td>\n",
       "      <td>I can't remember if I dreamt this or not, beca...</td>\n",
       "      <td>0</td>\n",
       "      <td>89206</td>\n",
       "      <td>4.0</td>\n",
       "      <td>8339</td>\n",
       "      <td>NV</td>\n",
       "      <td>...</td>\n",
       "      <td>0</td>\n",
       "      <td>1</td>\n",
       "      <td>0</td>\n",
       "      <td>2</td>\n",
       "      <td>1</td>\n",
       "      <td>1</td>\n",
       "      <td>1</td>\n",
       "      <td>0</td>\n",
       "      <td>1</td>\n",
       "      <td>1</td>\n",
       "    </tr>\n",
       "    <tr>\n",
       "      <td>1</td>\n",
       "      <td>rMnTpVfJyH_fWgf9TICCYg</td>\n",
       "      <td>RVQE2Z2uky4c0-njFQO66g</td>\n",
       "      <td>5.0</td>\n",
       "      <td>2014-09-22 20:35:17</td>\n",
       "      <td>My favorite meal in Charlotte. Definitely try ...</td>\n",
       "      <td>0</td>\n",
       "      <td>148503</td>\n",
       "      <td>4.5</td>\n",
       "      <td>1474</td>\n",
       "      <td>NC</td>\n",
       "      <td>...</td>\n",
       "      <td>0</td>\n",
       "      <td>1</td>\n",
       "      <td>0</td>\n",
       "      <td>2</td>\n",
       "      <td>1</td>\n",
       "      <td>1</td>\n",
       "      <td>1</td>\n",
       "      <td>0</td>\n",
       "      <td>1</td>\n",
       "      <td>1</td>\n",
       "    </tr>\n",
       "    <tr>\n",
       "      <td>2</td>\n",
       "      <td>rMnTpVfJyH_fWgf9TICCYg</td>\n",
       "      <td>l3jXlEDlVfKj_ECpU7tobA</td>\n",
       "      <td>5.0</td>\n",
       "      <td>2014-09-23 00:36:57</td>\n",
       "      <td>Fantastic spot for whiskey and pre/post Jaguar...</td>\n",
       "      <td>0</td>\n",
       "      <td>39475</td>\n",
       "      <td>3.5</td>\n",
       "      <td>248</td>\n",
       "      <td>NC</td>\n",
       "      <td>...</td>\n",
       "      <td>0</td>\n",
       "      <td>1</td>\n",
       "      <td>0</td>\n",
       "      <td>2</td>\n",
       "      <td>1</td>\n",
       "      <td>1</td>\n",
       "      <td>1</td>\n",
       "      <td>0</td>\n",
       "      <td>1</td>\n",
       "      <td>1</td>\n",
       "    </tr>\n",
       "    <tr>\n",
       "      <td>3</td>\n",
       "      <td>rMnTpVfJyH_fWgf9TICCYg</td>\n",
       "      <td>ciHtNE7zKzr25IX_L6pNSQ</td>\n",
       "      <td>5.0</td>\n",
       "      <td>2018-07-12 14:10:29</td>\n",
       "      <td>I was searching for quick, healthy, and reason...</td>\n",
       "      <td>1</td>\n",
       "      <td>23927</td>\n",
       "      <td>4.0</td>\n",
       "      <td>44</td>\n",
       "      <td>ON</td>\n",
       "      <td>...</td>\n",
       "      <td>0</td>\n",
       "      <td>1</td>\n",
       "      <td>0</td>\n",
       "      <td>2</td>\n",
       "      <td>1</td>\n",
       "      <td>1</td>\n",
       "      <td>1</td>\n",
       "      <td>0</td>\n",
       "      <td>1</td>\n",
       "      <td>1</td>\n",
       "    </tr>\n",
       "    <tr>\n",
       "      <td>4</td>\n",
       "      <td>rMnTpVfJyH_fWgf9TICCYg</td>\n",
       "      <td>wArcCMVnrl_tc9MULW-0CQ</td>\n",
       "      <td>5.0</td>\n",
       "      <td>2014-09-22 20:32:34</td>\n",
       "      <td>We had a fantastic time on their outdoor patio...</td>\n",
       "      <td>0</td>\n",
       "      <td>118198</td>\n",
       "      <td>3.5</td>\n",
       "      <td>593</td>\n",
       "      <td>NC</td>\n",
       "      <td>...</td>\n",
       "      <td>0</td>\n",
       "      <td>1</td>\n",
       "      <td>0</td>\n",
       "      <td>2</td>\n",
       "      <td>1</td>\n",
       "      <td>1</td>\n",
       "      <td>1</td>\n",
       "      <td>0</td>\n",
       "      <td>1</td>\n",
       "      <td>1</td>\n",
       "    </tr>\n",
       "  </tbody>\n",
       "</table>\n",
       "<p>5 rows × 84 columns</p>\n",
       "</div>"
      ],
      "text/plain": [
       "                  user_id             business_id  rating  \\\n",
       "0  rMnTpVfJyH_fWgf9TICCYg  RESDUcs7fIiihp38-d6_6g     5.0   \n",
       "1  rMnTpVfJyH_fWgf9TICCYg  RVQE2Z2uky4c0-njFQO66g     5.0   \n",
       "2  rMnTpVfJyH_fWgf9TICCYg  l3jXlEDlVfKj_ECpU7tobA     5.0   \n",
       "3  rMnTpVfJyH_fWgf9TICCYg  ciHtNE7zKzr25IX_L6pNSQ     5.0   \n",
       "4  rMnTpVfJyH_fWgf9TICCYg  wArcCMVnrl_tc9MULW-0CQ     5.0   \n",
       "\n",
       "                  date                                               text  \\\n",
       "0  2016-01-05 03:07:40  I can't remember if I dreamt this or not, beca...   \n",
       "1  2014-09-22 20:35:17  My favorite meal in Charlotte. Definitely try ...   \n",
       "2  2014-09-23 00:36:57  Fantastic spot for whiskey and pre/post Jaguar...   \n",
       "3  2018-07-12 14:10:29  I was searching for quick, healthy, and reason...   \n",
       "4  2014-09-22 20:32:34  We had a fantastic time on their outdoor patio...   \n",
       "\n",
       "   useful   index  biz_stars  biz_rev_ct state  ... Italian_urating  \\\n",
       "0       0   89206        4.0        8339    NV  ...               0   \n",
       "1       0  148503        4.5        1474    NC  ...               0   \n",
       "2       0   39475        3.5         248    NC  ...               0   \n",
       "3       1   23927        4.0          44    ON  ...               0   \n",
       "4       0  118198        3.5         593    NC  ...               0   \n",
       "\n",
       "   Juice Bars & Smoothies_urating  Mexican_urating  Nightlife_urating  \\\n",
       "0                               1                0                  2   \n",
       "1                               1                0                  2   \n",
       "2                               1                0                  2   \n",
       "3                               1                0                  2   \n",
       "4                               1                0                  2   \n",
       "\n",
       "   Pizza_urating  Salad_urating  Sandwiches_urating  Seafood_urating  \\\n",
       "0              1              1                   1                0   \n",
       "1              1              1                   1                0   \n",
       "2              1              1                   1                0   \n",
       "3              1              1                   1                0   \n",
       "4              1              1                   1                0   \n",
       "\n",
       "   Specialty Food_urating  Wine & Spirits_urating  \n",
       "0                       1                       1  \n",
       "1                       1                       1  \n",
       "2                       1                       1  \n",
       "3                       1                       1  \n",
       "4                       1                       1  \n",
       "\n",
       "[5 rows x 84 columns]"
      ]
     },
     "execution_count": 40,
     "metadata": {},
     "output_type": "execute_result"
    }
   ],
   "source": [
    "merged_data.head()"
   ]
  },
  {
   "cell_type": "code",
   "execution_count": 41,
   "metadata": {},
   "outputs": [],
   "source": [
    "merged_data = merged_data.drop([\"text\"], axis = 1)"
   ]
  },
  {
   "cell_type": "code",
   "execution_count": 42,
   "metadata": {},
   "outputs": [
    {
     "data": {
      "text/html": [
       "<div>\n",
       "<style scoped>\n",
       "    .dataframe tbody tr th:only-of-type {\n",
       "        vertical-align: middle;\n",
       "    }\n",
       "\n",
       "    .dataframe tbody tr th {\n",
       "        vertical-align: top;\n",
       "    }\n",
       "\n",
       "    .dataframe thead th {\n",
       "        text-align: right;\n",
       "    }\n",
       "</style>\n",
       "<table border=\"1\" class=\"dataframe\">\n",
       "  <thead>\n",
       "    <tr style=\"text-align: right;\">\n",
       "      <th></th>\n",
       "      <th>user_id</th>\n",
       "      <th>business_id</th>\n",
       "      <th>rating</th>\n",
       "      <th>date</th>\n",
       "      <th>useful</th>\n",
       "      <th>index</th>\n",
       "      <th>biz_stars</th>\n",
       "      <th>biz_rev_ct</th>\n",
       "      <th>state</th>\n",
       "      <th>city</th>\n",
       "      <th>...</th>\n",
       "      <th>Italian_urating</th>\n",
       "      <th>Juice Bars &amp; Smoothies_urating</th>\n",
       "      <th>Mexican_urating</th>\n",
       "      <th>Nightlife_urating</th>\n",
       "      <th>Pizza_urating</th>\n",
       "      <th>Salad_urating</th>\n",
       "      <th>Sandwiches_urating</th>\n",
       "      <th>Seafood_urating</th>\n",
       "      <th>Specialty Food_urating</th>\n",
       "      <th>Wine &amp; Spirits_urating</th>\n",
       "    </tr>\n",
       "  </thead>\n",
       "  <tbody>\n",
       "    <tr>\n",
       "      <td>0</td>\n",
       "      <td>rMnTpVfJyH_fWgf9TICCYg</td>\n",
       "      <td>RESDUcs7fIiihp38-d6_6g</td>\n",
       "      <td>5.0</td>\n",
       "      <td>2016-01-05 03:07:40</td>\n",
       "      <td>0</td>\n",
       "      <td>89206</td>\n",
       "      <td>4.0</td>\n",
       "      <td>8339</td>\n",
       "      <td>NV</td>\n",
       "      <td>Las Vegas</td>\n",
       "      <td>...</td>\n",
       "      <td>0</td>\n",
       "      <td>1</td>\n",
       "      <td>0</td>\n",
       "      <td>2</td>\n",
       "      <td>1</td>\n",
       "      <td>1</td>\n",
       "      <td>1</td>\n",
       "      <td>0</td>\n",
       "      <td>1</td>\n",
       "      <td>1</td>\n",
       "    </tr>\n",
       "    <tr>\n",
       "      <td>1</td>\n",
       "      <td>rMnTpVfJyH_fWgf9TICCYg</td>\n",
       "      <td>RVQE2Z2uky4c0-njFQO66g</td>\n",
       "      <td>5.0</td>\n",
       "      <td>2014-09-22 20:35:17</td>\n",
       "      <td>0</td>\n",
       "      <td>148503</td>\n",
       "      <td>4.5</td>\n",
       "      <td>1474</td>\n",
       "      <td>NC</td>\n",
       "      <td>Charlotte</td>\n",
       "      <td>...</td>\n",
       "      <td>0</td>\n",
       "      <td>1</td>\n",
       "      <td>0</td>\n",
       "      <td>2</td>\n",
       "      <td>1</td>\n",
       "      <td>1</td>\n",
       "      <td>1</td>\n",
       "      <td>0</td>\n",
       "      <td>1</td>\n",
       "      <td>1</td>\n",
       "    </tr>\n",
       "    <tr>\n",
       "      <td>2</td>\n",
       "      <td>rMnTpVfJyH_fWgf9TICCYg</td>\n",
       "      <td>l3jXlEDlVfKj_ECpU7tobA</td>\n",
       "      <td>5.0</td>\n",
       "      <td>2014-09-23 00:36:57</td>\n",
       "      <td>0</td>\n",
       "      <td>39475</td>\n",
       "      <td>3.5</td>\n",
       "      <td>248</td>\n",
       "      <td>NC</td>\n",
       "      <td>Charlotte</td>\n",
       "      <td>...</td>\n",
       "      <td>0</td>\n",
       "      <td>1</td>\n",
       "      <td>0</td>\n",
       "      <td>2</td>\n",
       "      <td>1</td>\n",
       "      <td>1</td>\n",
       "      <td>1</td>\n",
       "      <td>0</td>\n",
       "      <td>1</td>\n",
       "      <td>1</td>\n",
       "    </tr>\n",
       "    <tr>\n",
       "      <td>3</td>\n",
       "      <td>rMnTpVfJyH_fWgf9TICCYg</td>\n",
       "      <td>ciHtNE7zKzr25IX_L6pNSQ</td>\n",
       "      <td>5.0</td>\n",
       "      <td>2018-07-12 14:10:29</td>\n",
       "      <td>1</td>\n",
       "      <td>23927</td>\n",
       "      <td>4.0</td>\n",
       "      <td>44</td>\n",
       "      <td>ON</td>\n",
       "      <td>Toronto</td>\n",
       "      <td>...</td>\n",
       "      <td>0</td>\n",
       "      <td>1</td>\n",
       "      <td>0</td>\n",
       "      <td>2</td>\n",
       "      <td>1</td>\n",
       "      <td>1</td>\n",
       "      <td>1</td>\n",
       "      <td>0</td>\n",
       "      <td>1</td>\n",
       "      <td>1</td>\n",
       "    </tr>\n",
       "    <tr>\n",
       "      <td>4</td>\n",
       "      <td>rMnTpVfJyH_fWgf9TICCYg</td>\n",
       "      <td>wArcCMVnrl_tc9MULW-0CQ</td>\n",
       "      <td>5.0</td>\n",
       "      <td>2014-09-22 20:32:34</td>\n",
       "      <td>0</td>\n",
       "      <td>118198</td>\n",
       "      <td>3.5</td>\n",
       "      <td>593</td>\n",
       "      <td>NC</td>\n",
       "      <td>Charlotte</td>\n",
       "      <td>...</td>\n",
       "      <td>0</td>\n",
       "      <td>1</td>\n",
       "      <td>0</td>\n",
       "      <td>2</td>\n",
       "      <td>1</td>\n",
       "      <td>1</td>\n",
       "      <td>1</td>\n",
       "      <td>0</td>\n",
       "      <td>1</td>\n",
       "      <td>1</td>\n",
       "    </tr>\n",
       "  </tbody>\n",
       "</table>\n",
       "<p>5 rows × 83 columns</p>\n",
       "</div>"
      ],
      "text/plain": [
       "                  user_id             business_id  rating  \\\n",
       "0  rMnTpVfJyH_fWgf9TICCYg  RESDUcs7fIiihp38-d6_6g     5.0   \n",
       "1  rMnTpVfJyH_fWgf9TICCYg  RVQE2Z2uky4c0-njFQO66g     5.0   \n",
       "2  rMnTpVfJyH_fWgf9TICCYg  l3jXlEDlVfKj_ECpU7tobA     5.0   \n",
       "3  rMnTpVfJyH_fWgf9TICCYg  ciHtNE7zKzr25IX_L6pNSQ     5.0   \n",
       "4  rMnTpVfJyH_fWgf9TICCYg  wArcCMVnrl_tc9MULW-0CQ     5.0   \n",
       "\n",
       "                  date  useful   index  biz_stars  biz_rev_ct state  \\\n",
       "0  2016-01-05 03:07:40       0   89206        4.0        8339    NV   \n",
       "1  2014-09-22 20:35:17       0  148503        4.5        1474    NC   \n",
       "2  2014-09-23 00:36:57       0   39475        3.5         248    NC   \n",
       "3  2018-07-12 14:10:29       1   23927        4.0          44    ON   \n",
       "4  2014-09-22 20:32:34       0  118198        3.5         593    NC   \n",
       "\n",
       "        city  ...  Italian_urating  Juice Bars & Smoothies_urating  \\\n",
       "0  Las Vegas  ...                0                               1   \n",
       "1  Charlotte  ...                0                               1   \n",
       "2  Charlotte  ...                0                               1   \n",
       "3    Toronto  ...                0                               1   \n",
       "4  Charlotte  ...                0                               1   \n",
       "\n",
       "   Mexican_urating  Nightlife_urating  Pizza_urating  Salad_urating  \\\n",
       "0                0                  2              1              1   \n",
       "1                0                  2              1              1   \n",
       "2                0                  2              1              1   \n",
       "3                0                  2              1              1   \n",
       "4                0                  2              1              1   \n",
       "\n",
       "   Sandwiches_urating  Seafood_urating  Specialty Food_urating  \\\n",
       "0                   1                0                       1   \n",
       "1                   1                0                       1   \n",
       "2                   1                0                       1   \n",
       "3                   1                0                       1   \n",
       "4                   1                0                       1   \n",
       "\n",
       "   Wine & Spirits_urating  \n",
       "0                       1  \n",
       "1                       1  \n",
       "2                       1  \n",
       "3                       1  \n",
       "4                       1  \n",
       "\n",
       "[5 rows x 83 columns]"
      ]
     },
     "execution_count": 42,
     "metadata": {},
     "output_type": "execute_result"
    }
   ],
   "source": [
    "merged_data.head()"
   ]
  },
  {
   "cell_type": "code",
   "execution_count": 43,
   "metadata": {},
   "outputs": [],
   "source": [
    "data = merged_data"
   ]
  },
  {
   "cell_type": "markdown",
   "metadata": {},
   "source": [
    "## Making business features:"
   ]
  },
  {
   "cell_type": "markdown",
   "metadata": {},
   "source": [
    "### Taking the relevant columns required for the business' weighted average:"
   ]
  },
  {
   "cell_type": "code",
   "execution_count": 44,
   "metadata": {},
   "outputs": [],
   "source": [
    "biz_data = data.loc[:, [\"business_id\", \"useful\", \"rating\"]]"
   ]
  },
  {
   "cell_type": "code",
   "execution_count": 45,
   "metadata": {},
   "outputs": [
    {
     "data": {
      "text/plain": [
       "(629155, 3)"
      ]
     },
     "execution_count": 45,
     "metadata": {},
     "output_type": "execute_result"
    }
   ],
   "source": [
    "biz_data.shape"
   ]
  },
  {
   "cell_type": "markdown",
   "metadata": {},
   "source": [
    "### Multiplying the 'useful' and 'rating' columns, and summing it up for each business:"
   ]
  },
  {
   "cell_type": "code",
   "execution_count": 46,
   "metadata": {},
   "outputs": [],
   "source": [
    "biz_data[\"biz_wavg\"] = biz_data[\"useful\"]*biz_data[\"rating\"]"
   ]
  },
  {
   "cell_type": "code",
   "execution_count": 47,
   "metadata": {},
   "outputs": [],
   "source": [
    "biz_data = biz_data.groupby(\"business_id\", as_index = False).sum()"
   ]
  },
  {
   "cell_type": "code",
   "execution_count": 48,
   "metadata": {
    "scrolled": true
   },
   "outputs": [
    {
     "data": {
      "text/html": [
       "<div>\n",
       "<style scoped>\n",
       "    .dataframe tbody tr th:only-of-type {\n",
       "        vertical-align: middle;\n",
       "    }\n",
       "\n",
       "    .dataframe tbody tr th {\n",
       "        vertical-align: top;\n",
       "    }\n",
       "\n",
       "    .dataframe thead th {\n",
       "        text-align: right;\n",
       "    }\n",
       "</style>\n",
       "<table border=\"1\" class=\"dataframe\">\n",
       "  <thead>\n",
       "    <tr style=\"text-align: right;\">\n",
       "      <th></th>\n",
       "      <th>business_id</th>\n",
       "      <th>useful</th>\n",
       "      <th>rating</th>\n",
       "      <th>biz_wavg</th>\n",
       "    </tr>\n",
       "  </thead>\n",
       "  <tbody>\n",
       "    <tr>\n",
       "      <td>0</td>\n",
       "      <td>--FBCX-N37CMYDfs790Bnw</td>\n",
       "      <td>66</td>\n",
       "      <td>251.0</td>\n",
       "      <td>237.0</td>\n",
       "    </tr>\n",
       "    <tr>\n",
       "      <td>1</td>\n",
       "      <td>--Ni3oJ4VOqfOEu7Sj2Vzg</td>\n",
       "      <td>2</td>\n",
       "      <td>2.0</td>\n",
       "      <td>2.0</td>\n",
       "    </tr>\n",
       "    <tr>\n",
       "      <td>2</td>\n",
       "      <td>--g-a85VwrdZJNf0R95GcQ</td>\n",
       "      <td>6</td>\n",
       "      <td>44.0</td>\n",
       "      <td>22.0</td>\n",
       "    </tr>\n",
       "    <tr>\n",
       "      <td>3</td>\n",
       "      <td>-05uZNVbb8DhFweTEOoDVg</td>\n",
       "      <td>0</td>\n",
       "      <td>3.0</td>\n",
       "      <td>0.0</td>\n",
       "    </tr>\n",
       "    <tr>\n",
       "      <td>4</td>\n",
       "      <td>-0BxAGlIk5DJAGVkpqBXxg</td>\n",
       "      <td>19</td>\n",
       "      <td>72.0</td>\n",
       "      <td>44.0</td>\n",
       "    </tr>\n",
       "  </tbody>\n",
       "</table>\n",
       "</div>"
      ],
      "text/plain": [
       "              business_id  useful  rating  biz_wavg\n",
       "0  --FBCX-N37CMYDfs790Bnw      66   251.0     237.0\n",
       "1  --Ni3oJ4VOqfOEu7Sj2Vzg       2     2.0       2.0\n",
       "2  --g-a85VwrdZJNf0R95GcQ       6    44.0      22.0\n",
       "3  -05uZNVbb8DhFweTEOoDVg       0     3.0       0.0\n",
       "4  -0BxAGlIk5DJAGVkpqBXxg      19    72.0      44.0"
      ]
     },
     "execution_count": 48,
     "metadata": {},
     "output_type": "execute_result"
    }
   ],
   "source": [
    "biz_data.head()"
   ]
  },
  {
   "cell_type": "markdown",
   "metadata": {},
   "source": [
    "### Getting the weighted average by dividing the sum by total number of useful reviews for the business:"
   ]
  },
  {
   "cell_type": "code",
   "execution_count": 49,
   "metadata": {},
   "outputs": [
    {
     "name": "stderr",
     "output_type": "stream",
     "text": [
      "/Users/hargunasood/opt/anaconda3/lib/python3.7/site-packages/ipykernel_launcher.py:3: RuntimeWarning: invalid value encountered in true_divide\n",
      "  This is separate from the ipykernel package so we can avoid doing imports until\n"
     ]
    }
   ],
   "source": [
    "for i in range(biz_data.shape[0]):\n",
    "    try:\n",
    "        biz_data.loc[i,\"biz_w_avg\"]  = float(biz_data.loc[i,\"biz_wavg\"])/biz_data.loc[i,\"useful\"]\n",
    "    except:\n",
    "        biz_data.loc[i,\"biz_w_avg\"]  = 0"
   ]
  },
  {
   "cell_type": "code",
   "execution_count": 50,
   "metadata": {},
   "outputs": [
    {
     "data": {
      "text/html": [
       "<div>\n",
       "<style scoped>\n",
       "    .dataframe tbody tr th:only-of-type {\n",
       "        vertical-align: middle;\n",
       "    }\n",
       "\n",
       "    .dataframe tbody tr th {\n",
       "        vertical-align: top;\n",
       "    }\n",
       "\n",
       "    .dataframe thead th {\n",
       "        text-align: right;\n",
       "    }\n",
       "</style>\n",
       "<table border=\"1\" class=\"dataframe\">\n",
       "  <thead>\n",
       "    <tr style=\"text-align: right;\">\n",
       "      <th></th>\n",
       "      <th>business_id</th>\n",
       "      <th>useful</th>\n",
       "      <th>rating</th>\n",
       "      <th>biz_wavg</th>\n",
       "      <th>biz_w_avg</th>\n",
       "    </tr>\n",
       "  </thead>\n",
       "  <tbody>\n",
       "    <tr>\n",
       "      <td>0</td>\n",
       "      <td>--FBCX-N37CMYDfs790Bnw</td>\n",
       "      <td>66</td>\n",
       "      <td>251.0</td>\n",
       "      <td>237.0</td>\n",
       "      <td>3.590909</td>\n",
       "    </tr>\n",
       "    <tr>\n",
       "      <td>1</td>\n",
       "      <td>--Ni3oJ4VOqfOEu7Sj2Vzg</td>\n",
       "      <td>2</td>\n",
       "      <td>2.0</td>\n",
       "      <td>2.0</td>\n",
       "      <td>1.000000</td>\n",
       "    </tr>\n",
       "    <tr>\n",
       "      <td>2</td>\n",
       "      <td>--g-a85VwrdZJNf0R95GcQ</td>\n",
       "      <td>6</td>\n",
       "      <td>44.0</td>\n",
       "      <td>22.0</td>\n",
       "      <td>3.666667</td>\n",
       "    </tr>\n",
       "    <tr>\n",
       "      <td>3</td>\n",
       "      <td>-05uZNVbb8DhFweTEOoDVg</td>\n",
       "      <td>0</td>\n",
       "      <td>3.0</td>\n",
       "      <td>0.0</td>\n",
       "      <td>NaN</td>\n",
       "    </tr>\n",
       "    <tr>\n",
       "      <td>4</td>\n",
       "      <td>-0BxAGlIk5DJAGVkpqBXxg</td>\n",
       "      <td>19</td>\n",
       "      <td>72.0</td>\n",
       "      <td>44.0</td>\n",
       "      <td>2.315789</td>\n",
       "    </tr>\n",
       "  </tbody>\n",
       "</table>\n",
       "</div>"
      ],
      "text/plain": [
       "              business_id  useful  rating  biz_wavg  biz_w_avg\n",
       "0  --FBCX-N37CMYDfs790Bnw      66   251.0     237.0   3.590909\n",
       "1  --Ni3oJ4VOqfOEu7Sj2Vzg       2     2.0       2.0   1.000000\n",
       "2  --g-a85VwrdZJNf0R95GcQ       6    44.0      22.0   3.666667\n",
       "3  -05uZNVbb8DhFweTEOoDVg       0     3.0       0.0        NaN\n",
       "4  -0BxAGlIk5DJAGVkpqBXxg      19    72.0      44.0   2.315789"
      ]
     },
     "execution_count": 50,
     "metadata": {},
     "output_type": "execute_result"
    }
   ],
   "source": [
    "biz_data.head()"
   ]
  },
  {
   "cell_type": "code",
   "execution_count": 51,
   "metadata": {},
   "outputs": [],
   "source": [
    "biz_data = biz_data.fillna(0)\n",
    "biz_data = biz_data.drop([\"useful\", \"rating\", \"biz_wavg\"], axis = 1)"
   ]
  },
  {
   "cell_type": "markdown",
   "metadata": {},
   "source": [
    "### Merging the business features with the previous sample data, on 'business_id':"
   ]
  },
  {
   "cell_type": "code",
   "execution_count": 52,
   "metadata": {},
   "outputs": [],
   "source": [
    "data = data.merge(biz_data)"
   ]
  },
  {
   "cell_type": "code",
   "execution_count": 53,
   "metadata": {},
   "outputs": [
    {
     "data": {
      "text/plain": [
       "(629155, 84)"
      ]
     },
     "execution_count": 53,
     "metadata": {},
     "output_type": "execute_result"
    }
   ],
   "source": [
    "data.shape"
   ]
  },
  {
   "cell_type": "code",
   "execution_count": 54,
   "metadata": {},
   "outputs": [
    {
     "data": {
      "text/html": [
       "<div>\n",
       "<style scoped>\n",
       "    .dataframe tbody tr th:only-of-type {\n",
       "        vertical-align: middle;\n",
       "    }\n",
       "\n",
       "    .dataframe tbody tr th {\n",
       "        vertical-align: top;\n",
       "    }\n",
       "\n",
       "    .dataframe thead th {\n",
       "        text-align: right;\n",
       "    }\n",
       "</style>\n",
       "<table border=\"1\" class=\"dataframe\">\n",
       "  <thead>\n",
       "    <tr style=\"text-align: right;\">\n",
       "      <th></th>\n",
       "      <th>user_id</th>\n",
       "      <th>business_id</th>\n",
       "      <th>rating</th>\n",
       "      <th>date</th>\n",
       "      <th>useful</th>\n",
       "      <th>index</th>\n",
       "      <th>biz_stars</th>\n",
       "      <th>biz_rev_ct</th>\n",
       "      <th>state</th>\n",
       "      <th>city</th>\n",
       "      <th>...</th>\n",
       "      <th>Juice Bars &amp; Smoothies_urating</th>\n",
       "      <th>Mexican_urating</th>\n",
       "      <th>Nightlife_urating</th>\n",
       "      <th>Pizza_urating</th>\n",
       "      <th>Salad_urating</th>\n",
       "      <th>Sandwiches_urating</th>\n",
       "      <th>Seafood_urating</th>\n",
       "      <th>Specialty Food_urating</th>\n",
       "      <th>Wine &amp; Spirits_urating</th>\n",
       "      <th>biz_w_avg</th>\n",
       "    </tr>\n",
       "  </thead>\n",
       "  <tbody>\n",
       "    <tr>\n",
       "      <td>0</td>\n",
       "      <td>rMnTpVfJyH_fWgf9TICCYg</td>\n",
       "      <td>RESDUcs7fIiihp38-d6_6g</td>\n",
       "      <td>5.0</td>\n",
       "      <td>2016-01-05 03:07:40</td>\n",
       "      <td>0</td>\n",
       "      <td>89206</td>\n",
       "      <td>4.0</td>\n",
       "      <td>8339</td>\n",
       "      <td>NV</td>\n",
       "      <td>Las Vegas</td>\n",
       "      <td>...</td>\n",
       "      <td>1</td>\n",
       "      <td>0</td>\n",
       "      <td>2</td>\n",
       "      <td>1</td>\n",
       "      <td>1</td>\n",
       "      <td>1</td>\n",
       "      <td>0</td>\n",
       "      <td>1</td>\n",
       "      <td>1</td>\n",
       "      <td>4.081165</td>\n",
       "    </tr>\n",
       "    <tr>\n",
       "      <td>1</td>\n",
       "      <td>3nDUQBjKyVor5wV0reJChg</td>\n",
       "      <td>RESDUcs7fIiihp38-d6_6g</td>\n",
       "      <td>4.0</td>\n",
       "      <td>2012-09-23 19:46:44</td>\n",
       "      <td>29</td>\n",
       "      <td>89206</td>\n",
       "      <td>4.0</td>\n",
       "      <td>8339</td>\n",
       "      <td>NV</td>\n",
       "      <td>Las Vegas</td>\n",
       "      <td>...</td>\n",
       "      <td>24</td>\n",
       "      <td>33</td>\n",
       "      <td>29</td>\n",
       "      <td>9</td>\n",
       "      <td>19</td>\n",
       "      <td>34</td>\n",
       "      <td>15</td>\n",
       "      <td>39</td>\n",
       "      <td>12</td>\n",
       "      <td>4.081165</td>\n",
       "    </tr>\n",
       "    <tr>\n",
       "      <td>2</td>\n",
       "      <td>lDKbTlZqjIn2gn490gU2HQ</td>\n",
       "      <td>RESDUcs7fIiihp38-d6_6g</td>\n",
       "      <td>4.0</td>\n",
       "      <td>2013-08-21 21:34:39</td>\n",
       "      <td>3</td>\n",
       "      <td>89206</td>\n",
       "      <td>4.0</td>\n",
       "      <td>8339</td>\n",
       "      <td>NV</td>\n",
       "      <td>Las Vegas</td>\n",
       "      <td>...</td>\n",
       "      <td>3</td>\n",
       "      <td>0</td>\n",
       "      <td>3</td>\n",
       "      <td>0</td>\n",
       "      <td>1</td>\n",
       "      <td>3</td>\n",
       "      <td>1</td>\n",
       "      <td>1</td>\n",
       "      <td>2</td>\n",
       "      <td>4.081165</td>\n",
       "    </tr>\n",
       "    <tr>\n",
       "      <td>3</td>\n",
       "      <td>zzPvEodjvLPe-5NvV0U_cg</td>\n",
       "      <td>RESDUcs7fIiihp38-d6_6g</td>\n",
       "      <td>5.0</td>\n",
       "      <td>2013-01-25 03:52:00</td>\n",
       "      <td>0</td>\n",
       "      <td>89206</td>\n",
       "      <td>4.0</td>\n",
       "      <td>8339</td>\n",
       "      <td>NV</td>\n",
       "      <td>Las Vegas</td>\n",
       "      <td>...</td>\n",
       "      <td>3</td>\n",
       "      <td>3</td>\n",
       "      <td>5</td>\n",
       "      <td>13</td>\n",
       "      <td>5</td>\n",
       "      <td>13</td>\n",
       "      <td>4</td>\n",
       "      <td>11</td>\n",
       "      <td>4</td>\n",
       "      <td>4.081165</td>\n",
       "    </tr>\n",
       "    <tr>\n",
       "      <td>4</td>\n",
       "      <td>FQbVI3UyKlL-HfQGcRF8aA</td>\n",
       "      <td>RESDUcs7fIiihp38-d6_6g</td>\n",
       "      <td>3.0</td>\n",
       "      <td>2017-01-30 00:26:04</td>\n",
       "      <td>4</td>\n",
       "      <td>89206</td>\n",
       "      <td>4.0</td>\n",
       "      <td>8339</td>\n",
       "      <td>NV</td>\n",
       "      <td>Las Vegas</td>\n",
       "      <td>...</td>\n",
       "      <td>2</td>\n",
       "      <td>2</td>\n",
       "      <td>3</td>\n",
       "      <td>0</td>\n",
       "      <td>1</td>\n",
       "      <td>4</td>\n",
       "      <td>3</td>\n",
       "      <td>6</td>\n",
       "      <td>1</td>\n",
       "      <td>4.081165</td>\n",
       "    </tr>\n",
       "  </tbody>\n",
       "</table>\n",
       "<p>5 rows × 84 columns</p>\n",
       "</div>"
      ],
      "text/plain": [
       "                  user_id             business_id  rating  \\\n",
       "0  rMnTpVfJyH_fWgf9TICCYg  RESDUcs7fIiihp38-d6_6g     5.0   \n",
       "1  3nDUQBjKyVor5wV0reJChg  RESDUcs7fIiihp38-d6_6g     4.0   \n",
       "2  lDKbTlZqjIn2gn490gU2HQ  RESDUcs7fIiihp38-d6_6g     4.0   \n",
       "3  zzPvEodjvLPe-5NvV0U_cg  RESDUcs7fIiihp38-d6_6g     5.0   \n",
       "4  FQbVI3UyKlL-HfQGcRF8aA  RESDUcs7fIiihp38-d6_6g     3.0   \n",
       "\n",
       "                  date  useful  index  biz_stars  biz_rev_ct state       city  \\\n",
       "0  2016-01-05 03:07:40       0  89206        4.0        8339    NV  Las Vegas   \n",
       "1  2012-09-23 19:46:44      29  89206        4.0        8339    NV  Las Vegas   \n",
       "2  2013-08-21 21:34:39       3  89206        4.0        8339    NV  Las Vegas   \n",
       "3  2013-01-25 03:52:00       0  89206        4.0        8339    NV  Las Vegas   \n",
       "4  2017-01-30 00:26:04       4  89206        4.0        8339    NV  Las Vegas   \n",
       "\n",
       "   ...  Juice Bars & Smoothies_urating  Mexican_urating  Nightlife_urating  \\\n",
       "0  ...                               1                0                  2   \n",
       "1  ...                              24               33                 29   \n",
       "2  ...                               3                0                  3   \n",
       "3  ...                               3                3                  5   \n",
       "4  ...                               2                2                  3   \n",
       "\n",
       "   Pizza_urating  Salad_urating  Sandwiches_urating  Seafood_urating  \\\n",
       "0              1              1                   1                0   \n",
       "1              9             19                  34               15   \n",
       "2              0              1                   3                1   \n",
       "3             13              5                  13                4   \n",
       "4              0              1                   4                3   \n",
       "\n",
       "   Specialty Food_urating  Wine & Spirits_urating  biz_w_avg  \n",
       "0                       1                       1   4.081165  \n",
       "1                      39                      12   4.081165  \n",
       "2                       1                       2   4.081165  \n",
       "3                      11                       4   4.081165  \n",
       "4                       6                       1   4.081165  \n",
       "\n",
       "[5 rows x 84 columns]"
      ]
     },
     "execution_count": 54,
     "metadata": {},
     "output_type": "execute_result"
    }
   ],
   "source": [
    "data.head()"
   ]
  },
  {
   "cell_type": "code",
   "execution_count": 55,
   "metadata": {},
   "outputs": [
    {
     "data": {
      "text/plain": [
       "52550"
      ]
     },
     "execution_count": 55,
     "metadata": {},
     "output_type": "execute_result"
    }
   ],
   "source": [
    "len(set(data[\"user_id\"]))"
   ]
  },
  {
   "cell_type": "code",
   "execution_count": 56,
   "metadata": {},
   "outputs": [],
   "source": [
    "#data.to_csv(\"yelp_sampledata_user_biz_feat.csv\")"
   ]
  },
  {
   "cell_type": "markdown",
   "metadata": {},
   "source": [
    "### -This ends the data sampling and creating derived features-"
   ]
  },
  {
   "cell_type": "markdown",
   "metadata": {},
   "source": [
    " "
   ]
  },
  {
   "cell_type": "markdown",
   "metadata": {},
   "source": [
    " "
   ]
  },
  {
   "cell_type": "markdown",
   "metadata": {},
   "source": [
    "# Exploratory Data Analysis of the Yelp Dataset"
   ]
  },
  {
   "cell_type": "code",
   "execution_count": 57,
   "metadata": {},
   "outputs": [],
   "source": [
    "import numpy as np\n",
    "import pandas as pd\n",
    "import seaborn as sns\n",
    "import matplotlib.pyplot as plt "
   ]
  },
  {
   "cell_type": "markdown",
   "metadata": {},
   "source": [
    "### We use Review.json, Business.json, and Users.json for our analysis of the data."
   ]
  },
  {
   "cell_type": "markdown",
   "metadata": {},
   "source": [
    "### There are 1,637,138 users who reviewed 192,609 businesses in the Yelp dataset\n"
   ]
  },
  {
   "cell_type": "markdown",
   "metadata": {},
   "source": [
    "## Review.json"
   ]
  },
  {
   "cell_type": "code",
   "execution_count": 59,
   "metadata": {},
   "outputs": [
    {
     "name": "stderr",
     "output_type": "stream",
     "text": [
      "100%|██████████| 6685900/6685900 [00:48<00:00, 137415.25it/s]\n"
     ]
    }
   ],
   "source": [
    "#import pandas as pd\n",
    "import json\n",
    "from tqdm import tqdm\n",
    "\n",
    "line_count = len(open(\"dataset/review.json\").readlines())\n",
    "user_ids, business_ids, stars, dates, texts, usefuls = [], [], [], [], [], []\n",
    "with open(\"dataset/review.json\") as f:\n",
    "    for line in tqdm(f, total=line_count):\n",
    "        blob = json.loads(line)\n",
    "        user_ids += [blob[\"user_id\"]] \n",
    "        business_ids += [blob[\"business_id\"]] \n",
    "        stars += [blob[\"stars\"]]\n",
    "        dates += [blob[\"date\"]]\n",
    "        texts += [blob[\"text\"]]\n",
    "        usefuls += [blob[\"useful\"]]\n",
    "ratings = pd.DataFrame({\"user_id\": user_ids, \"business_id\": business_ids, \"rating\": stars, \"date\": dates, \"text\":texts, \"useful\": usefuls})\n",
    "user_counts = ratings[\"user_id\"].value_counts()\n",
    "active_users = user_counts.loc[user_counts >= 5].index.tolist()"
   ]
  },
  {
   "cell_type": "markdown",
   "metadata": {},
   "source": [
    "### A peak into Review.json "
   ]
  },
  {
   "cell_type": "code",
   "execution_count": 60,
   "metadata": {
    "scrolled": false
   },
   "outputs": [
    {
     "data": {
      "text/html": [
       "<div>\n",
       "<style scoped>\n",
       "    .dataframe tbody tr th:only-of-type {\n",
       "        vertical-align: middle;\n",
       "    }\n",
       "\n",
       "    .dataframe tbody tr th {\n",
       "        vertical-align: top;\n",
       "    }\n",
       "\n",
       "    .dataframe thead th {\n",
       "        text-align: right;\n",
       "    }\n",
       "</style>\n",
       "<table border=\"1\" class=\"dataframe\">\n",
       "  <thead>\n",
       "    <tr style=\"text-align: right;\">\n",
       "      <th></th>\n",
       "      <th>user_id</th>\n",
       "      <th>business_id</th>\n",
       "      <th>rating</th>\n",
       "      <th>date</th>\n",
       "      <th>text</th>\n",
       "      <th>useful</th>\n",
       "    </tr>\n",
       "  </thead>\n",
       "  <tbody>\n",
       "    <tr>\n",
       "      <td>0</td>\n",
       "      <td>hG7b0MtEbXx5QzbzE6C_VA</td>\n",
       "      <td>ujmEBvifdJM6h6RLv4wQIg</td>\n",
       "      <td>1.0</td>\n",
       "      <td>2013-05-07 04:34:36</td>\n",
       "      <td>Total bill for this horrible service? Over $8G...</td>\n",
       "      <td>6</td>\n",
       "    </tr>\n",
       "    <tr>\n",
       "      <td>1</td>\n",
       "      <td>yXQM5uF2jS6es16SJzNHfg</td>\n",
       "      <td>NZnhc2sEQy3RmzKTZnqtwQ</td>\n",
       "      <td>5.0</td>\n",
       "      <td>2017-01-14 21:30:33</td>\n",
       "      <td>I *adore* Travis at the Hard Rock's new Kelly ...</td>\n",
       "      <td>0</td>\n",
       "    </tr>\n",
       "    <tr>\n",
       "      <td>2</td>\n",
       "      <td>n6-Gk65cPZL6Uz8qRm3NYw</td>\n",
       "      <td>WTqjgwHlXbSFevF32_DJVw</td>\n",
       "      <td>5.0</td>\n",
       "      <td>2016-11-09 20:09:03</td>\n",
       "      <td>I have to say that this office really has it t...</td>\n",
       "      <td>3</td>\n",
       "    </tr>\n",
       "    <tr>\n",
       "      <td>3</td>\n",
       "      <td>dacAIZ6fTM6mqwW5uxkskg</td>\n",
       "      <td>ikCg8xy5JIg_NGPx-MSIDA</td>\n",
       "      <td>5.0</td>\n",
       "      <td>2018-01-09 20:56:38</td>\n",
       "      <td>Went in for a lunch. Steak sandwich was delici...</td>\n",
       "      <td>0</td>\n",
       "    </tr>\n",
       "    <tr>\n",
       "      <td>4</td>\n",
       "      <td>ssoyf2_x0EQMed6fgHeMyQ</td>\n",
       "      <td>b1b1eb3uo-w561D0ZfCEiQ</td>\n",
       "      <td>1.0</td>\n",
       "      <td>2018-01-30 23:07:38</td>\n",
       "      <td>Today was my second out of three sessions I ha...</td>\n",
       "      <td>7</td>\n",
       "    </tr>\n",
       "  </tbody>\n",
       "</table>\n",
       "</div>"
      ],
      "text/plain": [
       "                  user_id             business_id  rating  \\\n",
       "0  hG7b0MtEbXx5QzbzE6C_VA  ujmEBvifdJM6h6RLv4wQIg     1.0   \n",
       "1  yXQM5uF2jS6es16SJzNHfg  NZnhc2sEQy3RmzKTZnqtwQ     5.0   \n",
       "2  n6-Gk65cPZL6Uz8qRm3NYw  WTqjgwHlXbSFevF32_DJVw     5.0   \n",
       "3  dacAIZ6fTM6mqwW5uxkskg  ikCg8xy5JIg_NGPx-MSIDA     5.0   \n",
       "4  ssoyf2_x0EQMed6fgHeMyQ  b1b1eb3uo-w561D0ZfCEiQ     1.0   \n",
       "\n",
       "                  date                                               text  \\\n",
       "0  2013-05-07 04:34:36  Total bill for this horrible service? Over $8G...   \n",
       "1  2017-01-14 21:30:33  I *adore* Travis at the Hard Rock's new Kelly ...   \n",
       "2  2016-11-09 20:09:03  I have to say that this office really has it t...   \n",
       "3  2018-01-09 20:56:38  Went in for a lunch. Steak sandwich was delici...   \n",
       "4  2018-01-30 23:07:38  Today was my second out of three sessions I ha...   \n",
       "\n",
       "   useful  \n",
       "0       6  \n",
       "1       0  \n",
       "2       3  \n",
       "3       0  \n",
       "4       7  "
      ]
     },
     "execution_count": 60,
     "metadata": {},
     "output_type": "execute_result"
    }
   ],
   "source": [
    "ratings.head()"
   ]
  },
  {
   "cell_type": "code",
   "execution_count": 61,
   "metadata": {},
   "outputs": [
    {
     "data": {
      "text/plain": [
       "6685900"
      ]
     },
     "execution_count": 61,
     "metadata": {},
     "output_type": "execute_result"
    }
   ],
   "source": [
    "len(ratings)"
   ]
  },
  {
   "cell_type": "code",
   "execution_count": 62,
   "metadata": {},
   "outputs": [
    {
     "data": {
      "text/plain": [
       "1637138"
      ]
     },
     "execution_count": 62,
     "metadata": {},
     "output_type": "execute_result"
    }
   ],
   "source": [
    "ratings['user_id'].nunique()"
   ]
  },
  {
   "cell_type": "code",
   "execution_count": 63,
   "metadata": {},
   "outputs": [
    {
     "data": {
      "text/plain": [
       "192606"
      ]
     },
     "execution_count": 63,
     "metadata": {},
     "output_type": "execute_result"
    }
   ],
   "source": [
    "ratings['business_id'].nunique()"
   ]
  },
  {
   "cell_type": "code",
   "execution_count": 64,
   "metadata": {},
   "outputs": [],
   "source": [
    "business_ratings = pd.DataFrame(ratings.groupby('business_id')['rating'].mean())\n",
    "business_ratings['rating_counts'] = pd.DataFrame(ratings.groupby('business_id')['rating'].count())"
   ]
  },
  {
   "cell_type": "code",
   "execution_count": 65,
   "metadata": {
    "scrolled": false
   },
   "outputs": [
    {
     "data": {
      "text/plain": [
       "Text(0, 0.5, 'Number of businesses')"
      ]
     },
     "execution_count": 65,
     "metadata": {},
     "output_type": "execute_result"
    },
    {
     "data": {
      "image/png": "[encoded data removed]",
      "text/plain": [
       "<Figure size 576x432 with 1 Axes>"
      ]
     },
     "metadata": {
      "needs_background": "light"
     },
     "output_type": "display_data"
    }
   ],
   "source": [
    "plt.figure(figsize=(8,6))\n",
    "plt.rcParams['patch.force_edgecolor'] = True\n",
    "business_ratings['rating_counts'].hist(bins=40)\n",
    "plt.title(\"User rating per Business\")\n",
    "plt.xlabel(\"Number of user ratings\")\n",
    "plt.ylabel(\"Number of businesses\")"
   ]
  },
  {
   "cell_type": "markdown",
   "metadata": {},
   "source": [
    "### We see that most businesses have few user ratings (~less than 200 ratings)."
   ]
  },
  {
   "cell_type": "code",
   "execution_count": 66,
   "metadata": {},
   "outputs": [
    {
     "data": {
      "text/plain": [
       "<seaborn.axisgrid.JointGrid at 0x1e9aaa8d0>"
      ]
     },
     "execution_count": 66,
     "metadata": {},
     "output_type": "execute_result"
    },
    {
     "data": {
      "text/plain": [
       "<Figure size 576x432 with 0 Axes>"
      ]
     },
     "metadata": {},
     "output_type": "display_data"
    },
    {
     "data": {
      "image/png": "[encoded data removed]",
      "text/plain": [
       "<Figure size 432x432 with 3 Axes>"
      ]
     },
     "metadata": {
      "needs_background": "light"
     },
     "output_type": "display_data"
    }
   ],
   "source": [
    "plt.figure(figsize=(8,6))\n",
    "plt.rcParams['patch.force_edgecolor'] = True\n",
    "sns.jointplot(x='rating', y='rating_counts', data=business_ratings, alpha=0.4)"
   ]
  },
  {
   "cell_type": "markdown",
   "metadata": {},
   "source": [
    "### This is a scatter plot of the mean rating vs that total number of user ratings of a business. We see that businesses with more reviews tend to have a higher average rating. "
   ]
  },
  {
   "cell_type": "markdown",
   "metadata": {},
   "source": [
    "## Business.json"
   ]
  },
  {
   "cell_type": "code",
   "execution_count": 67,
   "metadata": {},
   "outputs": [
    {
     "name": "stderr",
     "output_type": "stream",
     "text": [
      "100%|██████████| 192609/192609 [00:06<00:00, 30920.44it/s]\n"
     ]
    }
   ],
   "source": [
    "line_count = len(open(\"dataset/business.json\").readlines())\n",
    "business_ids, biz_stars, biz_rev_ct, cats, states, cities, is_open = [], [], [], [], [], [], []\n",
    "with open(\"dataset/business.json\") as f:\n",
    "    for line in tqdm(f, total=line_count):\n",
    "        blob = json.loads(line)\n",
    "        business_ids += [blob[\"business_id\"]] \n",
    "        biz_stars += [blob[\"stars\"]]\n",
    "        biz_rev_ct += [blob[\"review_count\"]]\n",
    "        cats += [blob[\"categories\"]]\n",
    "        states += [blob[\"state\"]]\n",
    "        cities += [blob[\"city\"]]\n",
    "        is_open += [blob[\"is_open\"]]\n",
    "        \n",
    "biz = pd.DataFrame({\"business_id\": business_ids, \"cat\": cats, \"biz_stars\":biz_stars, \"biz_rev_ct\":biz_rev_ct, \n",
    "                    \"state\":states, \"city\":cities, \"is_open\":is_open})\n"
   ]
  },
  {
   "cell_type": "markdown",
   "metadata": {},
   "source": [
    "### A peak into Business.json "
   ]
  },
  {
   "cell_type": "code",
   "execution_count": 68,
   "metadata": {},
   "outputs": [
    {
     "data": {
      "text/html": [
       "<div>\n",
       "<style scoped>\n",
       "    .dataframe tbody tr th:only-of-type {\n",
       "        vertical-align: middle;\n",
       "    }\n",
       "\n",
       "    .dataframe tbody tr th {\n",
       "        vertical-align: top;\n",
       "    }\n",
       "\n",
       "    .dataframe thead th {\n",
       "        text-align: right;\n",
       "    }\n",
       "</style>\n",
       "<table border=\"1\" class=\"dataframe\">\n",
       "  <thead>\n",
       "    <tr style=\"text-align: right;\">\n",
       "      <th></th>\n",
       "      <th>business_id</th>\n",
       "      <th>cat</th>\n",
       "      <th>biz_stars</th>\n",
       "      <th>biz_rev_ct</th>\n",
       "      <th>state</th>\n",
       "      <th>city</th>\n",
       "      <th>is_open</th>\n",
       "    </tr>\n",
       "  </thead>\n",
       "  <tbody>\n",
       "    <tr>\n",
       "      <td>0</td>\n",
       "      <td>1SWheh84yJXfytovILXOAQ</td>\n",
       "      <td>Golf, Active Life</td>\n",
       "      <td>3.0</td>\n",
       "      <td>5</td>\n",
       "      <td>AZ</td>\n",
       "      <td>Phoenix</td>\n",
       "      <td>0</td>\n",
       "    </tr>\n",
       "    <tr>\n",
       "      <td>1</td>\n",
       "      <td>QXAEGFB4oINsVuTFxEYKFQ</td>\n",
       "      <td>Specialty Food, Restaurants, Dim Sum, Imported...</td>\n",
       "      <td>2.5</td>\n",
       "      <td>128</td>\n",
       "      <td>ON</td>\n",
       "      <td>Mississauga</td>\n",
       "      <td>1</td>\n",
       "    </tr>\n",
       "    <tr>\n",
       "      <td>2</td>\n",
       "      <td>gnKjwL_1w79qoiV3IC_xQQ</td>\n",
       "      <td>Sushi Bars, Restaurants, Japanese</td>\n",
       "      <td>4.0</td>\n",
       "      <td>170</td>\n",
       "      <td>NC</td>\n",
       "      <td>Charlotte</td>\n",
       "      <td>1</td>\n",
       "    </tr>\n",
       "    <tr>\n",
       "      <td>3</td>\n",
       "      <td>xvX2CttrVhyG2z1dFg_0xw</td>\n",
       "      <td>Insurance, Financial Services</td>\n",
       "      <td>5.0</td>\n",
       "      <td>3</td>\n",
       "      <td>AZ</td>\n",
       "      <td>Goodyear</td>\n",
       "      <td>1</td>\n",
       "    </tr>\n",
       "    <tr>\n",
       "      <td>4</td>\n",
       "      <td>HhyxOkGAM07SRYtlQ4wMFQ</td>\n",
       "      <td>Plumbing, Shopping, Local Services, Home Servi...</td>\n",
       "      <td>4.0</td>\n",
       "      <td>4</td>\n",
       "      <td>NC</td>\n",
       "      <td>Charlotte</td>\n",
       "      <td>1</td>\n",
       "    </tr>\n",
       "  </tbody>\n",
       "</table>\n",
       "</div>"
      ],
      "text/plain": [
       "              business_id                                                cat  \\\n",
       "0  1SWheh84yJXfytovILXOAQ                                  Golf, Active Life   \n",
       "1  QXAEGFB4oINsVuTFxEYKFQ  Specialty Food, Restaurants, Dim Sum, Imported...   \n",
       "2  gnKjwL_1w79qoiV3IC_xQQ                  Sushi Bars, Restaurants, Japanese   \n",
       "3  xvX2CttrVhyG2z1dFg_0xw                      Insurance, Financial Services   \n",
       "4  HhyxOkGAM07SRYtlQ4wMFQ  Plumbing, Shopping, Local Services, Home Servi...   \n",
       "\n",
       "   biz_stars  biz_rev_ct state         city  is_open  \n",
       "0        3.0           5    AZ      Phoenix        0  \n",
       "1        2.5         128    ON  Mississauga        1  \n",
       "2        4.0         170    NC    Charlotte        1  \n",
       "3        5.0           3    AZ     Goodyear        1  \n",
       "4        4.0           4    NC    Charlotte        1  "
      ]
     },
     "execution_count": 68,
     "metadata": {},
     "output_type": "execute_result"
    }
   ],
   "source": [
    "biz.head()"
   ]
  },
  {
   "cell_type": "code",
   "execution_count": 69,
   "metadata": {
    "scrolled": true
   },
   "outputs": [
    {
     "data": {
      "text/html": [
       "<div>\n",
       "<style scoped>\n",
       "    .dataframe tbody tr th:only-of-type {\n",
       "        vertical-align: middle;\n",
       "    }\n",
       "\n",
       "    .dataframe tbody tr th {\n",
       "        vertical-align: top;\n",
       "    }\n",
       "\n",
       "    .dataframe thead th {\n",
       "        text-align: right;\n",
       "    }\n",
       "</style>\n",
       "<table border=\"1\" class=\"dataframe\">\n",
       "  <thead>\n",
       "    <tr style=\"text-align: right;\">\n",
       "      <th></th>\n",
       "      <th>business_id</th>\n",
       "    </tr>\n",
       "    <tr>\n",
       "      <th>is_open</th>\n",
       "      <th></th>\n",
       "    </tr>\n",
       "  </thead>\n",
       "  <tbody>\n",
       "    <tr>\n",
       "      <td>0</td>\n",
       "      <td>34084</td>\n",
       "    </tr>\n",
       "    <tr>\n",
       "      <td>1</td>\n",
       "      <td>158525</td>\n",
       "    </tr>\n",
       "  </tbody>\n",
       "</table>\n",
       "</div>"
      ],
      "text/plain": [
       "         business_id\n",
       "is_open             \n",
       "0              34084\n",
       "1             158525"
      ]
     },
     "execution_count": 69,
     "metadata": {},
     "output_type": "execute_result"
    }
   ],
   "source": [
    "is_open = pd.DataFrame(biz.groupby('is_open')['business_id'].count())\n",
    "is_open"
   ]
  },
  {
   "cell_type": "code",
   "execution_count": 70,
   "metadata": {},
   "outputs": [
    {
     "data": {
      "text/plain": [
       "192609"
      ]
     },
     "execution_count": 70,
     "metadata": {},
     "output_type": "execute_result"
    }
   ],
   "source": [
    "len(biz)"
   ]
  },
  {
   "cell_type": "markdown",
   "metadata": {},
   "source": [
    "### There are 34,084 businesses closed and 158,525 businesses open out of 192,609 businesses."
   ]
  },
  {
   "cell_type": "code",
   "execution_count": 71,
   "metadata": {},
   "outputs": [],
   "source": [
    "review_count = pd.DataFrame(biz.groupby('biz_rev_ct')['business_id'].count())"
   ]
  },
  {
   "cell_type": "code",
   "execution_count": 72,
   "metadata": {},
   "outputs": [],
   "source": [
    "#review_count.head()"
   ]
  },
  {
   "cell_type": "code",
   "execution_count": 73,
   "metadata": {},
   "outputs": [],
   "source": [
    "x = biz['biz_stars'].value_counts().index\n",
    "y = biz['biz_stars'].value_counts().values"
   ]
  },
  {
   "cell_type": "code",
   "execution_count": 74,
   "metadata": {
    "scrolled": false
   },
   "outputs": [
    {
     "data": {
      "text/plain": [
       "Text(0, 0.5, 'Number of businesses')"
      ]
     },
     "execution_count": 74,
     "metadata": {},
     "output_type": "execute_result"
    },
    {
     "data": {
      "image/png": "[encoded data removed]",
      "text/plain": [
       "<Figure size 576x432 with 1 Axes>"
      ]
     },
     "metadata": {
      "needs_background": "light"
     },
     "output_type": "display_data"
    }
   ],
   "source": [
    "plt.figure(figsize=(8,6))\n",
    "#ax= sns.barplot(x, y,data= biz,color=\"blue\")\n",
    "biz['biz_stars'].hist(bins=50)\n",
    "plt.title(\"Business rating distributon\")\n",
    "plt.xlabel('Business stars', fontsize=12)\n",
    "plt.ylabel('Number of businesses', fontsize=12)"
   ]
  },
  {
   "cell_type": "markdown",
   "metadata": {},
   "source": [
    "### The bar graph above shows the distribution of business stars by number of businesses. "
   ]
  },
  {
   "cell_type": "code",
   "execution_count": 75,
   "metadata": {
    "scrolled": true
   },
   "outputs": [],
   "source": [
    "business_cat=biz['cat'].to_string()\n",
    "category=pd.DataFrame(business_cat.split(','),columns=['cat'])\n",
    "x = category.cat.value_counts().sort_values(ascending=False).iloc[0:10]"
   ]
  },
  {
   "cell_type": "code",
   "execution_count": 76,
   "metadata": {
    "scrolled": false
   },
   "outputs": [
    {
     "data": {
      "text/plain": [
       "Text(0, 0.5, 'Count')"
      ]
     },
     "execution_count": 76,
     "metadata": {},
     "output_type": "execute_result"
    },
    {
     "data": {
      "image/png": "[encoded data removed]",
      "text/plain": [
       "<Figure size 1152x432 with 1 Axes>"
      ]
     },
     "metadata": {
      "needs_background": "light"
     },
     "output_type": "display_data"
    }
   ],
   "source": [
    "plt.figure(figsize=(16,6))\n",
    "ax = sns.barplot(x.index, x.values,color=\"blue\")\n",
    "locs, labels = plt.xticks()\n",
    "plt.title(\"Top 10 business categories\")\n",
    "plt.xlabel('Category', fontsize=12)\n",
    "plt.ylabel('Count', fontsize=12) #Number of businesses"
   ]
  },
  {
   "cell_type": "markdown",
   "metadata": {},
   "source": [
    "### We observe that most of the businesses are restaurants/food buinesses. This is one of the reasons we chose to build a recommender sytem for restaurants/food businesses."
   ]
  },
  {
   "cell_type": "code",
   "execution_count": 77,
   "metadata": {},
   "outputs": [],
   "source": [
    "x = biz['city'].value_counts().sort_values(ascending = False).iloc[0:10]"
   ]
  },
  {
   "cell_type": "code",
   "execution_count": 78,
   "metadata": {
    "scrolled": false
   },
   "outputs": [
    {
     "data": {
      "image/png": "[encoded data removed]",
      "text/plain": [
       "<Figure size 648x432 with 1 Axes>"
      ]
     },
     "metadata": {
      "needs_background": "light"
     },
     "output_type": "display_data"
    }
   ],
   "source": [
    "plt.figure(figsize=(9,6))\n",
    "ax = sns.barplot(x.index, x.values,color=\"b\")\n",
    "plt.title(\"Top 10 cities with businesses\")\n",
    "plt.xlabel('City', fontsize=12)\n",
    "plt.ylabel('Number of businesses', fontsize=12)\n",
    "plt.show()"
   ]
  },
  {
   "cell_type": "markdown",
   "metadata": {},
   "source": [
    "### Las Vegas has the most number of businesses followed by Toronto."
   ]
  },
  {
   "cell_type": "markdown",
   "metadata": {},
   "source": [
    "## Users.json "
   ]
  },
  {
   "cell_type": "code",
   "execution_count": 79,
   "metadata": {},
   "outputs": [
    {
     "name": "stderr",
     "output_type": "stream",
     "text": [
      "100%|██████████| 1637138/1637138 [00:24<00:00, 66222.85it/s]\n"
     ]
    }
   ],
   "source": [
    "line_count = len(open(\"dataset/user.json\").readlines())\n",
    "user_id, avg_stars, fans = [], [], []\n",
    "with open(\"dataset/user.json\") as f:\n",
    "    for line in tqdm(f, total=line_count):\n",
    "        blob = json.loads(line)\n",
    "        user_id += [blob[\"user_id\"]] \n",
    "        avg_stars += [blob[\"average_stars\"]]\n",
    "        fans += [blob[\"fans\"]]\n",
    "        \n",
    "users = pd.DataFrame({\"user_id\": user_id, \"avg_stars\": avg_stars, \"fans\": fans})\n",
    "\n"
   ]
  },
  {
   "cell_type": "code",
   "execution_count": 80,
   "metadata": {},
   "outputs": [
    {
     "data": {
      "text/html": [
       "<div>\n",
       "<style scoped>\n",
       "    .dataframe tbody tr th:only-of-type {\n",
       "        vertical-align: middle;\n",
       "    }\n",
       "\n",
       "    .dataframe tbody tr th {\n",
       "        vertical-align: top;\n",
       "    }\n",
       "\n",
       "    .dataframe thead th {\n",
       "        text-align: right;\n",
       "    }\n",
       "</style>\n",
       "<table border=\"1\" class=\"dataframe\">\n",
       "  <thead>\n",
       "    <tr style=\"text-align: right;\">\n",
       "      <th></th>\n",
       "      <th>user_id</th>\n",
       "      <th>avg_stars</th>\n",
       "      <th>fans</th>\n",
       "    </tr>\n",
       "  </thead>\n",
       "  <tbody>\n",
       "    <tr>\n",
       "      <td>0</td>\n",
       "      <td>l6BmjZMeQD3rDxWUbiAiow</td>\n",
       "      <td>4.03</td>\n",
       "      <td>5</td>\n",
       "    </tr>\n",
       "    <tr>\n",
       "      <td>1</td>\n",
       "      <td>4XChL029mKr5hydo79Ljxg</td>\n",
       "      <td>3.63</td>\n",
       "      <td>4</td>\n",
       "    </tr>\n",
       "    <tr>\n",
       "      <td>2</td>\n",
       "      <td>bc8C_eETBWL0olvFSJJd0w</td>\n",
       "      <td>3.71</td>\n",
       "      <td>0</td>\n",
       "    </tr>\n",
       "    <tr>\n",
       "      <td>3</td>\n",
       "      <td>dD0gZpBctWGdWo9WlGuhlA</td>\n",
       "      <td>4.85</td>\n",
       "      <td>5</td>\n",
       "    </tr>\n",
       "    <tr>\n",
       "      <td>4</td>\n",
       "      <td>MM4RJAeH6yuaN8oZDSt0RA</td>\n",
       "      <td>4.08</td>\n",
       "      <td>39</td>\n",
       "    </tr>\n",
       "  </tbody>\n",
       "</table>\n",
       "</div>"
      ],
      "text/plain": [
       "                  user_id  avg_stars  fans\n",
       "0  l6BmjZMeQD3rDxWUbiAiow       4.03     5\n",
       "1  4XChL029mKr5hydo79Ljxg       3.63     4\n",
       "2  bc8C_eETBWL0olvFSJJd0w       3.71     0\n",
       "3  dD0gZpBctWGdWo9WlGuhlA       4.85     5\n",
       "4  MM4RJAeH6yuaN8oZDSt0RA       4.08    39"
      ]
     },
     "execution_count": 80,
     "metadata": {},
     "output_type": "execute_result"
    }
   ],
   "source": [
    "users.head()"
   ]
  },
  {
   "cell_type": "code",
   "execution_count": 81,
   "metadata": {},
   "outputs": [
    {
     "data": {
      "text/plain": [
       "1637138"
      ]
     },
     "execution_count": 81,
     "metadata": {},
     "output_type": "execute_result"
    }
   ],
   "source": [
    "len(users)"
   ]
  },
  {
   "cell_type": "markdown",
   "metadata": {},
   "source": [
    "plt.figure(figsize=(8,6))\n",
    "#ax= sns.barplot(x, y,data= biz,color=\"blue\")\n",
    "users['avg_stars'].hist(bins=50)\n",
    "plt.title(\"User rating distribution\")\n",
    "plt.xlabel('Avg stars', fontsize=12)\n",
    "plt.ylabel('Number of users', fontsize=12)"
   ]
  },
  {
   "cell_type": "markdown",
   "metadata": {},
   "source": [
    "### The mean rating given by most of the users is 5. There is also a spike in the number of users having a mean rating of 1."
   ]
  },
  {
   "cell_type": "markdown",
   "metadata": {},
   "source": [
    "## Exploratory Data Analysis of our sample"
   ]
  },
  {
   "cell_type": "code",
   "execution_count": 82,
   "metadata": {
    "scrolled": true
   },
   "outputs": [],
   "source": [
    "sample=pd.read_csv(\"dataset/yelp_sampledata_user_biz_feat.csv\")"
   ]
  },
  {
   "cell_type": "markdown",
   "metadata": {},
   "source": [
    "### A peak into our sample"
   ]
  },
  {
   "cell_type": "code",
   "execution_count": 83,
   "metadata": {},
   "outputs": [
    {
     "data": {
      "text/html": [
       "<div>\n",
       "<style scoped>\n",
       "    .dataframe tbody tr th:only-of-type {\n",
       "        vertical-align: middle;\n",
       "    }\n",
       "\n",
       "    .dataframe tbody tr th {\n",
       "        vertical-align: top;\n",
       "    }\n",
       "\n",
       "    .dataframe thead th {\n",
       "        text-align: right;\n",
       "    }\n",
       "</style>\n",
       "<table border=\"1\" class=\"dataframe\">\n",
       "  <thead>\n",
       "    <tr style=\"text-align: right;\">\n",
       "      <th></th>\n",
       "      <th>Unnamed: 0</th>\n",
       "      <th>user_id</th>\n",
       "      <th>business_id</th>\n",
       "      <th>rating</th>\n",
       "      <th>date</th>\n",
       "      <th>useful</th>\n",
       "      <th>index</th>\n",
       "      <th>biz_stars</th>\n",
       "      <th>biz_rev_ct</th>\n",
       "      <th>state</th>\n",
       "      <th>...</th>\n",
       "      <th>Juice Bars &amp; Smoothies_urating</th>\n",
       "      <th>Mexican_urating</th>\n",
       "      <th>Nightlife_urating</th>\n",
       "      <th>Pizza_urating</th>\n",
       "      <th>Salad_urating</th>\n",
       "      <th>Sandwiches_urating</th>\n",
       "      <th>Seafood_urating</th>\n",
       "      <th>Specialty Food_urating</th>\n",
       "      <th>Wine &amp; Spirits_urating</th>\n",
       "      <th>biz_w_avg</th>\n",
       "    </tr>\n",
       "  </thead>\n",
       "  <tbody>\n",
       "    <tr>\n",
       "      <td>0</td>\n",
       "      <td>0</td>\n",
       "      <td>39VYc2nWSdvdTCldsDJ7qw</td>\n",
       "      <td>xqocOGl5Hvjc3hb1r_U4xA</td>\n",
       "      <td>5.0</td>\n",
       "      <td>2015-06-12 13:09:11</td>\n",
       "      <td>0</td>\n",
       "      <td>64478</td>\n",
       "      <td>4.0</td>\n",
       "      <td>116</td>\n",
       "      <td>ON</td>\n",
       "      <td>...</td>\n",
       "      <td>1</td>\n",
       "      <td>1</td>\n",
       "      <td>2</td>\n",
       "      <td>1</td>\n",
       "      <td>3</td>\n",
       "      <td>3</td>\n",
       "      <td>0</td>\n",
       "      <td>4</td>\n",
       "      <td>1</td>\n",
       "      <td>4.042373</td>\n",
       "    </tr>\n",
       "    <tr>\n",
       "      <td>1</td>\n",
       "      <td>1</td>\n",
       "      <td>X4cwQL_JZZnAUyCbOwz3pw</td>\n",
       "      <td>xqocOGl5Hvjc3hb1r_U4xA</td>\n",
       "      <td>3.0</td>\n",
       "      <td>2014-05-01 19:03:06</td>\n",
       "      <td>0</td>\n",
       "      <td>64478</td>\n",
       "      <td>4.0</td>\n",
       "      <td>116</td>\n",
       "      <td>ON</td>\n",
       "      <td>...</td>\n",
       "      <td>2</td>\n",
       "      <td>5</td>\n",
       "      <td>2</td>\n",
       "      <td>1</td>\n",
       "      <td>1</td>\n",
       "      <td>7</td>\n",
       "      <td>1</td>\n",
       "      <td>16</td>\n",
       "      <td>4</td>\n",
       "      <td>4.042373</td>\n",
       "    </tr>\n",
       "    <tr>\n",
       "      <td>2</td>\n",
       "      <td>2</td>\n",
       "      <td>X4cwQL_JZZnAUyCbOwz3pw</td>\n",
       "      <td>xqocOGl5Hvjc3hb1r_U4xA</td>\n",
       "      <td>4.0</td>\n",
       "      <td>2017-11-29 22:37:33</td>\n",
       "      <td>4</td>\n",
       "      <td>64478</td>\n",
       "      <td>4.0</td>\n",
       "      <td>116</td>\n",
       "      <td>ON</td>\n",
       "      <td>...</td>\n",
       "      <td>2</td>\n",
       "      <td>5</td>\n",
       "      <td>2</td>\n",
       "      <td>1</td>\n",
       "      <td>1</td>\n",
       "      <td>7</td>\n",
       "      <td>1</td>\n",
       "      <td>16</td>\n",
       "      <td>4</td>\n",
       "      <td>4.042373</td>\n",
       "    </tr>\n",
       "    <tr>\n",
       "      <td>3</td>\n",
       "      <td>3</td>\n",
       "      <td>X4cwQL_JZZnAUyCbOwz3pw</td>\n",
       "      <td>xqocOGl5Hvjc3hb1r_U4xA</td>\n",
       "      <td>2.0</td>\n",
       "      <td>2011-03-28 04:36:34</td>\n",
       "      <td>0</td>\n",
       "      <td>64478</td>\n",
       "      <td>4.0</td>\n",
       "      <td>116</td>\n",
       "      <td>ON</td>\n",
       "      <td>...</td>\n",
       "      <td>2</td>\n",
       "      <td>5</td>\n",
       "      <td>2</td>\n",
       "      <td>1</td>\n",
       "      <td>1</td>\n",
       "      <td>7</td>\n",
       "      <td>1</td>\n",
       "      <td>16</td>\n",
       "      <td>4</td>\n",
       "      <td>4.042373</td>\n",
       "    </tr>\n",
       "    <tr>\n",
       "      <td>4</td>\n",
       "      <td>4</td>\n",
       "      <td>hiCEt6RVMW7kc4pnFDjjXQ</td>\n",
       "      <td>xqocOGl5Hvjc3hb1r_U4xA</td>\n",
       "      <td>4.0</td>\n",
       "      <td>2017-12-13 22:28:31</td>\n",
       "      <td>0</td>\n",
       "      <td>64478</td>\n",
       "      <td>4.0</td>\n",
       "      <td>116</td>\n",
       "      <td>ON</td>\n",
       "      <td>...</td>\n",
       "      <td>0</td>\n",
       "      <td>1</td>\n",
       "      <td>0</td>\n",
       "      <td>0</td>\n",
       "      <td>0</td>\n",
       "      <td>3</td>\n",
       "      <td>0</td>\n",
       "      <td>1</td>\n",
       "      <td>0</td>\n",
       "      <td>4.042373</td>\n",
       "    </tr>\n",
       "  </tbody>\n",
       "</table>\n",
       "<p>5 rows × 85 columns</p>\n",
       "</div>"
      ],
      "text/plain": [
       "   Unnamed: 0                 user_id             business_id  rating  \\\n",
       "0           0  39VYc2nWSdvdTCldsDJ7qw  xqocOGl5Hvjc3hb1r_U4xA     5.0   \n",
       "1           1  X4cwQL_JZZnAUyCbOwz3pw  xqocOGl5Hvjc3hb1r_U4xA     3.0   \n",
       "2           2  X4cwQL_JZZnAUyCbOwz3pw  xqocOGl5Hvjc3hb1r_U4xA     4.0   \n",
       "3           3  X4cwQL_JZZnAUyCbOwz3pw  xqocOGl5Hvjc3hb1r_U4xA     2.0   \n",
       "4           4  hiCEt6RVMW7kc4pnFDjjXQ  xqocOGl5Hvjc3hb1r_U4xA     4.0   \n",
       "\n",
       "                  date  useful  index  biz_stars  biz_rev_ct state  ...  \\\n",
       "0  2015-06-12 13:09:11       0  64478        4.0         116    ON  ...   \n",
       "1  2014-05-01 19:03:06       0  64478        4.0         116    ON  ...   \n",
       "2  2017-11-29 22:37:33       4  64478        4.0         116    ON  ...   \n",
       "3  2011-03-28 04:36:34       0  64478        4.0         116    ON  ...   \n",
       "4  2017-12-13 22:28:31       0  64478        4.0         116    ON  ...   \n",
       "\n",
       "  Juice Bars & Smoothies_urating  Mexican_urating  Nightlife_urating  \\\n",
       "0                              1                1                  2   \n",
       "1                              2                5                  2   \n",
       "2                              2                5                  2   \n",
       "3                              2                5                  2   \n",
       "4                              0                1                  0   \n",
       "\n",
       "   Pizza_urating  Salad_urating  Sandwiches_urating  Seafood_urating  \\\n",
       "0              1              3                   3                0   \n",
       "1              1              1                   7                1   \n",
       "2              1              1                   7                1   \n",
       "3              1              1                   7                1   \n",
       "4              0              0                   3                0   \n",
       "\n",
       "   Specialty Food_urating  Wine & Spirits_urating  biz_w_avg  \n",
       "0                       4                       1   4.042373  \n",
       "1                      16                       4   4.042373  \n",
       "2                      16                       4   4.042373  \n",
       "3                      16                       4   4.042373  \n",
       "4                       1                       0   4.042373  \n",
       "\n",
       "[5 rows x 85 columns]"
      ]
     },
     "execution_count": 83,
     "metadata": {},
     "output_type": "execute_result"
    }
   ],
   "source": [
    "sample.head()"
   ]
  },
  {
   "cell_type": "code",
   "execution_count": 84,
   "metadata": {},
   "outputs": [
    {
     "data": {
      "text/plain": [
       "629155"
      ]
     },
     "execution_count": 84,
     "metadata": {},
     "output_type": "execute_result"
    }
   ],
   "source": [
    "len(sample)"
   ]
  },
  {
   "cell_type": "code",
   "execution_count": 85,
   "metadata": {},
   "outputs": [
    {
     "data": {
      "text/plain": [
       "52550"
      ]
     },
     "execution_count": 85,
     "metadata": {},
     "output_type": "execute_result"
    }
   ],
   "source": [
    "sample['user_id'].nunique()"
   ]
  },
  {
   "cell_type": "code",
   "execution_count": 86,
   "metadata": {},
   "outputs": [
    {
     "data": {
      "text/plain": [
       "20824"
      ]
     },
     "execution_count": 86,
     "metadata": {},
     "output_type": "execute_result"
    }
   ],
   "source": [
    "sample['business_id'].nunique()"
   ]
  },
  {
   "cell_type": "markdown",
   "metadata": {},
   "source": [
    "### Our sample consist of 52,550 unique users who have rated 20,824 businesses."
   ]
  },
  {
   "cell_type": "code",
   "execution_count": 87,
   "metadata": {},
   "outputs": [],
   "source": [
    "s_business_ratings = pd.DataFrame(sample.groupby('business_id')['rating'].mean())\n",
    "s_business_ratings['rating_counts'] = pd.DataFrame(sample.groupby('business_id')['rating'].count())"
   ]
  },
  {
   "cell_type": "code",
   "execution_count": 88,
   "metadata": {},
   "outputs": [
    {
     "data": {
      "text/plain": [
       "Text(0, 0.5, 'Number of restaurants')"
      ]
     },
     "execution_count": 88,
     "metadata": {},
     "output_type": "execute_result"
    },
    {
     "data": {
      "image/png": "[encoded data removed]",
      "text/plain": [
       "<Figure size 576x432 with 1 Axes>"
      ]
     },
     "metadata": {
      "needs_background": "light"
     },
     "output_type": "display_data"
    }
   ],
   "source": [
    "plt.figure(figsize=(8,6))\n",
    "s_business_ratings['rating'].hist(bins=50) #np.array([ 1, 1.5, 2, 2.5, 3, 3.5, 4, 4.5, 5])\n",
    "#ax= sns.barplot(x, y,data= business_ratings,color=\"blue\")\n",
    "plt.rcParams['patch.force_edgecolor'] = True\n",
    "plt.title(\"User rating distribution\")\n",
    "plt.xlabel('Average user rating', fontsize=12)\n",
    "plt.ylabel('Number of restaurants', fontsize=12)"
   ]
  },
  {
   "cell_type": "markdown",
   "metadata": {},
   "source": [
    "### Here we can see that the distribution of mean user ratings across restaurant/food businesses differs from the mean user ratings across all businesses. This tells us that users may be more critical while rating restaurants over other types of  businesses."
   ]
  },
  {
   "cell_type": "code",
   "execution_count": 89,
   "metadata": {},
   "outputs": [
    {
     "data": {
      "text/plain": [
       "Text(0, 0.5, 'Number of restaurants')"
      ]
     },
     "execution_count": 89,
     "metadata": {},
     "output_type": "execute_result"
    },
    {
     "data": {
      "image/png": "[encoded data removed]",
      "text/plain": [
       "<Figure size 576x432 with 1 Axes>"
      ]
     },
     "metadata": {
      "needs_background": "light"
     },
     "output_type": "display_data"
    }
   ],
   "source": [
    "plt.figure(figsize=(8,6))\n",
    "plt.rcParams['patch.force_edgecolor'] = True\n",
    "s_business_ratings['rating_counts'].hist(bins=40)\n",
    "plt.title(\"User rating per Restaurant/Food business\")\n",
    "plt.xlabel(\"Number of user ratings\")\n",
    "plt.ylabel(\"Number of restaurants\")"
   ]
  },
  {
   "cell_type": "markdown",
   "metadata": {},
   "source": [
    "### Most of restaurants/food busniesses have few number of user ratings."
   ]
  },
  {
   "cell_type": "code",
   "execution_count": 90,
   "metadata": {
    "scrolled": false
   },
   "outputs": [
    {
     "data": {
      "text/plain": [
       "<seaborn.axisgrid.JointGrid at 0x14b247ad0>"
      ]
     },
     "execution_count": 90,
     "metadata": {},
     "output_type": "execute_result"
    },
    {
     "data": {
      "text/plain": [
       "<Figure size 576x432 with 0 Axes>"
      ]
     },
     "metadata": {},
     "output_type": "display_data"
    },
    {
     "data": {
      "image/png": "[encoded data removed]",
      "text/plain": [
       "<Figure size 432x432 with 3 Axes>"
      ]
     },
     "metadata": {
      "needs_background": "light"
     },
     "output_type": "display_data"
    }
   ],
   "source": [
    "plt.figure(figsize=(8,6))\n",
    "plt.rcParams['patch.force_edgecolor'] = True\n",
    "sns.jointplot(x='rating', y='rating_counts', data=s_business_ratings, alpha=0.4)"
   ]
  },
  {
   "cell_type": "markdown",
   "metadata": {},
   "source": [
    "### Similar to other business categories, restaurants with more ratings tend to have a higher mean rating in general."
   ]
  },
  {
   "cell_type": "code",
   "execution_count": 91,
   "metadata": {},
   "outputs": [],
   "source": [
    "s1 = sample.drop_duplicates(subset='business_id', keep=\"first\")"
   ]
  },
  {
   "cell_type": "code",
   "execution_count": 92,
   "metadata": {},
   "outputs": [
    {
     "data": {
      "image/png": "[encoded data removed]",
      "text/plain": [
       "<Figure size 648x432 with 1 Axes>"
      ]
     },
     "metadata": {
      "needs_background": "light"
     },
     "output_type": "display_data"
    }
   ],
   "source": [
    "x = s1['city'].value_counts().sort_values(ascending = False).iloc[0:10]\n",
    "plt.figure(figsize=(9,6))\n",
    "ax = sns.barplot(x.index, x.values,color=\"b\")\n",
    "plt.title(\"Top 10 cities with restaurants/food\")\n",
    "plt.xlabel('City', fontsize=12)\n",
    "plt.ylabel('Number of restaurants', fontsize=12)\n",
    "plt.show()"
   ]
  },
  {
   "cell_type": "markdown",
   "metadata": {},
   "source": [
    "### Toronto has the most number of restaurants/food busniesses narrowly followed by Las Vegas."
   ]
  },
  {
   "cell_type": "code",
   "execution_count": 93,
   "metadata": {},
   "outputs": [
    {
     "data": {
      "text/html": [
       "<div>\n",
       "<style scoped>\n",
       "    .dataframe tbody tr th:only-of-type {\n",
       "        vertical-align: middle;\n",
       "    }\n",
       "\n",
       "    .dataframe tbody tr th {\n",
       "        vertical-align: top;\n",
       "    }\n",
       "\n",
       "    .dataframe thead th {\n",
       "        text-align: right;\n",
       "    }\n",
       "</style>\n",
       "<table border=\"1\" class=\"dataframe\">\n",
       "  <thead>\n",
       "    <tr style=\"text-align: right;\">\n",
       "      <th></th>\n",
       "      <th>business_id</th>\n",
       "    </tr>\n",
       "    <tr>\n",
       "      <th>is_open</th>\n",
       "      <th></th>\n",
       "    </tr>\n",
       "  </thead>\n",
       "  <tbody>\n",
       "    <tr>\n",
       "      <td>0</td>\n",
       "      <td>4629</td>\n",
       "    </tr>\n",
       "    <tr>\n",
       "      <td>1</td>\n",
       "      <td>16195</td>\n",
       "    </tr>\n",
       "  </tbody>\n",
       "</table>\n",
       "</div>"
      ],
      "text/plain": [
       "         business_id\n",
       "is_open             \n",
       "0               4629\n",
       "1              16195"
      ]
     },
     "execution_count": 93,
     "metadata": {},
     "output_type": "execute_result"
    }
   ],
   "source": [
    "is_open1 = pd.DataFrame(s1.groupby('is_open')['business_id'].count())\n",
    "is_open1"
   ]
  },
  {
   "cell_type": "markdown",
   "metadata": {},
   "source": [
    "### Out of 20,824 restaurants/food businesses, 16,195 are open while 4,629 are closed."
   ]
  },
  {
   "cell_type": "code",
   "execution_count": 94,
   "metadata": {},
   "outputs": [],
   "source": [
    "s2 = s1.loc[:, 'American (New)':'Wine & Spirits']"
   ]
  },
  {
   "cell_type": "code",
   "execution_count": 95,
   "metadata": {},
   "outputs": [],
   "source": [
    "s3 = s2.sum(axis = 0, skipna = True)"
   ]
  },
  {
   "cell_type": "code",
   "execution_count": 96,
   "metadata": {},
   "outputs": [],
   "source": [
    "s4= pd.DataFrame({'category':s3.index, 'count':s3.values})"
   ]
  },
  {
   "cell_type": "code",
   "execution_count": 97,
   "metadata": {},
   "outputs": [],
   "source": [
    "s5=s4.sort_values(['count'], ascending=False).iloc[0:10]"
   ]
  },
  {
   "cell_type": "code",
   "execution_count": 98,
   "metadata": {},
   "outputs": [
    {
     "data": {
      "image/png": "[encoded data removed]",
      "text/plain": [
       "<Figure size 1152x648 with 1 Axes>"
      ]
     },
     "metadata": {
      "needs_background": "light"
     },
     "output_type": "display_data"
    }
   ],
   "source": [
    "plt.figure(figsize=(16,9))\n",
    "ax = sns.barplot(x=\"category\", y=\"count\", data=s5,color=\"b\")\n",
    "plt.title(\"Top 10 sub categories\")\n",
    "plt.xlabel('sub category', fontsize=12)\n",
    "plt.ylabel('Number of restaurants', fontsize=12)\n",
    "plt.show()"
   ]
  },
  {
   "cell_type": "markdown",
   "metadata": {},
   "source": [
    "### Most of the restaurants/food businesses seem to be types of fast food businesses."
   ]
  }
 ],
 "metadata": {
  "kernelspec": {
   "display_name": "Python 3",
   "language": "python",
   "name": "python3"
  },
  "language_info": {
   "codemirror_mode": {
    "name": "ipython",
    "version": 3
   },
   "file_extension": ".py",
   "mimetype": "text/x-python",
   "name": "python",
   "nbconvert_exporter": "python",
   "pygments_lexer": "ipython3",
   "version": "3.7.4"
  }
 },
 "nbformat": 4,
 "nbformat_minor": 2
}
