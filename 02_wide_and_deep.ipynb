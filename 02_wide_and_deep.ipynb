{
  "nbformat": 4,
  "nbformat_minor": 0,
  "metadata": {
    "colab": {
      "name": "02_wide_and_deep.ipynb",
      "provenance": [],
      "machine_shape": "hm"
    },
    "kernelspec": {
      "name": "python3",
      "display_name": "Python 3"
    },
    "accelerator": "GPU"
  },
  "cells": [
    {
      "cell_type": "markdown",
      "metadata": {
        "id": "FHvJlcnaP2uV",
        "colab_type": "text"
      },
      "source": [
        "### Wide and Deep Learning Model for Yelp Ratings Prediction"
      ]
    },
    {
      "cell_type": "markdown",
      "metadata": {
        "id": "EO0ASX1Jjv2n",
        "colab_type": "text"
      },
      "source": [
        "### Required packages:\n",
        "\n",
        "### 1) Pandas\n",
        "### 2) Numpy\n",
        "### 3) Math\n",
        "### 4) Pyspark\n",
        "### 5) Pytorch\n",
        "### 6) Pytorch wide and deep - https://github.com/jrzaurin/pytorch-widedeep.git\n",
        "### 7) Surprise\n",
        "### 8) Scikit-learn\n",
        "### 9) Prince\n",
        "### 10) Matplotlib\n",
        "### 11) Seaborn"
      ]
    },
    {
      "cell_type": "markdown",
      "metadata": {
        "id": "bb_f0vlnj8mX",
        "colab_type": "text"
      },
      "source": [
        "### Commented code snippets were necessary for google_colab, can be ignored"
      ]
    },
    {
      "cell_type": "code",
      "metadata": {
        "id": "8t5CeZLhP4oh",
        "colab_type": "code",
        "colab": {}
      },
      "source": [
        "# !apt-get install openjdk-8-jdk-headless -qq > /dev/null"
      ],
      "execution_count": 0,
      "outputs": []
    },
    {
      "cell_type": "code",
      "metadata": {
        "id": "hE2myTYXh5H-",
        "colab_type": "code",
        "colab": {}
      },
      "source": [
        "# !wget -q http://mirrors.viethosting.com/apache/spark/spark-2.4.4/spark-2.4.4-bin-hadoop2.7.tgz"
      ],
      "execution_count": 0,
      "outputs": []
    },
    {
      "cell_type": "code",
      "metadata": {
        "id": "mc_2dViQh7eX",
        "colab_type": "code",
        "colab": {}
      },
      "source": [
        "# !tar xf spark-2.4.4-bin-hadoop2.7.tgz"
      ],
      "execution_count": 0,
      "outputs": []
    },
    {
      "cell_type": "code",
      "metadata": {
        "id": "gnKqXJlqh-HK",
        "colab_type": "code",
        "colab": {}
      },
      "source": [
        "# !pip install -q findspark"
      ],
      "execution_count": 0,
      "outputs": []
    },
    {
      "cell_type": "code",
      "metadata": {
        "id": "f1jZnNQyiAAn",
        "colab_type": "code",
        "colab": {}
      },
      "source": [
        "# import os\n",
        "# os.environ[\"JAVA_HOME\"] = \"/usr/lib/jvm/java-8-openjdk-amd64\"\n",
        "# os.environ[\"SPARK_HOME\"] = \"/content/spark-2.4.4-bin-hadoop2.7\""
      ],
      "execution_count": 0,
      "outputs": []
    },
    {
      "cell_type": "code",
      "metadata": {
        "id": "1OOZFoscmet_",
        "colab_type": "code",
        "outputId": "594cce25-04b6-4295-b436-44f57c7c8ba4",
        "colab": {
          "base_uri": "https://localhost:8080/",
          "height": 1000
        }
      },
      "source": [
        "!pip install git+https://github.com/jrzaurin/pytorch-widedeep.git\n",
        "!pip install surprise\n",
        "!pip install prince"
      ],
      "execution_count": 2,
      "outputs": [
        {
          "output_type": "stream",
          "text": [
            "Collecting git+https://github.com/jrzaurin/pytorch-widedeep.git\n",
            "  Cloning https://github.com/jrzaurin/pytorch-widedeep.git to /tmp/pip-req-build-842am5j2\n",
            "  Running command git clone -q https://github.com/jrzaurin/pytorch-widedeep.git /tmp/pip-req-build-842am5j2\n",
            "Requirement already satisfied: pytest in /usr/local/lib/python3.6/dist-packages (from pytorch-widedeep==0.3.1) (3.6.4)\n",
            "Requirement already satisfied: pandas in /usr/local/lib/python3.6/dist-packages (from pytorch-widedeep==0.3.1) (0.25.3)\n",
            "Requirement already satisfied: numpy in /usr/local/lib/python3.6/dist-packages (from pytorch-widedeep==0.3.1) (1.17.4)\n",
            "Requirement already satisfied: scipy in /usr/local/lib/python3.6/dist-packages (from pytorch-widedeep==0.3.1) (1.3.3)\n",
            "Requirement already satisfied: scikit-learn in /usr/local/lib/python3.6/dist-packages (from pytorch-widedeep==0.3.1) (0.21.3)\n",
            "Requirement already satisfied: gensim in /usr/local/lib/python3.6/dist-packages (from pytorch-widedeep==0.3.1) (3.6.0)\n",
            "Requirement already satisfied: spacy in /usr/local/lib/python3.6/dist-packages (from pytorch-widedeep==0.3.1) (2.1.9)\n",
            "Requirement already satisfied: opencv-contrib-python in /usr/local/lib/python3.6/dist-packages (from pytorch-widedeep==0.3.1) (4.1.2.30)\n",
            "Requirement already satisfied: imutils in /usr/local/lib/python3.6/dist-packages (from pytorch-widedeep==0.3.1) (0.5.3)\n",
            "Requirement already satisfied: tqdm in /usr/local/lib/python3.6/dist-packages (from pytorch-widedeep==0.3.1) (4.28.1)\n",
            "Requirement already satisfied: torch in /usr/local/lib/python3.6/dist-packages (from pytorch-widedeep==0.3.1) (1.3.1)\n",
            "Requirement already satisfied: torchvision in /usr/local/lib/python3.6/dist-packages (from pytorch-widedeep==0.3.1) (0.4.2)\n",
            "Requirement already satisfied: more-itertools>=4.0.0 in /usr/local/lib/python3.6/dist-packages (from pytest->pytorch-widedeep==0.3.1) (8.0.2)\n",
            "Requirement already satisfied: six>=1.10.0 in /usr/local/lib/python3.6/dist-packages (from pytest->pytorch-widedeep==0.3.1) (1.12.0)\n",
            "Requirement already satisfied: pluggy<0.8,>=0.5 in /usr/local/lib/python3.6/dist-packages (from pytest->pytorch-widedeep==0.3.1) (0.7.1)\n",
            "Requirement already satisfied: atomicwrites>=1.0 in /usr/local/lib/python3.6/dist-packages (from pytest->pytorch-widedeep==0.3.1) (1.3.0)\n",
            "Requirement already satisfied: attrs>=17.4.0 in /usr/local/lib/python3.6/dist-packages (from pytest->pytorch-widedeep==0.3.1) (19.3.0)\n",
            "Requirement already satisfied: setuptools in /usr/local/lib/python3.6/dist-packages (from pytest->pytorch-widedeep==0.3.1) (42.0.2)\n",
            "Requirement already satisfied: py>=1.5.0 in /usr/local/lib/python3.6/dist-packages (from pytest->pytorch-widedeep==0.3.1) (1.8.0)\n",
            "Requirement already satisfied: pytz>=2017.2 in /usr/local/lib/python3.6/dist-packages (from pandas->pytorch-widedeep==0.3.1) (2018.9)\n",
            "Requirement already satisfied: python-dateutil>=2.6.1 in /usr/local/lib/python3.6/dist-packages (from pandas->pytorch-widedeep==0.3.1) (2.6.1)\n",
            "Requirement already satisfied: joblib>=0.11 in /usr/local/lib/python3.6/dist-packages (from scikit-learn->pytorch-widedeep==0.3.1) (0.14.1)\n",
            "Requirement already satisfied: smart-open>=1.2.1 in /usr/local/lib/python3.6/dist-packages (from gensim->pytorch-widedeep==0.3.1) (1.9.0)\n",
            "Requirement already satisfied: blis<0.3.0,>=0.2.2 in /usr/local/lib/python3.6/dist-packages (from spacy->pytorch-widedeep==0.3.1) (0.2.4)\n",
            "Requirement already satisfied: cymem<2.1.0,>=2.0.2 in /usr/local/lib/python3.6/dist-packages (from spacy->pytorch-widedeep==0.3.1) (2.0.3)\n",
            "Requirement already satisfied: srsly<1.1.0,>=0.0.6 in /usr/local/lib/python3.6/dist-packages (from spacy->pytorch-widedeep==0.3.1) (0.2.0)\n",
            "Requirement already satisfied: thinc<7.1.0,>=7.0.8 in /usr/local/lib/python3.6/dist-packages (from spacy->pytorch-widedeep==0.3.1) (7.0.8)\n",
            "Requirement already satisfied: preshed<2.1.0,>=2.0.1 in /usr/local/lib/python3.6/dist-packages (from spacy->pytorch-widedeep==0.3.1) (2.0.1)\n",
            "Requirement already satisfied: murmurhash<1.1.0,>=0.28.0 in /usr/local/lib/python3.6/dist-packages (from spacy->pytorch-widedeep==0.3.1) (1.0.2)\n",
            "Requirement already satisfied: wasabi<1.1.0,>=0.2.0 in /usr/local/lib/python3.6/dist-packages (from spacy->pytorch-widedeep==0.3.1) (0.4.2)\n",
            "Requirement already satisfied: plac<1.0.0,>=0.9.6 in /usr/local/lib/python3.6/dist-packages (from spacy->pytorch-widedeep==0.3.1) (0.9.6)\n",
            "Requirement already satisfied: requests<3.0.0,>=2.13.0 in /usr/local/lib/python3.6/dist-packages (from spacy->pytorch-widedeep==0.3.1) (2.21.0)\n",
            "Requirement already satisfied: pillow>=4.1.1 in /usr/local/lib/python3.6/dist-packages (from torchvision->pytorch-widedeep==0.3.1) (4.3.0)\n",
            "Requirement already satisfied: boto3 in /usr/local/lib/python3.6/dist-packages (from smart-open>=1.2.1->gensim->pytorch-widedeep==0.3.1) (1.10.40)\n",
            "Requirement already satisfied: boto>=2.32 in /usr/local/lib/python3.6/dist-packages (from smart-open>=1.2.1->gensim->pytorch-widedeep==0.3.1) (2.49.0)\n",
            "Requirement already satisfied: urllib3<1.25,>=1.21.1 in /usr/local/lib/python3.6/dist-packages (from requests<3.0.0,>=2.13.0->spacy->pytorch-widedeep==0.3.1) (1.24.3)\n",
            "Requirement already satisfied: idna<2.9,>=2.5 in /usr/local/lib/python3.6/dist-packages (from requests<3.0.0,>=2.13.0->spacy->pytorch-widedeep==0.3.1) (2.8)\n",
            "Requirement already satisfied: chardet<3.1.0,>=3.0.2 in /usr/local/lib/python3.6/dist-packages (from requests<3.0.0,>=2.13.0->spacy->pytorch-widedeep==0.3.1) (3.0.4)\n",
            "Requirement already satisfied: certifi>=2017.4.17 in /usr/local/lib/python3.6/dist-packages (from requests<3.0.0,>=2.13.0->spacy->pytorch-widedeep==0.3.1) (2019.11.28)\n",
            "Requirement already satisfied: olefile in /usr/local/lib/python3.6/dist-packages (from pillow>=4.1.1->torchvision->pytorch-widedeep==0.3.1) (0.46)\n",
            "Requirement already satisfied: s3transfer<0.3.0,>=0.2.0 in /usr/local/lib/python3.6/dist-packages (from boto3->smart-open>=1.2.1->gensim->pytorch-widedeep==0.3.1) (0.2.1)\n",
            "Requirement already satisfied: botocore<1.14.0,>=1.13.40 in /usr/local/lib/python3.6/dist-packages (from boto3->smart-open>=1.2.1->gensim->pytorch-widedeep==0.3.1) (1.13.40)\n",
            "Requirement already satisfied: jmespath<1.0.0,>=0.7.1 in /usr/local/lib/python3.6/dist-packages (from boto3->smart-open>=1.2.1->gensim->pytorch-widedeep==0.3.1) (0.9.4)\n",
            "Requirement already satisfied: docutils<0.16,>=0.10 in /usr/local/lib/python3.6/dist-packages (from botocore<1.14.0,>=1.13.40->boto3->smart-open>=1.2.1->gensim->pytorch-widedeep==0.3.1) (0.15.2)\n",
            "Building wheels for collected packages: pytorch-widedeep\n",
            "  Building wheel for pytorch-widedeep (setup.py) ... \u001b[?25l\u001b[?25hdone\n",
            "  Created wheel for pytorch-widedeep: filename=pytorch_widedeep-0.3.1-cp36-none-any.whl size=45586 sha256=a0eeaea97fdaa6426997f1ae74664a353de003676e3ebc198020c9c8adceaa08\n",
            "  Stored in directory: /tmp/pip-ephem-wheel-cache-ltwhg9c6/wheels/bb/75/8a/93d73b4fbae4f4e2797938197a6c9ca7b386147b5223cd6d8d\n",
            "Successfully built pytorch-widedeep\n",
            "Installing collected packages: pytorch-widedeep\n",
            "Successfully installed pytorch-widedeep-0.3.1\n",
            "Collecting surprise\n",
            "  Downloading https://files.pythonhosted.org/packages/61/de/e5cba8682201fcf9c3719a6fdda95693468ed061945493dea2dd37c5618b/surprise-0.1-py2.py3-none-any.whl\n",
            "Collecting scikit-surprise\n",
            "\u001b[?25l  Downloading https://files.pythonhosted.org/packages/f5/da/b5700d96495fb4f092be497f02492768a3d96a3f4fa2ae7dea46d4081cfa/scikit-surprise-1.1.0.tar.gz (6.4MB)\n",
            "\u001b[K     |████████████████████████████████| 6.5MB 1.7MB/s \n",
            "\u001b[?25hRequirement already satisfied: joblib>=0.11 in /usr/local/lib/python3.6/dist-packages (from scikit-surprise->surprise) (0.14.1)\n",
            "Requirement already satisfied: numpy>=1.11.2 in /usr/local/lib/python3.6/dist-packages (from scikit-surprise->surprise) (1.17.4)\n",
            "Requirement already satisfied: scipy>=1.0.0 in /usr/local/lib/python3.6/dist-packages (from scikit-surprise->surprise) (1.3.3)\n",
            "Requirement already satisfied: six>=1.10.0 in /usr/local/lib/python3.6/dist-packages (from scikit-surprise->surprise) (1.12.0)\n",
            "Building wheels for collected packages: scikit-surprise\n",
            "  Building wheel for scikit-surprise (setup.py) ... \u001b[?25l\u001b[?25hdone\n",
            "  Created wheel for scikit-surprise: filename=scikit_surprise-1.1.0-cp36-cp36m-linux_x86_64.whl size=1678228 sha256=b24296e328a123b5e20e642adbedaae5006372f3f759c7af6d0555993dd8cc69\n",
            "  Stored in directory: /root/.cache/pip/wheels/cc/fa/8c/16c93fccce688ae1bde7d979ff102f7bee980d9cfeb8641bcf\n",
            "Successfully built scikit-surprise\n",
            "Installing collected packages: scikit-surprise, surprise\n",
            "Successfully installed scikit-surprise-1.1.0 surprise-0.1\n",
            "Collecting prince\n",
            "  Downloading https://files.pythonhosted.org/packages/0b/37/8b234580f76ba21a8b4a57d46ed024da19d88b6cfe0d231d27d07261e878/prince-0.6.3-py2.py3-none-any.whl\n",
            "Requirement already satisfied: numpy>=1.16.1 in /usr/local/lib/python3.6/dist-packages (from prince) (1.17.4)\n",
            "Requirement already satisfied: scipy>=1.1.0 in /usr/local/lib/python3.6/dist-packages (from prince) (1.3.3)\n",
            "Requirement already satisfied: pandas>=0.24.0 in /usr/local/lib/python3.6/dist-packages (from prince) (0.25.3)\n",
            "Requirement already satisfied: matplotlib>=3.0.2 in /usr/local/lib/python3.6/dist-packages (from prince) (3.1.2)\n",
            "Requirement already satisfied: scikit-learn>=0.20.1 in /usr/local/lib/python3.6/dist-packages (from prince) (0.21.3)\n",
            "Requirement already satisfied: pytz>=2017.2 in /usr/local/lib/python3.6/dist-packages (from pandas>=0.24.0->prince) (2018.9)\n",
            "Requirement already satisfied: python-dateutil>=2.6.1 in /usr/local/lib/python3.6/dist-packages (from pandas>=0.24.0->prince) (2.6.1)\n",
            "Requirement already satisfied: kiwisolver>=1.0.1 in /usr/local/lib/python3.6/dist-packages (from matplotlib>=3.0.2->prince) (1.1.0)\n",
            "Requirement already satisfied: pyparsing!=2.0.4,!=2.1.2,!=2.1.6,>=2.0.1 in /usr/local/lib/python3.6/dist-packages (from matplotlib>=3.0.2->prince) (2.4.5)\n",
            "Requirement already satisfied: cycler>=0.10 in /usr/local/lib/python3.6/dist-packages (from matplotlib>=3.0.2->prince) (0.10.0)\n",
            "Requirement already satisfied: joblib>=0.11 in /usr/local/lib/python3.6/dist-packages (from scikit-learn>=0.20.1->prince) (0.14.1)\n",
            "Requirement already satisfied: six>=1.5 in /usr/local/lib/python3.6/dist-packages (from python-dateutil>=2.6.1->pandas>=0.24.0->prince) (1.12.0)\n",
            "Requirement already satisfied: setuptools in /usr/local/lib/python3.6/dist-packages (from kiwisolver>=1.0.1->matplotlib>=3.0.2->prince) (42.0.2)\n",
            "Installing collected packages: prince\n",
            "Successfully installed prince-0.6.3\n"
          ],
          "name": "stdout"
        }
      ]
    },
    {
      "cell_type": "code",
      "metadata": {
        "id": "iqgWIym7iAqQ",
        "colab_type": "code",
        "colab": {}
      },
      "source": [
        "import pandas as pd\n",
        "import numpy as np\n",
        "from pytorch_widedeep.preprocessing import WidePreprocessor, DeepPreprocessor\n",
        "from pytorch_widedeep.models import Wide, DeepDense, WideDeep\n",
        "import torch\n",
        "from sklearn.metrics import mean_squared_error \n",
        "from math import sqrt\n",
        "import prince\n",
        "from sklearn.preprocessing import StandardScaler\n",
        "from sklearn.decomposition import PCA"
      ],
      "execution_count": 0,
      "outputs": []
    },
    {
      "cell_type": "code",
      "metadata": {
        "id": "Uxwqs11kiFDi",
        "colab_type": "code",
        "colab": {}
      },
      "source": [
        "#import findspark\n",
        "#findspark.init()\n",
        "import pyspark\n",
        "from pyspark.sql import *\n",
        "from pyspark.sql.functions import *\n",
        "from pyspark.sql import SparkSession\n",
        "spark = SparkSession.builder.master(\"local[*]\").getOrCreate()"
      ],
      "execution_count": 0,
      "outputs": []
    },
    {
      "cell_type": "markdown",
      "metadata": {
        "id": "IVqlUtuaa020",
        "colab_type": "text"
      },
      "source": [
        "Functions to compute the goodness_of_fit and normalize continuous data within a 0-1 range"
      ]
    },
    {
      "cell_type": "code",
      "metadata": {
        "id": "_LdsdfqGmCNw",
        "colab_type": "code",
        "colab": {}
      },
      "source": [
        "def goodness_of_fit(predictions,ratings):\n",
        "    avg = np.mean(ratings)\n",
        "    ss_res = 0\n",
        "    for i in range(len(predictions)):\n",
        "        err = (ratings[i]-predictions[i])**2\n",
        "        ss_res += err\n",
        "    ss_tot = 0\n",
        "    for i in range(len(ratings)):\n",
        "        ss_tot += (ratings[i]-avg)**2\n",
        "    r2 = 1 - (ss_res / ss_tot)\n",
        "    return r2"
      ],
      "execution_count": 0,
      "outputs": []
    },
    {
      "cell_type": "code",
      "metadata": {
        "id": "-viVgDCrazwg",
        "colab_type": "code",
        "colab": {}
      },
      "source": [
        "def normalize(df,cont_cols):\n",
        "    result = df.copy()\n",
        "    for feature_name in cont_cols:\n",
        "        max_value = df[feature_name].max()\n",
        "        min_value = df[feature_name].min()\n",
        "        result[feature_name] = (df[feature_name] - min_value) / (max_value - min_value)\n",
        "    return result"
      ],
      "execution_count": 0,
      "outputs": []
    },
    {
      "cell_type": "code",
      "metadata": {
        "id": "fpSz5LcMiPW6",
        "colab_type": "code",
        "outputId": "93507f5e-d0bf-4771-9361-d057e02e3eeb",
        "colab": {
          "base_uri": "https://localhost:8080/",
          "height": 129
        }
      },
      "source": [
        "# # Load the Drive helper and mount\n",
        "# from google.colab import drive\n",
        "\n",
        "# # This will prompt for authorization.\n",
        "# drive.mount('/content/drive')"
      ],
      "execution_count": 6,
      "outputs": [
        {
          "output_type": "stream",
          "text": [
            "Go to this URL in a browser: https://accounts.google.com/o/oauth2/auth?client_id=947318989803-6bn6qk8qdgf4n4g3pfee6491hc0brc4i.apps.googleusercontent.com&redirect_uri=urn%3aietf%3awg%3aoauth%3a2.0%3aoob&response_type=code&scope=email%20https%3a%2f%2fwww.googleapis.com%2fauth%2fdocs.test%20https%3a%2f%2fwww.googleapis.com%2fauth%2fdrive%20https%3a%2f%2fwww.googleapis.com%2fauth%2fdrive.photos.readonly%20https%3a%2f%2fwww.googleapis.com%2fauth%2fpeopleapi.readonly\n",
            "\n",
            "Enter your authorization code:\n",
            "··········\n",
            "Mounted at /content/drive\n"
          ],
          "name": "stdout"
        }
      ]
    },
    {
      "cell_type": "markdown",
      "metadata": {
        "id": "Kt5sRE14Jn8N",
        "colab_type": "text"
      },
      "source": [
        "### Load the sample"
      ]
    },
    {
      "cell_type": "code",
      "metadata": {
        "id": "TMXLMgMniRrv",
        "colab_type": "code",
        "colab": {}
      },
      "source": [
        "sample_df = pd.read_csv('dataset/yelp_sampledata_user_biz_feat.csv')\n",
        "sample_df = sample_df.drop('Unnamed: 0',axis=1)"
      ],
      "execution_count": 0,
      "outputs": []
    },
    {
      "cell_type": "markdown",
      "metadata": {
        "id": "aMuQKisuaSvT",
        "colab_type": "text"
      },
      "source": [
        "### We only want to build models and make recommendations for businesses that haven't been shut down"
      ]
    },
    {
      "cell_type": "code",
      "metadata": {
        "id": "5RdDPc8gZkU7",
        "colab_type": "code",
        "colab": {}
      },
      "source": [
        "sample_df = sample_df[sample_df['is_open'] == 1]"
      ],
      "execution_count": 0,
      "outputs": []
    },
    {
      "cell_type": "code",
      "metadata": {
        "id": "gkB5ryKXhh_s",
        "colab_type": "code",
        "outputId": "45473fa0-d4be-48f3-c8df-58931405330d",
        "colab": {
          "base_uri": "https://localhost:8080/",
          "height": 412
        }
      },
      "source": [
        "sample_df.head()"
      ],
      "execution_count": 50,
      "outputs": [
        {
          "output_type": "execute_result",
          "data": {
            "text/html": [
              "<div>\n",
              "<style scoped>\n",
              "    .dataframe tbody tr th:only-of-type {\n",
              "        vertical-align: middle;\n",
              "    }\n",
              "\n",
              "    .dataframe tbody tr th {\n",
              "        vertical-align: top;\n",
              "    }\n",
              "\n",
              "    .dataframe thead th {\n",
              "        text-align: right;\n",
              "    }\n",
              "</style>\n",
              "<table border=\"1\" class=\"dataframe\">\n",
              "  <thead>\n",
              "    <tr style=\"text-align: right;\">\n",
              "      <th></th>\n",
              "      <th>user_id</th>\n",
              "      <th>business_id</th>\n",
              "      <th>rating</th>\n",
              "      <th>date</th>\n",
              "      <th>useful</th>\n",
              "      <th>index</th>\n",
              "      <th>biz_stars</th>\n",
              "      <th>biz_rev_ct</th>\n",
              "      <th>state</th>\n",
              "      <th>city</th>\n",
              "      <th>is_open</th>\n",
              "      <th>American (New)</th>\n",
              "      <th>American (Traditional)</th>\n",
              "      <th>Asian Fusion</th>\n",
              "      <th>Bakeries</th>\n",
              "      <th>Barbeque</th>\n",
              "      <th>Bars</th>\n",
              "      <th>Beer</th>\n",
              "      <th>Breakfast &amp; Brunch</th>\n",
              "      <th>Burgers</th>\n",
              "      <th>Cafes</th>\n",
              "      <th>Canadian (New)</th>\n",
              "      <th>Caterers</th>\n",
              "      <th>Chicken Wings</th>\n",
              "      <th>Chinese</th>\n",
              "      <th>Coffee &amp; Tea</th>\n",
              "      <th>Comfort Food</th>\n",
              "      <th>Delis</th>\n",
              "      <th>Desserts</th>\n",
              "      <th>Ethnic Food</th>\n",
              "      <th>Event Planning &amp; Services</th>\n",
              "      <th>Fast Food</th>\n",
              "      <th>Food Delivery Services</th>\n",
              "      <th>Food Trucks</th>\n",
              "      <th>Grocery</th>\n",
              "      <th>Ice Cream &amp; Frozen Yogurt</th>\n",
              "      <th>Italian</th>\n",
              "      <th>Juice Bars &amp; Smoothies</th>\n",
              "      <th>Mexican</th>\n",
              "      <th>Nightlife</th>\n",
              "      <th>...</th>\n",
              "      <th>Specialty Food</th>\n",
              "      <th>Wine &amp; Spirits</th>\n",
              "      <th>avg_stars</th>\n",
              "      <th>fans</th>\n",
              "      <th>American (New)_urating</th>\n",
              "      <th>American (Traditional)_urating</th>\n",
              "      <th>Asian Fusion_urating</th>\n",
              "      <th>Bakeries_urating</th>\n",
              "      <th>Barbeque_urating</th>\n",
              "      <th>Bars_urating</th>\n",
              "      <th>Beer_urating</th>\n",
              "      <th>Breakfast &amp; Brunch_urating</th>\n",
              "      <th>Burgers_urating</th>\n",
              "      <th>Cafes_urating</th>\n",
              "      <th>Canadian (New)_urating</th>\n",
              "      <th>Caterers_urating</th>\n",
              "      <th>Chicken Wings_urating</th>\n",
              "      <th>Chinese_urating</th>\n",
              "      <th>Coffee &amp; Tea_urating</th>\n",
              "      <th>Comfort Food_urating</th>\n",
              "      <th>Delis_urating</th>\n",
              "      <th>Desserts_urating</th>\n",
              "      <th>Ethnic Food_urating</th>\n",
              "      <th>Event Planning &amp; Services_urating</th>\n",
              "      <th>Fast Food_urating</th>\n",
              "      <th>Food Delivery Services_urating</th>\n",
              "      <th>Food Trucks_urating</th>\n",
              "      <th>Grocery_urating</th>\n",
              "      <th>Ice Cream &amp; Frozen Yogurt_urating</th>\n",
              "      <th>Italian_urating</th>\n",
              "      <th>Juice Bars &amp; Smoothies_urating</th>\n",
              "      <th>Mexican_urating</th>\n",
              "      <th>Nightlife_urating</th>\n",
              "      <th>Pizza_urating</th>\n",
              "      <th>Salad_urating</th>\n",
              "      <th>Sandwiches_urating</th>\n",
              "      <th>Seafood_urating</th>\n",
              "      <th>Specialty Food_urating</th>\n",
              "      <th>Wine &amp; Spirits_urating</th>\n",
              "      <th>biz_w_avg</th>\n",
              "    </tr>\n",
              "  </thead>\n",
              "  <tbody>\n",
              "    <tr>\n",
              "      <th>0</th>\n",
              "      <td>39VYc2nWSdvdTCldsDJ7qw</td>\n",
              "      <td>xqocOGl5Hvjc3hb1r_U4xA</td>\n",
              "      <td>5.0</td>\n",
              "      <td>2015-06-12 13:09:11</td>\n",
              "      <td>0</td>\n",
              "      <td>64478</td>\n",
              "      <td>4.0</td>\n",
              "      <td>116</td>\n",
              "      <td>ON</td>\n",
              "      <td>Mississauga</td>\n",
              "      <td>1</td>\n",
              "      <td>0</td>\n",
              "      <td>0</td>\n",
              "      <td>0</td>\n",
              "      <td>0</td>\n",
              "      <td>0</td>\n",
              "      <td>0</td>\n",
              "      <td>0</td>\n",
              "      <td>0</td>\n",
              "      <td>0</td>\n",
              "      <td>0</td>\n",
              "      <td>0</td>\n",
              "      <td>0</td>\n",
              "      <td>0</td>\n",
              "      <td>0</td>\n",
              "      <td>0</td>\n",
              "      <td>0</td>\n",
              "      <td>0</td>\n",
              "      <td>0</td>\n",
              "      <td>0</td>\n",
              "      <td>0</td>\n",
              "      <td>0</td>\n",
              "      <td>0</td>\n",
              "      <td>0</td>\n",
              "      <td>0</td>\n",
              "      <td>0</td>\n",
              "      <td>0</td>\n",
              "      <td>0</td>\n",
              "      <td>0</td>\n",
              "      <td>0</td>\n",
              "      <td>...</td>\n",
              "      <td>0</td>\n",
              "      <td>0</td>\n",
              "      <td>3.73</td>\n",
              "      <td>13</td>\n",
              "      <td>0</td>\n",
              "      <td>2</td>\n",
              "      <td>2</td>\n",
              "      <td>1</td>\n",
              "      <td>1</td>\n",
              "      <td>2</td>\n",
              "      <td>1</td>\n",
              "      <td>4</td>\n",
              "      <td>2</td>\n",
              "      <td>3</td>\n",
              "      <td>0</td>\n",
              "      <td>3</td>\n",
              "      <td>0</td>\n",
              "      <td>5</td>\n",
              "      <td>1</td>\n",
              "      <td>2</td>\n",
              "      <td>0</td>\n",
              "      <td>5</td>\n",
              "      <td>4</td>\n",
              "      <td>3</td>\n",
              "      <td>2</td>\n",
              "      <td>0</td>\n",
              "      <td>0</td>\n",
              "      <td>0</td>\n",
              "      <td>0</td>\n",
              "      <td>3</td>\n",
              "      <td>1</td>\n",
              "      <td>1</td>\n",
              "      <td>2</td>\n",
              "      <td>1</td>\n",
              "      <td>3</td>\n",
              "      <td>3</td>\n",
              "      <td>0</td>\n",
              "      <td>4</td>\n",
              "      <td>1</td>\n",
              "      <td>4.042373</td>\n",
              "    </tr>\n",
              "    <tr>\n",
              "      <th>1</th>\n",
              "      <td>X4cwQL_JZZnAUyCbOwz3pw</td>\n",
              "      <td>xqocOGl5Hvjc3hb1r_U4xA</td>\n",
              "      <td>3.0</td>\n",
              "      <td>2014-05-01 19:03:06</td>\n",
              "      <td>0</td>\n",
              "      <td>64478</td>\n",
              "      <td>4.0</td>\n",
              "      <td>116</td>\n",
              "      <td>ON</td>\n",
              "      <td>Mississauga</td>\n",
              "      <td>1</td>\n",
              "      <td>0</td>\n",
              "      <td>0</td>\n",
              "      <td>0</td>\n",
              "      <td>0</td>\n",
              "      <td>0</td>\n",
              "      <td>0</td>\n",
              "      <td>0</td>\n",
              "      <td>0</td>\n",
              "      <td>0</td>\n",
              "      <td>0</td>\n",
              "      <td>0</td>\n",
              "      <td>0</td>\n",
              "      <td>0</td>\n",
              "      <td>0</td>\n",
              "      <td>0</td>\n",
              "      <td>0</td>\n",
              "      <td>0</td>\n",
              "      <td>0</td>\n",
              "      <td>0</td>\n",
              "      <td>0</td>\n",
              "      <td>0</td>\n",
              "      <td>0</td>\n",
              "      <td>0</td>\n",
              "      <td>0</td>\n",
              "      <td>0</td>\n",
              "      <td>0</td>\n",
              "      <td>0</td>\n",
              "      <td>0</td>\n",
              "      <td>0</td>\n",
              "      <td>...</td>\n",
              "      <td>0</td>\n",
              "      <td>0</td>\n",
              "      <td>3.74</td>\n",
              "      <td>37</td>\n",
              "      <td>2</td>\n",
              "      <td>10</td>\n",
              "      <td>1</td>\n",
              "      <td>16</td>\n",
              "      <td>2</td>\n",
              "      <td>2</td>\n",
              "      <td>4</td>\n",
              "      <td>7</td>\n",
              "      <td>9</td>\n",
              "      <td>8</td>\n",
              "      <td>4</td>\n",
              "      <td>4</td>\n",
              "      <td>8</td>\n",
              "      <td>7</td>\n",
              "      <td>14</td>\n",
              "      <td>5</td>\n",
              "      <td>6</td>\n",
              "      <td>4</td>\n",
              "      <td>11</td>\n",
              "      <td>6</td>\n",
              "      <td>28</td>\n",
              "      <td>2</td>\n",
              "      <td>0</td>\n",
              "      <td>2</td>\n",
              "      <td>3</td>\n",
              "      <td>13</td>\n",
              "      <td>2</td>\n",
              "      <td>5</td>\n",
              "      <td>2</td>\n",
              "      <td>1</td>\n",
              "      <td>1</td>\n",
              "      <td>7</td>\n",
              "      <td>1</td>\n",
              "      <td>16</td>\n",
              "      <td>4</td>\n",
              "      <td>4.042373</td>\n",
              "    </tr>\n",
              "    <tr>\n",
              "      <th>2</th>\n",
              "      <td>X4cwQL_JZZnAUyCbOwz3pw</td>\n",
              "      <td>xqocOGl5Hvjc3hb1r_U4xA</td>\n",
              "      <td>4.0</td>\n",
              "      <td>2017-11-29 22:37:33</td>\n",
              "      <td>4</td>\n",
              "      <td>64478</td>\n",
              "      <td>4.0</td>\n",
              "      <td>116</td>\n",
              "      <td>ON</td>\n",
              "      <td>Mississauga</td>\n",
              "      <td>1</td>\n",
              "      <td>0</td>\n",
              "      <td>0</td>\n",
              "      <td>0</td>\n",
              "      <td>0</td>\n",
              "      <td>0</td>\n",
              "      <td>0</td>\n",
              "      <td>0</td>\n",
              "      <td>0</td>\n",
              "      <td>0</td>\n",
              "      <td>0</td>\n",
              "      <td>0</td>\n",
              "      <td>0</td>\n",
              "      <td>0</td>\n",
              "      <td>0</td>\n",
              "      <td>0</td>\n",
              "      <td>0</td>\n",
              "      <td>0</td>\n",
              "      <td>0</td>\n",
              "      <td>0</td>\n",
              "      <td>0</td>\n",
              "      <td>0</td>\n",
              "      <td>0</td>\n",
              "      <td>0</td>\n",
              "      <td>0</td>\n",
              "      <td>0</td>\n",
              "      <td>0</td>\n",
              "      <td>0</td>\n",
              "      <td>0</td>\n",
              "      <td>0</td>\n",
              "      <td>...</td>\n",
              "      <td>0</td>\n",
              "      <td>0</td>\n",
              "      <td>3.74</td>\n",
              "      <td>37</td>\n",
              "      <td>2</td>\n",
              "      <td>10</td>\n",
              "      <td>1</td>\n",
              "      <td>16</td>\n",
              "      <td>2</td>\n",
              "      <td>2</td>\n",
              "      <td>4</td>\n",
              "      <td>7</td>\n",
              "      <td>9</td>\n",
              "      <td>8</td>\n",
              "      <td>4</td>\n",
              "      <td>4</td>\n",
              "      <td>8</td>\n",
              "      <td>7</td>\n",
              "      <td>14</td>\n",
              "      <td>5</td>\n",
              "      <td>6</td>\n",
              "      <td>4</td>\n",
              "      <td>11</td>\n",
              "      <td>6</td>\n",
              "      <td>28</td>\n",
              "      <td>2</td>\n",
              "      <td>0</td>\n",
              "      <td>2</td>\n",
              "      <td>3</td>\n",
              "      <td>13</td>\n",
              "      <td>2</td>\n",
              "      <td>5</td>\n",
              "      <td>2</td>\n",
              "      <td>1</td>\n",
              "      <td>1</td>\n",
              "      <td>7</td>\n",
              "      <td>1</td>\n",
              "      <td>16</td>\n",
              "      <td>4</td>\n",
              "      <td>4.042373</td>\n",
              "    </tr>\n",
              "    <tr>\n",
              "      <th>3</th>\n",
              "      <td>X4cwQL_JZZnAUyCbOwz3pw</td>\n",
              "      <td>xqocOGl5Hvjc3hb1r_U4xA</td>\n",
              "      <td>2.0</td>\n",
              "      <td>2011-03-28 04:36:34</td>\n",
              "      <td>0</td>\n",
              "      <td>64478</td>\n",
              "      <td>4.0</td>\n",
              "      <td>116</td>\n",
              "      <td>ON</td>\n",
              "      <td>Mississauga</td>\n",
              "      <td>1</td>\n",
              "      <td>0</td>\n",
              "      <td>0</td>\n",
              "      <td>0</td>\n",
              "      <td>0</td>\n",
              "      <td>0</td>\n",
              "      <td>0</td>\n",
              "      <td>0</td>\n",
              "      <td>0</td>\n",
              "      <td>0</td>\n",
              "      <td>0</td>\n",
              "      <td>0</td>\n",
              "      <td>0</td>\n",
              "      <td>0</td>\n",
              "      <td>0</td>\n",
              "      <td>0</td>\n",
              "      <td>0</td>\n",
              "      <td>0</td>\n",
              "      <td>0</td>\n",
              "      <td>0</td>\n",
              "      <td>0</td>\n",
              "      <td>0</td>\n",
              "      <td>0</td>\n",
              "      <td>0</td>\n",
              "      <td>0</td>\n",
              "      <td>0</td>\n",
              "      <td>0</td>\n",
              "      <td>0</td>\n",
              "      <td>0</td>\n",
              "      <td>0</td>\n",
              "      <td>...</td>\n",
              "      <td>0</td>\n",
              "      <td>0</td>\n",
              "      <td>3.74</td>\n",
              "      <td>37</td>\n",
              "      <td>2</td>\n",
              "      <td>10</td>\n",
              "      <td>1</td>\n",
              "      <td>16</td>\n",
              "      <td>2</td>\n",
              "      <td>2</td>\n",
              "      <td>4</td>\n",
              "      <td>7</td>\n",
              "      <td>9</td>\n",
              "      <td>8</td>\n",
              "      <td>4</td>\n",
              "      <td>4</td>\n",
              "      <td>8</td>\n",
              "      <td>7</td>\n",
              "      <td>14</td>\n",
              "      <td>5</td>\n",
              "      <td>6</td>\n",
              "      <td>4</td>\n",
              "      <td>11</td>\n",
              "      <td>6</td>\n",
              "      <td>28</td>\n",
              "      <td>2</td>\n",
              "      <td>0</td>\n",
              "      <td>2</td>\n",
              "      <td>3</td>\n",
              "      <td>13</td>\n",
              "      <td>2</td>\n",
              "      <td>5</td>\n",
              "      <td>2</td>\n",
              "      <td>1</td>\n",
              "      <td>1</td>\n",
              "      <td>7</td>\n",
              "      <td>1</td>\n",
              "      <td>16</td>\n",
              "      <td>4</td>\n",
              "      <td>4.042373</td>\n",
              "    </tr>\n",
              "    <tr>\n",
              "      <th>4</th>\n",
              "      <td>hiCEt6RVMW7kc4pnFDjjXQ</td>\n",
              "      <td>xqocOGl5Hvjc3hb1r_U4xA</td>\n",
              "      <td>4.0</td>\n",
              "      <td>2017-12-13 22:28:31</td>\n",
              "      <td>0</td>\n",
              "      <td>64478</td>\n",
              "      <td>4.0</td>\n",
              "      <td>116</td>\n",
              "      <td>ON</td>\n",
              "      <td>Mississauga</td>\n",
              "      <td>1</td>\n",
              "      <td>0</td>\n",
              "      <td>0</td>\n",
              "      <td>0</td>\n",
              "      <td>0</td>\n",
              "      <td>0</td>\n",
              "      <td>0</td>\n",
              "      <td>0</td>\n",
              "      <td>0</td>\n",
              "      <td>0</td>\n",
              "      <td>0</td>\n",
              "      <td>0</td>\n",
              "      <td>0</td>\n",
              "      <td>0</td>\n",
              "      <td>0</td>\n",
              "      <td>0</td>\n",
              "      <td>0</td>\n",
              "      <td>0</td>\n",
              "      <td>0</td>\n",
              "      <td>0</td>\n",
              "      <td>0</td>\n",
              "      <td>0</td>\n",
              "      <td>0</td>\n",
              "      <td>0</td>\n",
              "      <td>0</td>\n",
              "      <td>0</td>\n",
              "      <td>0</td>\n",
              "      <td>0</td>\n",
              "      <td>0</td>\n",
              "      <td>0</td>\n",
              "      <td>...</td>\n",
              "      <td>0</td>\n",
              "      <td>0</td>\n",
              "      <td>3.80</td>\n",
              "      <td>5</td>\n",
              "      <td>0</td>\n",
              "      <td>6</td>\n",
              "      <td>0</td>\n",
              "      <td>3</td>\n",
              "      <td>0</td>\n",
              "      <td>0</td>\n",
              "      <td>0</td>\n",
              "      <td>3</td>\n",
              "      <td>6</td>\n",
              "      <td>1</td>\n",
              "      <td>2</td>\n",
              "      <td>1</td>\n",
              "      <td>2</td>\n",
              "      <td>1</td>\n",
              "      <td>4</td>\n",
              "      <td>2</td>\n",
              "      <td>0</td>\n",
              "      <td>0</td>\n",
              "      <td>1</td>\n",
              "      <td>1</td>\n",
              "      <td>10</td>\n",
              "      <td>0</td>\n",
              "      <td>0</td>\n",
              "      <td>0</td>\n",
              "      <td>1</td>\n",
              "      <td>0</td>\n",
              "      <td>0</td>\n",
              "      <td>1</td>\n",
              "      <td>0</td>\n",
              "      <td>0</td>\n",
              "      <td>0</td>\n",
              "      <td>3</td>\n",
              "      <td>0</td>\n",
              "      <td>1</td>\n",
              "      <td>0</td>\n",
              "      <td>4.042373</td>\n",
              "    </tr>\n",
              "  </tbody>\n",
              "</table>\n",
              "<p>5 rows × 84 columns</p>\n",
              "</div>"
            ],
            "text/plain": [
              "                  user_id  ... biz_w_avg\n",
              "0  39VYc2nWSdvdTCldsDJ7qw  ...  4.042373\n",
              "1  X4cwQL_JZZnAUyCbOwz3pw  ...  4.042373\n",
              "2  X4cwQL_JZZnAUyCbOwz3pw  ...  4.042373\n",
              "3  X4cwQL_JZZnAUyCbOwz3pw  ...  4.042373\n",
              "4  hiCEt6RVMW7kc4pnFDjjXQ  ...  4.042373\n",
              "\n",
              "[5 rows x 84 columns]"
            ]
          },
          "metadata": {
            "tags": []
          },
          "execution_count": 50
        }
      ]
    },
    {
      "cell_type": "markdown",
      "metadata": {
        "id": "83pM0OubKBlT",
        "colab_type": "text"
      },
      "source": [
        "### Getting a list of our features - multi-hot encoding of categories of a business for the wide component, and the number of times the user has rated each of these categories for the deep component."
      ]
    },
    {
      "cell_type": "code",
      "metadata": {
        "id": "g1LqIeBAiX1J",
        "colab_type": "code",
        "colab": {}
      },
      "source": [
        "cat_cols = list(sample_df.columns[11:46])\n",
        "cont_cols = list(sample_df.columns[48:83])"
      ],
      "execution_count": 0,
      "outputs": []
    },
    {
      "cell_type": "markdown",
      "metadata": {
        "id": "CRRpEwV7KaM4",
        "colab_type": "text"
      },
      "source": [
        "### Giving each user_id and business id a unique number for the ALS baseline and merging with the ratings dataset"
      ]
    },
    {
      "cell_type": "code",
      "metadata": {
        "id": "ZQPT325FiaHj",
        "colab_type": "code",
        "outputId": "bde7598b-62a2-4cf4-8015-9a3941455736",
        "colab": {
          "base_uri": "https://localhost:8080/",
          "height": 206
        }
      },
      "source": [
        "users_ids = list(set(sample_df['user_id']))\n",
        "num_id = [i for i in range(len(users_ids))]\n",
        "users_dict = {'user_id':users_ids,'user_id_num':num_id}\n",
        "users_df = pd.DataFrame(users_dict)\n",
        "users_df.head()"
      ],
      "execution_count": 52,
      "outputs": [
        {
          "output_type": "execute_result",
          "data": {
            "text/html": [
              "<div>\n",
              "<style scoped>\n",
              "    .dataframe tbody tr th:only-of-type {\n",
              "        vertical-align: middle;\n",
              "    }\n",
              "\n",
              "    .dataframe tbody tr th {\n",
              "        vertical-align: top;\n",
              "    }\n",
              "\n",
              "    .dataframe thead th {\n",
              "        text-align: right;\n",
              "    }\n",
              "</style>\n",
              "<table border=\"1\" class=\"dataframe\">\n",
              "  <thead>\n",
              "    <tr style=\"text-align: right;\">\n",
              "      <th></th>\n",
              "      <th>user_id</th>\n",
              "      <th>user_id_num</th>\n",
              "    </tr>\n",
              "  </thead>\n",
              "  <tbody>\n",
              "    <tr>\n",
              "      <th>0</th>\n",
              "      <td>PwItHyTNp7zzEm1Rm8NFfw</td>\n",
              "      <td>0</td>\n",
              "    </tr>\n",
              "    <tr>\n",
              "      <th>1</th>\n",
              "      <td>tLq1YP87NW0W_gKo28GitA</td>\n",
              "      <td>1</td>\n",
              "    </tr>\n",
              "    <tr>\n",
              "      <th>2</th>\n",
              "      <td>8al9K4EnKfvxcOC2OsD17w</td>\n",
              "      <td>2</td>\n",
              "    </tr>\n",
              "    <tr>\n",
              "      <th>3</th>\n",
              "      <td>QRmQGgtoHBtBGA5NO9ns0g</td>\n",
              "      <td>3</td>\n",
              "    </tr>\n",
              "    <tr>\n",
              "      <th>4</th>\n",
              "      <td>NdHGV2JmZmhYG1tSCRwrBg</td>\n",
              "      <td>4</td>\n",
              "    </tr>\n",
              "  </tbody>\n",
              "</table>\n",
              "</div>"
            ],
            "text/plain": [
              "                  user_id  user_id_num\n",
              "0  PwItHyTNp7zzEm1Rm8NFfw            0\n",
              "1  tLq1YP87NW0W_gKo28GitA            1\n",
              "2  8al9K4EnKfvxcOC2OsD17w            2\n",
              "3  QRmQGgtoHBtBGA5NO9ns0g            3\n",
              "4  NdHGV2JmZmhYG1tSCRwrBg            4"
            ]
          },
          "metadata": {
            "tags": []
          },
          "execution_count": 52
        }
      ]
    },
    {
      "cell_type": "code",
      "metadata": {
        "id": "BOq9NV1OicdV",
        "colab_type": "code",
        "colab": {}
      },
      "source": [
        "sample_df = sample_df.merge(users_df)"
      ],
      "execution_count": 0,
      "outputs": []
    },
    {
      "cell_type": "code",
      "metadata": {
        "id": "IlZuE5E-ieLy",
        "colab_type": "code",
        "outputId": "0f281e69-b588-4e00-99e1-76b4776d6791",
        "colab": {
          "base_uri": "https://localhost:8080/",
          "height": 206
        }
      },
      "source": [
        "biz_ids = list(set(sample_df['business_id']))\n",
        "num_id_biz = [i for i in range(len(biz_ids))]\n",
        "biz_dict = {'business_id':biz_ids,'business_id_num':num_id_biz}\n",
        "biz_df = pd.DataFrame(biz_dict)\n",
        "biz_df.head()"
      ],
      "execution_count": 54,
      "outputs": [
        {
          "output_type": "execute_result",
          "data": {
            "text/html": [
              "<div>\n",
              "<style scoped>\n",
              "    .dataframe tbody tr th:only-of-type {\n",
              "        vertical-align: middle;\n",
              "    }\n",
              "\n",
              "    .dataframe tbody tr th {\n",
              "        vertical-align: top;\n",
              "    }\n",
              "\n",
              "    .dataframe thead th {\n",
              "        text-align: right;\n",
              "    }\n",
              "</style>\n",
              "<table border=\"1\" class=\"dataframe\">\n",
              "  <thead>\n",
              "    <tr style=\"text-align: right;\">\n",
              "      <th></th>\n",
              "      <th>business_id</th>\n",
              "      <th>business_id_num</th>\n",
              "    </tr>\n",
              "  </thead>\n",
              "  <tbody>\n",
              "    <tr>\n",
              "      <th>0</th>\n",
              "      <td>DuDZ4FZ_UxGQ-3GPuk8iJw</td>\n",
              "      <td>0</td>\n",
              "    </tr>\n",
              "    <tr>\n",
              "      <th>1</th>\n",
              "      <td>GQOvHuqaFMLZQ1-EfFEJnw</td>\n",
              "      <td>1</td>\n",
              "    </tr>\n",
              "    <tr>\n",
              "      <th>2</th>\n",
              "      <td>4Z7MEDgJU6kjCcJA4mfQeQ</td>\n",
              "      <td>2</td>\n",
              "    </tr>\n",
              "    <tr>\n",
              "      <th>3</th>\n",
              "      <td>qtsIl9bBtsbxIGK5Zf_F-g</td>\n",
              "      <td>3</td>\n",
              "    </tr>\n",
              "    <tr>\n",
              "      <th>4</th>\n",
              "      <td>Ss37i4feOgX1N3Z_h5wy9A</td>\n",
              "      <td>4</td>\n",
              "    </tr>\n",
              "  </tbody>\n",
              "</table>\n",
              "</div>"
            ],
            "text/plain": [
              "              business_id  business_id_num\n",
              "0  DuDZ4FZ_UxGQ-3GPuk8iJw                0\n",
              "1  GQOvHuqaFMLZQ1-EfFEJnw                1\n",
              "2  4Z7MEDgJU6kjCcJA4mfQeQ                2\n",
              "3  qtsIl9bBtsbxIGK5Zf_F-g                3\n",
              "4  Ss37i4feOgX1N3Z_h5wy9A                4"
            ]
          },
          "metadata": {
            "tags": []
          },
          "execution_count": 54
        }
      ]
    },
    {
      "cell_type": "code",
      "metadata": {
        "id": "22P4Fkk9igUR",
        "colab_type": "code",
        "colab": {}
      },
      "source": [
        "sample_df = sample_df.merge(biz_df)"
      ],
      "execution_count": 0,
      "outputs": []
    },
    {
      "cell_type": "markdown",
      "metadata": {
        "id": "9yMtFXdhLOHC",
        "colab_type": "text"
      },
      "source": [
        "### Sorting the reviews for each user by date, and picking the last review of each user for the test set and the rest for training set"
      ]
    },
    {
      "cell_type": "code",
      "metadata": {
        "id": "Ua3F3c-biiIh",
        "colab_type": "code",
        "colab": {}
      },
      "source": [
        "sorted_sample = sample_df.groupby([\"user_id\"]).apply(pd.DataFrame.sort_values, 'date').reset_index(drop=True)"
      ],
      "execution_count": 0,
      "outputs": []
    },
    {
      "cell_type": "code",
      "metadata": {
        "id": "zht2y3KBtrBL",
        "colab_type": "code",
        "colab": {}
      },
      "source": [
        "test = sorted_sample.groupby([\"user_id\"]).tail(1)\n",
        "train = pd.concat([sample_df, test, test]).drop_duplicates(keep=False)"
      ],
      "execution_count": 0,
      "outputs": []
    },
    {
      "cell_type": "markdown",
      "metadata": {
        "id": "jhvzX9SSLvEe",
        "colab_type": "text"
      },
      "source": [
        "### Pick a sample of 500 business' from the test dataset for testing the recommendations and evalutating the coverage (making predictions for all every business was not feasible)"
      ]
    },
    {
      "cell_type": "code",
      "metadata": {
        "id": "U8J8Vt_AtsBJ",
        "colab_type": "code",
        "colab": {}
      },
      "source": [
        "test_city = test[['business_id']].drop_duplicates()\n",
        "test_city = test_city.sample(n=500,random_state = 69)"
      ],
      "execution_count": 0,
      "outputs": []
    },
    {
      "cell_type": "markdown",
      "metadata": {
        "id": "Vkcvhh10M38Q",
        "colab_type": "text"
      },
      "source": [
        "### Create a dataset of future predictions to be made by performing the following steps:  \n",
        "### 1) Assign to each user a city, which is the most frequently occurring city on his last 5 visits   \n",
        "### 2) For each user select select those businesses in his city to make predictions  \n",
        "### 3) Remove those user-business combinations which the user has already rated"
      ]
    },
    {
      "cell_type": "code",
      "metadata": {
        "id": "3ui1VpcUimZ0",
        "colab_type": "code",
        "colab": {}
      },
      "source": [
        "pred_data = sorted_sample.groupby([\"user_id\"]).tail(5)\n",
        "user_city = pred_data.groupby(['user_id'])['city'].apply(lambda x: x.value_counts().index[0]).reset_index()\n",
        "biz_city = sample_df[['business_id','city']].drop_duplicates()\n",
        "biz_city = biz_city.merge(test_city)\n",
        "user_business_pred = user_city.merge(biz_city)\n",
        "user_business_pred = user_business_pred.drop(columns = ['city'])"
      ],
      "execution_count": 0,
      "outputs": []
    },
    {
      "cell_type": "code",
      "metadata": {
        "id": "utSU2OSijALg",
        "colab_type": "code",
        "colab": {}
      },
      "source": [
        "already_reviewed = sample_df[['user_id','business_id']]\n",
        "not_reviewed_sample = pd.concat([user_business_pred, already_reviewed, already_reviewed]).drop_duplicates(keep=False)"
      ],
      "execution_count": 0,
      "outputs": []
    },
    {
      "cell_type": "markdown",
      "metadata": {
        "id": "IzwmzCcSQ4CC",
        "colab_type": "text"
      },
      "source": [
        "### For the future prediction dataset, add user and business information which will be used by the model"
      ]
    },
    {
      "cell_type": "code",
      "metadata": {
        "id": "V_AN94c8i470",
        "colab_type": "code",
        "outputId": "0706a9d4-4c96-460f-ae19-66df589f4530",
        "colab": {
          "base_uri": "https://localhost:8080/",
          "height": 261
        }
      },
      "source": [
        "user_cols = ['user_id','user_id_num','avg_stars','fans']\n",
        "user_cols.extend(cont_cols)\n",
        "user_sub  = sample_df[user_cols].drop_duplicates()\n",
        "not_reviewed_sample = not_reviewed_sample.merge(user_sub)\n",
        "not_reviewed_sample.head()"
      ],
      "execution_count": 61,
      "outputs": [
        {
          "output_type": "execute_result",
          "data": {
            "text/html": [
              "<div>\n",
              "<style scoped>\n",
              "    .dataframe tbody tr th:only-of-type {\n",
              "        vertical-align: middle;\n",
              "    }\n",
              "\n",
              "    .dataframe tbody tr th {\n",
              "        vertical-align: top;\n",
              "    }\n",
              "\n",
              "    .dataframe thead th {\n",
              "        text-align: right;\n",
              "    }\n",
              "</style>\n",
              "<table border=\"1\" class=\"dataframe\">\n",
              "  <thead>\n",
              "    <tr style=\"text-align: right;\">\n",
              "      <th></th>\n",
              "      <th>user_id</th>\n",
              "      <th>business_id</th>\n",
              "      <th>user_id_num</th>\n",
              "      <th>avg_stars</th>\n",
              "      <th>fans</th>\n",
              "      <th>American (New)_urating</th>\n",
              "      <th>American (Traditional)_urating</th>\n",
              "      <th>Asian Fusion_urating</th>\n",
              "      <th>Bakeries_urating</th>\n",
              "      <th>Barbeque_urating</th>\n",
              "      <th>Bars_urating</th>\n",
              "      <th>Beer_urating</th>\n",
              "      <th>Breakfast &amp; Brunch_urating</th>\n",
              "      <th>Burgers_urating</th>\n",
              "      <th>Cafes_urating</th>\n",
              "      <th>Canadian (New)_urating</th>\n",
              "      <th>Caterers_urating</th>\n",
              "      <th>Chicken Wings_urating</th>\n",
              "      <th>Chinese_urating</th>\n",
              "      <th>Coffee &amp; Tea_urating</th>\n",
              "      <th>Comfort Food_urating</th>\n",
              "      <th>Delis_urating</th>\n",
              "      <th>Desserts_urating</th>\n",
              "      <th>Ethnic Food_urating</th>\n",
              "      <th>Event Planning &amp; Services_urating</th>\n",
              "      <th>Fast Food_urating</th>\n",
              "      <th>Food Delivery Services_urating</th>\n",
              "      <th>Food Trucks_urating</th>\n",
              "      <th>Grocery_urating</th>\n",
              "      <th>Ice Cream &amp; Frozen Yogurt_urating</th>\n",
              "      <th>Italian_urating</th>\n",
              "      <th>Juice Bars &amp; Smoothies_urating</th>\n",
              "      <th>Mexican_urating</th>\n",
              "      <th>Nightlife_urating</th>\n",
              "      <th>Pizza_urating</th>\n",
              "      <th>Salad_urating</th>\n",
              "      <th>Sandwiches_urating</th>\n",
              "      <th>Seafood_urating</th>\n",
              "      <th>Specialty Food_urating</th>\n",
              "      <th>Wine &amp; Spirits_urating</th>\n",
              "    </tr>\n",
              "  </thead>\n",
              "  <tbody>\n",
              "    <tr>\n",
              "      <th>0</th>\n",
              "      <td>---1lKK3aKOuomHnwAkAow</td>\n",
              "      <td>po0p6NIro0cDrmKkcyPy0w</td>\n",
              "      <td>6027</td>\n",
              "      <td>3.92</td>\n",
              "      <td>16</td>\n",
              "      <td>8</td>\n",
              "      <td>3</td>\n",
              "      <td>1</td>\n",
              "      <td>2</td>\n",
              "      <td>0</td>\n",
              "      <td>5</td>\n",
              "      <td>1</td>\n",
              "      <td>6</td>\n",
              "      <td>2</td>\n",
              "      <td>4</td>\n",
              "      <td>0</td>\n",
              "      <td>0</td>\n",
              "      <td>0</td>\n",
              "      <td>0</td>\n",
              "      <td>4</td>\n",
              "      <td>0</td>\n",
              "      <td>0</td>\n",
              "      <td>2</td>\n",
              "      <td>0</td>\n",
              "      <td>0</td>\n",
              "      <td>0</td>\n",
              "      <td>0</td>\n",
              "      <td>0</td>\n",
              "      <td>0</td>\n",
              "      <td>1</td>\n",
              "      <td>3</td>\n",
              "      <td>4</td>\n",
              "      <td>0</td>\n",
              "      <td>5</td>\n",
              "      <td>2</td>\n",
              "      <td>0</td>\n",
              "      <td>5</td>\n",
              "      <td>3</td>\n",
              "      <td>2</td>\n",
              "      <td>1</td>\n",
              "    </tr>\n",
              "    <tr>\n",
              "      <th>1</th>\n",
              "      <td>---1lKK3aKOuomHnwAkAow</td>\n",
              "      <td>BcW7Z9lPmOB_8eS2lEuOqQ</td>\n",
              "      <td>6027</td>\n",
              "      <td>3.92</td>\n",
              "      <td>16</td>\n",
              "      <td>8</td>\n",
              "      <td>3</td>\n",
              "      <td>1</td>\n",
              "      <td>2</td>\n",
              "      <td>0</td>\n",
              "      <td>5</td>\n",
              "      <td>1</td>\n",
              "      <td>6</td>\n",
              "      <td>2</td>\n",
              "      <td>4</td>\n",
              "      <td>0</td>\n",
              "      <td>0</td>\n",
              "      <td>0</td>\n",
              "      <td>0</td>\n",
              "      <td>4</td>\n",
              "      <td>0</td>\n",
              "      <td>0</td>\n",
              "      <td>2</td>\n",
              "      <td>0</td>\n",
              "      <td>0</td>\n",
              "      <td>0</td>\n",
              "      <td>0</td>\n",
              "      <td>0</td>\n",
              "      <td>0</td>\n",
              "      <td>1</td>\n",
              "      <td>3</td>\n",
              "      <td>4</td>\n",
              "      <td>0</td>\n",
              "      <td>5</td>\n",
              "      <td>2</td>\n",
              "      <td>0</td>\n",
              "      <td>5</td>\n",
              "      <td>3</td>\n",
              "      <td>2</td>\n",
              "      <td>1</td>\n",
              "    </tr>\n",
              "    <tr>\n",
              "      <th>2</th>\n",
              "      <td>---1lKK3aKOuomHnwAkAow</td>\n",
              "      <td>rioQ_p2pILNbJ4Xp5jW6-Q</td>\n",
              "      <td>6027</td>\n",
              "      <td>3.92</td>\n",
              "      <td>16</td>\n",
              "      <td>8</td>\n",
              "      <td>3</td>\n",
              "      <td>1</td>\n",
              "      <td>2</td>\n",
              "      <td>0</td>\n",
              "      <td>5</td>\n",
              "      <td>1</td>\n",
              "      <td>6</td>\n",
              "      <td>2</td>\n",
              "      <td>4</td>\n",
              "      <td>0</td>\n",
              "      <td>0</td>\n",
              "      <td>0</td>\n",
              "      <td>0</td>\n",
              "      <td>4</td>\n",
              "      <td>0</td>\n",
              "      <td>0</td>\n",
              "      <td>2</td>\n",
              "      <td>0</td>\n",
              "      <td>0</td>\n",
              "      <td>0</td>\n",
              "      <td>0</td>\n",
              "      <td>0</td>\n",
              "      <td>0</td>\n",
              "      <td>1</td>\n",
              "      <td>3</td>\n",
              "      <td>4</td>\n",
              "      <td>0</td>\n",
              "      <td>5</td>\n",
              "      <td>2</td>\n",
              "      <td>0</td>\n",
              "      <td>5</td>\n",
              "      <td>3</td>\n",
              "      <td>2</td>\n",
              "      <td>1</td>\n",
              "    </tr>\n",
              "    <tr>\n",
              "      <th>3</th>\n",
              "      <td>---1lKK3aKOuomHnwAkAow</td>\n",
              "      <td>-a857YYdjzgOdOjFFRsRXQ</td>\n",
              "      <td>6027</td>\n",
              "      <td>3.92</td>\n",
              "      <td>16</td>\n",
              "      <td>8</td>\n",
              "      <td>3</td>\n",
              "      <td>1</td>\n",
              "      <td>2</td>\n",
              "      <td>0</td>\n",
              "      <td>5</td>\n",
              "      <td>1</td>\n",
              "      <td>6</td>\n",
              "      <td>2</td>\n",
              "      <td>4</td>\n",
              "      <td>0</td>\n",
              "      <td>0</td>\n",
              "      <td>0</td>\n",
              "      <td>0</td>\n",
              "      <td>4</td>\n",
              "      <td>0</td>\n",
              "      <td>0</td>\n",
              "      <td>2</td>\n",
              "      <td>0</td>\n",
              "      <td>0</td>\n",
              "      <td>0</td>\n",
              "      <td>0</td>\n",
              "      <td>0</td>\n",
              "      <td>0</td>\n",
              "      <td>1</td>\n",
              "      <td>3</td>\n",
              "      <td>4</td>\n",
              "      <td>0</td>\n",
              "      <td>5</td>\n",
              "      <td>2</td>\n",
              "      <td>0</td>\n",
              "      <td>5</td>\n",
              "      <td>3</td>\n",
              "      <td>2</td>\n",
              "      <td>1</td>\n",
              "    </tr>\n",
              "    <tr>\n",
              "      <th>4</th>\n",
              "      <td>---1lKK3aKOuomHnwAkAow</td>\n",
              "      <td>rt-aQTkNfILbxBuATdJ1dA</td>\n",
              "      <td>6027</td>\n",
              "      <td>3.92</td>\n",
              "      <td>16</td>\n",
              "      <td>8</td>\n",
              "      <td>3</td>\n",
              "      <td>1</td>\n",
              "      <td>2</td>\n",
              "      <td>0</td>\n",
              "      <td>5</td>\n",
              "      <td>1</td>\n",
              "      <td>6</td>\n",
              "      <td>2</td>\n",
              "      <td>4</td>\n",
              "      <td>0</td>\n",
              "      <td>0</td>\n",
              "      <td>0</td>\n",
              "      <td>0</td>\n",
              "      <td>4</td>\n",
              "      <td>0</td>\n",
              "      <td>0</td>\n",
              "      <td>2</td>\n",
              "      <td>0</td>\n",
              "      <td>0</td>\n",
              "      <td>0</td>\n",
              "      <td>0</td>\n",
              "      <td>0</td>\n",
              "      <td>0</td>\n",
              "      <td>1</td>\n",
              "      <td>3</td>\n",
              "      <td>4</td>\n",
              "      <td>0</td>\n",
              "      <td>5</td>\n",
              "      <td>2</td>\n",
              "      <td>0</td>\n",
              "      <td>5</td>\n",
              "      <td>3</td>\n",
              "      <td>2</td>\n",
              "      <td>1</td>\n",
              "    </tr>\n",
              "  </tbody>\n",
              "</table>\n",
              "</div>"
            ],
            "text/plain": [
              "                  user_id  ... Wine & Spirits_urating\n",
              "0  ---1lKK3aKOuomHnwAkAow  ...                      1\n",
              "1  ---1lKK3aKOuomHnwAkAow  ...                      1\n",
              "2  ---1lKK3aKOuomHnwAkAow  ...                      1\n",
              "3  ---1lKK3aKOuomHnwAkAow  ...                      1\n",
              "4  ---1lKK3aKOuomHnwAkAow  ...                      1\n",
              "\n",
              "[5 rows x 40 columns]"
            ]
          },
          "metadata": {
            "tags": []
          },
          "execution_count": 61
        }
      ]
    },
    {
      "cell_type": "code",
      "metadata": {
        "id": "Y74lB3ojjDKr",
        "colab_type": "code",
        "colab": {}
      },
      "source": [
        "biz_cols = ['business_id','business_id_num','state','city','biz_stars','biz_rev_ct','is_open','biz_w_avg']\n",
        "biz_cols.extend(cat_cols)"
      ],
      "execution_count": 0,
      "outputs": []
    },
    {
      "cell_type": "code",
      "metadata": {
        "id": "dyXhDztkjPd9",
        "colab_type": "code",
        "outputId": "ef4bee88-391d-45dd-c2a4-3297e161c738",
        "colab": {
          "base_uri": "https://localhost:8080/",
          "height": 412
        }
      },
      "source": [
        "biz_sub = sample_df[biz_cols].drop_duplicates()\n",
        "not_reviewed_sample = not_reviewed_sample.merge(biz_sub)\n",
        "not_reviewed_sample.head()"
      ],
      "execution_count": 63,
      "outputs": [
        {
          "output_type": "execute_result",
          "data": {
            "text/html": [
              "<div>\n",
              "<style scoped>\n",
              "    .dataframe tbody tr th:only-of-type {\n",
              "        vertical-align: middle;\n",
              "    }\n",
              "\n",
              "    .dataframe tbody tr th {\n",
              "        vertical-align: top;\n",
              "    }\n",
              "\n",
              "    .dataframe thead th {\n",
              "        text-align: right;\n",
              "    }\n",
              "</style>\n",
              "<table border=\"1\" class=\"dataframe\">\n",
              "  <thead>\n",
              "    <tr style=\"text-align: right;\">\n",
              "      <th></th>\n",
              "      <th>user_id</th>\n",
              "      <th>business_id</th>\n",
              "      <th>user_id_num</th>\n",
              "      <th>avg_stars</th>\n",
              "      <th>fans</th>\n",
              "      <th>American (New)_urating</th>\n",
              "      <th>American (Traditional)_urating</th>\n",
              "      <th>Asian Fusion_urating</th>\n",
              "      <th>Bakeries_urating</th>\n",
              "      <th>Barbeque_urating</th>\n",
              "      <th>Bars_urating</th>\n",
              "      <th>Beer_urating</th>\n",
              "      <th>Breakfast &amp; Brunch_urating</th>\n",
              "      <th>Burgers_urating</th>\n",
              "      <th>Cafes_urating</th>\n",
              "      <th>Canadian (New)_urating</th>\n",
              "      <th>Caterers_urating</th>\n",
              "      <th>Chicken Wings_urating</th>\n",
              "      <th>Chinese_urating</th>\n",
              "      <th>Coffee &amp; Tea_urating</th>\n",
              "      <th>Comfort Food_urating</th>\n",
              "      <th>Delis_urating</th>\n",
              "      <th>Desserts_urating</th>\n",
              "      <th>Ethnic Food_urating</th>\n",
              "      <th>Event Planning &amp; Services_urating</th>\n",
              "      <th>Fast Food_urating</th>\n",
              "      <th>Food Delivery Services_urating</th>\n",
              "      <th>Food Trucks_urating</th>\n",
              "      <th>Grocery_urating</th>\n",
              "      <th>Ice Cream &amp; Frozen Yogurt_urating</th>\n",
              "      <th>Italian_urating</th>\n",
              "      <th>Juice Bars &amp; Smoothies_urating</th>\n",
              "      <th>Mexican_urating</th>\n",
              "      <th>Nightlife_urating</th>\n",
              "      <th>Pizza_urating</th>\n",
              "      <th>Salad_urating</th>\n",
              "      <th>Sandwiches_urating</th>\n",
              "      <th>Seafood_urating</th>\n",
              "      <th>Specialty Food_urating</th>\n",
              "      <th>Wine &amp; Spirits_urating</th>\n",
              "      <th>...</th>\n",
              "      <th>city</th>\n",
              "      <th>biz_stars</th>\n",
              "      <th>biz_rev_ct</th>\n",
              "      <th>is_open</th>\n",
              "      <th>biz_w_avg</th>\n",
              "      <th>American (New)</th>\n",
              "      <th>American (Traditional)</th>\n",
              "      <th>Asian Fusion</th>\n",
              "      <th>Bakeries</th>\n",
              "      <th>Barbeque</th>\n",
              "      <th>Bars</th>\n",
              "      <th>Beer</th>\n",
              "      <th>Breakfast &amp; Brunch</th>\n",
              "      <th>Burgers</th>\n",
              "      <th>Cafes</th>\n",
              "      <th>Canadian (New)</th>\n",
              "      <th>Caterers</th>\n",
              "      <th>Chicken Wings</th>\n",
              "      <th>Chinese</th>\n",
              "      <th>Coffee &amp; Tea</th>\n",
              "      <th>Comfort Food</th>\n",
              "      <th>Delis</th>\n",
              "      <th>Desserts</th>\n",
              "      <th>Ethnic Food</th>\n",
              "      <th>Event Planning &amp; Services</th>\n",
              "      <th>Fast Food</th>\n",
              "      <th>Food Delivery Services</th>\n",
              "      <th>Food Trucks</th>\n",
              "      <th>Grocery</th>\n",
              "      <th>Ice Cream &amp; Frozen Yogurt</th>\n",
              "      <th>Italian</th>\n",
              "      <th>Juice Bars &amp; Smoothies</th>\n",
              "      <th>Mexican</th>\n",
              "      <th>Nightlife</th>\n",
              "      <th>Pizza</th>\n",
              "      <th>Salad</th>\n",
              "      <th>Sandwiches</th>\n",
              "      <th>Seafood</th>\n",
              "      <th>Specialty Food</th>\n",
              "      <th>Wine &amp; Spirits</th>\n",
              "    </tr>\n",
              "  </thead>\n",
              "  <tbody>\n",
              "    <tr>\n",
              "      <th>0</th>\n",
              "      <td>---1lKK3aKOuomHnwAkAow</td>\n",
              "      <td>po0p6NIro0cDrmKkcyPy0w</td>\n",
              "      <td>6027</td>\n",
              "      <td>3.92</td>\n",
              "      <td>16</td>\n",
              "      <td>8</td>\n",
              "      <td>3</td>\n",
              "      <td>1</td>\n",
              "      <td>2</td>\n",
              "      <td>0</td>\n",
              "      <td>5</td>\n",
              "      <td>1</td>\n",
              "      <td>6</td>\n",
              "      <td>2</td>\n",
              "      <td>4</td>\n",
              "      <td>0</td>\n",
              "      <td>0</td>\n",
              "      <td>0</td>\n",
              "      <td>0</td>\n",
              "      <td>4</td>\n",
              "      <td>0</td>\n",
              "      <td>0</td>\n",
              "      <td>2</td>\n",
              "      <td>0</td>\n",
              "      <td>0</td>\n",
              "      <td>0</td>\n",
              "      <td>0</td>\n",
              "      <td>0</td>\n",
              "      <td>0</td>\n",
              "      <td>1</td>\n",
              "      <td>3</td>\n",
              "      <td>4</td>\n",
              "      <td>0</td>\n",
              "      <td>5</td>\n",
              "      <td>2</td>\n",
              "      <td>0</td>\n",
              "      <td>5</td>\n",
              "      <td>3</td>\n",
              "      <td>2</td>\n",
              "      <td>1</td>\n",
              "      <td>...</td>\n",
              "      <td>Las Vegas</td>\n",
              "      <td>4.5</td>\n",
              "      <td>415</td>\n",
              "      <td>1</td>\n",
              "      <td>4.083527</td>\n",
              "      <td>0</td>\n",
              "      <td>0</td>\n",
              "      <td>0</td>\n",
              "      <td>0</td>\n",
              "      <td>0</td>\n",
              "      <td>0</td>\n",
              "      <td>0</td>\n",
              "      <td>0</td>\n",
              "      <td>0</td>\n",
              "      <td>0</td>\n",
              "      <td>0</td>\n",
              "      <td>0</td>\n",
              "      <td>0</td>\n",
              "      <td>0</td>\n",
              "      <td>0</td>\n",
              "      <td>0</td>\n",
              "      <td>0</td>\n",
              "      <td>0</td>\n",
              "      <td>0</td>\n",
              "      <td>0</td>\n",
              "      <td>0</td>\n",
              "      <td>0</td>\n",
              "      <td>0</td>\n",
              "      <td>0</td>\n",
              "      <td>0</td>\n",
              "      <td>0</td>\n",
              "      <td>0</td>\n",
              "      <td>0</td>\n",
              "      <td>0</td>\n",
              "      <td>0</td>\n",
              "      <td>0</td>\n",
              "      <td>0</td>\n",
              "      <td>0</td>\n",
              "      <td>0</td>\n",
              "      <td>0</td>\n",
              "    </tr>\n",
              "    <tr>\n",
              "      <th>1</th>\n",
              "      <td>--LUapetRSkZpFZ2d-MXLQ</td>\n",
              "      <td>po0p6NIro0cDrmKkcyPy0w</td>\n",
              "      <td>40438</td>\n",
              "      <td>4.91</td>\n",
              "      <td>0</td>\n",
              "      <td>2</td>\n",
              "      <td>0</td>\n",
              "      <td>0</td>\n",
              "      <td>0</td>\n",
              "      <td>0</td>\n",
              "      <td>1</td>\n",
              "      <td>0</td>\n",
              "      <td>3</td>\n",
              "      <td>0</td>\n",
              "      <td>4</td>\n",
              "      <td>0</td>\n",
              "      <td>0</td>\n",
              "      <td>0</td>\n",
              "      <td>0</td>\n",
              "      <td>4</td>\n",
              "      <td>1</td>\n",
              "      <td>0</td>\n",
              "      <td>0</td>\n",
              "      <td>0</td>\n",
              "      <td>0</td>\n",
              "      <td>0</td>\n",
              "      <td>0</td>\n",
              "      <td>0</td>\n",
              "      <td>0</td>\n",
              "      <td>0</td>\n",
              "      <td>0</td>\n",
              "      <td>0</td>\n",
              "      <td>0</td>\n",
              "      <td>1</td>\n",
              "      <td>0</td>\n",
              "      <td>0</td>\n",
              "      <td>1</td>\n",
              "      <td>0</td>\n",
              "      <td>0</td>\n",
              "      <td>0</td>\n",
              "      <td>...</td>\n",
              "      <td>Las Vegas</td>\n",
              "      <td>4.5</td>\n",
              "      <td>415</td>\n",
              "      <td>1</td>\n",
              "      <td>4.083527</td>\n",
              "      <td>0</td>\n",
              "      <td>0</td>\n",
              "      <td>0</td>\n",
              "      <td>0</td>\n",
              "      <td>0</td>\n",
              "      <td>0</td>\n",
              "      <td>0</td>\n",
              "      <td>0</td>\n",
              "      <td>0</td>\n",
              "      <td>0</td>\n",
              "      <td>0</td>\n",
              "      <td>0</td>\n",
              "      <td>0</td>\n",
              "      <td>0</td>\n",
              "      <td>0</td>\n",
              "      <td>0</td>\n",
              "      <td>0</td>\n",
              "      <td>0</td>\n",
              "      <td>0</td>\n",
              "      <td>0</td>\n",
              "      <td>0</td>\n",
              "      <td>0</td>\n",
              "      <td>0</td>\n",
              "      <td>0</td>\n",
              "      <td>0</td>\n",
              "      <td>0</td>\n",
              "      <td>0</td>\n",
              "      <td>0</td>\n",
              "      <td>0</td>\n",
              "      <td>0</td>\n",
              "      <td>0</td>\n",
              "      <td>0</td>\n",
              "      <td>0</td>\n",
              "      <td>0</td>\n",
              "      <td>0</td>\n",
              "    </tr>\n",
              "    <tr>\n",
              "      <th>2</th>\n",
              "      <td>--RlSfc-QmcHFGHyX6aVjA</td>\n",
              "      <td>po0p6NIro0cDrmKkcyPy0w</td>\n",
              "      <td>25470</td>\n",
              "      <td>3.69</td>\n",
              "      <td>15</td>\n",
              "      <td>7</td>\n",
              "      <td>6</td>\n",
              "      <td>4</td>\n",
              "      <td>0</td>\n",
              "      <td>1</td>\n",
              "      <td>5</td>\n",
              "      <td>2</td>\n",
              "      <td>8</td>\n",
              "      <td>3</td>\n",
              "      <td>1</td>\n",
              "      <td>0</td>\n",
              "      <td>0</td>\n",
              "      <td>0</td>\n",
              "      <td>2</td>\n",
              "      <td>2</td>\n",
              "      <td>1</td>\n",
              "      <td>1</td>\n",
              "      <td>6</td>\n",
              "      <td>1</td>\n",
              "      <td>0</td>\n",
              "      <td>1</td>\n",
              "      <td>1</td>\n",
              "      <td>0</td>\n",
              "      <td>0</td>\n",
              "      <td>1</td>\n",
              "      <td>3</td>\n",
              "      <td>3</td>\n",
              "      <td>0</td>\n",
              "      <td>5</td>\n",
              "      <td>1</td>\n",
              "      <td>2</td>\n",
              "      <td>2</td>\n",
              "      <td>1</td>\n",
              "      <td>4</td>\n",
              "      <td>2</td>\n",
              "      <td>...</td>\n",
              "      <td>Las Vegas</td>\n",
              "      <td>4.5</td>\n",
              "      <td>415</td>\n",
              "      <td>1</td>\n",
              "      <td>4.083527</td>\n",
              "      <td>0</td>\n",
              "      <td>0</td>\n",
              "      <td>0</td>\n",
              "      <td>0</td>\n",
              "      <td>0</td>\n",
              "      <td>0</td>\n",
              "      <td>0</td>\n",
              "      <td>0</td>\n",
              "      <td>0</td>\n",
              "      <td>0</td>\n",
              "      <td>0</td>\n",
              "      <td>0</td>\n",
              "      <td>0</td>\n",
              "      <td>0</td>\n",
              "      <td>0</td>\n",
              "      <td>0</td>\n",
              "      <td>0</td>\n",
              "      <td>0</td>\n",
              "      <td>0</td>\n",
              "      <td>0</td>\n",
              "      <td>0</td>\n",
              "      <td>0</td>\n",
              "      <td>0</td>\n",
              "      <td>0</td>\n",
              "      <td>0</td>\n",
              "      <td>0</td>\n",
              "      <td>0</td>\n",
              "      <td>0</td>\n",
              "      <td>0</td>\n",
              "      <td>0</td>\n",
              "      <td>0</td>\n",
              "      <td>0</td>\n",
              "      <td>0</td>\n",
              "      <td>0</td>\n",
              "      <td>0</td>\n",
              "    </tr>\n",
              "    <tr>\n",
              "      <th>3</th>\n",
              "      <td>--ZNfWKj1VyVElRx6-g1fg</td>\n",
              "      <td>po0p6NIro0cDrmKkcyPy0w</td>\n",
              "      <td>45529</td>\n",
              "      <td>3.82</td>\n",
              "      <td>37</td>\n",
              "      <td>5</td>\n",
              "      <td>2</td>\n",
              "      <td>2</td>\n",
              "      <td>1</td>\n",
              "      <td>0</td>\n",
              "      <td>5</td>\n",
              "      <td>4</td>\n",
              "      <td>0</td>\n",
              "      <td>4</td>\n",
              "      <td>0</td>\n",
              "      <td>0</td>\n",
              "      <td>0</td>\n",
              "      <td>0</td>\n",
              "      <td>0</td>\n",
              "      <td>0</td>\n",
              "      <td>2</td>\n",
              "      <td>1</td>\n",
              "      <td>1</td>\n",
              "      <td>0</td>\n",
              "      <td>1</td>\n",
              "      <td>0</td>\n",
              "      <td>0</td>\n",
              "      <td>0</td>\n",
              "      <td>0</td>\n",
              "      <td>0</td>\n",
              "      <td>0</td>\n",
              "      <td>2</td>\n",
              "      <td>0</td>\n",
              "      <td>5</td>\n",
              "      <td>0</td>\n",
              "      <td>1</td>\n",
              "      <td>2</td>\n",
              "      <td>1</td>\n",
              "      <td>0</td>\n",
              "      <td>4</td>\n",
              "      <td>...</td>\n",
              "      <td>Las Vegas</td>\n",
              "      <td>4.5</td>\n",
              "      <td>415</td>\n",
              "      <td>1</td>\n",
              "      <td>4.083527</td>\n",
              "      <td>0</td>\n",
              "      <td>0</td>\n",
              "      <td>0</td>\n",
              "      <td>0</td>\n",
              "      <td>0</td>\n",
              "      <td>0</td>\n",
              "      <td>0</td>\n",
              "      <td>0</td>\n",
              "      <td>0</td>\n",
              "      <td>0</td>\n",
              "      <td>0</td>\n",
              "      <td>0</td>\n",
              "      <td>0</td>\n",
              "      <td>0</td>\n",
              "      <td>0</td>\n",
              "      <td>0</td>\n",
              "      <td>0</td>\n",
              "      <td>0</td>\n",
              "      <td>0</td>\n",
              "      <td>0</td>\n",
              "      <td>0</td>\n",
              "      <td>0</td>\n",
              "      <td>0</td>\n",
              "      <td>0</td>\n",
              "      <td>0</td>\n",
              "      <td>0</td>\n",
              "      <td>0</td>\n",
              "      <td>0</td>\n",
              "      <td>0</td>\n",
              "      <td>0</td>\n",
              "      <td>0</td>\n",
              "      <td>0</td>\n",
              "      <td>0</td>\n",
              "      <td>0</td>\n",
              "      <td>0</td>\n",
              "    </tr>\n",
              "    <tr>\n",
              "      <th>4</th>\n",
              "      <td>-00kdEIhCt-ODaV4BS-EAg</td>\n",
              "      <td>po0p6NIro0cDrmKkcyPy0w</td>\n",
              "      <td>8822</td>\n",
              "      <td>3.14</td>\n",
              "      <td>6</td>\n",
              "      <td>4</td>\n",
              "      <td>1</td>\n",
              "      <td>0</td>\n",
              "      <td>0</td>\n",
              "      <td>1</td>\n",
              "      <td>2</td>\n",
              "      <td>1</td>\n",
              "      <td>3</td>\n",
              "      <td>0</td>\n",
              "      <td>0</td>\n",
              "      <td>0</td>\n",
              "      <td>2</td>\n",
              "      <td>1</td>\n",
              "      <td>0</td>\n",
              "      <td>2</td>\n",
              "      <td>1</td>\n",
              "      <td>0</td>\n",
              "      <td>2</td>\n",
              "      <td>0</td>\n",
              "      <td>2</td>\n",
              "      <td>1</td>\n",
              "      <td>1</td>\n",
              "      <td>0</td>\n",
              "      <td>0</td>\n",
              "      <td>0</td>\n",
              "      <td>0</td>\n",
              "      <td>0</td>\n",
              "      <td>0</td>\n",
              "      <td>2</td>\n",
              "      <td>1</td>\n",
              "      <td>4</td>\n",
              "      <td>4</td>\n",
              "      <td>0</td>\n",
              "      <td>0</td>\n",
              "      <td>1</td>\n",
              "      <td>...</td>\n",
              "      <td>Las Vegas</td>\n",
              "      <td>4.5</td>\n",
              "      <td>415</td>\n",
              "      <td>1</td>\n",
              "      <td>4.083527</td>\n",
              "      <td>0</td>\n",
              "      <td>0</td>\n",
              "      <td>0</td>\n",
              "      <td>0</td>\n",
              "      <td>0</td>\n",
              "      <td>0</td>\n",
              "      <td>0</td>\n",
              "      <td>0</td>\n",
              "      <td>0</td>\n",
              "      <td>0</td>\n",
              "      <td>0</td>\n",
              "      <td>0</td>\n",
              "      <td>0</td>\n",
              "      <td>0</td>\n",
              "      <td>0</td>\n",
              "      <td>0</td>\n",
              "      <td>0</td>\n",
              "      <td>0</td>\n",
              "      <td>0</td>\n",
              "      <td>0</td>\n",
              "      <td>0</td>\n",
              "      <td>0</td>\n",
              "      <td>0</td>\n",
              "      <td>0</td>\n",
              "      <td>0</td>\n",
              "      <td>0</td>\n",
              "      <td>0</td>\n",
              "      <td>0</td>\n",
              "      <td>0</td>\n",
              "      <td>0</td>\n",
              "      <td>0</td>\n",
              "      <td>0</td>\n",
              "      <td>0</td>\n",
              "      <td>0</td>\n",
              "      <td>0</td>\n",
              "    </tr>\n",
              "  </tbody>\n",
              "</table>\n",
              "<p>5 rows × 82 columns</p>\n",
              "</div>"
            ],
            "text/plain": [
              "                  user_id  ... Wine & Spirits\n",
              "0  ---1lKK3aKOuomHnwAkAow  ...              0\n",
              "1  --LUapetRSkZpFZ2d-MXLQ  ...              0\n",
              "2  --RlSfc-QmcHFGHyX6aVjA  ...              0\n",
              "3  --ZNfWKj1VyVElRx6-g1fg  ...              0\n",
              "4  -00kdEIhCt-ODaV4BS-EAg  ...              0\n",
              "\n",
              "[5 rows x 82 columns]"
            ]
          },
          "metadata": {
            "tags": []
          },
          "execution_count": 63
        }
      ]
    },
    {
      "cell_type": "markdown",
      "metadata": {
        "id": "FijRa4qijej4",
        "colab_type": "text"
      },
      "source": [
        "# Wide and Deep"
      ]
    },
    {
      "cell_type": "markdown",
      "metadata": {
        "id": "zVbeY3ElRcbm",
        "colab_type": "text"
      },
      "source": [
        "### Specify the columns to be used by the wide and deep model.\n",
        "### For the wide component of the model, we consider the columns representing multi-hot encoding of the businesses, which encodes all the categories a business belongs to."
      ]
    },
    {
      "cell_type": "code",
      "metadata": {
        "id": "iemzQOXYj5p1",
        "colab_type": "code",
        "outputId": "ffa91ab6-b2df-45e8-eef3-1fdb2ed1bcbc",
        "colab": {
          "base_uri": "https://localhost:8080/",
          "height": 110
        }
      },
      "source": [
        "wide_pre = WidePreprocessor(wide_cols=cat_cols)\n",
        "X_wide = wide_pre.fit_transform(train)"
      ],
      "execution_count": 65,
      "outputs": [
        {
          "output_type": "stream",
          "text": [
            "/usr/local/lib/python3.6/dist-packages/sklearn/preprocessing/_encoders.py:415: FutureWarning: The handling of integer data will change in version 0.22. Currently, the categories are determined based on the range [0, max(values)], while in the future they will be determined based on the unique values.\n",
            "If you want the future behaviour and silence this warning, you can specify \"categories='auto'\".\n",
            "In case you used a LabelEncoder before this OneHotEncoder to convert the categories to integers, then you can now use the OneHotEncoder directly.\n",
            "  warnings.warn(msg, FutureWarning)\n"
          ],
          "name": "stderr"
        }
      ]
    },
    {
      "cell_type": "markdown",
      "metadata": {
        "id": "mUKC70At9gzo",
        "colab_type": "text"
      },
      "source": [
        "### We use state and city as our categorical embeddings which will encode location information and be used as a part of the deep component of the model"
      ]
    },
    {
      "cell_type": "code",
      "metadata": {
        "id": "jyuhVq5lj8lO",
        "colab_type": "code",
        "colab": {}
      },
      "source": [
        "cat_embed_cols = [(c, 16) for c in ['state','city']]"
      ],
      "execution_count": 0,
      "outputs": []
    },
    {
      "cell_type": "markdown",
      "metadata": {
        "id": "VEvNiX-WYhkx",
        "colab_type": "text"
      },
      "source": [
        "### For the continuous columns, we initially build a model without our derived features which contains user information about how many times the user has rated each of the business categories. The continuous columns we use are average user rating, the number of fans a user has, the number of ratings a business has, the average business rating, the weighted average business rating, where each review is weighted on how many people thought that review was useful"
      ]
    },
    {
      "cell_type": "code",
      "metadata": {
        "id": "8WTjo1PhkCoa",
        "colab_type": "code",
        "colab": {}
      },
      "source": [
        "continuous_cols = ['avg_stars','fans','biz_rev_ct','biz_stars','biz_w_avg']\n",
        "train = normalize(train,continuous_cols)\n",
        "deep_pre = DeepPreprocessor(continuous_cols=continuous_cols,embed_cols=cat_embed_cols)\n",
        "X_deep = deep_pre.fit_transform(train)"
      ],
      "execution_count": 0,
      "outputs": []
    },
    {
      "cell_type": "markdown",
      "metadata": {
        "id": "GrsbcVerSxSm",
        "colab_type": "text"
      },
      "source": [
        "### Create the wide and deep components and build an initial model"
      ]
    },
    {
      "cell_type": "code",
      "metadata": {
        "id": "pCGi0yO3kEt7",
        "colab_type": "code",
        "colab": {}
      },
      "source": [
        "wide_component = Wide(wide_dim=X_wide.shape[1], output_dim=1)\n",
        "deep_component = DeepDense(hidden_layers=[128,64], dropout=[0.5, 0.5], \n",
        "                      deep_column_idx=deep_pre.deep_column_idx,\n",
        "                      embed_input=deep_pre.embeddings_input,\n",
        "                      continuous_cols=continuous_cols)"
      ],
      "execution_count": 0,
      "outputs": []
    },
    {
      "cell_type": "code",
      "metadata": {
        "id": "DmmgyXsBX8q5",
        "colab_type": "code",
        "colab": {
          "base_uri": "https://localhost:8080/",
          "height": 110
        },
        "outputId": "48959c8b-b73e-42fc-8ee7-9dea9ee0be79"
      },
      "source": [
        "wide_pre = WidePreprocessor(wide_cols=cat_cols)\n",
        "X_wide = wide_pre.fit_transform(train)"
      ],
      "execution_count": 73,
      "outputs": [
        {
          "output_type": "stream",
          "text": [
            "/usr/local/lib/python3.6/dist-packages/sklearn/preprocessing/_encoders.py:415: FutureWarning: The handling of integer data will change in version 0.22. Currently, the categories are determined based on the range [0, max(values)], while in the future they will be determined based on the unique values.\n",
            "If you want the future behaviour and silence this warning, you can specify \"categories='auto'\".\n",
            "In case you used a LabelEncoder before this OneHotEncoder to convert the categories to integers, then you can now use the OneHotEncoder directly.\n",
            "  warnings.warn(msg, FutureWarning)\n"
          ],
          "name": "stderr"
        }
      ]
    },
    {
      "cell_type": "code",
      "metadata": {
        "id": "SO4E6uwBkHXM",
        "colab_type": "code",
        "colab": {}
      },
      "source": [
        "target_rating = train['rating'].values"
      ],
      "execution_count": 0,
      "outputs": []
    },
    {
      "cell_type": "code",
      "metadata": {
        "id": "bLbaYappkJAW",
        "colab_type": "code",
        "outputId": "c63849d3-8d08-4830-d386-e60704d62862",
        "colab": {
          "base_uri": "https://localhost:8080/",
          "height": 219
        }
      },
      "source": [
        "model = WideDeep(wide=wide_component, deepdense=deep_component)\n",
        "model.compile(method='regression') \n",
        "model.fit(X_wide=X_wide, X_deep=X_deep, target=target_rating, n_epochs=5, batch_size=256, val_split=0.2)"
      ],
      "execution_count": 75,
      "outputs": [
        {
          "output_type": "stream",
          "text": [
            "\r  0%|          | 0/1517 [00:00<?, ?it/s]"
          ],
          "name": "stderr"
        },
        {
          "output_type": "stream",
          "text": [
            "Training\n"
          ],
          "name": "stdout"
        },
        {
          "output_type": "stream",
          "text": [
            "epoch 1: 100%|██████████| 1517/1517 [00:12<00:00, 117.35it/s, loss=1.04]\n",
            "valid: 100%|██████████| 380/380 [00:02<00:00, 158.36it/s, loss=1.02]\n",
            "epoch 2: 100%|██████████| 1517/1517 [00:12<00:00, 117.90it/s, loss=1.03]\n",
            "valid: 100%|██████████| 380/380 [00:02<00:00, 145.21it/s, loss=1.02]\n",
            "epoch 3: 100%|██████████| 1517/1517 [00:12<00:00, 117.94it/s, loss=1.03]\n",
            "valid: 100%|██████████| 380/380 [00:02<00:00, 161.57it/s, loss=1.02]\n",
            "epoch 4: 100%|██████████| 1517/1517 [00:12<00:00, 117.57it/s, loss=1.03]\n",
            "valid: 100%|██████████| 380/380 [00:02<00:00, 150.18it/s, loss=1.02]\n",
            "epoch 5: 100%|██████████| 1517/1517 [00:12<00:00, 116.96it/s, loss=1.03]\n",
            "valid: 100%|██████████| 380/380 [00:02<00:00, 154.80it/s, loss=1.02]\n"
          ],
          "name": "stderr"
        }
      ]
    },
    {
      "cell_type": "markdown",
      "metadata": {
        "id": "TmPQgSmbYrli",
        "colab_type": "text"
      },
      "source": [
        "### We now try to add our derived continuous features (features regarding the number of times the user has rated each of the categories we considered) to see if it improves our model. Although our model should be able to learn this implicitly, we want to test this by feeding the information explicitly as well"
      ]
    },
    {
      "cell_type": "code",
      "metadata": {
        "id": "Kk7TSNvhW9bn",
        "colab_type": "code",
        "colab": {}
      },
      "source": [
        "continuous_cols_new = ['avg_stars','fans','biz_rev_ct','biz_stars','biz_w_avg']\n",
        "continuous_cols_new.extend(cont_cols)\n",
        "deep_pre_new = DeepPreprocessor(continuous_cols=continuous_cols_new,embed_cols=cat_embed_cols)\n",
        "X_deep_new = deep_pre_new.fit_transform(train) \n",
        "deep_component_new = DeepDense(hidden_layers=[128,64], dropout=[0.5, 0.5], \n",
        "                      deep_column_idx=deep_pre_new.deep_column_idx,\n",
        "                      embed_input=deep_pre_new.embeddings_input,\n",
        "                      continuous_cols=continuous_cols_new)"
      ],
      "execution_count": 0,
      "outputs": []
    },
    {
      "cell_type": "code",
      "metadata": {
        "id": "mvWqq6Q-f9hS",
        "colab_type": "code",
        "colab": {
          "base_uri": "https://localhost:8080/",
          "height": 219
        },
        "outputId": "7fe43ad6-1600-4c72-ca17-0b7d642ec9da"
      },
      "source": [
        "model_new = WideDeep(wide=wide_component, deepdense=deep_component)\n",
        "model_new.compile(method='regression')\n",
        "model_new.fit(X_wide=X_wide, X_deep=X_deep, target=target_rating, n_epochs=5, batch_size=256, val_split=0.2)"
      ],
      "execution_count": 39,
      "outputs": [
        {
          "output_type": "stream",
          "text": [
            "\r  0%|          | 0/1517 [00:00<?, ?it/s]"
          ],
          "name": "stderr"
        },
        {
          "output_type": "stream",
          "text": [
            "Training\n"
          ],
          "name": "stdout"
        },
        {
          "output_type": "stream",
          "text": [
            "epoch 1: 100%|██████████| 1517/1517 [00:13<00:00, 113.00it/s, loss=1.04]\n",
            "valid: 100%|██████████| 380/380 [00:02<00:00, 143.13it/s, loss=1.02]\n",
            "epoch 2: 100%|██████████| 1517/1517 [00:13<00:00, 111.79it/s, loss=1.03]\n",
            "valid: 100%|██████████| 380/380 [00:02<00:00, 153.37it/s, loss=1.02]\n",
            "epoch 3: 100%|██████████| 1517/1517 [00:13<00:00, 114.20it/s, loss=1.03]\n",
            "valid: 100%|██████████| 380/380 [00:02<00:00, 149.69it/s, loss=1.02]\n",
            "epoch 4: 100%|██████████| 1517/1517 [00:13<00:00, 110.11it/s, loss=1.03]\n",
            "valid: 100%|██████████| 380/380 [00:02<00:00, 152.26it/s, loss=1.02]\n",
            "epoch 5: 100%|██████████| 1517/1517 [00:13<00:00, 114.67it/s, loss=1.03]\n",
            "valid: 100%|██████████| 380/380 [00:02<00:00, 150.62it/s, loss=1.02]\n"
          ],
          "name": "stderr"
        }
      ]
    },
    {
      "cell_type": "markdown",
      "metadata": {
        "id": "TAq0RDC4kWLN",
        "colab_type": "text"
      },
      "source": [
        "### We see a very small improvement of 0.01 on the validation loss by including our derived features in the model"
      ]
    },
    {
      "cell_type": "markdown",
      "metadata": {
        "id": "ksx9DbYZTY1T",
        "colab_type": "text"
      },
      "source": [
        "### Perform a grid search on the model, varying the number of hidden layers, the number of neurons in each hidden layer, the dropouts and the maximum learning rate"
      ]
    },
    {
      "cell_type": "code",
      "metadata": {
        "id": "XH8MYWqmZ2hW",
        "colab_type": "code",
        "outputId": "d78e716a-0127-47d7-ba2f-551e8381f7f0",
        "colab": {
          "base_uri": "https://localhost:8080/",
          "height": 1000
        }
      },
      "source": [
        "hidden_layer_set = [[64,32],[128,64],[64,32,16],[128,64,32]]\n",
        "dropout_set = [[0.2,0.2],[0.5,0.5],[0.2,0.2,0.2],[0.5,0.5,0.5]]\n",
        "warm_lrs = [0.01,0.1,1]\n",
        "\n",
        "for i in hidden_layer_set:\n",
        "  for j in dropout_set:\n",
        "    for k in warm_lrs:\n",
        "      if(len(i) == len(j)):\n",
        "        print(\"Hidden Layer\",i,\"Dropout\",j,\"Max Learning Rate\",k)\n",
        "        deep_component_grid = DeepDense(hidden_layers=i, dropout=j, \n",
        "                      deep_column_idx=deep_pre.deep_column_idx,\n",
        "                      embed_input=deep_pre.embeddings_input,\n",
        "                      continuous_cols=continuous_cols)\n",
        "        model_grid = WideDeep(wide=wide_component, deepdense=deep_component_grid)\n",
        "        model_grid.compile(method='regression')\n",
        "        model_grid.fit(X_wide=X_wide, X_deep=X_deep, target=target_rating, n_epochs=5, batch_size=256, val_split=0.2, warm_max_lr = k)\n",
        "\n",
        "        print(\"\\n\\n\")"
      ],
      "execution_count": 72,
      "outputs": [
        {
          "output_type": "stream",
          "text": [
            "\r  0%|          | 0/1517 [00:00<?, ?it/s]"
          ],
          "name": "stderr"
        },
        {
          "output_type": "stream",
          "text": [
            "Hidden Layer [64, 32] Dropout [0.2, 0.2] Max Learning Rate 0.01\n",
            "Training\n"
          ],
          "name": "stdout"
        },
        {
          "output_type": "stream",
          "text": [
            "epoch 1: 100%|██████████| 1517/1517 [00:13<00:00, 114.12it/s, loss=1.12]\n",
            "valid: 100%|██████████| 380/380 [00:02<00:00, 160.43it/s, loss=1.03]\n",
            "epoch 2: 100%|██████████| 1517/1517 [00:13<00:00, 114.83it/s, loss=1.03]\n",
            "valid: 100%|██████████| 380/380 [00:02<00:00, 161.96it/s, loss=1.02]\n",
            "epoch 3: 100%|██████████| 1517/1517 [00:12<00:00, 118.35it/s, loss=1.03]\n",
            "valid: 100%|██████████| 380/380 [00:02<00:00, 157.70it/s, loss=1.02]\n",
            "epoch 4: 100%|██████████| 1517/1517 [00:13<00:00, 114.88it/s, loss=1.03]\n",
            "valid: 100%|██████████| 380/380 [00:02<00:00, 160.57it/s, loss=1.02]\n",
            "epoch 5: 100%|██████████| 1517/1517 [00:12<00:00, 122.10it/s, loss=1.03]\n",
            "valid: 100%|██████████| 380/380 [00:02<00:00, 158.67it/s, loss=1.02]\n",
            "  0%|          | 0/1517 [00:00<?, ?it/s]"
          ],
          "name": "stderr"
        },
        {
          "output_type": "stream",
          "text": [
            "\n",
            "\n",
            "\n",
            "Hidden Layer [64, 32] Dropout [0.2, 0.2] Max Learning Rate 0.1\n",
            "Training\n"
          ],
          "name": "stdout"
        },
        {
          "output_type": "stream",
          "text": [
            "epoch 1: 100%|██████████| 1517/1517 [00:13<00:00, 116.05it/s, loss=1.04]\n",
            "valid: 100%|██████████| 380/380 [00:02<00:00, 157.86it/s, loss=1.02]\n",
            "epoch 2: 100%|██████████| 1517/1517 [00:12<00:00, 117.48it/s, loss=1.03]\n",
            "valid: 100%|██████████| 380/380 [00:02<00:00, 157.10it/s, loss=1.02]\n",
            "epoch 3: 100%|██████████| 1517/1517 [00:13<00:00, 115.47it/s, loss=1.03]\n",
            "valid: 100%|██████████| 380/380 [00:02<00:00, 156.76it/s, loss=1.02]\n",
            "epoch 4: 100%|██████████| 1517/1517 [00:12<00:00, 119.05it/s, loss=1.03]\n",
            "valid: 100%|██████████| 380/380 [00:02<00:00, 161.53it/s, loss=1.02]\n",
            "epoch 5: 100%|██████████| 1517/1517 [00:13<00:00, 116.28it/s, loss=1.02]\n",
            "valid: 100%|██████████| 380/380 [00:02<00:00, 162.21it/s, loss=1.02]\n",
            "  0%|          | 0/1517 [00:00<?, ?it/s]"
          ],
          "name": "stderr"
        },
        {
          "output_type": "stream",
          "text": [
            "\n",
            "\n",
            "\n",
            "Hidden Layer [64, 32] Dropout [0.2, 0.2] Max Learning Rate 1\n",
            "Training\n"
          ],
          "name": "stdout"
        },
        {
          "output_type": "stream",
          "text": [
            "epoch 1: 100%|██████████| 1517/1517 [00:12<00:00, 122.66it/s, loss=1.04]\n",
            "valid: 100%|██████████| 380/380 [00:02<00:00, 173.68it/s, loss=1.02]\n",
            "epoch 2: 100%|██████████| 1517/1517 [00:12<00:00, 117.08it/s, loss=1.03]\n",
            "valid: 100%|██████████| 380/380 [00:02<00:00, 159.15it/s, loss=1.02]\n",
            "epoch 3: 100%|██████████| 1517/1517 [00:12<00:00, 119.37it/s, loss=1.03]\n",
            "valid: 100%|██████████| 380/380 [00:02<00:00, 157.80it/s, loss=1.02]\n",
            "epoch 4: 100%|██████████| 1517/1517 [00:12<00:00, 117.31it/s, loss=1.02]\n",
            "valid: 100%|██████████| 380/380 [00:02<00:00, 157.30it/s, loss=1.02]\n",
            "epoch 5: 100%|██████████| 1517/1517 [00:12<00:00, 118.26it/s, loss=1.02]\n",
            "valid: 100%|██████████| 380/380 [00:02<00:00, 159.54it/s, loss=1.02]\n",
            "  0%|          | 0/1517 [00:00<?, ?it/s]"
          ],
          "name": "stderr"
        },
        {
          "output_type": "stream",
          "text": [
            "\n",
            "\n",
            "\n",
            "Hidden Layer [64, 32] Dropout [0.5, 0.5] Max Learning Rate 0.01\n",
            "Training\n"
          ],
          "name": "stdout"
        },
        {
          "output_type": "stream",
          "text": [
            "epoch 1: 100%|██████████| 1517/1517 [00:12<00:00, 116.90it/s, loss=1.05]\n",
            "valid: 100%|██████████| 380/380 [00:02<00:00, 155.21it/s, loss=1.02]\n",
            "epoch 2: 100%|██████████| 1517/1517 [00:13<00:00, 116.57it/s, loss=1.04]\n",
            "valid: 100%|██████████| 380/380 [00:02<00:00, 149.77it/s, loss=1.02]\n",
            "epoch 3: 100%|██████████| 1517/1517 [00:13<00:00, 114.51it/s, loss=1.04]\n",
            "valid: 100%|██████████| 380/380 [00:02<00:00, 158.48it/s, loss=1.02]\n",
            "epoch 4: 100%|██████████| 1517/1517 [00:13<00:00, 120.02it/s, loss=1.04]\n",
            "valid: 100%|██████████| 380/380 [00:02<00:00, 164.74it/s, loss=1.02]\n",
            "epoch 5: 100%|██████████| 1517/1517 [00:12<00:00, 117.16it/s, loss=1.04]\n",
            "valid: 100%|██████████| 380/380 [00:02<00:00, 155.98it/s, loss=1.02]\n",
            "  0%|          | 0/1517 [00:00<?, ?it/s]"
          ],
          "name": "stderr"
        },
        {
          "output_type": "stream",
          "text": [
            "\n",
            "\n",
            "\n",
            "Hidden Layer [64, 32] Dropout [0.5, 0.5] Max Learning Rate 0.1\n",
            "Training\n"
          ],
          "name": "stdout"
        },
        {
          "output_type": "stream",
          "text": [
            "epoch 1: 100%|██████████| 1517/1517 [00:12<00:00, 117.42it/s, loss=1.05]\n",
            "valid: 100%|██████████| 380/380 [00:02<00:00, 154.83it/s, loss=1.03]\n",
            "epoch 2: 100%|██████████| 1517/1517 [00:13<00:00, 116.40it/s, loss=1.04]\n",
            "valid: 100%|██████████| 380/380 [00:02<00:00, 156.69it/s, loss=1.02]\n",
            "epoch 3: 100%|██████████| 1517/1517 [00:13<00:00, 115.21it/s, loss=1.04]\n",
            "valid: 100%|██████████| 380/380 [00:02<00:00, 155.42it/s, loss=1.02]\n",
            "epoch 4: 100%|██████████| 1517/1517 [00:12<00:00, 117.62it/s, loss=1.04]\n",
            "valid: 100%|██████████| 380/380 [00:02<00:00, 161.44it/s, loss=1.02]\n",
            "epoch 5: 100%|██████████| 1517/1517 [00:13<00:00, 116.06it/s, loss=1.04]\n",
            "valid: 100%|██████████| 380/380 [00:02<00:00, 151.26it/s, loss=1.02]\n",
            "  0%|          | 0/1517 [00:00<?, ?it/s]"
          ],
          "name": "stderr"
        },
        {
          "output_type": "stream",
          "text": [
            "\n",
            "\n",
            "\n",
            "Hidden Layer [64, 32] Dropout [0.5, 0.5] Max Learning Rate 1\n",
            "Training\n"
          ],
          "name": "stdout"
        },
        {
          "output_type": "stream",
          "text": [
            "epoch 1: 100%|██████████| 1517/1517 [00:12<00:00, 121.77it/s, loss=1.05]\n",
            "valid: 100%|██████████| 380/380 [00:02<00:00, 159.44it/s, loss=1.02]\n",
            "epoch 2: 100%|██████████| 1517/1517 [00:13<00:00, 115.98it/s, loss=1.04]\n",
            "valid: 100%|██████████| 380/380 [00:02<00:00, 149.21it/s, loss=1.02]\n",
            "epoch 3: 100%|██████████| 1517/1517 [00:12<00:00, 118.57it/s, loss=1.04]\n",
            "valid: 100%|██████████| 380/380 [00:02<00:00, 160.18it/s, loss=1.02]\n",
            "epoch 4: 100%|██████████| 1517/1517 [00:12<00:00, 116.76it/s, loss=1.04]\n",
            "valid: 100%|██████████| 380/380 [00:02<00:00, 158.97it/s, loss=1.02]\n",
            "epoch 5: 100%|██████████| 1517/1517 [00:12<00:00, 119.72it/s, loss=1.04]\n",
            "valid: 100%|██████████| 380/380 [00:02<00:00, 163.49it/s, loss=1.02]\n",
            "  0%|          | 0/1517 [00:00<?, ?it/s]"
          ],
          "name": "stderr"
        },
        {
          "output_type": "stream",
          "text": [
            "\n",
            "\n",
            "\n",
            "Hidden Layer [128, 64] Dropout [0.2, 0.2] Max Learning Rate 0.01\n",
            "Training\n"
          ],
          "name": "stdout"
        },
        {
          "output_type": "stream",
          "text": [
            "epoch 1: 100%|██████████| 1517/1517 [00:13<00:00, 116.06it/s, loss=1.03]\n",
            "valid: 100%|██████████| 380/380 [00:02<00:00, 161.94it/s, loss=1.02]\n",
            "epoch 2: 100%|██████████| 1517/1517 [00:12<00:00, 119.12it/s, loss=1.02]\n",
            "valid: 100%|██████████| 380/380 [00:02<00:00, 155.85it/s, loss=1.02]\n",
            "epoch 3: 100%|██████████| 1517/1517 [00:13<00:00, 116.56it/s, loss=1.02]\n",
            "valid: 100%|██████████| 380/380 [00:02<00:00, 160.04it/s, loss=1.02]\n",
            "epoch 4: 100%|██████████| 1517/1517 [00:12<00:00, 118.78it/s, loss=1.02]\n",
            "valid: 100%|██████████| 380/380 [00:02<00:00, 162.18it/s, loss=1.02]\n",
            "epoch 5: 100%|██████████| 1517/1517 [00:13<00:00, 115.75it/s, loss=1.02]\n",
            "valid: 100%|██████████| 380/380 [00:02<00:00, 156.62it/s, loss=1.02]\n",
            "  0%|          | 0/1517 [00:00<?, ?it/s]"
          ],
          "name": "stderr"
        },
        {
          "output_type": "stream",
          "text": [
            "\n",
            "\n",
            "\n",
            "Hidden Layer [128, 64] Dropout [0.2, 0.2] Max Learning Rate 0.1\n",
            "Training\n"
          ],
          "name": "stdout"
        },
        {
          "output_type": "stream",
          "text": [
            "epoch 1: 100%|██████████| 1517/1517 [00:12<00:00, 130.93it/s, loss=1.03]\n",
            "valid: 100%|██████████| 380/380 [00:02<00:00, 167.80it/s, loss=1.02]\n",
            "epoch 2: 100%|██████████| 1517/1517 [00:12<00:00, 116.97it/s, loss=1.02]\n",
            "valid: 100%|██████████| 380/380 [00:02<00:00, 156.86it/s, loss=1.02]\n",
            "epoch 3: 100%|██████████| 1517/1517 [00:13<00:00, 115.49it/s, loss=1.02]\n",
            "valid: 100%|██████████| 380/380 [00:02<00:00, 150.96it/s, loss=1.02]\n",
            "epoch 4: 100%|██████████| 1517/1517 [00:12<00:00, 117.73it/s, loss=1.02]\n",
            "valid: 100%|██████████| 380/380 [00:02<00:00, 164.16it/s, loss=1.02]\n",
            "epoch 5: 100%|██████████| 1517/1517 [00:12<00:00, 117.97it/s, loss=1.02]\n",
            "valid: 100%|██████████| 380/380 [00:02<00:00, 156.91it/s, loss=1.02]\n",
            "  0%|          | 0/1517 [00:00<?, ?it/s]"
          ],
          "name": "stderr"
        },
        {
          "output_type": "stream",
          "text": [
            "\n",
            "\n",
            "\n",
            "Hidden Layer [128, 64] Dropout [0.2, 0.2] Max Learning Rate 1\n",
            "Training\n"
          ],
          "name": "stdout"
        },
        {
          "output_type": "stream",
          "text": [
            "epoch 1: 100%|██████████| 1517/1517 [00:12<00:00, 118.48it/s, loss=1.03]\n",
            "valid: 100%|██████████| 380/380 [00:02<00:00, 159.10it/s, loss=1.02]\n",
            "epoch 2: 100%|██████████| 1517/1517 [00:12<00:00, 118.74it/s, loss=1.02]\n",
            "valid: 100%|██████████| 380/380 [00:02<00:00, 151.29it/s, loss=1.02]\n",
            "epoch 3: 100%|██████████| 1517/1517 [00:13<00:00, 112.39it/s, loss=1.02]\n",
            "valid: 100%|██████████| 380/380 [00:02<00:00, 159.30it/s, loss=1.02]\n",
            "epoch 4: 100%|██████████| 1517/1517 [00:12<00:00, 117.00it/s, loss=1.02]\n",
            "valid: 100%|██████████| 380/380 [00:02<00:00, 153.07it/s, loss=1.02]\n",
            "epoch 5: 100%|██████████| 1517/1517 [00:12<00:00, 117.99it/s, loss=1.02]\n",
            "valid: 100%|██████████| 380/380 [00:02<00:00, 160.52it/s, loss=1.02]\n",
            "  0%|          | 0/1517 [00:00<?, ?it/s]"
          ],
          "name": "stderr"
        },
        {
          "output_type": "stream",
          "text": [
            "\n",
            "\n",
            "\n",
            "Hidden Layer [128, 64] Dropout [0.5, 0.5] Max Learning Rate 0.01\n",
            "Training\n"
          ],
          "name": "stdout"
        },
        {
          "output_type": "stream",
          "text": [
            "epoch 1: 100%|██████████| 1517/1517 [00:12<00:00, 117.04it/s, loss=1.04]\n",
            "valid: 100%|██████████| 380/380 [00:02<00:00, 153.20it/s, loss=1.02]\n",
            "epoch 2: 100%|██████████| 1517/1517 [00:13<00:00, 115.54it/s, loss=1.03]\n",
            "valid: 100%|██████████| 380/380 [00:02<00:00, 158.32it/s, loss=1.02]\n",
            "epoch 3: 100%|██████████| 1517/1517 [00:13<00:00, 115.35it/s, loss=1.03]\n",
            "valid: 100%|██████████| 380/380 [00:02<00:00, 148.86it/s, loss=1.02]\n",
            "epoch 4: 100%|██████████| 1517/1517 [00:12<00:00, 117.65it/s, loss=1.03]\n",
            "valid: 100%|██████████| 380/380 [00:02<00:00, 155.71it/s, loss=1.02]\n",
            "epoch 5: 100%|██████████| 1517/1517 [00:12<00:00, 118.51it/s, loss=1.03]\n",
            "valid: 100%|██████████| 380/380 [00:02<00:00, 155.70it/s, loss=1.02]\n",
            "  0%|          | 0/1517 [00:00<?, ?it/s]"
          ],
          "name": "stderr"
        },
        {
          "output_type": "stream",
          "text": [
            "\n",
            "\n",
            "\n",
            "Hidden Layer [128, 64] Dropout [0.5, 0.5] Max Learning Rate 0.1\n",
            "Training\n"
          ],
          "name": "stdout"
        },
        {
          "output_type": "stream",
          "text": [
            "epoch 1: 100%|██████████| 1517/1517 [00:12<00:00, 118.04it/s, loss=1.04]\n",
            "valid: 100%|██████████| 380/380 [00:02<00:00, 157.76it/s, loss=1.02]\n",
            "epoch 2: 100%|██████████| 1517/1517 [00:12<00:00, 118.36it/s, loss=1.03]\n",
            "valid: 100%|██████████| 380/380 [00:02<00:00, 157.59it/s, loss=1.02]\n",
            "epoch 3: 100%|██████████| 1517/1517 [00:12<00:00, 116.85it/s, loss=1.03]\n",
            "valid: 100%|██████████| 380/380 [00:02<00:00, 152.66it/s, loss=1.02]\n",
            "epoch 4: 100%|██████████| 1517/1517 [00:13<00:00, 114.52it/s, loss=1.03]\n",
            "valid: 100%|██████████| 380/380 [00:02<00:00, 153.13it/s, loss=1.02]\n",
            "epoch 5: 100%|██████████| 1517/1517 [00:12<00:00, 117.12it/s, loss=1.03]\n",
            "valid: 100%|██████████| 380/380 [00:02<00:00, 158.21it/s, loss=1.02]\n",
            "  0%|          | 0/1517 [00:00<?, ?it/s]"
          ],
          "name": "stderr"
        },
        {
          "output_type": "stream",
          "text": [
            "\n",
            "\n",
            "\n",
            "Hidden Layer [128, 64] Dropout [0.5, 0.5] Max Learning Rate 1\n",
            "Training\n"
          ],
          "name": "stdout"
        },
        {
          "output_type": "stream",
          "text": [
            "epoch 1: 100%|██████████| 1517/1517 [00:12<00:00, 116.81it/s, loss=1.04]\n",
            "valid: 100%|██████████| 380/380 [00:02<00:00, 149.16it/s, loss=1.02]\n",
            "epoch 2: 100%|██████████| 1517/1517 [00:12<00:00, 118.07it/s, loss=1.03]\n",
            "valid: 100%|██████████| 380/380 [00:02<00:00, 159.07it/s, loss=1.02]\n",
            "epoch 3: 100%|██████████| 1517/1517 [00:13<00:00, 110.29it/s, loss=1.03]\n",
            "valid: 100%|██████████| 380/380 [00:02<00:00, 150.48it/s, loss=1.02]\n",
            "epoch 4: 100%|██████████| 1517/1517 [00:12<00:00, 118.83it/s, loss=1.03]\n",
            "valid: 100%|██████████| 380/380 [00:02<00:00, 154.71it/s, loss=1.02]\n",
            "epoch 5: 100%|██████████| 1517/1517 [00:13<00:00, 125.77it/s, loss=1.03]\n",
            "valid: 100%|██████████| 380/380 [00:02<00:00, 163.28it/s, loss=1.02]\n",
            "  0%|          | 0/1517 [00:00<?, ?it/s]"
          ],
          "name": "stderr"
        },
        {
          "output_type": "stream",
          "text": [
            "\n",
            "\n",
            "\n",
            "Hidden Layer [64, 32, 16] Dropout [0.2, 0.2, 0.2] Max Learning Rate 0.01\n",
            "Training\n"
          ],
          "name": "stdout"
        },
        {
          "output_type": "stream",
          "text": [
            "epoch 1: 100%|██████████| 1517/1517 [00:13<00:00, 114.20it/s, loss=1.04]\n",
            "valid: 100%|██████████| 380/380 [00:02<00:00, 159.57it/s, loss=1.02]\n",
            "epoch 2: 100%|██████████| 1517/1517 [00:14<00:00, 108.07it/s, loss=1.03]\n",
            "valid: 100%|██████████| 380/380 [00:02<00:00, 155.30it/s, loss=1.02]\n",
            "epoch 3: 100%|██████████| 1517/1517 [00:13<00:00, 111.91it/s, loss=1.03]\n",
            "valid: 100%|██████████| 380/380 [00:02<00:00, 154.06it/s, loss=1.02]\n",
            "epoch 4: 100%|██████████| 1517/1517 [00:13<00:00, 123.28it/s, loss=1.03]\n",
            "valid: 100%|██████████| 380/380 [00:02<00:00, 156.37it/s, loss=1.02]\n",
            "epoch 5: 100%|██████████| 1517/1517 [00:13<00:00, 111.78it/s, loss=1.03]\n",
            "valid: 100%|██████████| 380/380 [00:02<00:00, 147.43it/s, loss=1.02]\n",
            "  0%|          | 0/1517 [00:00<?, ?it/s]"
          ],
          "name": "stderr"
        },
        {
          "output_type": "stream",
          "text": [
            "\n",
            "\n",
            "\n",
            "Hidden Layer [64, 32, 16] Dropout [0.2, 0.2, 0.2] Max Learning Rate 0.1\n",
            "Training\n"
          ],
          "name": "stdout"
        },
        {
          "output_type": "stream",
          "text": [
            "epoch 1: 100%|██████████| 1517/1517 [00:13<00:00, 110.22it/s, loss=1.04]\n",
            "valid: 100%|██████████| 380/380 [00:02<00:00, 157.02it/s, loss=1.02]\n",
            "epoch 2: 100%|██████████| 1517/1517 [00:13<00:00, 111.61it/s, loss=1.03]\n",
            "valid: 100%|██████████| 380/380 [00:02<00:00, 163.81it/s, loss=1.02]\n",
            "epoch 3: 100%|██████████| 1517/1517 [00:13<00:00, 111.45it/s, loss=1.03]\n",
            "valid: 100%|██████████| 380/380 [00:02<00:00, 152.69it/s, loss=1.02]\n",
            "epoch 4: 100%|██████████| 1517/1517 [00:14<00:00, 107.41it/s, loss=1.03]\n",
            "valid: 100%|██████████| 380/380 [00:02<00:00, 154.59it/s, loss=1.02]\n",
            "epoch 5: 100%|██████████| 1517/1517 [00:13<00:00, 109.63it/s, loss=1.03]\n",
            "valid: 100%|██████████| 380/380 [00:02<00:00, 152.55it/s, loss=1.02]\n",
            "  0%|          | 0/1517 [00:00<?, ?it/s]"
          ],
          "name": "stderr"
        },
        {
          "output_type": "stream",
          "text": [
            "\n",
            "\n",
            "\n",
            "Hidden Layer [64, 32, 16] Dropout [0.2, 0.2, 0.2] Max Learning Rate 1\n",
            "Training\n"
          ],
          "name": "stdout"
        },
        {
          "output_type": "stream",
          "text": [
            "epoch 1: 100%|██████████| 1517/1517 [00:13<00:00, 109.62it/s, loss=1.04]\n",
            "valid: 100%|██████████| 380/380 [00:02<00:00, 159.12it/s, loss=1.02]\n",
            "epoch 2: 100%|██████████| 1517/1517 [00:13<00:00, 110.94it/s, loss=1.03]\n",
            "valid: 100%|██████████| 380/380 [00:02<00:00, 152.03it/s, loss=1.02]\n",
            "epoch 3: 100%|██████████| 1517/1517 [00:13<00:00, 109.64it/s, loss=1.03]\n",
            "valid: 100%|██████████| 380/380 [00:02<00:00, 154.28it/s, loss=1.02]\n",
            "epoch 4: 100%|██████████| 1517/1517 [00:13<00:00, 111.53it/s, loss=1.03]\n",
            "valid: 100%|██████████| 380/380 [00:02<00:00, 157.98it/s, loss=1.02]\n",
            "epoch 5: 100%|██████████| 1517/1517 [00:13<00:00, 111.14it/s, loss=1.03]\n",
            "valid: 100%|██████████| 380/380 [00:02<00:00, 157.69it/s, loss=1.02]\n",
            "  0%|          | 0/1517 [00:00<?, ?it/s]"
          ],
          "name": "stderr"
        },
        {
          "output_type": "stream",
          "text": [
            "\n",
            "\n",
            "\n",
            "Hidden Layer [64, 32, 16] Dropout [0.5, 0.5, 0.5] Max Learning Rate 0.01\n",
            "Training\n"
          ],
          "name": "stdout"
        },
        {
          "output_type": "stream",
          "text": [
            "epoch 1: 100%|██████████| 1517/1517 [00:13<00:00, 112.19it/s, loss=1.07]\n",
            "valid: 100%|██████████| 380/380 [00:02<00:00, 149.01it/s, loss=1.03]\n",
            "epoch 2: 100%|██████████| 1517/1517 [00:14<00:00, 108.10it/s, loss=1.06]\n",
            "valid: 100%|██████████| 380/380 [00:02<00:00, 151.95it/s, loss=1.03]\n",
            "epoch 3: 100%|██████████| 1517/1517 [00:13<00:00, 109.88it/s, loss=1.05]\n",
            "valid: 100%|██████████| 380/380 [00:02<00:00, 153.89it/s, loss=1.03]\n",
            "epoch 4: 100%|██████████| 1517/1517 [00:13<00:00, 110.32it/s, loss=1.05]\n",
            "valid: 100%|██████████| 380/380 [00:02<00:00, 157.72it/s, loss=1.03]\n",
            "epoch 5: 100%|██████████| 1517/1517 [00:13<00:00, 118.31it/s, loss=1.05]\n",
            "valid: 100%|██████████| 380/380 [00:02<00:00, 156.68it/s, loss=1.03]\n",
            "  0%|          | 0/1517 [00:00<?, ?it/s]"
          ],
          "name": "stderr"
        },
        {
          "output_type": "stream",
          "text": [
            "\n",
            "\n",
            "\n",
            "Hidden Layer [64, 32, 16] Dropout [0.5, 0.5, 0.5] Max Learning Rate 0.1\n",
            "Training\n"
          ],
          "name": "stdout"
        },
        {
          "output_type": "stream",
          "text": [
            "epoch 1: 100%|██████████| 1517/1517 [00:13<00:00, 112.03it/s, loss=1.07]\n",
            "valid: 100%|██████████| 380/380 [00:02<00:00, 156.04it/s, loss=1.03]\n",
            "epoch 2: 100%|██████████| 1517/1517 [00:13<00:00, 108.39it/s, loss=1.06]\n",
            "valid: 100%|██████████| 380/380 [00:02<00:00, 156.87it/s, loss=1.03]\n",
            "epoch 3: 100%|██████████| 1517/1517 [00:13<00:00, 110.47it/s, loss=1.05]\n",
            "valid: 100%|██████████| 380/380 [00:02<00:00, 179.89it/s, loss=1.03]\n",
            "epoch 4: 100%|██████████| 1517/1517 [00:13<00:00, 109.97it/s, loss=1.05]\n",
            "valid: 100%|██████████| 380/380 [00:02<00:00, 158.91it/s, loss=1.03]\n",
            "epoch 5: 100%|██████████| 1517/1517 [00:13<00:00, 114.55it/s, loss=1.05]\n",
            "valid: 100%|██████████| 380/380 [00:02<00:00, 154.92it/s, loss=1.03]\n",
            "  0%|          | 0/1517 [00:00<?, ?it/s]"
          ],
          "name": "stderr"
        },
        {
          "output_type": "stream",
          "text": [
            "\n",
            "\n",
            "\n",
            "Hidden Layer [64, 32, 16] Dropout [0.5, 0.5, 0.5] Max Learning Rate 1\n",
            "Training\n"
          ],
          "name": "stdout"
        },
        {
          "output_type": "stream",
          "text": [
            "epoch 1: 100%|██████████| 1517/1517 [00:13<00:00, 109.84it/s, loss=1.07]\n",
            "valid: 100%|██████████| 380/380 [00:02<00:00, 153.71it/s, loss=1.03]\n",
            "epoch 2: 100%|██████████| 1517/1517 [00:13<00:00, 113.03it/s, loss=1.06]\n",
            "valid: 100%|██████████| 380/380 [00:02<00:00, 148.72it/s, loss=1.03]\n",
            "epoch 3: 100%|██████████| 1517/1517 [00:13<00:00, 108.58it/s, loss=1.05]\n",
            "valid: 100%|██████████| 380/380 [00:02<00:00, 155.56it/s, loss=1.03]\n",
            "epoch 4: 100%|██████████| 1517/1517 [00:13<00:00, 109.61it/s, loss=1.05]\n",
            "valid: 100%|██████████| 380/380 [00:02<00:00, 157.88it/s, loss=1.03]\n",
            "epoch 5: 100%|██████████| 1517/1517 [00:13<00:00, 112.82it/s, loss=1.05]\n",
            "valid: 100%|██████████| 380/380 [00:02<00:00, 158.43it/s, loss=1.03]\n",
            "  0%|          | 0/1517 [00:00<?, ?it/s]"
          ],
          "name": "stderr"
        },
        {
          "output_type": "stream",
          "text": [
            "\n",
            "\n",
            "\n",
            "Hidden Layer [128, 64, 32] Dropout [0.2, 0.2, 0.2] Max Learning Rate 0.01\n",
            "Training\n"
          ],
          "name": "stdout"
        },
        {
          "output_type": "stream",
          "text": [
            "epoch 1: 100%|██████████| 1517/1517 [00:13<00:00, 112.10it/s, loss=1.04]\n",
            "valid: 100%|██████████| 380/380 [00:02<00:00, 149.04it/s, loss=1.02]\n",
            "epoch 2: 100%|██████████| 1517/1517 [00:13<00:00, 111.95it/s, loss=1.03]\n",
            "valid: 100%|██████████| 380/380 [00:02<00:00, 156.34it/s, loss=1.02]\n",
            "epoch 3: 100%|██████████| 1517/1517 [00:13<00:00, 110.89it/s, loss=1.03]\n",
            "valid: 100%|██████████| 380/380 [00:02<00:00, 158.32it/s, loss=1.02]\n",
            "epoch 4: 100%|██████████| 1517/1517 [00:13<00:00, 112.26it/s, loss=1.03]\n",
            "valid: 100%|██████████| 380/380 [00:02<00:00, 155.44it/s, loss=1.02]\n",
            "epoch 5: 100%|██████████| 1517/1517 [00:13<00:00, 111.32it/s, loss=1.02]\n",
            "valid: 100%|██████████| 380/380 [00:02<00:00, 159.20it/s, loss=1.02]\n",
            "  0%|          | 0/1517 [00:00<?, ?it/s]"
          ],
          "name": "stderr"
        },
        {
          "output_type": "stream",
          "text": [
            "\n",
            "\n",
            "\n",
            "Hidden Layer [128, 64, 32] Dropout [0.2, 0.2, 0.2] Max Learning Rate 0.1\n",
            "Training\n"
          ],
          "name": "stdout"
        },
        {
          "output_type": "stream",
          "text": [
            "epoch 1: 100%|██████████| 1517/1517 [00:13<00:00, 111.25it/s, loss=1.04]\n",
            "valid: 100%|██████████| 380/380 [00:02<00:00, 153.79it/s, loss=1.02]\n",
            "epoch 2: 100%|██████████| 1517/1517 [00:13<00:00, 110.33it/s, loss=1.03]\n",
            "valid: 100%|██████████| 380/380 [00:02<00:00, 156.37it/s, loss=1.02]\n",
            "epoch 3: 100%|██████████| 1517/1517 [00:13<00:00, 109.97it/s, loss=1.03]\n",
            "valid: 100%|██████████| 380/380 [00:02<00:00, 149.92it/s, loss=1.02]\n",
            "epoch 4: 100%|██████████| 1517/1517 [00:13<00:00, 110.77it/s, loss=1.03]\n",
            "valid: 100%|██████████| 380/380 [00:02<00:00, 154.88it/s, loss=1.02]\n",
            "epoch 5: 100%|██████████| 1517/1517 [00:13<00:00, 111.82it/s, loss=1.02]\n",
            "valid: 100%|██████████| 380/380 [00:02<00:00, 153.52it/s, loss=1.02]\n",
            "  0%|          | 0/1517 [00:00<?, ?it/s]"
          ],
          "name": "stderr"
        },
        {
          "output_type": "stream",
          "text": [
            "\n",
            "\n",
            "\n",
            "Hidden Layer [128, 64, 32] Dropout [0.2, 0.2, 0.2] Max Learning Rate 1\n",
            "Training\n"
          ],
          "name": "stdout"
        },
        {
          "output_type": "stream",
          "text": [
            "epoch 1: 100%|██████████| 1517/1517 [00:13<00:00, 110.97it/s, loss=1.04]\n",
            "valid: 100%|██████████| 380/380 [00:02<00:00, 152.70it/s, loss=1.02]\n",
            "epoch 2: 100%|██████████| 1517/1517 [00:13<00:00, 110.53it/s, loss=1.03]\n",
            "valid: 100%|██████████| 380/380 [00:02<00:00, 149.04it/s, loss=1.02]\n",
            "epoch 3: 100%|██████████| 1517/1517 [00:13<00:00, 109.63it/s, loss=1.03]\n",
            "valid: 100%|██████████| 380/380 [00:02<00:00, 154.35it/s, loss=1.02]\n",
            "epoch 4: 100%|██████████| 1517/1517 [00:13<00:00, 110.45it/s, loss=1.02]\n",
            "valid: 100%|██████████| 380/380 [00:02<00:00, 148.79it/s, loss=1.02]\n",
            "epoch 5: 100%|██████████| 1517/1517 [00:13<00:00, 111.12it/s, loss=1.02]\n",
            "valid: 100%|██████████| 380/380 [00:02<00:00, 151.11it/s, loss=1.02]\n",
            "  0%|          | 0/1517 [00:00<?, ?it/s]"
          ],
          "name": "stderr"
        },
        {
          "output_type": "stream",
          "text": [
            "\n",
            "\n",
            "\n",
            "Hidden Layer [128, 64, 32] Dropout [0.5, 0.5, 0.5] Max Learning Rate 0.01\n",
            "Training\n"
          ],
          "name": "stdout"
        },
        {
          "output_type": "stream",
          "text": [
            "epoch 1: 100%|██████████| 1517/1517 [00:14<00:00, 108.27it/s, loss=1.06]\n",
            "valid: 100%|██████████| 380/380 [00:02<00:00, 165.24it/s, loss=1.03]\n",
            "epoch 2: 100%|██████████| 1517/1517 [00:13<00:00, 110.58it/s, loss=1.04]\n",
            "valid: 100%|██████████| 380/380 [00:02<00:00, 157.34it/s, loss=1.03]\n",
            "epoch 3: 100%|██████████| 1517/1517 [00:13<00:00, 109.01it/s, loss=1.04]\n",
            "valid: 100%|██████████| 380/380 [00:02<00:00, 154.64it/s, loss=1.02]\n",
            "epoch 4: 100%|██████████| 1517/1517 [00:13<00:00, 110.39it/s, loss=1.04]\n",
            "valid: 100%|██████████| 380/380 [00:02<00:00, 156.55it/s, loss=1.02]\n",
            "epoch 5: 100%|██████████| 1517/1517 [00:13<00:00, 110.07it/s, loss=1.04]\n",
            "valid: 100%|██████████| 380/380 [00:02<00:00, 149.42it/s, loss=1.02]\n",
            "  0%|          | 0/1517 [00:00<?, ?it/s]"
          ],
          "name": "stderr"
        },
        {
          "output_type": "stream",
          "text": [
            "\n",
            "\n",
            "\n",
            "Hidden Layer [128, 64, 32] Dropout [0.5, 0.5, 0.5] Max Learning Rate 0.1\n",
            "Training\n"
          ],
          "name": "stdout"
        },
        {
          "output_type": "stream",
          "text": [
            "epoch 1: 100%|██████████| 1517/1517 [00:14<00:00, 107.60it/s, loss=1.06]\n",
            "valid: 100%|██████████| 380/380 [00:02<00:00, 150.22it/s, loss=1.02]\n",
            "epoch 2: 100%|██████████| 1517/1517 [00:13<00:00, 109.62it/s, loss=1.04]\n",
            "valid: 100%|██████████| 380/380 [00:02<00:00, 160.01it/s, loss=1.02]\n",
            "epoch 3: 100%|██████████| 1517/1517 [00:14<00:00, 107.36it/s, loss=1.04]\n",
            "valid: 100%|██████████| 380/380 [00:02<00:00, 159.86it/s, loss=1.02]\n",
            "epoch 4: 100%|██████████| 1517/1517 [00:13<00:00, 108.89it/s, loss=1.04]\n",
            "valid: 100%|██████████| 380/380 [00:02<00:00, 156.55it/s, loss=1.02]\n",
            "epoch 5: 100%|██████████| 1517/1517 [00:14<00:00, 103.84it/s, loss=1.04]\n",
            "valid: 100%|██████████| 380/380 [00:02<00:00, 157.81it/s, loss=1.02]\n",
            "  0%|          | 0/1517 [00:00<?, ?it/s]"
          ],
          "name": "stderr"
        },
        {
          "output_type": "stream",
          "text": [
            "\n",
            "\n",
            "\n",
            "Hidden Layer [128, 64, 32] Dropout [0.5, 0.5, 0.5] Max Learning Rate 1\n",
            "Training\n"
          ],
          "name": "stdout"
        },
        {
          "output_type": "stream",
          "text": [
            "epoch 1: 100%|██████████| 1517/1517 [00:13<00:00, 109.54it/s, loss=1.06]\n",
            "valid: 100%|██████████| 380/380 [00:02<00:00, 158.00it/s, loss=1.03]\n",
            "epoch 2: 100%|██████████| 1517/1517 [00:14<00:00, 106.65it/s, loss=1.04]\n",
            "valid: 100%|██████████| 380/380 [00:02<00:00, 152.36it/s, loss=1.02]\n",
            "epoch 3: 100%|██████████| 1517/1517 [00:13<00:00, 113.68it/s, loss=1.04]\n",
            "valid: 100%|██████████| 380/380 [00:02<00:00, 152.06it/s, loss=1.03]\n",
            "epoch 4: 100%|██████████| 1517/1517 [00:13<00:00, 111.25it/s, loss=1.04]\n",
            "valid: 100%|██████████| 380/380 [00:02<00:00, 152.77it/s, loss=1.02]\n",
            "epoch 5: 100%|██████████| 1517/1517 [00:13<00:00, 112.19it/s, loss=1.04]\n",
            "valid: 100%|██████████| 380/380 [00:02<00:00, 154.19it/s, loss=1.02]\n"
          ],
          "name": "stderr"
        },
        {
          "output_type": "stream",
          "text": [
            "\n",
            "\n",
            "\n"
          ],
          "name": "stdout"
        }
      ]
    },
    {
      "cell_type": "markdown",
      "metadata": {
        "id": "WdBYFMi1Tm9z",
        "colab_type": "text"
      },
      "source": [
        "### Since the gridsearch reveals that all the models are converging to nearly the same value, we test out a significantly more complex model with a larger number of epochs to see if it makes any difference"
      ]
    },
    {
      "cell_type": "code",
      "metadata": {
        "id": "0x9pUQS8RCaT",
        "colab_type": "code",
        "outputId": "c819a990-6a11-495f-8b58-912f8c3eba57",
        "colab": {
          "base_uri": "https://localhost:8080/",
          "height": 770
        }
      },
      "source": [
        "deep_component_complex = DeepDense(hidden_layers=[256,128,64,32,16], dropout=[0.5,0.5,0.5,0.5,0.5], \n",
        "                      deep_column_idx=deep_pre.deep_column_idx,\n",
        "                      embed_input=deep_pre.embeddings_input,\n",
        "                      continuous_cols=continuous_cols)\n",
        "model_complex = WideDeep(wide=wide_component, deepdense=deep_component_complex)\n",
        "model_complex.compile(method='regression')\n",
        "model_complex.fit(X_wide=X_wide, X_deep=X_deep, target=target_rating, n_epochs=20, batch_size=256, val_split=0.2)"
      ],
      "execution_count": 30,
      "outputs": [
        {
          "output_type": "stream",
          "text": [
            "\r  0%|          | 0/1517 [00:00<?, ?it/s]"
          ],
          "name": "stderr"
        },
        {
          "output_type": "stream",
          "text": [
            "Training\n"
          ],
          "name": "stdout"
        },
        {
          "output_type": "stream",
          "text": [
            "epoch 1: 100%|██████████| 1517/1517 [00:15<00:00, 96.10it/s, loss=1.08]\n",
            "valid: 100%|██████████| 380/380 [00:02<00:00, 148.90it/s, loss=1.04]\n",
            "epoch 2: 100%|██████████| 1517/1517 [00:15<00:00, 98.04it/s, loss=1.06] \n",
            "valid: 100%|██████████| 380/380 [00:02<00:00, 151.30it/s, loss=1.03]\n",
            "epoch 3: 100%|██████████| 1517/1517 [00:15<00:00, 106.54it/s, loss=1.05]\n",
            "valid: 100%|██████████| 380/380 [00:02<00:00, 145.97it/s, loss=1.03]\n",
            "epoch 4: 100%|██████████| 1517/1517 [00:15<00:00, 102.38it/s, loss=1.05]\n",
            "valid: 100%|██████████| 380/380 [00:02<00:00, 145.90it/s, loss=1.03]\n",
            "epoch 5: 100%|██████████| 1517/1517 [00:15<00:00, 97.06it/s, loss=1.05]\n",
            "valid: 100%|██████████| 380/380 [00:02<00:00, 142.63it/s, loss=1.03]\n",
            "epoch 6: 100%|██████████| 1517/1517 [00:15<00:00, 97.39it/s, loss=1.05]\n",
            "valid: 100%|██████████| 380/380 [00:02<00:00, 144.00it/s, loss=1.03]\n",
            "epoch 7: 100%|██████████| 1517/1517 [00:15<00:00, 101.47it/s, loss=1.05]\n",
            "valid: 100%|██████████| 380/380 [00:02<00:00, 148.75it/s, loss=1.03]\n",
            "epoch 8: 100%|██████████| 1517/1517 [00:15<00:00, 97.35it/s, loss=1.05]\n",
            "valid: 100%|██████████| 380/380 [00:02<00:00, 140.48it/s, loss=1.03]\n",
            "epoch 9: 100%|██████████| 1517/1517 [00:15<00:00, 105.09it/s, loss=1.05]\n",
            "valid: 100%|██████████| 380/380 [00:02<00:00, 162.31it/s, loss=1.03]\n",
            "epoch 10: 100%|██████████| 1517/1517 [00:15<00:00, 97.00it/s, loss=1.05] \n",
            "valid: 100%|██████████| 380/380 [00:02<00:00, 146.84it/s, loss=1.02]\n",
            "epoch 11: 100%|██████████| 1517/1517 [00:15<00:00, 98.53it/s, loss=1.04]\n",
            "valid: 100%|██████████| 380/380 [00:02<00:00, 146.90it/s, loss=1.03]\n",
            "epoch 12: 100%|██████████| 1517/1517 [00:16<00:00, 94.65it/s, loss=1.04]\n",
            "valid: 100%|██████████| 380/380 [00:02<00:00, 139.13it/s, loss=1.02]\n",
            "epoch 13: 100%|██████████| 1517/1517 [00:16<00:00, 91.29it/s, loss=1.04]\n",
            "valid: 100%|██████████| 380/380 [00:02<00:00, 140.12it/s, loss=1.02]\n",
            "epoch 14: 100%|██████████| 1517/1517 [00:16<00:00, 90.60it/s, loss=1.04]\n",
            "valid: 100%|██████████| 380/380 [00:02<00:00, 134.01it/s, loss=1.03]\n",
            "epoch 15: 100%|██████████| 1517/1517 [00:16<00:00, 89.97it/s, loss=1.04]\n",
            "valid: 100%|██████████| 380/380 [00:02<00:00, 139.10it/s, loss=1.02]\n",
            "epoch 16: 100%|██████████| 1517/1517 [00:15<00:00, 96.64it/s, loss=1.04]\n",
            "valid: 100%|██████████| 380/380 [00:02<00:00, 137.50it/s, loss=1.02]\n",
            "epoch 17: 100%|██████████| 1517/1517 [00:15<00:00, 94.90it/s, loss=1.04]\n",
            "valid: 100%|██████████| 380/380 [00:02<00:00, 140.89it/s, loss=1.03]\n",
            "epoch 18: 100%|██████████| 1517/1517 [00:16<00:00, 93.22it/s, loss=1.04]\n",
            "valid: 100%|██████████| 380/380 [00:02<00:00, 139.90it/s, loss=1.02]\n",
            "epoch 19: 100%|██████████| 1517/1517 [00:15<00:00, 96.56it/s, loss=1.04] \n",
            "valid: 100%|██████████| 380/380 [00:02<00:00, 146.07it/s, loss=1.03]\n",
            "epoch 20: 100%|██████████| 1517/1517 [00:15<00:00, 96.08it/s, loss=1.04] \n",
            "valid: 100%|██████████| 380/380 [00:02<00:00, 140.81it/s, loss=1.03]\n"
          ],
          "name": "stderr"
        }
      ]
    },
    {
      "cell_type": "markdown",
      "metadata": {
        "id": "EptMPFTOUbd9",
        "colab_type": "text"
      },
      "source": [
        "### Seeing that even a complex model doesn't converge to a lower value, we feel that either the model has converged to a global minima or is completely stuck at a local minima.  \n",
        "  \n",
        "\n",
        "### We will now attempt to see if MCA for categorical data and PCA for continuous data improves our model"
      ]
    },
    {
      "cell_type": "code",
      "metadata": {
        "id": "Njy-lPXy_tew",
        "colab_type": "code",
        "colab": {
          "base_uri": "https://localhost:8080/",
          "height": 35
        },
        "outputId": "a6d455dc-5940-4af1-9293-4b7094267686"
      },
      "source": [
        "mca_input = sample_df.iloc[:, 11:46]\n",
        "mca_input.shape"
      ],
      "execution_count": 11,
      "outputs": [
        {
          "output_type": "execute_result",
          "data": {
            "text/plain": [
              "(629155, 35)"
            ]
          },
          "metadata": {
            "tags": []
          },
          "execution_count": 11
        }
      ]
    },
    {
      "cell_type": "code",
      "metadata": {
        "id": "wPPTd6QsALTn",
        "colab_type": "code",
        "colab": {
          "base_uri": "https://localhost:8080/",
          "height": 1000
        },
        "outputId": "5d7fc510-2f0f-4d20-fec2-2ff4b557ee61"
      },
      "source": [
        "mca = prince.MCA()\n",
        "mca = mca.fit(mca_input)\n",
        "mca = mca.transform(mca_input)"
      ],
      "execution_count": 12,
      "outputs": [
        {
          "output_type": "stream",
          "text": [
            "/usr/local/lib/python3.6/dist-packages/prince/one_hot.py:35: FutureWarning: SparseDataFrame is deprecated and will be removed in a future version.\n",
            "Use a regular DataFrame whose columns are SparseArrays instead.\n",
            "\n",
            "See http://pandas.pydata.org/pandas-docs/stable/user_guide/sparse.html#migrating for more.\n",
            "\n",
            "  default_fill_value=0\n",
            "/usr/local/lib/python3.6/dist-packages/pandas/core/sparse/frame.py:257: FutureWarning: SparseSeries is deprecated and will be removed in a future version.\n",
            "Use a Series with sparse values instead.\n",
            "\n",
            "    >>> series = pd.Series(pd.SparseArray(...))\n",
            "\n",
            "See http://pandas.pydata.org/pandas-docs/stable/user_guide/sparse.html#migrating for more.\n",
            "\n",
            "  sparse_index=BlockIndex(N, blocs, blens),\n",
            "/usr/local/lib/python3.6/dist-packages/pandas/core/frame.py:3471: FutureWarning: SparseSeries is deprecated and will be removed in a future version.\n",
            "Use a Series with sparse values instead.\n",
            "\n",
            "    >>> series = pd.Series(pd.SparseArray(...))\n",
            "\n",
            "See http://pandas.pydata.org/pandas-docs/stable/user_guide/sparse.html#migrating for more.\n",
            "\n",
            "  return klass(values, index=self.index, name=items, fastpath=True)\n",
            "/usr/local/lib/python3.6/dist-packages/pandas/core/ops/__init__.py:1641: FutureWarning: SparseSeries is deprecated and will be removed in a future version.\n",
            "Use a Series with sparse values instead.\n",
            "\n",
            "    >>> series = pd.Series(pd.SparseArray(...))\n",
            "\n",
            "See http://pandas.pydata.org/pandas-docs/stable/user_guide/sparse.html#migrating for more.\n",
            "\n",
            "  return self._constructor(new_values, index=self.index, name=self.name)\n",
            "/usr/local/lib/python3.6/dist-packages/pandas/core/sparse/frame.py:339: FutureWarning: SparseDataFrame is deprecated and will be removed in a future version.\n",
            "Use a regular DataFrame whose columns are SparseArrays instead.\n",
            "\n",
            "See http://pandas.pydata.org/pandas-docs/stable/user_guide/sparse.html#migrating for more.\n",
            "\n",
            "  default_fill_value=self.default_fill_value,\n",
            "/usr/local/lib/python3.6/dist-packages/pandas/core/generic.py:6289: FutureWarning: SparseDataFrame is deprecated and will be removed in a future version.\n",
            "Use a regular DataFrame whose columns are SparseArrays instead.\n",
            "\n",
            "See http://pandas.pydata.org/pandas-docs/stable/user_guide/sparse.html#migrating for more.\n",
            "\n",
            "  return self._constructor(new_data).__finalize__(self)\n",
            "/usr/local/lib/python3.6/dist-packages/pandas/core/generic.py:5884: FutureWarning: SparseSeries is deprecated and will be removed in a future version.\n",
            "Use a Series with sparse values instead.\n",
            "\n",
            "    >>> series = pd.Series(pd.SparseArray(...))\n",
            "\n",
            "See http://pandas.pydata.org/pandas-docs/stable/user_guide/sparse.html#migrating for more.\n",
            "\n",
            "  return self._constructor(new_data).__finalize__(self)\n",
            "/usr/local/lib/python3.6/dist-packages/prince/one_hot.py:35: FutureWarning: SparseDataFrame is deprecated and will be removed in a future version.\n",
            "Use a regular DataFrame whose columns are SparseArrays instead.\n",
            "\n",
            "See http://pandas.pydata.org/pandas-docs/stable/user_guide/sparse.html#migrating for more.\n",
            "\n",
            "  default_fill_value=0\n",
            "/usr/local/lib/python3.6/dist-packages/pandas/core/sparse/frame.py:257: FutureWarning: SparseSeries is deprecated and will be removed in a future version.\n",
            "Use a Series with sparse values instead.\n",
            "\n",
            "    >>> series = pd.Series(pd.SparseArray(...))\n",
            "\n",
            "See http://pandas.pydata.org/pandas-docs/stable/user_guide/sparse.html#migrating for more.\n",
            "\n",
            "  sparse_index=BlockIndex(N, blocs, blens),\n",
            "/usr/local/lib/python3.6/dist-packages/pandas/core/frame.py:3471: FutureWarning: SparseSeries is deprecated and will be removed in a future version.\n",
            "Use a Series with sparse values instead.\n",
            "\n",
            "    >>> series = pd.Series(pd.SparseArray(...))\n",
            "\n",
            "See http://pandas.pydata.org/pandas-docs/stable/user_guide/sparse.html#migrating for more.\n",
            "\n",
            "  return klass(values, index=self.index, name=items, fastpath=True)\n"
          ],
          "name": "stderr"
        }
      ]
    },
    {
      "cell_type": "code",
      "metadata": {
        "id": "Y3cto8xKAWZM",
        "colab_type": "code",
        "colab": {
          "base_uri": "https://localhost:8080/",
          "height": 424
        },
        "outputId": "5d1f075b-a0ca-4532-e4e4-86904ee932e9"
      },
      "source": [
        "mca"
      ],
      "execution_count": 13,
      "outputs": [
        {
          "output_type": "execute_result",
          "data": {
            "text/html": [
              "<div>\n",
              "<style scoped>\n",
              "    .dataframe tbody tr th:only-of-type {\n",
              "        vertical-align: middle;\n",
              "    }\n",
              "\n",
              "    .dataframe tbody tr th {\n",
              "        vertical-align: top;\n",
              "    }\n",
              "\n",
              "    .dataframe thead th {\n",
              "        text-align: right;\n",
              "    }\n",
              "</style>\n",
              "<table border=\"1\" class=\"dataframe\">\n",
              "  <thead>\n",
              "    <tr style=\"text-align: right;\">\n",
              "      <th></th>\n",
              "      <th>0</th>\n",
              "      <th>1</th>\n",
              "    </tr>\n",
              "  </thead>\n",
              "  <tbody>\n",
              "    <tr>\n",
              "      <th>0</th>\n",
              "      <td>-0.108593</td>\n",
              "      <td>-0.085034</td>\n",
              "    </tr>\n",
              "    <tr>\n",
              "      <th>1</th>\n",
              "      <td>-0.108593</td>\n",
              "      <td>-0.085034</td>\n",
              "    </tr>\n",
              "    <tr>\n",
              "      <th>2</th>\n",
              "      <td>-0.108593</td>\n",
              "      <td>-0.085034</td>\n",
              "    </tr>\n",
              "    <tr>\n",
              "      <th>3</th>\n",
              "      <td>-0.108593</td>\n",
              "      <td>-0.085034</td>\n",
              "    </tr>\n",
              "    <tr>\n",
              "      <th>4</th>\n",
              "      <td>-0.108593</td>\n",
              "      <td>-0.085034</td>\n",
              "    </tr>\n",
              "    <tr>\n",
              "      <th>...</th>\n",
              "      <td>...</td>\n",
              "      <td>...</td>\n",
              "    </tr>\n",
              "    <tr>\n",
              "      <th>629150</th>\n",
              "      <td>-0.203822</td>\n",
              "      <td>-0.329396</td>\n",
              "    </tr>\n",
              "    <tr>\n",
              "      <th>629151</th>\n",
              "      <td>-0.190466</td>\n",
              "      <td>-0.037866</td>\n",
              "    </tr>\n",
              "    <tr>\n",
              "      <th>629152</th>\n",
              "      <td>-0.200035</td>\n",
              "      <td>0.275217</td>\n",
              "    </tr>\n",
              "    <tr>\n",
              "      <th>629153</th>\n",
              "      <td>-0.181261</td>\n",
              "      <td>-0.089580</td>\n",
              "    </tr>\n",
              "    <tr>\n",
              "      <th>629154</th>\n",
              "      <td>-0.155332</td>\n",
              "      <td>-0.076374</td>\n",
              "    </tr>\n",
              "  </tbody>\n",
              "</table>\n",
              "<p>629155 rows × 2 columns</p>\n",
              "</div>"
            ],
            "text/plain": [
              "               0         1\n",
              "0      -0.108593 -0.085034\n",
              "1      -0.108593 -0.085034\n",
              "2      -0.108593 -0.085034\n",
              "3      -0.108593 -0.085034\n",
              "4      -0.108593 -0.085034\n",
              "...          ...       ...\n",
              "629150 -0.203822 -0.329396\n",
              "629151 -0.190466 -0.037866\n",
              "629152 -0.200035  0.275217\n",
              "629153 -0.181261 -0.089580\n",
              "629154 -0.155332 -0.076374\n",
              "\n",
              "[629155 rows x 2 columns]"
            ]
          },
          "metadata": {
            "tags": []
          },
          "execution_count": 13
        }
      ]
    },
    {
      "cell_type": "code",
      "metadata": {
        "id": "EeRASvfyAdoy",
        "colab_type": "code",
        "colab": {}
      },
      "source": [
        "x = mca\n",
        "x.columns  = [\"mca_0\", \"mca_1\"]"
      ],
      "execution_count": 0,
      "outputs": []
    },
    {
      "cell_type": "code",
      "metadata": {
        "id": "hxm8wIg_AgCI",
        "colab_type": "code",
        "colab": {}
      },
      "source": [
        "sample_df_mca = sample_df.drop(mca_input.columns, axis=1)\n",
        "sample_df_mca = pd.concat([sample_df_mca, x], axis = 1)"
      ],
      "execution_count": 0,
      "outputs": []
    },
    {
      "cell_type": "markdown",
      "metadata": {
        "id": "-mUTkhC4EvyK",
        "colab_type": "text"
      },
      "source": [
        "### We now run PCA on the continuous derived columns from our data"
      ]
    },
    {
      "cell_type": "code",
      "metadata": {
        "id": "GICg80kgBHJT",
        "colab_type": "code",
        "colab": {
          "base_uri": "https://localhost:8080/",
          "height": 293
        },
        "outputId": "6a2fcbf2-2d13-4b40-db88-80a91954730a"
      },
      "source": [
        "pca_input = sample_df_mca\n",
        "pca_input = pca_input.iloc[:, 13:48]\n",
        "pca_input.columns"
      ],
      "execution_count": 25,
      "outputs": [
        {
          "output_type": "execute_result",
          "data": {
            "text/plain": [
              "Index(['American (New)_urating', 'American (Traditional)_urating',\n",
              "       'Asian Fusion_urating', 'Bakeries_urating', 'Barbeque_urating',\n",
              "       'Bars_urating', 'Beer_urating', 'Breakfast & Brunch_urating',\n",
              "       'Burgers_urating', 'Cafes_urating', 'Canadian (New)_urating',\n",
              "       'Caterers_urating', 'Chicken Wings_urating', 'Chinese_urating',\n",
              "       'Coffee & Tea_urating', 'Comfort Food_urating', 'Delis_urating',\n",
              "       'Desserts_urating', 'Ethnic Food_urating',\n",
              "       'Event Planning & Services_urating', 'Fast Food_urating',\n",
              "       'Food Delivery Services_urating', 'Food Trucks_urating',\n",
              "       'Grocery_urating', 'Ice Cream & Frozen Yogurt_urating',\n",
              "       'Italian_urating', 'Juice Bars & Smoothies_urating', 'Mexican_urating',\n",
              "       'Nightlife_urating', 'Pizza_urating', 'Salad_urating',\n",
              "       'Sandwiches_urating', 'Seafood_urating', 'Specialty Food_urating',\n",
              "       'Wine & Spirits_urating'],\n",
              "      dtype='object')"
            ]
          },
          "metadata": {
            "tags": []
          },
          "execution_count": 25
        }
      ]
    },
    {
      "cell_type": "code",
      "metadata": {
        "id": "4JOMPb8xA4eu",
        "colab_type": "code",
        "colab": {}
      },
      "source": [
        "rem_col = pca_input.columns\n",
        "x = StandardScaler().fit_transform(pca_input)"
      ],
      "execution_count": 0,
      "outputs": []
    },
    {
      "cell_type": "code",
      "metadata": {
        "id": "gHONtRI6B1Ov",
        "colab_type": "code",
        "colab": {}
      },
      "source": [
        "pca = PCA(0.9)\n",
        "x_pca = pca.fit_transform(x)"
      ],
      "execution_count": 0,
      "outputs": []
    },
    {
      "cell_type": "code",
      "metadata": {
        "id": "Z0ENLhcDB3XH",
        "colab_type": "code",
        "colab": {
          "base_uri": "https://localhost:8080/",
          "height": 424
        },
        "outputId": "e7115d25-c28b-4388-817d-31aaaed6400c"
      },
      "source": [
        "y = pd.DataFrame(x_pca)\n",
        "x = pd.DataFrame(x)\n",
        "y.columns = [\"0\", \"1\", \"2\", \"3\", \"4\", \"5\", \"6\", \"7\"]\n",
        "y"
      ],
      "execution_count": 28,
      "outputs": [
        {
          "output_type": "execute_result",
          "data": {
            "text/html": [
              "<div>\n",
              "<style scoped>\n",
              "    .dataframe tbody tr th:only-of-type {\n",
              "        vertical-align: middle;\n",
              "    }\n",
              "\n",
              "    .dataframe tbody tr th {\n",
              "        vertical-align: top;\n",
              "    }\n",
              "\n",
              "    .dataframe thead th {\n",
              "        text-align: right;\n",
              "    }\n",
              "</style>\n",
              "<table border=\"1\" class=\"dataframe\">\n",
              "  <thead>\n",
              "    <tr style=\"text-align: right;\">\n",
              "      <th></th>\n",
              "      <th>0</th>\n",
              "      <th>1</th>\n",
              "      <th>2</th>\n",
              "      <th>3</th>\n",
              "      <th>4</th>\n",
              "      <th>5</th>\n",
              "      <th>6</th>\n",
              "      <th>7</th>\n",
              "    </tr>\n",
              "  </thead>\n",
              "  <tbody>\n",
              "    <tr>\n",
              "      <th>0</th>\n",
              "      <td>-0.948668</td>\n",
              "      <td>0.638133</td>\n",
              "      <td>-0.239582</td>\n",
              "      <td>0.270283</td>\n",
              "      <td>-0.139004</td>\n",
              "      <td>0.200492</td>\n",
              "      <td>-0.044248</td>\n",
              "      <td>-0.281905</td>\n",
              "    </tr>\n",
              "    <tr>\n",
              "      <th>1</th>\n",
              "      <td>3.591542</td>\n",
              "      <td>1.712071</td>\n",
              "      <td>-2.624083</td>\n",
              "      <td>-1.985745</td>\n",
              "      <td>-0.572222</td>\n",
              "      <td>0.547910</td>\n",
              "      <td>-0.468460</td>\n",
              "      <td>-0.235378</td>\n",
              "    </tr>\n",
              "    <tr>\n",
              "      <th>2</th>\n",
              "      <td>3.591542</td>\n",
              "      <td>1.712071</td>\n",
              "      <td>-2.624083</td>\n",
              "      <td>-1.985745</td>\n",
              "      <td>-0.572222</td>\n",
              "      <td>0.547910</td>\n",
              "      <td>-0.468460</td>\n",
              "      <td>-0.235378</td>\n",
              "    </tr>\n",
              "    <tr>\n",
              "      <th>3</th>\n",
              "      <td>3.591542</td>\n",
              "      <td>1.712071</td>\n",
              "      <td>-2.624083</td>\n",
              "      <td>-1.985745</td>\n",
              "      <td>-0.572222</td>\n",
              "      <td>0.547910</td>\n",
              "      <td>-0.468460</td>\n",
              "      <td>-0.235378</td>\n",
              "    </tr>\n",
              "    <tr>\n",
              "      <th>4</th>\n",
              "      <td>-1.592281</td>\n",
              "      <td>0.288642</td>\n",
              "      <td>-0.826040</td>\n",
              "      <td>-0.821081</td>\n",
              "      <td>-0.030283</td>\n",
              "      <td>-0.337374</td>\n",
              "      <td>0.462973</td>\n",
              "      <td>-0.325721</td>\n",
              "    </tr>\n",
              "    <tr>\n",
              "      <th>...</th>\n",
              "      <td>...</td>\n",
              "      <td>...</td>\n",
              "      <td>...</td>\n",
              "      <td>...</td>\n",
              "      <td>...</td>\n",
              "      <td>...</td>\n",
              "      <td>...</td>\n",
              "      <td>...</td>\n",
              "    </tr>\n",
              "    <tr>\n",
              "      <th>629150</th>\n",
              "      <td>-2.462857</td>\n",
              "      <td>0.413204</td>\n",
              "      <td>-0.175365</td>\n",
              "      <td>0.165764</td>\n",
              "      <td>-0.149523</td>\n",
              "      <td>0.075979</td>\n",
              "      <td>0.043790</td>\n",
              "      <td>0.063523</td>\n",
              "    </tr>\n",
              "    <tr>\n",
              "      <th>629151</th>\n",
              "      <td>-2.073629</td>\n",
              "      <td>0.020520</td>\n",
              "      <td>-0.234244</td>\n",
              "      <td>0.086786</td>\n",
              "      <td>-0.439905</td>\n",
              "      <td>0.067149</td>\n",
              "      <td>0.205278</td>\n",
              "      <td>0.123721</td>\n",
              "    </tr>\n",
              "    <tr>\n",
              "      <th>629152</th>\n",
              "      <td>-2.356660</td>\n",
              "      <td>0.296786</td>\n",
              "      <td>-0.076045</td>\n",
              "      <td>0.405830</td>\n",
              "      <td>-0.381375</td>\n",
              "      <td>-0.144247</td>\n",
              "      <td>0.195368</td>\n",
              "      <td>0.323844</td>\n",
              "    </tr>\n",
              "    <tr>\n",
              "      <th>629153</th>\n",
              "      <td>-2.127581</td>\n",
              "      <td>-0.062405</td>\n",
              "      <td>-0.121323</td>\n",
              "      <td>-0.161403</td>\n",
              "      <td>-0.136415</td>\n",
              "      <td>0.153337</td>\n",
              "      <td>0.063302</td>\n",
              "      <td>-0.087123</td>\n",
              "    </tr>\n",
              "    <tr>\n",
              "      <th>629154</th>\n",
              "      <td>-2.421723</td>\n",
              "      <td>0.163543</td>\n",
              "      <td>-0.057022</td>\n",
              "      <td>0.547991</td>\n",
              "      <td>0.198543</td>\n",
              "      <td>0.547257</td>\n",
              "      <td>0.568987</td>\n",
              "      <td>-0.055580</td>\n",
              "    </tr>\n",
              "  </tbody>\n",
              "</table>\n",
              "<p>629155 rows × 8 columns</p>\n",
              "</div>"
            ],
            "text/plain": [
              "               0         1         2  ...         5         6         7\n",
              "0      -0.948668  0.638133 -0.239582  ...  0.200492 -0.044248 -0.281905\n",
              "1       3.591542  1.712071 -2.624083  ...  0.547910 -0.468460 -0.235378\n",
              "2       3.591542  1.712071 -2.624083  ...  0.547910 -0.468460 -0.235378\n",
              "3       3.591542  1.712071 -2.624083  ...  0.547910 -0.468460 -0.235378\n",
              "4      -1.592281  0.288642 -0.826040  ... -0.337374  0.462973 -0.325721\n",
              "...          ...       ...       ...  ...       ...       ...       ...\n",
              "629150 -2.462857  0.413204 -0.175365  ...  0.075979  0.043790  0.063523\n",
              "629151 -2.073629  0.020520 -0.234244  ...  0.067149  0.205278  0.123721\n",
              "629152 -2.356660  0.296786 -0.076045  ... -0.144247  0.195368  0.323844\n",
              "629153 -2.127581 -0.062405 -0.121323  ...  0.153337  0.063302 -0.087123\n",
              "629154 -2.421723  0.163543 -0.057022  ...  0.547257  0.568987 -0.055580\n",
              "\n",
              "[629155 rows x 8 columns]"
            ]
          },
          "metadata": {
            "tags": []
          },
          "execution_count": 28
        }
      ]
    },
    {
      "cell_type": "code",
      "metadata": {
        "id": "zw-Ir2q8B5Mc",
        "colab_type": "code",
        "colab": {
          "base_uri": "https://localhost:8080/",
          "height": 54
        },
        "outputId": "9c8b67e1-b2ae-4b0f-f4de-79d77623cc49"
      },
      "source": [
        "print(x.shape)\n",
        "print(x_pca.shape)"
      ],
      "execution_count": 29,
      "outputs": [
        {
          "output_type": "stream",
          "text": [
            "(629155, 35)\n",
            "(629155, 8)\n"
          ],
          "name": "stdout"
        }
      ]
    },
    {
      "cell_type": "code",
      "metadata": {
        "id": "h4gPyNznB76K",
        "colab_type": "code",
        "colab": {}
      },
      "source": [
        "sample_df_new = sample_df_mca.drop(rem_col, axis = 1)\n",
        "sample_df_new = pd.concat([sample_df_new, y], axis = 1)"
      ],
      "execution_count": 0,
      "outputs": []
    },
    {
      "cell_type": "code",
      "metadata": {
        "id": "cYZ3WHoPCbyj",
        "colab_type": "code",
        "colab": {
          "base_uri": "https://localhost:8080/",
          "height": 109
        },
        "outputId": "c6a06479-89b3-4d4f-e5ae-406926116f1b"
      },
      "source": [
        "sample_df_new.columns"
      ],
      "execution_count": 31,
      "outputs": [
        {
          "output_type": "execute_result",
          "data": {
            "text/plain": [
              "Index(['user_id', 'business_id', 'rating', 'date', 'useful', 'index',\n",
              "       'biz_stars', 'biz_rev_ct', 'state', 'city', 'is_open', 'avg_stars',\n",
              "       'fans', 'biz_w_avg', 'mca_0', 'mca_1', '0', '1', '2', '3', '4', '5',\n",
              "       '6', '7'],\n",
              "      dtype='object')"
            ]
          },
          "metadata": {
            "tags": []
          },
          "execution_count": 31
        }
      ]
    },
    {
      "cell_type": "markdown",
      "metadata": {
        "id": "uau2NGznE3WZ",
        "colab_type": "text"
      },
      "source": [
        "### We now define our continuous columns and create our train-test split as we did for the original data in order to run the model on the PCA data"
      ]
    },
    {
      "cell_type": "code",
      "metadata": {
        "id": "CX4HcvQaCSgY",
        "colab_type": "code",
        "colab": {
          "base_uri": "https://localhost:8080/",
          "height": 35
        },
        "outputId": "cdab138c-3b7e-4683-dce1-199da7062bc2"
      },
      "source": [
        "cont_cols_pca = [\"0\", \"1\", \"2\", \"3\", \"4\", \"5\", \"6\", \"7\", \"mca_0\", \"mca_1\"]\n",
        "cont_cols_pca"
      ],
      "execution_count": 32,
      "outputs": [
        {
          "output_type": "execute_result",
          "data": {
            "text/plain": [
              "['0', '1', '2', '3', '4', '5', '6', '7', 'mca_0', 'mca_1']"
            ]
          },
          "metadata": {
            "tags": []
          },
          "execution_count": 32
        }
      ]
    },
    {
      "cell_type": "code",
      "metadata": {
        "id": "f4gXXLyiCix5",
        "colab_type": "code",
        "colab": {}
      },
      "source": [
        "sample_df_new_sorted = sample_df_new.groupby([\"user_id\"]).apply(pd.DataFrame.sort_values, 'date').reset_index(drop=True)"
      ],
      "execution_count": 0,
      "outputs": []
    },
    {
      "cell_type": "code",
      "metadata": {
        "id": "nxNsMxvPC7sn",
        "colab_type": "code",
        "colab": {}
      },
      "source": [
        "test_new = sample_df_new_sorted.groupby([\"user_id\"]).tail(1)\n",
        "train_new = pd.concat([sample_df_new, test_new, test_new]).drop_duplicates(keep=False)"
      ],
      "execution_count": 0,
      "outputs": []
    },
    {
      "cell_type": "markdown",
      "metadata": {
        "id": "JxLL_J_yFChx",
        "colab_type": "text"
      },
      "source": [
        "### We now build and test our model on this new data"
      ]
    },
    {
      "cell_type": "code",
      "metadata": {
        "id": "nmR49E0-DCty",
        "colab_type": "code",
        "colab": {}
      },
      "source": [
        "wide_pre_pca = WidePreprocessor(['state'])\n",
        "X_wide_pca = wide_pre_pca.fit_transform(train_new)"
      ],
      "execution_count": 0,
      "outputs": []
    },
    {
      "cell_type": "code",
      "metadata": {
        "id": "BquPYDsIDOK9",
        "colab_type": "code",
        "colab": {}
      },
      "source": [
        "cat_embed_cols_pca = [(c, 16) for c in ['state','city']]"
      ],
      "execution_count": 0,
      "outputs": []
    },
    {
      "cell_type": "code",
      "metadata": {
        "id": "bcKy-2kHDXv5",
        "colab_type": "code",
        "colab": {}
      },
      "source": [
        "continuous_cols_pca = ['avg_stars','fans','biz_rev_ct','biz_stars','biz_w_avg']\n",
        "train = normalize(train_new,continuous_cols_pca)\n",
        "continuous_cols_pca.extend(cont_cols_pca)\n",
        "deep_pre_pca = DeepPreprocessor(continuous_cols=continuous_cols_pca, embed_cols=cat_embed_cols_pca)\n",
        "X_deep_pca = deep_pre_pca.fit_transform(train_new)"
      ],
      "execution_count": 0,
      "outputs": []
    },
    {
      "cell_type": "code",
      "metadata": {
        "id": "11dY3pERDq7G",
        "colab_type": "code",
        "colab": {}
      },
      "source": [
        "# Linear model\n",
        "wide_pca = Wide(wide_dim=X_wide_pca.shape[1], output_dim=1)\n",
        "# DeepDense: 2 Dense layers\n",
        "deep_pca = DeepDense(hidden_layers=[128, 64], dropout=[0.5, 0.5], \n",
        "                      deep_column_idx=deep_pre_pca.deep_column_idx,\n",
        "                      embed_input=deep_pre_pca.embeddings_input,\n",
        "                      continuous_cols=continuous_cols_pca)"
      ],
      "execution_count": 0,
      "outputs": []
    },
    {
      "cell_type": "code",
      "metadata": {
        "id": "rhMRzkkaD_Bu",
        "colab_type": "code",
        "colab": {}
      },
      "source": [
        "target_pca = train_new['rating'].values"
      ],
      "execution_count": 0,
      "outputs": []
    },
    {
      "cell_type": "code",
      "metadata": {
        "id": "MMNz8W9iEC9Y",
        "colab_type": "code",
        "colab": {
          "base_uri": "https://localhost:8080/",
          "height": 219
        },
        "outputId": "53335007-7f18-4c69-e643-adde67a2a78f"
      },
      "source": [
        "model_pca = WideDeep(wide = wide_pca, deepdense=deep_pca)\n",
        "model_pca.compile(method='regression')\n",
        "model_pca.fit(X_wide=X_wide_pca, X_deep=X_deep_pca, target=target_pca, n_epochs=5, batch_size=256, val_split=0.2)"
      ],
      "execution_count": 46,
      "outputs": [
        {
          "output_type": "stream",
          "text": [
            "\r  0%|          | 0/1802 [00:00<?, ?it/s]"
          ],
          "name": "stderr"
        },
        {
          "output_type": "stream",
          "text": [
            "Training\n"
          ],
          "name": "stdout"
        },
        {
          "output_type": "stream",
          "text": [
            "epoch 1: 100%|██████████| 1802/1802 [00:15<00:00, 117.25it/s, loss=1.28]\n",
            "valid: 100%|██████████| 451/451 [00:02<00:00, 159.90it/s, loss=1.04]\n",
            "epoch 2: 100%|██████████| 1802/1802 [00:15<00:00, 119.83it/s, loss=1.08]\n",
            "valid: 100%|██████████| 451/451 [00:02<00:00, 161.39it/s, loss=1.03]\n",
            "epoch 3: 100%|██████████| 1802/1802 [00:15<00:00, 116.92it/s, loss=1.05]\n",
            "valid: 100%|██████████| 451/451 [00:02<00:00, 164.09it/s, loss=1.03]\n",
            "epoch 4: 100%|██████████| 1802/1802 [00:15<00:00, 118.61it/s, loss=1.04]\n",
            "valid: 100%|██████████| 451/451 [00:02<00:00, 162.08it/s, loss=1.03]\n",
            "epoch 5: 100%|██████████| 1802/1802 [00:15<00:00, 119.87it/s, loss=1.04]\n",
            "valid: 100%|██████████| 451/451 [00:02<00:00, 172.96it/s, loss=1.03]\n"
          ],
          "name": "stderr"
        }
      ]
    },
    {
      "cell_type": "markdown",
      "metadata": {
        "id": "ysMkLZAfFGj2",
        "colab_type": "text"
      },
      "source": [
        "### We see that even PCA does not improve our model any further."
      ]
    },
    {
      "cell_type": "markdown",
      "metadata": {
        "id": "gaAwv4x7_kvF",
        "colab_type": "text"
      },
      "source": [
        "### Hence we stick to our original model and test the model on the test set and compute RMSE and R2"
      ]
    },
    {
      "cell_type": "code",
      "metadata": {
        "id": "BL89i5wjkMRt",
        "colab_type": "code",
        "outputId": "bd6c5882-1ff9-4b53-f9ca-c5d1aedf935b",
        "colab": {
          "base_uri": "https://localhost:8080/",
          "height": 110
        }
      },
      "source": [
        "X_wide_te = wide_pre.fit_transform(test)\n",
        "test_1 = normalize(test,continuous_cols)\n",
        "X_deep_te = deep_pre.fit_transform(test_1)"
      ],
      "execution_count": 32,
      "outputs": [
        {
          "output_type": "stream",
          "text": [
            "/usr/local/lib/python3.6/dist-packages/sklearn/preprocessing/_encoders.py:415: FutureWarning: The handling of integer data will change in version 0.22. Currently, the categories are determined based on the range [0, max(values)], while in the future they will be determined based on the unique values.\n",
            "If you want the future behaviour and silence this warning, you can specify \"categories='auto'\".\n",
            "In case you used a LabelEncoder before this OneHotEncoder to convert the categories to integers, then you can now use the OneHotEncoder directly.\n",
            "  warnings.warn(msg, FutureWarning)\n"
          ],
          "name": "stderr"
        }
      ]
    },
    {
      "cell_type": "code",
      "metadata": {
        "id": "ExMAo_o3kU6M",
        "colab_type": "code",
        "outputId": "db1438f1-c9d7-467d-c75f-44219391683e",
        "colab": {
          "base_uri": "https://localhost:8080/",
          "height": 35
        }
      },
      "source": [
        "preds = model.predict(X_wide=X_wide_te, X_deep=X_deep_te)"
      ],
      "execution_count": 33,
      "outputs": [
        {
          "output_type": "stream",
          "text": [
            "predict: 100%|██████████| 206/206 [00:01<00:00, 198.22it/s]\n"
          ],
          "name": "stderr"
        }
      ]
    },
    {
      "cell_type": "code",
      "metadata": {
        "id": "6dS_KsWukYz5",
        "colab_type": "code",
        "outputId": "248701e7-9ad4-4fdd-b56c-ee60a1ce7314",
        "colab": {
          "base_uri": "https://localhost:8080/",
          "height": 54
        }
      },
      "source": [
        "import math\n",
        "rmse = math.sqrt(mean_squared_error(preds, test['rating']))\n",
        "print(\"RMSE =\",rmse)\n",
        "print(\"R2 = \",goodness_of_fit(preds,np.array(test['rating'])))"
      ],
      "execution_count": 44,
      "outputs": [
        {
          "output_type": "stream",
          "text": [
            "RMSE = 1.1162710090612755\n",
            "R2 =  0.3232816792958726\n"
          ],
          "name": "stdout"
        }
      ]
    },
    {
      "cell_type": "markdown",
      "metadata": {
        "id": "0YPpj6RLU8RB",
        "colab_type": "text"
      },
      "source": [
        "### We see that our model's performance on the test data is consistent with the results on  the training and validation loss.  \n",
        "### We now fit the model on our future predictions dataset and get predicted ratings for all the future predictions"
      ]
    },
    {
      "cell_type": "code",
      "metadata": {
        "id": "Eoa2-5Knki4-",
        "colab_type": "code",
        "outputId": "0fa73b21-c74f-4b21-cc1a-eaa098cac16f",
        "colab": {
          "base_uri": "https://localhost:8080/",
          "height": 110
        }
      },
      "source": [
        "X_wide_recs = wide_pre.fit_transform(not_reviewed_sample)\n",
        "not_reviewed_1 = normalize(not_reviewed_sample,continuous_cols)\n",
        "X_deep_recs = deep_pre.fit_transform(not_reviewed_1)"
      ],
      "execution_count": 76,
      "outputs": [
        {
          "output_type": "stream",
          "text": [
            "/usr/local/lib/python3.6/dist-packages/sklearn/preprocessing/_encoders.py:415: FutureWarning: The handling of integer data will change in version 0.22. Currently, the categories are determined based on the range [0, max(values)], while in the future they will be determined based on the unique values.\n",
            "If you want the future behaviour and silence this warning, you can specify \"categories='auto'\".\n",
            "In case you used a LabelEncoder before this OneHotEncoder to convert the categories to integers, then you can now use the OneHotEncoder directly.\n",
            "  warnings.warn(msg, FutureWarning)\n"
          ],
          "name": "stderr"
        }
      ]
    },
    {
      "cell_type": "code",
      "metadata": {
        "id": "_3pxOTUukm0B",
        "colab_type": "code",
        "outputId": "274951de-c747-44b3-ee9c-fad0d0031466",
        "colab": {
          "base_uri": "https://localhost:8080/",
          "height": 35
        }
      },
      "source": [
        "recs = model.predict(X_wide=X_wide_recs, X_deep=X_deep_recs)\n",
        "not_reviewed_sample['pred_rating'] = recs"
      ],
      "execution_count": 77,
      "outputs": [
        {
          "output_type": "stream",
          "text": [
            "predict: 100%|██████████| 8072/8072 [00:31<00:00, 258.94it/s]\n"
          ],
          "name": "stderr"
        }
      ]
    },
    {
      "cell_type": "markdown",
      "metadata": {
        "id": "Oajf9d2AVV8A",
        "colab_type": "text"
      },
      "source": [
        "### For each user, get the top 5 recommendations and compute catalog coverage"
      ]
    },
    {
      "cell_type": "code",
      "metadata": {
        "id": "F9hYCrjFk7JB",
        "colab_type": "code",
        "outputId": "940a09e7-a180-4495-a995-4f2745bdac8e",
        "colab": {
          "base_uri": "https://localhost:8080/",
          "height": 342
        }
      },
      "source": [
        "top_5 = not_reviewed_sample.groupby([\"user_id\"]).apply(pd.DataFrame.sort_values, 'pred_rating').reset_index(drop=True)\n",
        "top_5_recs = top_5.groupby([\"user_id\"]).tail(5)\n",
        "top_5_recs.head()"
      ],
      "execution_count": 78,
      "outputs": [
        {
          "output_type": "execute_result",
          "data": {
            "text/html": [
              "<div>\n",
              "<style scoped>\n",
              "    .dataframe tbody tr th:only-of-type {\n",
              "        vertical-align: middle;\n",
              "    }\n",
              "\n",
              "    .dataframe tbody tr th {\n",
              "        vertical-align: top;\n",
              "    }\n",
              "\n",
              "    .dataframe thead th {\n",
              "        text-align: right;\n",
              "    }\n",
              "</style>\n",
              "<table border=\"1\" class=\"dataframe\">\n",
              "  <thead>\n",
              "    <tr style=\"text-align: right;\">\n",
              "      <th></th>\n",
              "      <th>user_id</th>\n",
              "      <th>business_id</th>\n",
              "      <th>user_id_num</th>\n",
              "      <th>avg_stars</th>\n",
              "      <th>fans</th>\n",
              "      <th>American (New)_urating</th>\n",
              "      <th>American (Traditional)_urating</th>\n",
              "      <th>Asian Fusion_urating</th>\n",
              "      <th>Bakeries_urating</th>\n",
              "      <th>Barbeque_urating</th>\n",
              "      <th>Bars_urating</th>\n",
              "      <th>Beer_urating</th>\n",
              "      <th>Breakfast &amp; Brunch_urating</th>\n",
              "      <th>Burgers_urating</th>\n",
              "      <th>Cafes_urating</th>\n",
              "      <th>Canadian (New)_urating</th>\n",
              "      <th>Caterers_urating</th>\n",
              "      <th>Chicken Wings_urating</th>\n",
              "      <th>Chinese_urating</th>\n",
              "      <th>Coffee &amp; Tea_urating</th>\n",
              "      <th>Comfort Food_urating</th>\n",
              "      <th>Delis_urating</th>\n",
              "      <th>Desserts_urating</th>\n",
              "      <th>Ethnic Food_urating</th>\n",
              "      <th>Event Planning &amp; Services_urating</th>\n",
              "      <th>Fast Food_urating</th>\n",
              "      <th>Food Delivery Services_urating</th>\n",
              "      <th>Food Trucks_urating</th>\n",
              "      <th>Grocery_urating</th>\n",
              "      <th>Ice Cream &amp; Frozen Yogurt_urating</th>\n",
              "      <th>Italian_urating</th>\n",
              "      <th>Juice Bars &amp; Smoothies_urating</th>\n",
              "      <th>Mexican_urating</th>\n",
              "      <th>Nightlife_urating</th>\n",
              "      <th>Pizza_urating</th>\n",
              "      <th>Salad_urating</th>\n",
              "      <th>Sandwiches_urating</th>\n",
              "      <th>Seafood_urating</th>\n",
              "      <th>Specialty Food_urating</th>\n",
              "      <th>Wine &amp; Spirits_urating</th>\n",
              "      <th>...</th>\n",
              "      <th>biz_stars</th>\n",
              "      <th>biz_rev_ct</th>\n",
              "      <th>is_open</th>\n",
              "      <th>biz_w_avg</th>\n",
              "      <th>American (New)</th>\n",
              "      <th>American (Traditional)</th>\n",
              "      <th>Asian Fusion</th>\n",
              "      <th>Bakeries</th>\n",
              "      <th>Barbeque</th>\n",
              "      <th>Bars</th>\n",
              "      <th>Beer</th>\n",
              "      <th>Breakfast &amp; Brunch</th>\n",
              "      <th>Burgers</th>\n",
              "      <th>Cafes</th>\n",
              "      <th>Canadian (New)</th>\n",
              "      <th>Caterers</th>\n",
              "      <th>Chicken Wings</th>\n",
              "      <th>Chinese</th>\n",
              "      <th>Coffee &amp; Tea</th>\n",
              "      <th>Comfort Food</th>\n",
              "      <th>Delis</th>\n",
              "      <th>Desserts</th>\n",
              "      <th>Ethnic Food</th>\n",
              "      <th>Event Planning &amp; Services</th>\n",
              "      <th>Fast Food</th>\n",
              "      <th>Food Delivery Services</th>\n",
              "      <th>Food Trucks</th>\n",
              "      <th>Grocery</th>\n",
              "      <th>Ice Cream &amp; Frozen Yogurt</th>\n",
              "      <th>Italian</th>\n",
              "      <th>Juice Bars &amp; Smoothies</th>\n",
              "      <th>Mexican</th>\n",
              "      <th>Nightlife</th>\n",
              "      <th>Pizza</th>\n",
              "      <th>Salad</th>\n",
              "      <th>Sandwiches</th>\n",
              "      <th>Seafood</th>\n",
              "      <th>Specialty Food</th>\n",
              "      <th>Wine &amp; Spirits</th>\n",
              "      <th>pred_rating</th>\n",
              "    </tr>\n",
              "  </thead>\n",
              "  <tbody>\n",
              "    <tr>\n",
              "      <th>64</th>\n",
              "      <td>---1lKK3aKOuomHnwAkAow</td>\n",
              "      <td>wWuGa3OOQJro_XGe-GKBXA</td>\n",
              "      <td>6027</td>\n",
              "      <td>3.92</td>\n",
              "      <td>16</td>\n",
              "      <td>8</td>\n",
              "      <td>3</td>\n",
              "      <td>1</td>\n",
              "      <td>2</td>\n",
              "      <td>0</td>\n",
              "      <td>5</td>\n",
              "      <td>1</td>\n",
              "      <td>6</td>\n",
              "      <td>2</td>\n",
              "      <td>4</td>\n",
              "      <td>0</td>\n",
              "      <td>0</td>\n",
              "      <td>0</td>\n",
              "      <td>0</td>\n",
              "      <td>4</td>\n",
              "      <td>0</td>\n",
              "      <td>0</td>\n",
              "      <td>2</td>\n",
              "      <td>0</td>\n",
              "      <td>0</td>\n",
              "      <td>0</td>\n",
              "      <td>0</td>\n",
              "      <td>0</td>\n",
              "      <td>0</td>\n",
              "      <td>1</td>\n",
              "      <td>3</td>\n",
              "      <td>4</td>\n",
              "      <td>0</td>\n",
              "      <td>5</td>\n",
              "      <td>2</td>\n",
              "      <td>0</td>\n",
              "      <td>5</td>\n",
              "      <td>3</td>\n",
              "      <td>2</td>\n",
              "      <td>1</td>\n",
              "      <td>...</td>\n",
              "      <td>4.5</td>\n",
              "      <td>601</td>\n",
              "      <td>1</td>\n",
              "      <td>4.694737</td>\n",
              "      <td>0</td>\n",
              "      <td>0</td>\n",
              "      <td>0</td>\n",
              "      <td>0</td>\n",
              "      <td>0</td>\n",
              "      <td>0</td>\n",
              "      <td>0</td>\n",
              "      <td>0</td>\n",
              "      <td>0</td>\n",
              "      <td>0</td>\n",
              "      <td>0</td>\n",
              "      <td>0</td>\n",
              "      <td>0</td>\n",
              "      <td>0</td>\n",
              "      <td>0</td>\n",
              "      <td>0</td>\n",
              "      <td>0</td>\n",
              "      <td>0</td>\n",
              "      <td>0</td>\n",
              "      <td>0</td>\n",
              "      <td>0</td>\n",
              "      <td>0</td>\n",
              "      <td>0</td>\n",
              "      <td>0</td>\n",
              "      <td>0</td>\n",
              "      <td>0</td>\n",
              "      <td>0</td>\n",
              "      <td>0</td>\n",
              "      <td>0</td>\n",
              "      <td>0</td>\n",
              "      <td>0</td>\n",
              "      <td>0</td>\n",
              "      <td>0</td>\n",
              "      <td>0</td>\n",
              "      <td>0</td>\n",
              "      <td>4.443210</td>\n",
              "    </tr>\n",
              "    <tr>\n",
              "      <th>65</th>\n",
              "      <td>---1lKK3aKOuomHnwAkAow</td>\n",
              "      <td>4zqoILJLZ-3F8VVNr2hg1w</td>\n",
              "      <td>6027</td>\n",
              "      <td>3.92</td>\n",
              "      <td>16</td>\n",
              "      <td>8</td>\n",
              "      <td>3</td>\n",
              "      <td>1</td>\n",
              "      <td>2</td>\n",
              "      <td>0</td>\n",
              "      <td>5</td>\n",
              "      <td>1</td>\n",
              "      <td>6</td>\n",
              "      <td>2</td>\n",
              "      <td>4</td>\n",
              "      <td>0</td>\n",
              "      <td>0</td>\n",
              "      <td>0</td>\n",
              "      <td>0</td>\n",
              "      <td>4</td>\n",
              "      <td>0</td>\n",
              "      <td>0</td>\n",
              "      <td>2</td>\n",
              "      <td>0</td>\n",
              "      <td>0</td>\n",
              "      <td>0</td>\n",
              "      <td>0</td>\n",
              "      <td>0</td>\n",
              "      <td>0</td>\n",
              "      <td>1</td>\n",
              "      <td>3</td>\n",
              "      <td>4</td>\n",
              "      <td>0</td>\n",
              "      <td>5</td>\n",
              "      <td>2</td>\n",
              "      <td>0</td>\n",
              "      <td>5</td>\n",
              "      <td>3</td>\n",
              "      <td>2</td>\n",
              "      <td>1</td>\n",
              "      <td>...</td>\n",
              "      <td>4.5</td>\n",
              "      <td>46</td>\n",
              "      <td>1</td>\n",
              "      <td>4.555556</td>\n",
              "      <td>0</td>\n",
              "      <td>0</td>\n",
              "      <td>0</td>\n",
              "      <td>1</td>\n",
              "      <td>0</td>\n",
              "      <td>0</td>\n",
              "      <td>0</td>\n",
              "      <td>0</td>\n",
              "      <td>0</td>\n",
              "      <td>0</td>\n",
              "      <td>0</td>\n",
              "      <td>0</td>\n",
              "      <td>0</td>\n",
              "      <td>0</td>\n",
              "      <td>0</td>\n",
              "      <td>0</td>\n",
              "      <td>0</td>\n",
              "      <td>0</td>\n",
              "      <td>0</td>\n",
              "      <td>0</td>\n",
              "      <td>0</td>\n",
              "      <td>0</td>\n",
              "      <td>0</td>\n",
              "      <td>0</td>\n",
              "      <td>0</td>\n",
              "      <td>0</td>\n",
              "      <td>0</td>\n",
              "      <td>0</td>\n",
              "      <td>0</td>\n",
              "      <td>0</td>\n",
              "      <td>0</td>\n",
              "      <td>0</td>\n",
              "      <td>0</td>\n",
              "      <td>0</td>\n",
              "      <td>0</td>\n",
              "      <td>4.443450</td>\n",
              "    </tr>\n",
              "    <tr>\n",
              "      <th>66</th>\n",
              "      <td>---1lKK3aKOuomHnwAkAow</td>\n",
              "      <td>KTzBUAzUfFqvttyjWi_irw</td>\n",
              "      <td>6027</td>\n",
              "      <td>3.92</td>\n",
              "      <td>16</td>\n",
              "      <td>8</td>\n",
              "      <td>3</td>\n",
              "      <td>1</td>\n",
              "      <td>2</td>\n",
              "      <td>0</td>\n",
              "      <td>5</td>\n",
              "      <td>1</td>\n",
              "      <td>6</td>\n",
              "      <td>2</td>\n",
              "      <td>4</td>\n",
              "      <td>0</td>\n",
              "      <td>0</td>\n",
              "      <td>0</td>\n",
              "      <td>0</td>\n",
              "      <td>4</td>\n",
              "      <td>0</td>\n",
              "      <td>0</td>\n",
              "      <td>2</td>\n",
              "      <td>0</td>\n",
              "      <td>0</td>\n",
              "      <td>0</td>\n",
              "      <td>0</td>\n",
              "      <td>0</td>\n",
              "      <td>0</td>\n",
              "      <td>1</td>\n",
              "      <td>3</td>\n",
              "      <td>4</td>\n",
              "      <td>0</td>\n",
              "      <td>5</td>\n",
              "      <td>2</td>\n",
              "      <td>0</td>\n",
              "      <td>5</td>\n",
              "      <td>3</td>\n",
              "      <td>2</td>\n",
              "      <td>1</td>\n",
              "      <td>...</td>\n",
              "      <td>4.5</td>\n",
              "      <td>35</td>\n",
              "      <td>1</td>\n",
              "      <td>4.485294</td>\n",
              "      <td>0</td>\n",
              "      <td>0</td>\n",
              "      <td>0</td>\n",
              "      <td>0</td>\n",
              "      <td>0</td>\n",
              "      <td>0</td>\n",
              "      <td>0</td>\n",
              "      <td>0</td>\n",
              "      <td>0</td>\n",
              "      <td>0</td>\n",
              "      <td>0</td>\n",
              "      <td>0</td>\n",
              "      <td>0</td>\n",
              "      <td>0</td>\n",
              "      <td>0</td>\n",
              "      <td>0</td>\n",
              "      <td>0</td>\n",
              "      <td>0</td>\n",
              "      <td>0</td>\n",
              "      <td>0</td>\n",
              "      <td>0</td>\n",
              "      <td>0</td>\n",
              "      <td>1</td>\n",
              "      <td>0</td>\n",
              "      <td>0</td>\n",
              "      <td>0</td>\n",
              "      <td>0</td>\n",
              "      <td>1</td>\n",
              "      <td>0</td>\n",
              "      <td>0</td>\n",
              "      <td>0</td>\n",
              "      <td>0</td>\n",
              "      <td>0</td>\n",
              "      <td>0</td>\n",
              "      <td>0</td>\n",
              "      <td>4.444250</td>\n",
              "    </tr>\n",
              "    <tr>\n",
              "      <th>67</th>\n",
              "      <td>---1lKK3aKOuomHnwAkAow</td>\n",
              "      <td>fia9wLvJYq54MCkMxH9_wA</td>\n",
              "      <td>6027</td>\n",
              "      <td>3.92</td>\n",
              "      <td>16</td>\n",
              "      <td>8</td>\n",
              "      <td>3</td>\n",
              "      <td>1</td>\n",
              "      <td>2</td>\n",
              "      <td>0</td>\n",
              "      <td>5</td>\n",
              "      <td>1</td>\n",
              "      <td>6</td>\n",
              "      <td>2</td>\n",
              "      <td>4</td>\n",
              "      <td>0</td>\n",
              "      <td>0</td>\n",
              "      <td>0</td>\n",
              "      <td>0</td>\n",
              "      <td>4</td>\n",
              "      <td>0</td>\n",
              "      <td>0</td>\n",
              "      <td>2</td>\n",
              "      <td>0</td>\n",
              "      <td>0</td>\n",
              "      <td>0</td>\n",
              "      <td>0</td>\n",
              "      <td>0</td>\n",
              "      <td>0</td>\n",
              "      <td>1</td>\n",
              "      <td>3</td>\n",
              "      <td>4</td>\n",
              "      <td>0</td>\n",
              "      <td>5</td>\n",
              "      <td>2</td>\n",
              "      <td>0</td>\n",
              "      <td>5</td>\n",
              "      <td>3</td>\n",
              "      <td>2</td>\n",
              "      <td>1</td>\n",
              "      <td>...</td>\n",
              "      <td>4.5</td>\n",
              "      <td>47</td>\n",
              "      <td>1</td>\n",
              "      <td>4.772727</td>\n",
              "      <td>0</td>\n",
              "      <td>0</td>\n",
              "      <td>0</td>\n",
              "      <td>1</td>\n",
              "      <td>0</td>\n",
              "      <td>0</td>\n",
              "      <td>0</td>\n",
              "      <td>1</td>\n",
              "      <td>0</td>\n",
              "      <td>0</td>\n",
              "      <td>0</td>\n",
              "      <td>0</td>\n",
              "      <td>0</td>\n",
              "      <td>0</td>\n",
              "      <td>0</td>\n",
              "      <td>0</td>\n",
              "      <td>0</td>\n",
              "      <td>1</td>\n",
              "      <td>0</td>\n",
              "      <td>0</td>\n",
              "      <td>0</td>\n",
              "      <td>0</td>\n",
              "      <td>0</td>\n",
              "      <td>0</td>\n",
              "      <td>0</td>\n",
              "      <td>0</td>\n",
              "      <td>0</td>\n",
              "      <td>0</td>\n",
              "      <td>0</td>\n",
              "      <td>0</td>\n",
              "      <td>0</td>\n",
              "      <td>0</td>\n",
              "      <td>0</td>\n",
              "      <td>0</td>\n",
              "      <td>0</td>\n",
              "      <td>4.485538</td>\n",
              "    </tr>\n",
              "    <tr>\n",
              "      <th>68</th>\n",
              "      <td>---1lKK3aKOuomHnwAkAow</td>\n",
              "      <td>JDv3HcmwK0cPkRa0-2aP4Q</td>\n",
              "      <td>6027</td>\n",
              "      <td>3.92</td>\n",
              "      <td>16</td>\n",
              "      <td>8</td>\n",
              "      <td>3</td>\n",
              "      <td>1</td>\n",
              "      <td>2</td>\n",
              "      <td>0</td>\n",
              "      <td>5</td>\n",
              "      <td>1</td>\n",
              "      <td>6</td>\n",
              "      <td>2</td>\n",
              "      <td>4</td>\n",
              "      <td>0</td>\n",
              "      <td>0</td>\n",
              "      <td>0</td>\n",
              "      <td>0</td>\n",
              "      <td>4</td>\n",
              "      <td>0</td>\n",
              "      <td>0</td>\n",
              "      <td>2</td>\n",
              "      <td>0</td>\n",
              "      <td>0</td>\n",
              "      <td>0</td>\n",
              "      <td>0</td>\n",
              "      <td>0</td>\n",
              "      <td>0</td>\n",
              "      <td>1</td>\n",
              "      <td>3</td>\n",
              "      <td>4</td>\n",
              "      <td>0</td>\n",
              "      <td>5</td>\n",
              "      <td>2</td>\n",
              "      <td>0</td>\n",
              "      <td>5</td>\n",
              "      <td>3</td>\n",
              "      <td>2</td>\n",
              "      <td>1</td>\n",
              "      <td>...</td>\n",
              "      <td>5.0</td>\n",
              "      <td>5</td>\n",
              "      <td>1</td>\n",
              "      <td>5.000000</td>\n",
              "      <td>0</td>\n",
              "      <td>0</td>\n",
              "      <td>0</td>\n",
              "      <td>0</td>\n",
              "      <td>1</td>\n",
              "      <td>0</td>\n",
              "      <td>0</td>\n",
              "      <td>0</td>\n",
              "      <td>0</td>\n",
              "      <td>0</td>\n",
              "      <td>0</td>\n",
              "      <td>0</td>\n",
              "      <td>0</td>\n",
              "      <td>0</td>\n",
              "      <td>0</td>\n",
              "      <td>0</td>\n",
              "      <td>0</td>\n",
              "      <td>0</td>\n",
              "      <td>0</td>\n",
              "      <td>0</td>\n",
              "      <td>0</td>\n",
              "      <td>0</td>\n",
              "      <td>1</td>\n",
              "      <td>0</td>\n",
              "      <td>0</td>\n",
              "      <td>0</td>\n",
              "      <td>0</td>\n",
              "      <td>0</td>\n",
              "      <td>0</td>\n",
              "      <td>0</td>\n",
              "      <td>0</td>\n",
              "      <td>0</td>\n",
              "      <td>0</td>\n",
              "      <td>0</td>\n",
              "      <td>0</td>\n",
              "      <td>4.715500</td>\n",
              "    </tr>\n",
              "  </tbody>\n",
              "</table>\n",
              "<p>5 rows × 83 columns</p>\n",
              "</div>"
            ],
            "text/plain": [
              "                   user_id             business_id  ...  Wine & Spirits  pred_rating\n",
              "64  ---1lKK3aKOuomHnwAkAow  wWuGa3OOQJro_XGe-GKBXA  ...               0     4.443210\n",
              "65  ---1lKK3aKOuomHnwAkAow  4zqoILJLZ-3F8VVNr2hg1w  ...               0     4.443450\n",
              "66  ---1lKK3aKOuomHnwAkAow  KTzBUAzUfFqvttyjWi_irw  ...               0     4.444250\n",
              "67  ---1lKK3aKOuomHnwAkAow  fia9wLvJYq54MCkMxH9_wA  ...               0     4.485538\n",
              "68  ---1lKK3aKOuomHnwAkAow  JDv3HcmwK0cPkRa0-2aP4Q  ...               0     4.715500\n",
              "\n",
              "[5 rows x 83 columns]"
            ]
          },
          "metadata": {
            "tags": []
          },
          "execution_count": 78
        }
      ]
    },
    {
      "cell_type": "code",
      "metadata": {
        "id": "iv67vRwzlBTe",
        "colab_type": "code",
        "outputId": "c059ea25-4b55-4790-f7e0-ff15ff71350e",
        "colab": {
          "base_uri": "https://localhost:8080/",
          "height": 35
        }
      },
      "source": [
        "print(\"Catalog Coverage for the sample:\",(len(set(top_5_recs['business_id']))/len(set(not_reviewed_sample['business_id'])))*100,\"%\")"
      ],
      "execution_count": 79,
      "outputs": [
        {
          "output_type": "stream",
          "text": [
            "Catalog Coverage for the sample: 52.066115702479344 %\n"
          ],
          "name": "stdout"
        }
      ]
    },
    {
      "cell_type": "markdown",
      "metadata": {
        "id": "2cRBdtRILrYs",
        "colab_type": "text"
      },
      "source": [
        "### Hence we are able to recommend around half the businesses to a user, which is a good figure.  \n",
        "  \n",
        "  ### However, we try to improve the coverage by implementing this simple business rule - \n",
        "  ### We take all the businesses that have not been recommended to any user and have a rating of above 3.5, and randomly recommend 3 of these businesses from the user's city additionally to each user. This will simultaneously not only improve the coverage, but will also improve serendipity, since our model is trained towards a user's preference and this will enable us to recommend good businesses that  are outside a user's normal taste."
      ]
    },
    {
      "cell_type": "code",
      "metadata": {
        "id": "Go3JSDrBF0JZ",
        "colab_type": "code",
        "colab": {}
      },
      "source": [
        "not_recommended = list(set(not_reviewed_sample['business_id']).difference(set(top_5_recs['business_id'])))\n",
        "not_recommended = pd.DataFrame({'business_id':not_recommended})"
      ],
      "execution_count": 0,
      "outputs": []
    },
    {
      "cell_type": "code",
      "metadata": {
        "id": "H2oNXBizGoDt",
        "colab_type": "code",
        "colab": {
          "base_uri": "https://localhost:8080/",
          "height": 206
        },
        "outputId": "caf7c449-1832-4710-9d95-54e1b0717232"
      },
      "source": [
        "not_recommended_good = not_reviewed_sample[['business_id','biz_stars','biz_rev_ct','city']].drop_duplicates()\n",
        "not_recommended_good = not_recommended_good.merge(not_recommended)\n",
        "not_recommended_good = not_recommended_good[not_recommended_good['biz_stars'] >= 3.5]\n",
        "not_recommended_good.head()"
      ],
      "execution_count": 82,
      "outputs": [
        {
          "output_type": "execute_result",
          "data": {
            "text/html": [
              "<div>\n",
              "<style scoped>\n",
              "    .dataframe tbody tr th:only-of-type {\n",
              "        vertical-align: middle;\n",
              "    }\n",
              "\n",
              "    .dataframe tbody tr th {\n",
              "        vertical-align: top;\n",
              "    }\n",
              "\n",
              "    .dataframe thead th {\n",
              "        text-align: right;\n",
              "    }\n",
              "</style>\n",
              "<table border=\"1\" class=\"dataframe\">\n",
              "  <thead>\n",
              "    <tr style=\"text-align: right;\">\n",
              "      <th></th>\n",
              "      <th>business_id</th>\n",
              "      <th>biz_stars</th>\n",
              "      <th>biz_rev_ct</th>\n",
              "      <th>city</th>\n",
              "    </tr>\n",
              "  </thead>\n",
              "  <tbody>\n",
              "    <tr>\n",
              "      <th>0</th>\n",
              "      <td>po0p6NIro0cDrmKkcyPy0w</td>\n",
              "      <td>4.5</td>\n",
              "      <td>415</td>\n",
              "      <td>Las Vegas</td>\n",
              "    </tr>\n",
              "    <tr>\n",
              "      <th>1</th>\n",
              "      <td>BcW7Z9lPmOB_8eS2lEuOqQ</td>\n",
              "      <td>4.0</td>\n",
              "      <td>683</td>\n",
              "      <td>Las Vegas</td>\n",
              "    </tr>\n",
              "    <tr>\n",
              "      <th>2</th>\n",
              "      <td>rioQ_p2pILNbJ4Xp5jW6-Q</td>\n",
              "      <td>4.0</td>\n",
              "      <td>787</td>\n",
              "      <td>Las Vegas</td>\n",
              "    </tr>\n",
              "    <tr>\n",
              "      <th>3</th>\n",
              "      <td>-a857YYdjzgOdOjFFRsRXQ</td>\n",
              "      <td>3.5</td>\n",
              "      <td>536</td>\n",
              "      <td>Las Vegas</td>\n",
              "    </tr>\n",
              "    <tr>\n",
              "      <th>4</th>\n",
              "      <td>rt-aQTkNfILbxBuATdJ1dA</td>\n",
              "      <td>3.5</td>\n",
              "      <td>258</td>\n",
              "      <td>Las Vegas</td>\n",
              "    </tr>\n",
              "  </tbody>\n",
              "</table>\n",
              "</div>"
            ],
            "text/plain": [
              "              business_id  biz_stars  biz_rev_ct       city\n",
              "0  po0p6NIro0cDrmKkcyPy0w        4.5         415  Las Vegas\n",
              "1  BcW7Z9lPmOB_8eS2lEuOqQ        4.0         683  Las Vegas\n",
              "2  rioQ_p2pILNbJ4Xp5jW6-Q        4.0         787  Las Vegas\n",
              "3  -a857YYdjzgOdOjFFRsRXQ        3.5         536  Las Vegas\n",
              "4  rt-aQTkNfILbxBuATdJ1dA        3.5         258  Las Vegas"
            ]
          },
          "metadata": {
            "tags": []
          },
          "execution_count": 82
        }
      ]
    },
    {
      "cell_type": "markdown",
      "metadata": {
        "id": "wk6W1iyeNMpK",
        "colab_type": "text"
      },
      "source": [
        "### We now recommend 3 of these businesses to each user and compute our new catalog coverage."
      ]
    },
    {
      "cell_type": "code",
      "metadata": {
        "id": "GvTTk2WCJ8sg",
        "colab_type": "code",
        "colab": {
          "base_uri": "https://localhost:8080/",
          "height": 206
        },
        "outputId": "bd9e46a2-014a-4151-b2b2-65041b051b09"
      },
      "source": [
        "users_rec = not_reviewed_sample[['user_id','city']].drop_duplicates()\n",
        "users_rec.head()"
      ],
      "execution_count": 83,
      "outputs": [
        {
          "output_type": "execute_result",
          "data": {
            "text/html": [
              "<div>\n",
              "<style scoped>\n",
              "    .dataframe tbody tr th:only-of-type {\n",
              "        vertical-align: middle;\n",
              "    }\n",
              "\n",
              "    .dataframe tbody tr th {\n",
              "        vertical-align: top;\n",
              "    }\n",
              "\n",
              "    .dataframe thead th {\n",
              "        text-align: right;\n",
              "    }\n",
              "</style>\n",
              "<table border=\"1\" class=\"dataframe\">\n",
              "  <thead>\n",
              "    <tr style=\"text-align: right;\">\n",
              "      <th></th>\n",
              "      <th>user_id</th>\n",
              "      <th>city</th>\n",
              "    </tr>\n",
              "  </thead>\n",
              "  <tbody>\n",
              "    <tr>\n",
              "      <th>0</th>\n",
              "      <td>---1lKK3aKOuomHnwAkAow</td>\n",
              "      <td>Las Vegas</td>\n",
              "    </tr>\n",
              "    <tr>\n",
              "      <th>1</th>\n",
              "      <td>--LUapetRSkZpFZ2d-MXLQ</td>\n",
              "      <td>Las Vegas</td>\n",
              "    </tr>\n",
              "    <tr>\n",
              "      <th>2</th>\n",
              "      <td>--RlSfc-QmcHFGHyX6aVjA</td>\n",
              "      <td>Las Vegas</td>\n",
              "    </tr>\n",
              "    <tr>\n",
              "      <th>3</th>\n",
              "      <td>--ZNfWKj1VyVElRx6-g1fg</td>\n",
              "      <td>Las Vegas</td>\n",
              "    </tr>\n",
              "    <tr>\n",
              "      <th>4</th>\n",
              "      <td>-00kdEIhCt-ODaV4BS-EAg</td>\n",
              "      <td>Las Vegas</td>\n",
              "    </tr>\n",
              "  </tbody>\n",
              "</table>\n",
              "</div>"
            ],
            "text/plain": [
              "                  user_id       city\n",
              "0  ---1lKK3aKOuomHnwAkAow  Las Vegas\n",
              "1  --LUapetRSkZpFZ2d-MXLQ  Las Vegas\n",
              "2  --RlSfc-QmcHFGHyX6aVjA  Las Vegas\n",
              "3  --ZNfWKj1VyVElRx6-g1fg  Las Vegas\n",
              "4  -00kdEIhCt-ODaV4BS-EAg  Las Vegas"
            ]
          },
          "metadata": {
            "tags": []
          },
          "execution_count": 83
        }
      ]
    },
    {
      "cell_type": "code",
      "metadata": {
        "id": "LtHaDq2MZFvA",
        "colab_type": "code",
        "colab": {}
      },
      "source": [
        "not_recommended_good_subset = not_recommended_good.merge(users_rec)"
      ],
      "execution_count": 0,
      "outputs": []
    },
    {
      "cell_type": "code",
      "metadata": {
        "id": "KpFeCo1fa0QJ",
        "colab_type": "code",
        "colab": {}
      },
      "source": [
        "not_recommended_good_subset = not_recommended_good_subset.sample(frac = 1, random_state = 69)"
      ],
      "execution_count": 0,
      "outputs": []
    },
    {
      "cell_type": "code",
      "metadata": {
        "id": "l9UGtQBaaXqt",
        "colab_type": "code",
        "colab": {
          "base_uri": "https://localhost:8080/",
          "height": 206
        },
        "outputId": "780c3481-e914-42af-e01c-a8de404246c9"
      },
      "source": [
        "new_recs = not_recommended_good_subset.groupby('user_id').head(3).reset_index(drop=True)\n",
        "new_recs.head()"
      ],
      "execution_count": 92,
      "outputs": [
        {
          "output_type": "execute_result",
          "data": {
            "text/html": [
              "<div>\n",
              "<style scoped>\n",
              "    .dataframe tbody tr th:only-of-type {\n",
              "        vertical-align: middle;\n",
              "    }\n",
              "\n",
              "    .dataframe tbody tr th {\n",
              "        vertical-align: top;\n",
              "    }\n",
              "\n",
              "    .dataframe thead th {\n",
              "        text-align: right;\n",
              "    }\n",
              "</style>\n",
              "<table border=\"1\" class=\"dataframe\">\n",
              "  <thead>\n",
              "    <tr style=\"text-align: right;\">\n",
              "      <th></th>\n",
              "      <th>business_id</th>\n",
              "      <th>biz_stars</th>\n",
              "      <th>biz_rev_ct</th>\n",
              "      <th>city</th>\n",
              "      <th>user_id</th>\n",
              "    </tr>\n",
              "  </thead>\n",
              "  <tbody>\n",
              "    <tr>\n",
              "      <th>0</th>\n",
              "      <td>po0p6NIro0cDrmKkcyPy0w</td>\n",
              "      <td>4.5</td>\n",
              "      <td>415</td>\n",
              "      <td>Las Vegas</td>\n",
              "      <td>RepuhCglksbbZp4SY8VzFA</td>\n",
              "    </tr>\n",
              "    <tr>\n",
              "      <th>1</th>\n",
              "      <td>DYAorbxOyubUB_wtQRCdug</td>\n",
              "      <td>4.0</td>\n",
              "      <td>861</td>\n",
              "      <td>Las Vegas</td>\n",
              "      <td>4DprYqnBy1b5iKzhJWzczQ</td>\n",
              "    </tr>\n",
              "    <tr>\n",
              "      <th>2</th>\n",
              "      <td>USMzHt3XL3nPXVVOfRw1-g</td>\n",
              "      <td>3.5</td>\n",
              "      <td>103</td>\n",
              "      <td>Las Vegas</td>\n",
              "      <td>YM053Px-v4iuuYL4F6iIIg</td>\n",
              "    </tr>\n",
              "    <tr>\n",
              "      <th>3</th>\n",
              "      <td>Z0CQ9oJySxJpB8RbK6NUgg</td>\n",
              "      <td>3.5</td>\n",
              "      <td>191</td>\n",
              "      <td>Las Vegas</td>\n",
              "      <td>LUpPyHnDlQOm9F4GCKcuHA</td>\n",
              "    </tr>\n",
              "    <tr>\n",
              "      <th>4</th>\n",
              "      <td>sJBem81QF7l_43aF7xtLYQ</td>\n",
              "      <td>4.0</td>\n",
              "      <td>138</td>\n",
              "      <td>Las Vegas</td>\n",
              "      <td>5dLAmXWDYb9OAswtNHyVdQ</td>\n",
              "    </tr>\n",
              "  </tbody>\n",
              "</table>\n",
              "</div>"
            ],
            "text/plain": [
              "              business_id  biz_stars  ...       city                 user_id\n",
              "0  po0p6NIro0cDrmKkcyPy0w        4.5  ...  Las Vegas  RepuhCglksbbZp4SY8VzFA\n",
              "1  DYAorbxOyubUB_wtQRCdug        4.0  ...  Las Vegas  4DprYqnBy1b5iKzhJWzczQ\n",
              "2  USMzHt3XL3nPXVVOfRw1-g        3.5  ...  Las Vegas  YM053Px-v4iuuYL4F6iIIg\n",
              "3  Z0CQ9oJySxJpB8RbK6NUgg        3.5  ...  Las Vegas  LUpPyHnDlQOm9F4GCKcuHA\n",
              "4  sJBem81QF7l_43aF7xtLYQ        4.0  ...  Las Vegas  5dLAmXWDYb9OAswtNHyVdQ\n",
              "\n",
              "[5 rows x 5 columns]"
            ]
          },
          "metadata": {
            "tags": []
          },
          "execution_count": 92
        }
      ]
    },
    {
      "cell_type": "code",
      "metadata": {
        "id": "RQleKl6oLP4h",
        "colab_type": "code",
        "colab": {
          "base_uri": "https://localhost:8080/",
          "height": 35
        },
        "outputId": "90dd9bf4-4f8e-44e2-d0dd-a69905fdca94"
      },
      "source": [
        "print(\"Modified Catalog Coverage for the sample:\",((len(set(top_5_recs['business_id']))+len(set(new_recs['business_id'])))/len(set(not_reviewed_sample['business_id'])))*100,\"%\")"
      ],
      "execution_count": 94,
      "outputs": [
        {
          "output_type": "stream",
          "text": [
            "Modified Catalog Coverage for the sample: 78.51239669421489 %\n"
          ],
          "name": "stdout"
        }
      ]
    },
    {
      "cell_type": "markdown",
      "metadata": {
        "id": "Np0Xfl8sVsvZ",
        "colab_type": "text"
      },
      "source": [
        "### We see that the catalog coverage now improves to 78%, hence significantly improving coverage as well."
      ]
    },
    {
      "cell_type": "markdown",
      "metadata": {
        "id": "9gqkKQwmlQdb",
        "colab_type": "text"
      },
      "source": [
        "### Finally, we want to test how our model performs with respect to less and more prolific businesses and users\n",
        "\n",
        "### First, we split the businesses into 4 categories (<10 reviews, 10-100 reviews, 100-1000 reviews and above 1000 reviews) and compute RMSE and R2 for each of them"
      ]
    },
    {
      "cell_type": "code",
      "metadata": {
        "id": "Xu2Hv4dtiOTU",
        "colab_type": "code",
        "colab": {}
      },
      "source": [
        "test['predicted_rating'] = preds"
      ],
      "execution_count": 0,
      "outputs": []
    },
    {
      "cell_type": "code",
      "metadata": {
        "id": "ko6Xy91rilNI",
        "colab_type": "code",
        "colab": {
          "base_uri": "https://localhost:8080/",
          "height": 412
        },
        "outputId": "39ae2e94-a47f-4fc5-abbb-b2ed6aed2cdf"
      },
      "source": [
        "biz_cat = []\n",
        "for i in range(len(test)):\n",
        "  if test.iloc[i]['biz_rev_ct'] <= 10:\n",
        "    biz_cat.append(1)\n",
        "  elif test.iloc[i]['biz_rev_ct'] > 10 and  test.iloc[i]['biz_rev_ct'] <= 100:\n",
        "    biz_cat.append(2)\n",
        "  elif test.iloc[i]['biz_rev_ct'] > 100 and  test.iloc[i]['biz_rev_ct'] <= 1000:\n",
        "    biz_cat.append(3)\n",
        "  elif test.iloc[i]['biz_rev_ct'] > 1000:\n",
        "    biz_cat.append(4)\n",
        "  \n",
        "test['biz_cat'] = biz_cat\n",
        "test.head()"
      ],
      "execution_count": 42,
      "outputs": [
        {
          "output_type": "execute_result",
          "data": {
            "text/html": [
              "<div>\n",
              "<style scoped>\n",
              "    .dataframe tbody tr th:only-of-type {\n",
              "        vertical-align: middle;\n",
              "    }\n",
              "\n",
              "    .dataframe tbody tr th {\n",
              "        vertical-align: top;\n",
              "    }\n",
              "\n",
              "    .dataframe thead th {\n",
              "        text-align: right;\n",
              "    }\n",
              "</style>\n",
              "<table border=\"1\" class=\"dataframe\">\n",
              "  <thead>\n",
              "    <tr style=\"text-align: right;\">\n",
              "      <th></th>\n",
              "      <th>user_id</th>\n",
              "      <th>business_id</th>\n",
              "      <th>rating</th>\n",
              "      <th>date</th>\n",
              "      <th>useful</th>\n",
              "      <th>index</th>\n",
              "      <th>biz_stars</th>\n",
              "      <th>biz_rev_ct</th>\n",
              "      <th>state</th>\n",
              "      <th>city</th>\n",
              "      <th>is_open</th>\n",
              "      <th>American (New)</th>\n",
              "      <th>American (Traditional)</th>\n",
              "      <th>Asian Fusion</th>\n",
              "      <th>Bakeries</th>\n",
              "      <th>Barbeque</th>\n",
              "      <th>Bars</th>\n",
              "      <th>Beer</th>\n",
              "      <th>Breakfast &amp; Brunch</th>\n",
              "      <th>Burgers</th>\n",
              "      <th>Cafes</th>\n",
              "      <th>Canadian (New)</th>\n",
              "      <th>Caterers</th>\n",
              "      <th>Chicken Wings</th>\n",
              "      <th>Chinese</th>\n",
              "      <th>Coffee &amp; Tea</th>\n",
              "      <th>Comfort Food</th>\n",
              "      <th>Delis</th>\n",
              "      <th>Desserts</th>\n",
              "      <th>Ethnic Food</th>\n",
              "      <th>Event Planning &amp; Services</th>\n",
              "      <th>Fast Food</th>\n",
              "      <th>Food Delivery Services</th>\n",
              "      <th>Food Trucks</th>\n",
              "      <th>Grocery</th>\n",
              "      <th>Ice Cream &amp; Frozen Yogurt</th>\n",
              "      <th>Italian</th>\n",
              "      <th>Juice Bars &amp; Smoothies</th>\n",
              "      <th>Mexican</th>\n",
              "      <th>Nightlife</th>\n",
              "      <th>...</th>\n",
              "      <th>American (New)_urating</th>\n",
              "      <th>American (Traditional)_urating</th>\n",
              "      <th>Asian Fusion_urating</th>\n",
              "      <th>Bakeries_urating</th>\n",
              "      <th>Barbeque_urating</th>\n",
              "      <th>Bars_urating</th>\n",
              "      <th>Beer_urating</th>\n",
              "      <th>Breakfast &amp; Brunch_urating</th>\n",
              "      <th>Burgers_urating</th>\n",
              "      <th>Cafes_urating</th>\n",
              "      <th>Canadian (New)_urating</th>\n",
              "      <th>Caterers_urating</th>\n",
              "      <th>Chicken Wings_urating</th>\n",
              "      <th>Chinese_urating</th>\n",
              "      <th>Coffee &amp; Tea_urating</th>\n",
              "      <th>Comfort Food_urating</th>\n",
              "      <th>Delis_urating</th>\n",
              "      <th>Desserts_urating</th>\n",
              "      <th>Ethnic Food_urating</th>\n",
              "      <th>Event Planning &amp; Services_urating</th>\n",
              "      <th>Fast Food_urating</th>\n",
              "      <th>Food Delivery Services_urating</th>\n",
              "      <th>Food Trucks_urating</th>\n",
              "      <th>Grocery_urating</th>\n",
              "      <th>Ice Cream &amp; Frozen Yogurt_urating</th>\n",
              "      <th>Italian_urating</th>\n",
              "      <th>Juice Bars &amp; Smoothies_urating</th>\n",
              "      <th>Mexican_urating</th>\n",
              "      <th>Nightlife_urating</th>\n",
              "      <th>Pizza_urating</th>\n",
              "      <th>Salad_urating</th>\n",
              "      <th>Sandwiches_urating</th>\n",
              "      <th>Seafood_urating</th>\n",
              "      <th>Specialty Food_urating</th>\n",
              "      <th>Wine &amp; Spirits_urating</th>\n",
              "      <th>biz_w_avg</th>\n",
              "      <th>user_id_num</th>\n",
              "      <th>business_id_num</th>\n",
              "      <th>predicted_rating</th>\n",
              "      <th>biz_cat</th>\n",
              "    </tr>\n",
              "  </thead>\n",
              "  <tbody>\n",
              "    <tr>\n",
              "      <th>10</th>\n",
              "      <td>---1lKK3aKOuomHnwAkAow</td>\n",
              "      <td>GJBLjDkfJ4tvkpAjDeCikA</td>\n",
              "      <td>1.0</td>\n",
              "      <td>2018-07-05 19:14:18</td>\n",
              "      <td>3</td>\n",
              "      <td>176121</td>\n",
              "      <td>2.0</td>\n",
              "      <td>130</td>\n",
              "      <td>NV</td>\n",
              "      <td>Las Vegas</td>\n",
              "      <td>1</td>\n",
              "      <td>0</td>\n",
              "      <td>0</td>\n",
              "      <td>0</td>\n",
              "      <td>0</td>\n",
              "      <td>0</td>\n",
              "      <td>0</td>\n",
              "      <td>0</td>\n",
              "      <td>0</td>\n",
              "      <td>0</td>\n",
              "      <td>0</td>\n",
              "      <td>0</td>\n",
              "      <td>0</td>\n",
              "      <td>0</td>\n",
              "      <td>0</td>\n",
              "      <td>0</td>\n",
              "      <td>0</td>\n",
              "      <td>0</td>\n",
              "      <td>0</td>\n",
              "      <td>0</td>\n",
              "      <td>0</td>\n",
              "      <td>0</td>\n",
              "      <td>0</td>\n",
              "      <td>0</td>\n",
              "      <td>0</td>\n",
              "      <td>0</td>\n",
              "      <td>0</td>\n",
              "      <td>0</td>\n",
              "      <td>0</td>\n",
              "      <td>0</td>\n",
              "      <td>...</td>\n",
              "      <td>8</td>\n",
              "      <td>3</td>\n",
              "      <td>1</td>\n",
              "      <td>2</td>\n",
              "      <td>0</td>\n",
              "      <td>5</td>\n",
              "      <td>1</td>\n",
              "      <td>6</td>\n",
              "      <td>2</td>\n",
              "      <td>4</td>\n",
              "      <td>0</td>\n",
              "      <td>0</td>\n",
              "      <td>0</td>\n",
              "      <td>0</td>\n",
              "      <td>4</td>\n",
              "      <td>0</td>\n",
              "      <td>0</td>\n",
              "      <td>2</td>\n",
              "      <td>0</td>\n",
              "      <td>0</td>\n",
              "      <td>0</td>\n",
              "      <td>0</td>\n",
              "      <td>0</td>\n",
              "      <td>0</td>\n",
              "      <td>1</td>\n",
              "      <td>3</td>\n",
              "      <td>4</td>\n",
              "      <td>0</td>\n",
              "      <td>5</td>\n",
              "      <td>2</td>\n",
              "      <td>0</td>\n",
              "      <td>5</td>\n",
              "      <td>3</td>\n",
              "      <td>2</td>\n",
              "      <td>1</td>\n",
              "      <td>1.743590</td>\n",
              "      <td>45925</td>\n",
              "      <td>12403</td>\n",
              "      <td>2.737375</td>\n",
              "      <td>3</td>\n",
              "    </tr>\n",
              "    <tr>\n",
              "      <th>29</th>\n",
              "      <td>--2HUmLkcNHZp0xw6AMBPg</td>\n",
              "      <td>EU83r5yrRw3zRictM5eO6Q</td>\n",
              "      <td>5.0</td>\n",
              "      <td>2018-09-23 19:48:17</td>\n",
              "      <td>0</td>\n",
              "      <td>142137</td>\n",
              "      <td>4.0</td>\n",
              "      <td>18</td>\n",
              "      <td>AZ</td>\n",
              "      <td>Phoenix</td>\n",
              "      <td>1</td>\n",
              "      <td>0</td>\n",
              "      <td>0</td>\n",
              "      <td>0</td>\n",
              "      <td>0</td>\n",
              "      <td>0</td>\n",
              "      <td>0</td>\n",
              "      <td>0</td>\n",
              "      <td>0</td>\n",
              "      <td>0</td>\n",
              "      <td>0</td>\n",
              "      <td>0</td>\n",
              "      <td>0</td>\n",
              "      <td>0</td>\n",
              "      <td>0</td>\n",
              "      <td>0</td>\n",
              "      <td>0</td>\n",
              "      <td>0</td>\n",
              "      <td>0</td>\n",
              "      <td>0</td>\n",
              "      <td>0</td>\n",
              "      <td>1</td>\n",
              "      <td>0</td>\n",
              "      <td>0</td>\n",
              "      <td>0</td>\n",
              "      <td>0</td>\n",
              "      <td>0</td>\n",
              "      <td>0</td>\n",
              "      <td>1</td>\n",
              "      <td>0</td>\n",
              "      <td>...</td>\n",
              "      <td>4</td>\n",
              "      <td>3</td>\n",
              "      <td>0</td>\n",
              "      <td>3</td>\n",
              "      <td>0</td>\n",
              "      <td>1</td>\n",
              "      <td>1</td>\n",
              "      <td>7</td>\n",
              "      <td>3</td>\n",
              "      <td>1</td>\n",
              "      <td>0</td>\n",
              "      <td>1</td>\n",
              "      <td>1</td>\n",
              "      <td>0</td>\n",
              "      <td>3</td>\n",
              "      <td>1</td>\n",
              "      <td>3</td>\n",
              "      <td>2</td>\n",
              "      <td>0</td>\n",
              "      <td>1</td>\n",
              "      <td>7</td>\n",
              "      <td>0</td>\n",
              "      <td>0</td>\n",
              "      <td>1</td>\n",
              "      <td>2</td>\n",
              "      <td>4</td>\n",
              "      <td>2</td>\n",
              "      <td>5</td>\n",
              "      <td>1</td>\n",
              "      <td>1</td>\n",
              "      <td>0</td>\n",
              "      <td>7</td>\n",
              "      <td>1</td>\n",
              "      <td>1</td>\n",
              "      <td>1</td>\n",
              "      <td>4.500000</td>\n",
              "      <td>22775</td>\n",
              "      <td>237</td>\n",
              "      <td>4.597207</td>\n",
              "      <td>2</td>\n",
              "    </tr>\n",
              "    <tr>\n",
              "      <th>34</th>\n",
              "      <td>--3WaS23LcIXtxyFULJHTA</td>\n",
              "      <td>WB7346WSdkTHvtHfWPilaA</td>\n",
              "      <td>5.0</td>\n",
              "      <td>2018-04-27 20:34:01</td>\n",
              "      <td>1</td>\n",
              "      <td>181182</td>\n",
              "      <td>4.5</td>\n",
              "      <td>334</td>\n",
              "      <td>AZ</td>\n",
              "      <td>Phoenix</td>\n",
              "      <td>1</td>\n",
              "      <td>0</td>\n",
              "      <td>0</td>\n",
              "      <td>0</td>\n",
              "      <td>0</td>\n",
              "      <td>0</td>\n",
              "      <td>0</td>\n",
              "      <td>0</td>\n",
              "      <td>1</td>\n",
              "      <td>0</td>\n",
              "      <td>1</td>\n",
              "      <td>0</td>\n",
              "      <td>0</td>\n",
              "      <td>0</td>\n",
              "      <td>0</td>\n",
              "      <td>1</td>\n",
              "      <td>0</td>\n",
              "      <td>0</td>\n",
              "      <td>0</td>\n",
              "      <td>0</td>\n",
              "      <td>0</td>\n",
              "      <td>0</td>\n",
              "      <td>0</td>\n",
              "      <td>0</td>\n",
              "      <td>0</td>\n",
              "      <td>0</td>\n",
              "      <td>0</td>\n",
              "      <td>0</td>\n",
              "      <td>0</td>\n",
              "      <td>0</td>\n",
              "      <td>...</td>\n",
              "      <td>2</td>\n",
              "      <td>0</td>\n",
              "      <td>0</td>\n",
              "      <td>2</td>\n",
              "      <td>0</td>\n",
              "      <td>2</td>\n",
              "      <td>0</td>\n",
              "      <td>3</td>\n",
              "      <td>0</td>\n",
              "      <td>4</td>\n",
              "      <td>0</td>\n",
              "      <td>1</td>\n",
              "      <td>0</td>\n",
              "      <td>0</td>\n",
              "      <td>3</td>\n",
              "      <td>0</td>\n",
              "      <td>0</td>\n",
              "      <td>1</td>\n",
              "      <td>0</td>\n",
              "      <td>1</td>\n",
              "      <td>0</td>\n",
              "      <td>1</td>\n",
              "      <td>0</td>\n",
              "      <td>1</td>\n",
              "      <td>0</td>\n",
              "      <td>0</td>\n",
              "      <td>0</td>\n",
              "      <td>0</td>\n",
              "      <td>2</td>\n",
              "      <td>0</td>\n",
              "      <td>2</td>\n",
              "      <td>3</td>\n",
              "      <td>0</td>\n",
              "      <td>0</td>\n",
              "      <td>0</td>\n",
              "      <td>4.487805</td>\n",
              "      <td>10751</td>\n",
              "      <td>11892</td>\n",
              "      <td>4.243849</td>\n",
              "      <td>3</td>\n",
              "    </tr>\n",
              "    <tr>\n",
              "      <th>40</th>\n",
              "      <td>--4rAAfZnEIAKJE80aIiYg</td>\n",
              "      <td>9h2FCxdB5uk4bjX3P47L9g</td>\n",
              "      <td>3.0</td>\n",
              "      <td>2018-04-01 23:27:32</td>\n",
              "      <td>0</td>\n",
              "      <td>67964</td>\n",
              "      <td>4.0</td>\n",
              "      <td>88</td>\n",
              "      <td>AZ</td>\n",
              "      <td>Phoenix</td>\n",
              "      <td>1</td>\n",
              "      <td>0</td>\n",
              "      <td>0</td>\n",
              "      <td>0</td>\n",
              "      <td>0</td>\n",
              "      <td>0</td>\n",
              "      <td>0</td>\n",
              "      <td>0</td>\n",
              "      <td>1</td>\n",
              "      <td>0</td>\n",
              "      <td>0</td>\n",
              "      <td>0</td>\n",
              "      <td>0</td>\n",
              "      <td>0</td>\n",
              "      <td>0</td>\n",
              "      <td>0</td>\n",
              "      <td>0</td>\n",
              "      <td>1</td>\n",
              "      <td>0</td>\n",
              "      <td>0</td>\n",
              "      <td>0</td>\n",
              "      <td>1</td>\n",
              "      <td>0</td>\n",
              "      <td>0</td>\n",
              "      <td>0</td>\n",
              "      <td>0</td>\n",
              "      <td>0</td>\n",
              "      <td>0</td>\n",
              "      <td>0</td>\n",
              "      <td>0</td>\n",
              "      <td>...</td>\n",
              "      <td>1</td>\n",
              "      <td>0</td>\n",
              "      <td>2</td>\n",
              "      <td>0</td>\n",
              "      <td>1</td>\n",
              "      <td>0</td>\n",
              "      <td>0</td>\n",
              "      <td>3</td>\n",
              "      <td>1</td>\n",
              "      <td>0</td>\n",
              "      <td>0</td>\n",
              "      <td>1</td>\n",
              "      <td>0</td>\n",
              "      <td>2</td>\n",
              "      <td>1</td>\n",
              "      <td>0</td>\n",
              "      <td>2</td>\n",
              "      <td>0</td>\n",
              "      <td>0</td>\n",
              "      <td>1</td>\n",
              "      <td>4</td>\n",
              "      <td>0</td>\n",
              "      <td>0</td>\n",
              "      <td>0</td>\n",
              "      <td>0</td>\n",
              "      <td>1</td>\n",
              "      <td>0</td>\n",
              "      <td>0</td>\n",
              "      <td>0</td>\n",
              "      <td>1</td>\n",
              "      <td>1</td>\n",
              "      <td>3</td>\n",
              "      <td>0</td>\n",
              "      <td>0</td>\n",
              "      <td>0</td>\n",
              "      <td>3.884615</td>\n",
              "      <td>12563</td>\n",
              "      <td>3610</td>\n",
              "      <td>2.909734</td>\n",
              "      <td>2</td>\n",
              "    </tr>\n",
              "    <tr>\n",
              "      <th>62</th>\n",
              "      <td>--BumyUHiO_7YsHurb9Hkw</td>\n",
              "      <td>3fw2X5bZYeW9xCz_zGhOHg</td>\n",
              "      <td>4.0</td>\n",
              "      <td>2018-08-27 01:26:21</td>\n",
              "      <td>0</td>\n",
              "      <td>2756</td>\n",
              "      <td>3.5</td>\n",
              "      <td>122</td>\n",
              "      <td>ON</td>\n",
              "      <td>Markham</td>\n",
              "      <td>1</td>\n",
              "      <td>0</td>\n",
              "      <td>0</td>\n",
              "      <td>0</td>\n",
              "      <td>0</td>\n",
              "      <td>0</td>\n",
              "      <td>0</td>\n",
              "      <td>0</td>\n",
              "      <td>0</td>\n",
              "      <td>0</td>\n",
              "      <td>0</td>\n",
              "      <td>0</td>\n",
              "      <td>0</td>\n",
              "      <td>0</td>\n",
              "      <td>1</td>\n",
              "      <td>0</td>\n",
              "      <td>0</td>\n",
              "      <td>0</td>\n",
              "      <td>1</td>\n",
              "      <td>0</td>\n",
              "      <td>0</td>\n",
              "      <td>0</td>\n",
              "      <td>0</td>\n",
              "      <td>0</td>\n",
              "      <td>0</td>\n",
              "      <td>0</td>\n",
              "      <td>0</td>\n",
              "      <td>0</td>\n",
              "      <td>0</td>\n",
              "      <td>0</td>\n",
              "      <td>...</td>\n",
              "      <td>1</td>\n",
              "      <td>0</td>\n",
              "      <td>1</td>\n",
              "      <td>3</td>\n",
              "      <td>0</td>\n",
              "      <td>4</td>\n",
              "      <td>2</td>\n",
              "      <td>5</td>\n",
              "      <td>0</td>\n",
              "      <td>6</td>\n",
              "      <td>3</td>\n",
              "      <td>1</td>\n",
              "      <td>0</td>\n",
              "      <td>3</td>\n",
              "      <td>9</td>\n",
              "      <td>1</td>\n",
              "      <td>0</td>\n",
              "      <td>6</td>\n",
              "      <td>2</td>\n",
              "      <td>2</td>\n",
              "      <td>1</td>\n",
              "      <td>0</td>\n",
              "      <td>0</td>\n",
              "      <td>0</td>\n",
              "      <td>0</td>\n",
              "      <td>1</td>\n",
              "      <td>0</td>\n",
              "      <td>3</td>\n",
              "      <td>4</td>\n",
              "      <td>1</td>\n",
              "      <td>2</td>\n",
              "      <td>6</td>\n",
              "      <td>0</td>\n",
              "      <td>5</td>\n",
              "      <td>2</td>\n",
              "      <td>3.464912</td>\n",
              "      <td>33938</td>\n",
              "      <td>6523</td>\n",
              "      <td>3.707530</td>\n",
              "      <td>3</td>\n",
              "    </tr>\n",
              "  </tbody>\n",
              "</table>\n",
              "<p>5 rows × 88 columns</p>\n",
              "</div>"
            ],
            "text/plain": [
              "                   user_id             business_id  ...  predicted_rating biz_cat\n",
              "10  ---1lKK3aKOuomHnwAkAow  GJBLjDkfJ4tvkpAjDeCikA  ...          2.737375       3\n",
              "29  --2HUmLkcNHZp0xw6AMBPg  EU83r5yrRw3zRictM5eO6Q  ...          4.597207       2\n",
              "34  --3WaS23LcIXtxyFULJHTA  WB7346WSdkTHvtHfWPilaA  ...          4.243849       3\n",
              "40  --4rAAfZnEIAKJE80aIiYg  9h2FCxdB5uk4bjX3P47L9g  ...          2.909734       2\n",
              "62  --BumyUHiO_7YsHurb9Hkw  3fw2X5bZYeW9xCz_zGhOHg  ...          3.707530       3\n",
              "\n",
              "[5 rows x 88 columns]"
            ]
          },
          "metadata": {
            "tags": []
          },
          "execution_count": 42
        }
      ]
    },
    {
      "cell_type": "code",
      "metadata": {
        "id": "mpLkhYs2j5qu",
        "colab_type": "code",
        "colab": {
          "base_uri": "https://localhost:8080/",
          "height": 90
        },
        "outputId": "1280c178-df8a-49fe-aa94-3a1691ed2376"
      },
      "source": [
        "for i in range(1,5):\n",
        "  test_sample = test[test['biz_cat'] == i]\n",
        "  rmse = math.sqrt(mean_squared_error(test_sample['predicted_rating'], test_sample['rating']))\n",
        "  r2 = goodness_of_fit(np.array(test_sample['predicted_rating']),np.array(test_sample['rating']))\n",
        "  print(\"Business Category: \",i,\"RMSE: \",rmse,\"R2: \",r2)\n",
        "\n",
        "  "
      ],
      "execution_count": 46,
      "outputs": [
        {
          "output_type": "stream",
          "text": [
            "Business Category:  1 RMSE:  1.085685749666527 R2:  0.4938705358242176\n",
            "Business Category:  2 RMSE:  1.1709984356405985 R2:  0.38457248542269595\n",
            "Business Category:  3 RMSE:  1.1154534111284893 R2:  0.24389463491990504\n",
            "Business Category:  4 RMSE:  1.0191824213146938 R2:  0.1568331334647005\n"
          ],
          "name": "stdout"
        }
      ]
    },
    {
      "cell_type": "markdown",
      "metadata": {
        "id": "Dffma-DFljzI",
        "colab_type": "text"
      },
      "source": [
        "### We see that although there is a variation in the RMSE and R2 for all for categories, they all have good values that perform better than the baselines  \n",
        "  \n",
        "  ### Now, similarly, we will split users using the same bins into 4 categories based on the number of fans a user has"
      ]
    },
    {
      "cell_type": "code",
      "metadata": {
        "id": "FSTpYbCQicxN",
        "colab_type": "code",
        "colab": {
          "base_uri": "https://localhost:8080/",
          "height": 412
        },
        "outputId": "d899f4bd-d14e-4d34-d274-99ab71cdb098"
      },
      "source": [
        "user_cat = []\n",
        "for i in range(len(test)):\n",
        "  if test.iloc[i]['fans'] <= 10:\n",
        "    user_cat.append(1)\n",
        "  elif test.iloc[i]['fans'] > 10 and  test.iloc[i]['fans'] <= 100:\n",
        "    user_cat.append(2)\n",
        "  elif test.iloc[i]['fans'] > 100 and  test.iloc[i]['fans'] <= 1000:\n",
        "    user_cat.append(3)\n",
        "  elif test.iloc[i]['fans'] > 1000:\n",
        "    user_cat.append(4)\n",
        "  \n",
        "test['user_cat'] = user_cat\n",
        "test.head()"
      ],
      "execution_count": 50,
      "outputs": [
        {
          "output_type": "execute_result",
          "data": {
            "text/html": [
              "<div>\n",
              "<style scoped>\n",
              "    .dataframe tbody tr th:only-of-type {\n",
              "        vertical-align: middle;\n",
              "    }\n",
              "\n",
              "    .dataframe tbody tr th {\n",
              "        vertical-align: top;\n",
              "    }\n",
              "\n",
              "    .dataframe thead th {\n",
              "        text-align: right;\n",
              "    }\n",
              "</style>\n",
              "<table border=\"1\" class=\"dataframe\">\n",
              "  <thead>\n",
              "    <tr style=\"text-align: right;\">\n",
              "      <th></th>\n",
              "      <th>user_id</th>\n",
              "      <th>business_id</th>\n",
              "      <th>rating</th>\n",
              "      <th>date</th>\n",
              "      <th>useful</th>\n",
              "      <th>index</th>\n",
              "      <th>biz_stars</th>\n",
              "      <th>biz_rev_ct</th>\n",
              "      <th>state</th>\n",
              "      <th>city</th>\n",
              "      <th>is_open</th>\n",
              "      <th>American (New)</th>\n",
              "      <th>American (Traditional)</th>\n",
              "      <th>Asian Fusion</th>\n",
              "      <th>Bakeries</th>\n",
              "      <th>Barbeque</th>\n",
              "      <th>Bars</th>\n",
              "      <th>Beer</th>\n",
              "      <th>Breakfast &amp; Brunch</th>\n",
              "      <th>Burgers</th>\n",
              "      <th>Cafes</th>\n",
              "      <th>Canadian (New)</th>\n",
              "      <th>Caterers</th>\n",
              "      <th>Chicken Wings</th>\n",
              "      <th>Chinese</th>\n",
              "      <th>Coffee &amp; Tea</th>\n",
              "      <th>Comfort Food</th>\n",
              "      <th>Delis</th>\n",
              "      <th>Desserts</th>\n",
              "      <th>Ethnic Food</th>\n",
              "      <th>Event Planning &amp; Services</th>\n",
              "      <th>Fast Food</th>\n",
              "      <th>Food Delivery Services</th>\n",
              "      <th>Food Trucks</th>\n",
              "      <th>Grocery</th>\n",
              "      <th>Ice Cream &amp; Frozen Yogurt</th>\n",
              "      <th>Italian</th>\n",
              "      <th>Juice Bars &amp; Smoothies</th>\n",
              "      <th>Mexican</th>\n",
              "      <th>Nightlife</th>\n",
              "      <th>...</th>\n",
              "      <th>American (Traditional)_urating</th>\n",
              "      <th>Asian Fusion_urating</th>\n",
              "      <th>Bakeries_urating</th>\n",
              "      <th>Barbeque_urating</th>\n",
              "      <th>Bars_urating</th>\n",
              "      <th>Beer_urating</th>\n",
              "      <th>Breakfast &amp; Brunch_urating</th>\n",
              "      <th>Burgers_urating</th>\n",
              "      <th>Cafes_urating</th>\n",
              "      <th>Canadian (New)_urating</th>\n",
              "      <th>Caterers_urating</th>\n",
              "      <th>Chicken Wings_urating</th>\n",
              "      <th>Chinese_urating</th>\n",
              "      <th>Coffee &amp; Tea_urating</th>\n",
              "      <th>Comfort Food_urating</th>\n",
              "      <th>Delis_urating</th>\n",
              "      <th>Desserts_urating</th>\n",
              "      <th>Ethnic Food_urating</th>\n",
              "      <th>Event Planning &amp; Services_urating</th>\n",
              "      <th>Fast Food_urating</th>\n",
              "      <th>Food Delivery Services_urating</th>\n",
              "      <th>Food Trucks_urating</th>\n",
              "      <th>Grocery_urating</th>\n",
              "      <th>Ice Cream &amp; Frozen Yogurt_urating</th>\n",
              "      <th>Italian_urating</th>\n",
              "      <th>Juice Bars &amp; Smoothies_urating</th>\n",
              "      <th>Mexican_urating</th>\n",
              "      <th>Nightlife_urating</th>\n",
              "      <th>Pizza_urating</th>\n",
              "      <th>Salad_urating</th>\n",
              "      <th>Sandwiches_urating</th>\n",
              "      <th>Seafood_urating</th>\n",
              "      <th>Specialty Food_urating</th>\n",
              "      <th>Wine &amp; Spirits_urating</th>\n",
              "      <th>biz_w_avg</th>\n",
              "      <th>user_id_num</th>\n",
              "      <th>business_id_num</th>\n",
              "      <th>predicted_rating</th>\n",
              "      <th>biz_cat</th>\n",
              "      <th>user_cat</th>\n",
              "    </tr>\n",
              "  </thead>\n",
              "  <tbody>\n",
              "    <tr>\n",
              "      <th>10</th>\n",
              "      <td>---1lKK3aKOuomHnwAkAow</td>\n",
              "      <td>GJBLjDkfJ4tvkpAjDeCikA</td>\n",
              "      <td>1.0</td>\n",
              "      <td>2018-07-05 19:14:18</td>\n",
              "      <td>3</td>\n",
              "      <td>176121</td>\n",
              "      <td>2.0</td>\n",
              "      <td>130</td>\n",
              "      <td>NV</td>\n",
              "      <td>Las Vegas</td>\n",
              "      <td>1</td>\n",
              "      <td>0</td>\n",
              "      <td>0</td>\n",
              "      <td>0</td>\n",
              "      <td>0</td>\n",
              "      <td>0</td>\n",
              "      <td>0</td>\n",
              "      <td>0</td>\n",
              "      <td>0</td>\n",
              "      <td>0</td>\n",
              "      <td>0</td>\n",
              "      <td>0</td>\n",
              "      <td>0</td>\n",
              "      <td>0</td>\n",
              "      <td>0</td>\n",
              "      <td>0</td>\n",
              "      <td>0</td>\n",
              "      <td>0</td>\n",
              "      <td>0</td>\n",
              "      <td>0</td>\n",
              "      <td>0</td>\n",
              "      <td>0</td>\n",
              "      <td>0</td>\n",
              "      <td>0</td>\n",
              "      <td>0</td>\n",
              "      <td>0</td>\n",
              "      <td>0</td>\n",
              "      <td>0</td>\n",
              "      <td>0</td>\n",
              "      <td>0</td>\n",
              "      <td>...</td>\n",
              "      <td>3</td>\n",
              "      <td>1</td>\n",
              "      <td>2</td>\n",
              "      <td>0</td>\n",
              "      <td>5</td>\n",
              "      <td>1</td>\n",
              "      <td>6</td>\n",
              "      <td>2</td>\n",
              "      <td>4</td>\n",
              "      <td>0</td>\n",
              "      <td>0</td>\n",
              "      <td>0</td>\n",
              "      <td>0</td>\n",
              "      <td>4</td>\n",
              "      <td>0</td>\n",
              "      <td>0</td>\n",
              "      <td>2</td>\n",
              "      <td>0</td>\n",
              "      <td>0</td>\n",
              "      <td>0</td>\n",
              "      <td>0</td>\n",
              "      <td>0</td>\n",
              "      <td>0</td>\n",
              "      <td>1</td>\n",
              "      <td>3</td>\n",
              "      <td>4</td>\n",
              "      <td>0</td>\n",
              "      <td>5</td>\n",
              "      <td>2</td>\n",
              "      <td>0</td>\n",
              "      <td>5</td>\n",
              "      <td>3</td>\n",
              "      <td>2</td>\n",
              "      <td>1</td>\n",
              "      <td>1.743590</td>\n",
              "      <td>45925</td>\n",
              "      <td>12403</td>\n",
              "      <td>2.737375</td>\n",
              "      <td>3</td>\n",
              "      <td>2</td>\n",
              "    </tr>\n",
              "    <tr>\n",
              "      <th>29</th>\n",
              "      <td>--2HUmLkcNHZp0xw6AMBPg</td>\n",
              "      <td>EU83r5yrRw3zRictM5eO6Q</td>\n",
              "      <td>5.0</td>\n",
              "      <td>2018-09-23 19:48:17</td>\n",
              "      <td>0</td>\n",
              "      <td>142137</td>\n",
              "      <td>4.0</td>\n",
              "      <td>18</td>\n",
              "      <td>AZ</td>\n",
              "      <td>Phoenix</td>\n",
              "      <td>1</td>\n",
              "      <td>0</td>\n",
              "      <td>0</td>\n",
              "      <td>0</td>\n",
              "      <td>0</td>\n",
              "      <td>0</td>\n",
              "      <td>0</td>\n",
              "      <td>0</td>\n",
              "      <td>0</td>\n",
              "      <td>0</td>\n",
              "      <td>0</td>\n",
              "      <td>0</td>\n",
              "      <td>0</td>\n",
              "      <td>0</td>\n",
              "      <td>0</td>\n",
              "      <td>0</td>\n",
              "      <td>0</td>\n",
              "      <td>0</td>\n",
              "      <td>0</td>\n",
              "      <td>0</td>\n",
              "      <td>0</td>\n",
              "      <td>1</td>\n",
              "      <td>0</td>\n",
              "      <td>0</td>\n",
              "      <td>0</td>\n",
              "      <td>0</td>\n",
              "      <td>0</td>\n",
              "      <td>0</td>\n",
              "      <td>1</td>\n",
              "      <td>0</td>\n",
              "      <td>...</td>\n",
              "      <td>3</td>\n",
              "      <td>0</td>\n",
              "      <td>3</td>\n",
              "      <td>0</td>\n",
              "      <td>1</td>\n",
              "      <td>1</td>\n",
              "      <td>7</td>\n",
              "      <td>3</td>\n",
              "      <td>1</td>\n",
              "      <td>0</td>\n",
              "      <td>1</td>\n",
              "      <td>1</td>\n",
              "      <td>0</td>\n",
              "      <td>3</td>\n",
              "      <td>1</td>\n",
              "      <td>3</td>\n",
              "      <td>2</td>\n",
              "      <td>0</td>\n",
              "      <td>1</td>\n",
              "      <td>7</td>\n",
              "      <td>0</td>\n",
              "      <td>0</td>\n",
              "      <td>1</td>\n",
              "      <td>2</td>\n",
              "      <td>4</td>\n",
              "      <td>2</td>\n",
              "      <td>5</td>\n",
              "      <td>1</td>\n",
              "      <td>1</td>\n",
              "      <td>0</td>\n",
              "      <td>7</td>\n",
              "      <td>1</td>\n",
              "      <td>1</td>\n",
              "      <td>1</td>\n",
              "      <td>4.500000</td>\n",
              "      <td>22775</td>\n",
              "      <td>237</td>\n",
              "      <td>4.597207</td>\n",
              "      <td>2</td>\n",
              "      <td>1</td>\n",
              "    </tr>\n",
              "    <tr>\n",
              "      <th>34</th>\n",
              "      <td>--3WaS23LcIXtxyFULJHTA</td>\n",
              "      <td>WB7346WSdkTHvtHfWPilaA</td>\n",
              "      <td>5.0</td>\n",
              "      <td>2018-04-27 20:34:01</td>\n",
              "      <td>1</td>\n",
              "      <td>181182</td>\n",
              "      <td>4.5</td>\n",
              "      <td>334</td>\n",
              "      <td>AZ</td>\n",
              "      <td>Phoenix</td>\n",
              "      <td>1</td>\n",
              "      <td>0</td>\n",
              "      <td>0</td>\n",
              "      <td>0</td>\n",
              "      <td>0</td>\n",
              "      <td>0</td>\n",
              "      <td>0</td>\n",
              "      <td>0</td>\n",
              "      <td>1</td>\n",
              "      <td>0</td>\n",
              "      <td>1</td>\n",
              "      <td>0</td>\n",
              "      <td>0</td>\n",
              "      <td>0</td>\n",
              "      <td>0</td>\n",
              "      <td>1</td>\n",
              "      <td>0</td>\n",
              "      <td>0</td>\n",
              "      <td>0</td>\n",
              "      <td>0</td>\n",
              "      <td>0</td>\n",
              "      <td>0</td>\n",
              "      <td>0</td>\n",
              "      <td>0</td>\n",
              "      <td>0</td>\n",
              "      <td>0</td>\n",
              "      <td>0</td>\n",
              "      <td>0</td>\n",
              "      <td>0</td>\n",
              "      <td>0</td>\n",
              "      <td>...</td>\n",
              "      <td>0</td>\n",
              "      <td>0</td>\n",
              "      <td>2</td>\n",
              "      <td>0</td>\n",
              "      <td>2</td>\n",
              "      <td>0</td>\n",
              "      <td>3</td>\n",
              "      <td>0</td>\n",
              "      <td>4</td>\n",
              "      <td>0</td>\n",
              "      <td>1</td>\n",
              "      <td>0</td>\n",
              "      <td>0</td>\n",
              "      <td>3</td>\n",
              "      <td>0</td>\n",
              "      <td>0</td>\n",
              "      <td>1</td>\n",
              "      <td>0</td>\n",
              "      <td>1</td>\n",
              "      <td>0</td>\n",
              "      <td>1</td>\n",
              "      <td>0</td>\n",
              "      <td>1</td>\n",
              "      <td>0</td>\n",
              "      <td>0</td>\n",
              "      <td>0</td>\n",
              "      <td>0</td>\n",
              "      <td>2</td>\n",
              "      <td>0</td>\n",
              "      <td>2</td>\n",
              "      <td>3</td>\n",
              "      <td>0</td>\n",
              "      <td>0</td>\n",
              "      <td>0</td>\n",
              "      <td>4.487805</td>\n",
              "      <td>10751</td>\n",
              "      <td>11892</td>\n",
              "      <td>4.243849</td>\n",
              "      <td>3</td>\n",
              "      <td>2</td>\n",
              "    </tr>\n",
              "    <tr>\n",
              "      <th>40</th>\n",
              "      <td>--4rAAfZnEIAKJE80aIiYg</td>\n",
              "      <td>9h2FCxdB5uk4bjX3P47L9g</td>\n",
              "      <td>3.0</td>\n",
              "      <td>2018-04-01 23:27:32</td>\n",
              "      <td>0</td>\n",
              "      <td>67964</td>\n",
              "      <td>4.0</td>\n",
              "      <td>88</td>\n",
              "      <td>AZ</td>\n",
              "      <td>Phoenix</td>\n",
              "      <td>1</td>\n",
              "      <td>0</td>\n",
              "      <td>0</td>\n",
              "      <td>0</td>\n",
              "      <td>0</td>\n",
              "      <td>0</td>\n",
              "      <td>0</td>\n",
              "      <td>0</td>\n",
              "      <td>1</td>\n",
              "      <td>0</td>\n",
              "      <td>0</td>\n",
              "      <td>0</td>\n",
              "      <td>0</td>\n",
              "      <td>0</td>\n",
              "      <td>0</td>\n",
              "      <td>0</td>\n",
              "      <td>0</td>\n",
              "      <td>1</td>\n",
              "      <td>0</td>\n",
              "      <td>0</td>\n",
              "      <td>0</td>\n",
              "      <td>1</td>\n",
              "      <td>0</td>\n",
              "      <td>0</td>\n",
              "      <td>0</td>\n",
              "      <td>0</td>\n",
              "      <td>0</td>\n",
              "      <td>0</td>\n",
              "      <td>0</td>\n",
              "      <td>0</td>\n",
              "      <td>...</td>\n",
              "      <td>0</td>\n",
              "      <td>2</td>\n",
              "      <td>0</td>\n",
              "      <td>1</td>\n",
              "      <td>0</td>\n",
              "      <td>0</td>\n",
              "      <td>3</td>\n",
              "      <td>1</td>\n",
              "      <td>0</td>\n",
              "      <td>0</td>\n",
              "      <td>1</td>\n",
              "      <td>0</td>\n",
              "      <td>2</td>\n",
              "      <td>1</td>\n",
              "      <td>0</td>\n",
              "      <td>2</td>\n",
              "      <td>0</td>\n",
              "      <td>0</td>\n",
              "      <td>1</td>\n",
              "      <td>4</td>\n",
              "      <td>0</td>\n",
              "      <td>0</td>\n",
              "      <td>0</td>\n",
              "      <td>0</td>\n",
              "      <td>1</td>\n",
              "      <td>0</td>\n",
              "      <td>0</td>\n",
              "      <td>0</td>\n",
              "      <td>1</td>\n",
              "      <td>1</td>\n",
              "      <td>3</td>\n",
              "      <td>0</td>\n",
              "      <td>0</td>\n",
              "      <td>0</td>\n",
              "      <td>3.884615</td>\n",
              "      <td>12563</td>\n",
              "      <td>3610</td>\n",
              "      <td>2.909734</td>\n",
              "      <td>2</td>\n",
              "      <td>1</td>\n",
              "    </tr>\n",
              "    <tr>\n",
              "      <th>62</th>\n",
              "      <td>--BumyUHiO_7YsHurb9Hkw</td>\n",
              "      <td>3fw2X5bZYeW9xCz_zGhOHg</td>\n",
              "      <td>4.0</td>\n",
              "      <td>2018-08-27 01:26:21</td>\n",
              "      <td>0</td>\n",
              "      <td>2756</td>\n",
              "      <td>3.5</td>\n",
              "      <td>122</td>\n",
              "      <td>ON</td>\n",
              "      <td>Markham</td>\n",
              "      <td>1</td>\n",
              "      <td>0</td>\n",
              "      <td>0</td>\n",
              "      <td>0</td>\n",
              "      <td>0</td>\n",
              "      <td>0</td>\n",
              "      <td>0</td>\n",
              "      <td>0</td>\n",
              "      <td>0</td>\n",
              "      <td>0</td>\n",
              "      <td>0</td>\n",
              "      <td>0</td>\n",
              "      <td>0</td>\n",
              "      <td>0</td>\n",
              "      <td>1</td>\n",
              "      <td>0</td>\n",
              "      <td>0</td>\n",
              "      <td>0</td>\n",
              "      <td>1</td>\n",
              "      <td>0</td>\n",
              "      <td>0</td>\n",
              "      <td>0</td>\n",
              "      <td>0</td>\n",
              "      <td>0</td>\n",
              "      <td>0</td>\n",
              "      <td>0</td>\n",
              "      <td>0</td>\n",
              "      <td>0</td>\n",
              "      <td>0</td>\n",
              "      <td>0</td>\n",
              "      <td>...</td>\n",
              "      <td>0</td>\n",
              "      <td>1</td>\n",
              "      <td>3</td>\n",
              "      <td>0</td>\n",
              "      <td>4</td>\n",
              "      <td>2</td>\n",
              "      <td>5</td>\n",
              "      <td>0</td>\n",
              "      <td>6</td>\n",
              "      <td>3</td>\n",
              "      <td>1</td>\n",
              "      <td>0</td>\n",
              "      <td>3</td>\n",
              "      <td>9</td>\n",
              "      <td>1</td>\n",
              "      <td>0</td>\n",
              "      <td>6</td>\n",
              "      <td>2</td>\n",
              "      <td>2</td>\n",
              "      <td>1</td>\n",
              "      <td>0</td>\n",
              "      <td>0</td>\n",
              "      <td>0</td>\n",
              "      <td>0</td>\n",
              "      <td>1</td>\n",
              "      <td>0</td>\n",
              "      <td>3</td>\n",
              "      <td>4</td>\n",
              "      <td>1</td>\n",
              "      <td>2</td>\n",
              "      <td>6</td>\n",
              "      <td>0</td>\n",
              "      <td>5</td>\n",
              "      <td>2</td>\n",
              "      <td>3.464912</td>\n",
              "      <td>33938</td>\n",
              "      <td>6523</td>\n",
              "      <td>3.707530</td>\n",
              "      <td>3</td>\n",
              "      <td>1</td>\n",
              "    </tr>\n",
              "  </tbody>\n",
              "</table>\n",
              "<p>5 rows × 89 columns</p>\n",
              "</div>"
            ],
            "text/plain": [
              "                   user_id             business_id  ...  biz_cat user_cat\n",
              "10  ---1lKK3aKOuomHnwAkAow  GJBLjDkfJ4tvkpAjDeCikA  ...        3        2\n",
              "29  --2HUmLkcNHZp0xw6AMBPg  EU83r5yrRw3zRictM5eO6Q  ...        2        1\n",
              "34  --3WaS23LcIXtxyFULJHTA  WB7346WSdkTHvtHfWPilaA  ...        3        2\n",
              "40  --4rAAfZnEIAKJE80aIiYg  9h2FCxdB5uk4bjX3P47L9g  ...        2        1\n",
              "62  --BumyUHiO_7YsHurb9Hkw  3fw2X5bZYeW9xCz_zGhOHg  ...        3        1\n",
              "\n",
              "[5 rows x 89 columns]"
            ]
          },
          "metadata": {
            "tags": []
          },
          "execution_count": 50
        }
      ]
    },
    {
      "cell_type": "code",
      "metadata": {
        "id": "D-Y-UB86nQHr",
        "colab_type": "code",
        "colab": {
          "base_uri": "https://localhost:8080/",
          "height": 90
        },
        "outputId": "cc62a749-f11c-473f-a492-272f4f6b4fd4"
      },
      "source": [
        "for i in range(1,5):\n",
        "  test_sample = test[test['user_cat'] == i]\n",
        "  rmse = math.sqrt(mean_squared_error(test_sample['predicted_rating'], test_sample['rating']))\n",
        "  r2 = goodness_of_fit(np.array(test_sample['predicted_rating']),np.array(test_sample['rating']))\n",
        "  print(\"User Category: \",i,\"RMSE: \",rmse,\"R2: \",r2)"
      ],
      "execution_count": 51,
      "outputs": [
        {
          "output_type": "stream",
          "text": [
            "User Category:  1 RMSE:  1.1512816464203068 R2:  0.3247260210144013\n",
            "User Category:  2 RMSE:  0.9720165668906259 R2:  0.2315928141290836\n",
            "User Category:  3 RMSE:  0.8390810966687523 R2:  0.2200415183189549\n",
            "User Category:  4 RMSE:  0.7878254268045792 R2:  0.15483383404961037\n"
          ],
          "name": "stdout"
        }
      ]
    },
    {
      "cell_type": "markdown",
      "metadata": {
        "id": "ZYpOPlWCnbZO",
        "colab_type": "text"
      },
      "source": [
        "### We make similar observations when we split the data based on the user category, and see that although there is a variation in the performance of the model, the model can perform well for all types of users"
      ]
    },
    {
      "cell_type": "markdown",
      "metadata": {
        "id": "gwK2sO38lKlD",
        "colab_type": "text"
      },
      "source": [
        "# ALS Baseline"
      ]
    },
    {
      "cell_type": "markdown",
      "metadata": {
        "id": "Qiwyz6psodhN",
        "colab_type": "text"
      },
      "source": [
        "### We now build an ALS baseline model by running a grid search on the ALS parameters, selecting the best model and computing its RMSE and R2"
      ]
    },
    {
      "cell_type": "code",
      "metadata": {
        "id": "TAQGJip0lOov",
        "colab_type": "code",
        "colab": {}
      },
      "source": [
        "train_baseline = train[['user_id_num','business_id_num','rating']]\n",
        "test_baseline = test[['user_id_num','business_id_num','rating']]"
      ],
      "execution_count": 0,
      "outputs": []
    },
    {
      "cell_type": "code",
      "metadata": {
        "id": "WXnydUAAlT74",
        "colab_type": "code",
        "colab": {}
      },
      "source": [
        "spark_train = spark.createDataFrame(train_baseline)\n",
        "spark_test = spark.createDataFrame(test_baseline)"
      ],
      "execution_count": 0,
      "outputs": []
    },
    {
      "cell_type": "code",
      "metadata": {
        "id": "V7t0yM-slXL7",
        "colab_type": "code",
        "colab": {}
      },
      "source": [
        "from pyspark.ml.evaluation import RegressionEvaluator\n",
        "from pyspark.mllib.evaluation import RankingMetrics\n",
        "from pyspark.ml.recommendation import ALS\n",
        "from pyspark.sql import Row"
      ],
      "execution_count": 0,
      "outputs": []
    },
    {
      "cell_type": "code",
      "metadata": {
        "id": "23h48uZMlZD9",
        "colab_type": "code",
        "outputId": "afb34c67-606b-4193-99ae-68c0f3395e81",
        "colab": {
          "base_uri": "https://localhost:8080/",
          "height": 237
        }
      },
      "source": [
        "regParams = [0.002,0.02,0.2,2]\n",
        "ranks = [5,10,20]\n",
        "l1 = []\n",
        "for j in regParams:\n",
        "  for k in ranks:\n",
        "    als = ALS(maxIter=5, regParam=j, rank = k, userCol=\"user_id_num\", itemCol=\"business_id_num\", ratingCol=\"rating\",\n",
        "              coldStartStrategy=\"drop\", nonnegative=True)\n",
        "    model = als.fit(spark_train)\n",
        "      # Evaluate the model by computing the R2 on the test data\n",
        "    predictions = model.transform(spark_test)\n",
        "    evaluator = RegressionEvaluator(metricName=\"rmse\", labelCol=\"rating\",\n",
        "                                predictionCol=\"prediction\")\n",
        "    rmse = evaluator.evaluate(predictions)\n",
        "    l1.append([j,k,rmse])\n",
        "    print(\"Reg_param:\",j,\"Rank:\",k,\"Loss (RMSE):\",rmse)      \n"
      ],
      "execution_count": 59,
      "outputs": [
        {
          "output_type": "stream",
          "text": [
            "Reg_param: 0.002 Rank: 5 Loss (RMSE): 2.4719275213916947\n",
            "Reg_param: 0.002 Rank: 10 Loss (RMSE): 2.5969959411464822\n",
            "Reg_param: 0.002 Rank: 20 Loss (RMSE): 2.368207401616205\n",
            "Reg_param: 0.02 Rank: 5 Loss (RMSE): 1.6346237938409014\n",
            "Reg_param: 0.02 Rank: 10 Loss (RMSE): 1.6526051507222217\n",
            "Reg_param: 0.02 Rank: 20 Loss (RMSE): 1.5606019608070636\n",
            "Reg_param: 0.2 Rank: 5 Loss (RMSE): 1.3321734912070682\n",
            "Reg_param: 0.2 Rank: 10 Loss (RMSE): 1.3432653767007405\n",
            "Reg_param: 0.2 Rank: 20 Loss (RMSE): 1.3471860445630452\n",
            "Reg_param: 2 Rank: 5 Loss (RMSE): 2.2755435993245663\n",
            "Reg_param: 2 Rank: 10 Loss (RMSE): 2.275643800504023\n",
            "Reg_param: 2 Rank: 20 Loss (RMSE): 2.2759666051963534\n"
          ],
          "name": "stdout"
        }
      ]
    },
    {
      "cell_type": "code",
      "metadata": {
        "id": "5Cd6tlOJlro3",
        "colab_type": "code",
        "colab": {}
      },
      "source": [
        "import seaborn as sns\n",
        "import matplotlib.pyplot as plt\n",
        "sns.set(style=\"ticks\", color_codes=True)"
      ],
      "execution_count": 0,
      "outputs": []
    },
    {
      "cell_type": "code",
      "metadata": {
        "id": "jP6J4b4yuGCq",
        "colab_type": "code",
        "colab": {}
      },
      "source": [
        "metrics_df = pd.DataFrame(l1,columns=['RegParam','Rank','RMSE'])"
      ],
      "execution_count": 0,
      "outputs": []
    },
    {
      "cell_type": "code",
      "metadata": {
        "id": "hUPZLqe4lvSf",
        "colab_type": "code",
        "outputId": "e473a5a2-a7f9-462e-e638-6820acd87057",
        "colab": {
          "base_uri": "https://localhost:8080/",
          "height": 383
        }
      },
      "source": [
        "sns.catplot(x=\"RegParam\", y=\"RMSE\", hue=\"Rank\", kind=\"swarm\", data=metrics_df)"
      ],
      "execution_count": 62,
      "outputs": [
        {
          "output_type": "execute_result",
          "data": {
            "text/plain": [
              "<seaborn.axisgrid.FacetGrid at 0x7f7b0a0ff2e8>"
            ]
          },
          "metadata": {
            "tags": []
          },
          "execution_count": 62
        },
        {
          "output_type": "display_data",
          "data": {
            "image/png": "[encoded data removed]",
            "text/plain": [
              "<Figure size 413.6x360 with 1 Axes>"
            ]
          },
          "metadata": {
            "tags": []
          }
        }
      ]
    },
    {
      "cell_type": "markdown",
      "metadata": {
        "id": "pxe5VfsSqUdR",
        "colab_type": "text"
      },
      "source": [
        "### We now build a final model with the best model parameters and compute its RMSE and R2 values"
      ]
    },
    {
      "cell_type": "code",
      "metadata": {
        "id": "yiZBORE1lzVe",
        "colab_type": "code",
        "outputId": "8de1569e-dac4-43a8-a7e2-4213125bf2b9",
        "colab": {
          "base_uri": "https://localhost:8080/",
          "height": 54
        }
      },
      "source": [
        "als_final = ALS(maxIter=5, regParam=0.2, rank = 20, userCol=\"user_id_num\", itemCol=\"business_id_num\", ratingCol=\"rating\",\n",
        "          coldStartStrategy=\"drop\", nonnegative=True)\n",
        "model_final = als_final.fit(spark_train)\n",
        "predictions_final = model_final.transform(spark_test)\n",
        "evaluator = RegressionEvaluator(metricName=\"rmse\", labelCol=\"rating\",\n",
        "                                predictionCol=\"prediction\")\n",
        "evaluator_r2 = RegressionEvaluator(metricName=\"r2\", labelCol=\"rating\",\n",
        "                                predictionCol=\"prediction\")\n",
        "rmse_als = evaluator.evaluate(predictions_final)\n",
        "r2_als = evaluator_r2.evaluate(predictions_final)\n",
        "print(\"RMSE = \",rmse_als)\n",
        "print(\"R2 = \",r2_als)\n",
        "\n"
      ],
      "execution_count": 63,
      "outputs": [
        {
          "output_type": "stream",
          "text": [
            "RMSE =  1.3471860445630452\n",
            "R2 =  0.013126329569395856\n"
          ],
          "name": "stdout"
        }
      ]
    },
    {
      "cell_type": "markdown",
      "metadata": {
        "id": "CYp2BazGqkkH",
        "colab_type": "text"
      },
      "source": [
        "### Since ALS generates the top 5 recommendations for each user, we can directly use that to compute coverage on the dataset"
      ]
    },
    {
      "cell_type": "code",
      "metadata": {
        "id": "k-6WysoKl2Fg",
        "colab_type": "code",
        "colab": {}
      },
      "source": [
        "recommendations_als = model_final.recommendForAllUsers(5)"
      ],
      "execution_count": 0,
      "outputs": []
    },
    {
      "cell_type": "code",
      "metadata": {
        "id": "Amw_IlRMl3y_",
        "colab_type": "code",
        "colab": {}
      },
      "source": [
        "from pyspark.sql.functions import udf\n",
        "from pyspark.sql.types import *\n",
        "\n",
        "def recommended_movies(recommendations):\n",
        "    movie_ids = [str(i[0]) for i in recommendations]\n",
        "    return ','.join(movie_ids)\n",
        "\n",
        "recommended_movies_udf = udf(recommended_movies, StringType())"
      ],
      "execution_count": 0,
      "outputs": []
    },
    {
      "cell_type": "code",
      "metadata": {
        "id": "8aRga_Mel55X",
        "colab_type": "code",
        "colab": {}
      },
      "source": [
        "recommendations1 = recommendations_als.withColumn('restaurants',recommended_movies_udf(recommendations_als['recommendations']))\n",
        "#Convert the recommendations list to a userId, movieId combination\n",
        "recommendations2 = recommendations1.select('user_id_num','restaurants')\n",
        "recommendations2 = recommendations2.withColumn('restaurant',explode(split('restaurants',',')))"
      ],
      "execution_count": 0,
      "outputs": []
    },
    {
      "cell_type": "code",
      "metadata": {
        "id": "aSXmtQtNl_H9",
        "colab_type": "code",
        "colab": {}
      },
      "source": [
        "unique_rest = recommendations2.select('restaurant').dropDuplicates()\n",
        "pd_unique_rest = unique_rest.toPandas()"
      ],
      "execution_count": 0,
      "outputs": []
    },
    {
      "cell_type": "code",
      "metadata": {
        "id": "SM9Hpe02mCuX",
        "colab_type": "code",
        "outputId": "1c4ddca0-a65c-4e12-b463-c67fdcf0fcb9",
        "colab": {
          "base_uri": "https://localhost:8080/",
          "height": 35
        }
      },
      "source": [
        "print(\"Catalog coverage:\",(len(pd_unique_rest)/len(set(sample_df['business_id'])))*100,\"%\")"
      ],
      "execution_count": 68,
      "outputs": [
        {
          "output_type": "stream",
          "text": [
            "Catalog coverage: 8.860759493670885 %\n"
          ],
          "name": "stdout"
        }
      ]
    },
    {
      "cell_type": "markdown",
      "metadata": {
        "id": "We5hvJDeq0qD",
        "colab_type": "text"
      },
      "source": [
        "### We see that our model not only performs better in terms of RMSE and R2, it also has a better coverage than the ALS baseline model"
      ]
    },
    {
      "cell_type": "markdown",
      "metadata": {
        "id": "vsedprt9mNyj",
        "colab_type": "text"
      },
      "source": [
        "# Bias baseline"
      ]
    },
    {
      "cell_type": "markdown",
      "metadata": {
        "id": "dRTrTK-SrC-l",
        "colab_type": "text"
      },
      "source": [
        "### We now build the bias only baseline model from the surprise package"
      ]
    },
    {
      "cell_type": "code",
      "metadata": {
        "id": "TOi5Tl50mQdV",
        "colab_type": "code",
        "colab": {}
      },
      "source": [
        "#baseline model using surprise BaseLine\n",
        "from surprise.model_selection import cross_validate\n",
        "from surprise import BaselineOnly\n",
        "from surprise import accuracy\n",
        "from surprise import Reader, Dataset\n",
        "from surprise.model_selection import train_test_split\n",
        "\n",
        "\n",
        "algo = BaselineOnly()\n",
        "reader = Reader()"
      ],
      "execution_count": 0,
      "outputs": []
    },
    {
      "cell_type": "code",
      "metadata": {
        "id": "JhDsHZRGnCw_",
        "colab_type": "code",
        "colab": {}
      },
      "source": [
        "data_train = Dataset.load_from_df(train_baseline, reader)\n",
        "data_test = Dataset.load_from_df(test_baseline, reader)"
      ],
      "execution_count": 0,
      "outputs": []
    },
    {
      "cell_type": "code",
      "metadata": {
        "id": "oK134xkTnFEw",
        "colab_type": "code",
        "outputId": "9e29a0ac-19f7-471c-fd58-103140244655",
        "colab": {
          "base_uri": "https://localhost:8080/",
          "height": 54
        }
      },
      "source": [
        "trainset = data_train.build_full_trainset()\n",
        "algo.fit(trainset)"
      ],
      "execution_count": 71,
      "outputs": [
        {
          "output_type": "stream",
          "text": [
            "Estimating biases using als...\n"
          ],
          "name": "stdout"
        },
        {
          "output_type": "execute_result",
          "data": {
            "text/plain": [
              "<surprise.prediction_algorithms.baseline_only.BaselineOnly at 0x7f7aee020e10>"
            ]
          },
          "metadata": {
            "tags": []
          },
          "execution_count": 71
        }
      ]
    },
    {
      "cell_type": "code",
      "metadata": {
        "id": "KPfNyckOnHLX",
        "colab_type": "code",
        "colab": {}
      },
      "source": [
        "trainset, testset = train_test_split(data_test, test_size=1.0)\n",
        "predictions = algo.test(testset)"
      ],
      "execution_count": 0,
      "outputs": []
    },
    {
      "cell_type": "code",
      "metadata": {
        "id": "QU-kQdXenbX5",
        "colab_type": "code",
        "colab": {}
      },
      "source": [
        "pred_vals = []\n",
        "for i in predictions:\n",
        "  pred_vals.append(i.est)"
      ],
      "execution_count": 0,
      "outputs": []
    },
    {
      "cell_type": "code",
      "metadata": {
        "id": "Ma1kQ-tors-2",
        "colab_type": "code",
        "outputId": "6fabeb40-4407-49b7-b891-8eb7e2ec4c8b",
        "colab": {
          "base_uri": "https://localhost:8080/",
          "height": 54
        }
      },
      "source": [
        "baseline_bias_rmse = math.sqrt(mean_squared_error(pred_vals, test['rating']))\n",
        "baseline_bias_r2 = goodness_of_fit(pred_vals,np.array(test['rating']))\n",
        "print(\"RMSE = \",baseline_bias_rmse)\n",
        "print(\"R2 = \",baseline_bias_r2)"
      ],
      "execution_count": 74,
      "outputs": [
        {
          "output_type": "stream",
          "text": [
            "RMSE =  1.43398790795845\n",
            "R2 =  -0.11675941141868962\n"
          ],
          "name": "stdout"
        }
      ]
    },
    {
      "cell_type": "markdown",
      "metadata": {
        "id": "nnNpOfTerle5",
        "colab_type": "text"
      },
      "source": [
        "### Our model performs better than the Bias only baseline model, with significantly better RMSE and R2 values  \n",
        "  \n",
        "### We now compute the catalog coverage in the same manner as we did for our Wide and Deep model"
      ]
    },
    {
      "cell_type": "code",
      "metadata": {
        "id": "q_-AJgupnLPy",
        "colab_type": "code",
        "colab": {}
      },
      "source": [
        "recs_set = not_reviewed_sample[['user_id_num','business_id_num','pred_rating']]\n",
        "data_rec = Dataset.load_from_df(recs_set, reader)\n",
        "train_rec, data_rec = train_test_split(data_rec, test_size=1.0)"
      ],
      "execution_count": 0,
      "outputs": []
    },
    {
      "cell_type": "code",
      "metadata": {
        "id": "VAzj_vNInOYq",
        "colab_type": "code",
        "colab": {}
      },
      "source": [
        "recs = algo.test(data_rec)\n",
        "recs_val = []\n",
        "for i in recs:\n",
        "  recs_val.append(i.est)\n",
        "not_reviewed_sample['pred_rating_bias_only'] = recs_val"
      ],
      "execution_count": 0,
      "outputs": []
    },
    {
      "cell_type": "code",
      "metadata": {
        "id": "Xk9mY6L_nS-X",
        "colab_type": "code",
        "colab": {}
      },
      "source": [
        "top_5_bias = not_reviewed_sample.groupby([\"user_id\"]).apply(pd.DataFrame.sort_values, 'pred_rating_bias_only').reset_index(drop=True)\n",
        "top_5_bias_recs = top_5_bias.groupby([\"user_id\"]).tail(5)"
      ],
      "execution_count": 0,
      "outputs": []
    },
    {
      "cell_type": "code",
      "metadata": {
        "id": "A6F6L5tYnYT-",
        "colab_type": "code",
        "outputId": "43821f2e-799f-4197-86ce-7798f5f9bc09",
        "colab": {
          "base_uri": "https://localhost:8080/",
          "height": 35
        }
      },
      "source": [
        "print(\"Catalog Coverage for the sample:\",(len(set(top_5_bias_recs['business_id']))/len(set(not_reviewed_1['business_id'])))*100,\"%\")"
      ],
      "execution_count": 78,
      "outputs": [
        {
          "output_type": "stream",
          "text": [
            "Catalog Coverage for the sample: 100.0 %\n"
          ],
          "name": "stdout"
        }
      ]
    },
    {
      "cell_type": "markdown",
      "metadata": {
        "id": "H7Qn7Cvorz8f",
        "colab_type": "text"
      },
      "source": [
        "### We see that the bias only baseline model has a catalog coverage of 100%. However, since this model has a very poor R2 value, we feel that the recommendations it makes are not of high quality and hence is able to obtain 100% coverage\n"
      ]
    }
  ]
}